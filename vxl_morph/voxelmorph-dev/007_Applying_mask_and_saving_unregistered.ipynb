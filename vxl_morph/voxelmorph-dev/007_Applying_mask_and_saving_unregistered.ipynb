{
 "cells": [
  {
   "cell_type": "code",
   "execution_count": 4,
   "metadata": {},
   "outputs": [],
   "source": [
    "import torch\n",
    "import os\n",
    "os.environ['NEURITE_BACKEND'] = 'pytorch'\n",
    "os.environ['VXM_BACKEND'] = 'pytorch'\n",
    "import voxelmorph as vxm\n",
    "import matplotlib.pyplot as plt\n",
    "import glob\n",
    "import re\n",
    "import csv\n",
    "from tifffile import imwrite\n",
    "import numpy as np\n",
    "from PIL import Image\n",
    "import fnmatch\n",
    "from collections import defaultdict\n",
    "import shutil\n",
    "\n",
    "from my_utils_v2 import Utils_v2"
   ]
  },
  {
   "cell_type": "code",
   "execution_count": 5,
   "metadata": {},
   "outputs": [],
   "source": [
    "tissue_path='/fs5/p_masi/baos1/rudravg/MXIF/MXIF/Helmsley/MxIF/Set02/GCA033TIB/Registered'\n",
    "tissue_name='GCA033TIB_TISSUE01'\n",
    "mask_path=f'/fs5/p_masi/baos1/rudravg/MXIF/MXIF/Helmsley/MxIF/Set02/GCA033TIB/Registered/{tissue_name}_RetentionMask.tif'\n",
    "output_path='/fs5/p_masi/rudravg/MxIF_Vxm_Registered'"
   ]
  },
  {
   "cell_type": "code",
   "execution_count": 6,
   "metadata": {},
   "outputs": [],
   "source": [
    "all_tissues=[]\n",
    "for file in os.listdir(tissue_path):\n",
    "    if fnmatch.fnmatch(file, f'{tissue_name}_*'):\n",
    "        all_tissues.append(os.path.join(tissue_path, file))"
   ]
  },
  {
   "cell_type": "code",
   "execution_count": 7,
   "metadata": {},
   "outputs": [
    {
     "data": {
      "text/plain": [
       "['/fs5/p_masi/baos1/rudravg/MXIF/MXIF/Helmsley/MxIF/Set02/GCA033TIB/Registered/GCA033TIB_TISSUE01_CD3d_CY3_150ms_ROUND_10.tif',\n",
       " '/fs5/p_masi/baos1/rudravg/MXIF/MXIF/Helmsley/MxIF/Set02/GCA033TIB/Registered/GCA033TIB_TISSUE01_pEGFR_CY2_175ms_ROUND_08.tif',\n",
       " '/fs5/p_masi/baos1/rudravg/MXIF/MXIF/Helmsley/MxIF/Set02/GCA033TIB/Registered/GCA033TIB_TISSUE01_Background_CY5_500ms_ROUND_13.tif',\n",
       " '/fs5/p_masi/baos1/rudravg/MXIF/MXIF/Helmsley/MxIF/Set02/GCA033TIB/Registered/GCA033TIB_TISSUE01_DAPI_DAPI_12ms_ROUND_17.tif',\n",
       " '/fs5/p_masi/baos1/rudravg/MXIF/MXIF/Helmsley/MxIF/Set02/GCA033TIB/Registered/GCA033TIB_TISSUE01_Background_CY5_100ms_ROUND_15.tif',\n",
       " '/fs5/p_masi/baos1/rudravg/MXIF/MXIF/Helmsley/MxIF/Set02/GCA033TIB/Registered/GCA033TIB_TISSUE01_DAPI_DAPI_12ms_ROUND_10.tif',\n",
       " '/fs5/p_masi/baos1/rudravg/MXIF/MXIF/Helmsley/MxIF/Set02/GCA033TIB/Registered/GCA033TIB_TISSUE01_Background_CY2_500ms_ROUND_05.tif',\n",
       " '/fs5/p_masi/baos1/rudravg/MXIF/MXIF/Helmsley/MxIF/Set02/GCA033TIB/Registered/GCA033TIB_TISSUE01_Background_CY3_50ms_ROUND_07.tif',\n",
       " '/fs5/p_masi/baos1/rudravg/MXIF/MXIF/Helmsley/MxIF/Set02/GCA033TIB/Registered/GCA033TIB_TISSUE01_OLFM4_CY3_50ms_ROUND_12.tif',\n",
       " '/fs5/p_masi/baos1/rudravg/MXIF/MXIF/Helmsley/MxIF/Set02/GCA033TIB/Registered/GCA033TIB_TISSUE01_Background_CY2_75ms_ROUND_01.tif',\n",
       " '/fs5/p_masi/baos1/rudravg/MXIF/MXIF/Helmsley/MxIF/Set02/GCA033TIB/Registered/GCA033TIB_TISSUE01_BCATENIN_CY3_50ms_ROUND_06.tif',\n",
       " '/fs5/p_masi/baos1/rudravg/MXIF/MXIF/Helmsley/MxIF/Set02/GCA033TIB/Registered/GCA033TIB_TISSUE01_Background_CY2_75ms_ROUND_17.tif',\n",
       " '/fs5/p_masi/baos1/rudravg/MXIF/MXIF/Helmsley/MxIF/Set02/GCA033TIB/Registered/GCA033TIB_TISSUE01_CD11B_CY2_500ms_ROUND_04.tif',\n",
       " '/fs5/p_masi/baos1/rudravg/MXIF/MXIF/Helmsley/MxIF/Set02/GCA033TIB/Registered/GCA033TIB_TISSUE01_CD68_CY3_100ms_ROUND_14.tif',\n",
       " '/fs5/p_masi/baos1/rudravg/MXIF/MXIF/Helmsley/MxIF/Set02/GCA033TIB/Registered/GCA033TIB_TISSUE01_Lysozyme_CY2_200ms_ROUND_18.tif',\n",
       " '/fs5/p_masi/baos1/rudravg/MXIF/MXIF/Helmsley/MxIF/Set02/GCA033TIB/Registered/GCA033TIB_TISSUE01_DAPI_DAPI_12ms_ROUND_01.tif',\n",
       " '/fs5/p_masi/baos1/rudravg/MXIF/MXIF/Helmsley/MxIF/Set02/GCA033TIB/Registered/GCA033TIB_TISSUE01_Vimentin_CY2_75ms_ROUND_16.tif',\n",
       " '/fs5/p_masi/baos1/rudravg/MXIF/MXIF/Helmsley/MxIF/Set02/GCA033TIB/Registered/GCA033TIB_TISSUE01_DAPI_DAPI_12ms_ROUND_06.tif',\n",
       " '/fs5/p_masi/baos1/rudravg/MXIF/MXIF/Helmsley/MxIF/Set02/GCA033TIB/Registered/GCA033TIB_TISSUE01_DAPI_DAPI_12ms_ROUND_08.tif',\n",
       " '/fs5/p_masi/baos1/rudravg/MXIF/MXIF/Helmsley/MxIF/Set02/GCA033TIB/Registered/GCA033TIB_TISSUE01_Background_CY5_500ms_ROUND_05.tif',\n",
       " '/fs5/p_masi/baos1/rudravg/MXIF/MXIF/Helmsley/MxIF/Set02/GCA033TIB/Registered/GCA033TIB_TISSUE01_SMA_CY3_12ms_ROUND_18.tif',\n",
       " '/fs5/p_masi/baos1/rudravg/MXIF/MXIF/Helmsley/MxIF/Set02/GCA033TIB/Registered/GCA033TIB_TISSUE01_Background_CY3_50ms_ROUND_01.tif',\n",
       " '/fs5/p_masi/baos1/rudravg/MXIF/MXIF/Helmsley/MxIF/Set02/GCA033TIB/Registered/GCA033TIB_TISSUE01_DAPI_DAPI_12ms_ROUND_11.tif',\n",
       " '/fs5/p_masi/baos1/rudravg/MXIF/MXIF/Helmsley/MxIF/Set02/GCA033TIB/Registered/GCA033TIB_TISSUE01_DAPI_DAPI_12ms_ROUND_16.tif',\n",
       " '/fs5/p_masi/baos1/rudravg/MXIF/MXIF/Helmsley/MxIF/Set02/GCA033TIB/Registered/GCA033TIB_TISSUE01_CD4_CY5_500ms_ROUND_08.tif',\n",
       " '/fs5/p_masi/baos1/rudravg/MXIF/MXIF/Helmsley/MxIF/Set02/GCA033TIB/Registered/GCA033TIB_TISSUE01_DAPI_DAPI_12ms_ROUND_18.tif',\n",
       " '/fs5/p_masi/baos1/rudravg/MXIF/MXIF/Helmsley/MxIF/Set02/GCA033TIB/Registered/GCA033TIB_TISSUE01_FOXP3_CY5_500ms_ROUND_16.tif',\n",
       " '/fs5/p_masi/baos1/rudravg/MXIF/MXIF/Helmsley/MxIF/Set02/GCA033TIB/Registered/GCA033TIB_TISSUE01_DAPI_DAPI_12ms_ROUND_09.tif',\n",
       " '/fs5/p_masi/baos1/rudravg/MXIF/MXIF/Helmsley/MxIF/Set02/GCA033TIB/Registered/GCA033TIB_TISSUE01_DAPI_DAPI_12ms_ROUND_07.tif',\n",
       " '/fs5/p_masi/baos1/rudravg/MXIF/MXIF/Helmsley/MxIF/Set02/GCA033TIB/Registered/GCA033TIB_TISSUE01_Background_CY5_75ms_ROUND_01.tif',\n",
       " '/fs5/p_masi/baos1/rudravg/MXIF/MXIF/Helmsley/MxIF/Set02/GCA033TIB/Registered/GCA033TIB_TISSUE01_DAPI_DAPI_12ms_ROUND_00.tif',\n",
       " '/fs5/p_masi/baos1/rudravg/MXIF/MXIF/Helmsley/MxIF/Set02/GCA033TIB/Registered/GCA033TIB_TISSUE01_RetentionMask.tif',\n",
       " '/fs5/p_masi/baos1/rudravg/MXIF/MXIF/Helmsley/MxIF/Set02/GCA033TIB/Registered/GCA033TIB_TISSUE01_Background_CY2_175ms_ROUND_09.tif',\n",
       " '/fs5/p_masi/baos1/rudravg/MXIF/MXIF/Helmsley/MxIF/Set02/GCA033TIB/Registered/GCA033TIB_TISSUE01_PanCK_CY2_100ms_ROUND_12.tif',\n",
       " '/fs5/p_masi/baos1/rudravg/MXIF/MXIF/Helmsley/MxIF/Set02/GCA033TIB/Registered/GCA033TIB_TISSUE01_CD45_CY5_1000ms_ROUND_02.tif',\n",
       " '/fs5/p_masi/baos1/rudravg/MXIF/MXIF/Helmsley/MxIF/Set02/GCA033TIB/Registered/GCA033TIB_TISSUE01_CD8_CY5_500ms_ROUND_12.tif',\n",
       " '/fs5/p_masi/baos1/rudravg/MXIF/MXIF/Helmsley/MxIF/Set02/GCA033TIB/Registered/GCA033TIB_TISSUE01_Background_CY2_175ms_ROUND_07.tif',\n",
       " '/fs5/p_masi/baos1/rudravg/MXIF/MXIF/Helmsley/MxIF/Set02/GCA033TIB/Registered/GCA033TIB_TISSUE01_Background_CY2_100ms_ROUND_13.tif',\n",
       " '/fs5/p_masi/baos1/rudravg/MXIF/MXIF/Helmsley/MxIF/Set02/GCA033TIB/Registered/GCA033TIB_TISSUE01_Muc2_CY2_75ms_ROUND_02.tif',\n",
       " '/fs5/p_masi/baos1/rudravg/MXIF/MXIF/Helmsley/MxIF/Set02/GCA033TIB/Registered/GCA033TIB_TISSUE01_Background_CY5_1000ms_ROUND_03.tif',\n",
       " '/fs5/p_masi/baos1/rudravg/MXIF/MXIF/Helmsley/MxIF/Set02/GCA033TIB/Registered/GCA033TIB_TISSUE01_Background_CY3_150ms_ROUND_09.tif',\n",
       " '/fs5/p_masi/baos1/rudravg/MXIF/MXIF/Helmsley/MxIF/Set02/GCA033TIB/Registered/GCA033TIB_TISSUE01_Background_CY5_500ms_ROUND_07.tif',\n",
       " '/fs5/p_masi/baos1/rudravg/MXIF/MXIF/Helmsley/MxIF/Set02/GCA033TIB/Registered/GCA033TIB_TISSUE01_Background_CY5_500ms_ROUND_09.tif',\n",
       " '/fs5/p_masi/baos1/rudravg/MXIF/MXIF/Helmsley/MxIF/Set02/GCA033TIB/Registered/GCA033TIB_TISSUE01_DAPI_DAPI_12ms_ROUND_03.tif',\n",
       " '/fs5/p_masi/baos1/rudravg/MXIF/MXIF/Helmsley/MxIF/Set02/GCA033TIB/Registered/GCA033TIB_TISSUE01_CD20_CY5_500ms_ROUND_04.tif',\n",
       " '/fs5/p_masi/baos1/rudravg/MXIF/MXIF/Helmsley/MxIF/Set02/GCA033TIB/Registered/GCA033TIB_TISSUE01_DAPI_DAPI_12ms_ROUND_04.tif',\n",
       " '/fs5/p_masi/baos1/rudravg/MXIF/MXIF/Helmsley/MxIF/Set02/GCA033TIB/Registered/GCA033TIB_TISSUE01_Background_CY3_50ms_ROUND_13.tif',\n",
       " '/fs5/p_masi/baos1/rudravg/MXIF/MXIF/Helmsley/MxIF/Set02/GCA033TIB/Registered/GCA033TIB_TISSUE01_Background_CY2_500ms_ROUND_11.tif',\n",
       " '/fs5/p_masi/baos1/rudravg/MXIF/MXIF/Helmsley/MxIF/Set02/GCA033TIB/Registered/GCA033TIB_TISSUE01_WGA_CY5_75ms_ROUND_00.tif',\n",
       " '/fs5/p_masi/baos1/rudravg/MXIF/MXIF/Helmsley/MxIF/Set02/GCA033TIB/Registered/GCA033TIB_TISSUE01_Background_CY2_350ms_ROUND_15.tif',\n",
       " '/fs5/p_masi/baos1/rudravg/MXIF/MXIF/Helmsley/MxIF/Set02/GCA033TIB/Registered/GCA033TIB_TISSUE01_Sox9_CY3_150ms_ROUND_16.tif',\n",
       " '/fs5/p_masi/baos1/rudravg/MXIF/MXIF/Helmsley/MxIF/Set02/GCA033TIB/Registered/GCA033TIB_TISSUE01_ACTG1_CY3_100ms_ROUND_02.tif',\n",
       " '/fs5/p_masi/baos1/rudravg/MXIF/MXIF/Helmsley/MxIF/Set02/GCA033TIB/Registered/GCA033TIB_TISSUE01_PCNA_CY2_175ms_ROUND_06.tif',\n",
       " '/fs5/p_masi/baos1/rudravg/MXIF/MXIF/Helmsley/MxIF/Set02/GCA033TIB/Registered/GCA033TIB_TISSUE01_AF_CY2_75ms_ROUND_00.tif',\n",
       " '/fs5/p_masi/baos1/rudravg/MXIF/MXIF/Helmsley/MxIF/Set02/GCA033TIB/Registered/GCA033TIB_TISSUE01_Background_CY2_75ms_ROUND_03.tif',\n",
       " '/fs5/p_masi/baos1/rudravg/MXIF/MXIF/Helmsley/MxIF/Set02/GCA033TIB/Registered/GCA033TIB_TISSUE01_HLAA_CY5_200ms_ROUND_10.tif',\n",
       " '/fs5/p_masi/baos1/rudravg/MXIF/MXIF/Helmsley/MxIF/Set02/GCA033TIB/Registered/GCA033TIB_TISSUE01_Cox2_CY2_500ms_ROUND_10.tif',\n",
       " '/fs5/p_masi/baos1/rudravg/MXIF/MXIF/Helmsley/MxIF/Set02/GCA033TIB/Registered/GCA033TIB_TISSUE01_Background_CY3_100ms_ROUND_05.tif',\n",
       " '/fs5/p_masi/baos1/rudravg/MXIF/MXIF/Helmsley/MxIF/Set02/GCA033TIB/Registered/GCA033TIB_TISSUE01_DAPI_DAPI_12ms_ROUND_15.tif',\n",
       " '/fs5/p_masi/baos1/rudravg/MXIF/MXIF/Helmsley/MxIF/Set02/GCA033TIB/Registered/GCA033TIB_TISSUE01_DAPI_DAPI_12ms_ROUND_12.tif',\n",
       " '/fs5/p_masi/baos1/rudravg/MXIF/MXIF/Helmsley/MxIF/Set02/GCA033TIB/Registered/GCA033TIB_TISSUE01_Background_CY3_150ms_ROUND_11.tif',\n",
       " '/fs5/p_masi/baos1/rudravg/MXIF/MXIF/Helmsley/MxIF/Set02/GCA033TIB/Registered/GCA033TIB_TISSUE01_NaKATPase_CY5_100ms_ROUND_14.tif',\n",
       " '/fs5/p_masi/baos1/rudravg/MXIF/MXIF/Helmsley/MxIF/Set02/GCA033TIB/Registered/GCA033TIB_TISSUE01_Background_CY3_100ms_ROUND_15.tif',\n",
       " '/fs5/p_masi/baos1/rudravg/MXIF/MXIF/Helmsley/MxIF/Set02/GCA033TIB/Registered/GCA033TIB_TISSUE01_DAPI_DAPI_12ms_ROUND_05.tif',\n",
       " '/fs5/p_masi/baos1/rudravg/MXIF/MXIF/Helmsley/MxIF/Set02/GCA033TIB/Registered/GCA033TIB_TISSUE01_DAPI_DAPI_12ms_ROUND_02.tif',\n",
       " '/fs5/p_masi/baos1/rudravg/MXIF/MXIF/Helmsley/MxIF/Set02/GCA033TIB/Registered/GCA033TIB_TISSUE01_Background_CY5_200ms_ROUND_11.tif',\n",
       " '/fs5/p_masi/baos1/rudravg/MXIF/MXIF/Helmsley/MxIF/Set02/GCA033TIB/Registered/GCA033TIB_TISSUE01_SNA_CY3_50ms_ROUND_00.tif',\n",
       " '/fs5/p_masi/baos1/rudravg/MXIF/MXIF/Helmsley/MxIF/Set02/GCA033TIB/Registered/GCA033TIB_TISSUE01_pSTAT3_CY5_500ms_ROUND_06.tif',\n",
       " '/fs5/p_masi/baos1/rudravg/MXIF/MXIF/Helmsley/MxIF/Set02/GCA033TIB/Registered/GCA033TIB_TISSUE01_ERBB2_CY5_1000ms_ROUND_18.tif',\n",
       " '/fs5/p_masi/baos1/rudravg/MXIF/MXIF/Helmsley/MxIF/Set02/GCA033TIB/Registered/GCA033TIB_TISSUE01_Background_CY5_500ms_ROUND_17.tif',\n",
       " '/fs5/p_masi/baos1/rudravg/MXIF/MXIF/Helmsley/MxIF/Set02/GCA033TIB/Registered/GCA033TIB_TISSUE01_Collagen_CY3_100ms_ROUND_04.tif',\n",
       " '/fs5/p_masi/baos1/rudravg/MXIF/MXIF/Helmsley/MxIF/Set02/GCA033TIB/Registered/GCA033TIB_TISSUE01_DAPI_DAPI_12ms_ROUND_13.tif',\n",
       " '/fs5/p_masi/baos1/rudravg/MXIF/MXIF/Helmsley/MxIF/Set02/GCA033TIB/Registered/GCA033TIB_TISSUE01_DAPI_DAPI_12ms_ROUND_14.tif',\n",
       " '/fs5/p_masi/baos1/rudravg/MXIF/MXIF/Helmsley/MxIF/Set02/GCA033TIB/Registered/GCA033TIB_TISSUE01_Background_CY3_150ms_ROUND_17.tif',\n",
       " '/fs5/p_masi/baos1/rudravg/MXIF/MXIF/Helmsley/MxIF/Set02/GCA033TIB/Registered/GCA033TIB_TISSUE01_Background_CY2_0ms_ROUND_01.tif',\n",
       " '/fs5/p_masi/baos1/rudravg/MXIF/MXIF/Helmsley/MxIF/Set02/GCA033TIB/Registered/GCA033TIB_TISSUE01_Background_CY3_100ms_ROUND_03.tif',\n",
       " '/fs5/p_masi/baos1/rudravg/MXIF/MXIF/Helmsley/MxIF/Set02/GCA033TIB/Registered/GCA033TIB_TISSUE01_ACTININ_CY2_350ms_ROUND_14.tif',\n",
       " '/fs5/p_masi/baos1/rudravg/MXIF/MXIF/Helmsley/MxIF/Set02/GCA033TIB/Registered/GCA033TIB_TISSUE01_CgA_CY3_150ms_ROUND_08.tif']"
      ]
     },
     "execution_count": 7,
     "metadata": {},
     "output_type": "execute_result"
    }
   ],
   "source": [
    "all_tissues"
   ]
  },
  {
   "cell_type": "code",
   "execution_count": 8,
   "metadata": {},
   "outputs": [],
   "source": [
    "filtered_tissues = list(filter(lambda x: 'RetentionMask' not in x, all_tissues))\n",
    "\n",
    "# Group the strings by round number\n",
    "tissues_by_round = defaultdict(list)\n",
    "for tissue in filtered_tissues:\n",
    "    round_number = int(re.search('ROUND_(\\\\d+)', tissue).group(1))\n",
    "    tissues_by_round[round_number].append(tissue)\n",
    "\n",
    "# Sort the dictionary items by key (round number)\n",
    "sorted_items = sorted(tissues_by_round.items())\n",
    "\n",
    "# Sort each group so that the string containing \"DAPI_DAPI\" comes first, and convert the sorted dictionary items to a list\n",
    "grouped_tissues = [sorted(group, key=lambda x: f'{tissue_name}_DAPI' not in x) for _, group in sorted_items]"
   ]
  },
  {
   "cell_type": "code",
   "execution_count": 9,
   "metadata": {},
   "outputs": [],
   "source": [
    "new_dir = os.path.join(output_path, tissue_name,\"Unregistered\")\n",
    "os.makedirs(new_dir, exist_ok=True)"
   ]
  },
  {
   "cell_type": "code",
   "execution_count": 10,
   "metadata": {},
   "outputs": [],
   "source": [
    "for group in grouped_tissues:\n",
    "    for file_path in group:\n",
    "        file,height,width=Utils_v2.load_tissues_for_overlap(file_path,mask_path)\n",
    "        file=file*255.\n",
    "        file = file[:height, :width]\n",
    "        file_name=os.path.basename(file_path)[:-4]\n",
    "        Image.fromarray(np.uint8(file)).save(os.path.join(new_dir,f\"{file_name}.tif\"))"
   ]
  }
 ],
 "metadata": {
  "kernelspec": {
   "display_name": "dapi_reg",
   "language": "python",
   "name": "python3"
  },
  "language_info": {
   "codemirror_mode": {
    "name": "ipython",
    "version": 3
   },
   "file_extension": ".py",
   "mimetype": "text/x-python",
   "name": "python",
   "nbconvert_exporter": "python",
   "pygments_lexer": "ipython3",
   "version": "3.12.1"
  }
 },
 "nbformat": 4,
 "nbformat_minor": 2
}
