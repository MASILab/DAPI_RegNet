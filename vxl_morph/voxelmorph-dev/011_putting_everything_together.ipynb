{
 "cells": [
  {
   "cell_type": "code",
   "execution_count": 1,
   "metadata": {},
   "outputs": [],
   "source": [
    "import torch\n",
    "import os\n",
    "os.environ['NEURITE_BACKEND'] = 'pytorch'\n",
    "os.environ['VXM_BACKEND'] = 'pytorch'\n",
    "import voxelmorph as vxm\n",
    "import matplotlib.pyplot as plt\n",
    "import glob\n",
    "import re\n",
    "import csv\n",
    "from tifffile import imwrite\n",
    "import numpy as np\n",
    "from PIL import Image\n",
    "import fnmatch\n",
    "from collections import defaultdict\n",
    "import shutil\n",
    "from my_utils_v2 import Utils_v2\n",
    "from AF_Removal_Set02 import AF_Removal_Set_02\n",
    "from tqdm import tqdm"
   ]
  },
  {
   "cell_type": "markdown",
   "metadata": {},
   "source": [
    "***Load all the images***"
   ]
  },
  {
   "cell_type": "code",
   "execution_count": 5,
   "metadata": {},
   "outputs": [],
   "source": [
    "tissue_path='/fs5/p_masi/baos1/rudravg/MXIF/MXIF/Helmsley/MxIF/Set02/GCA020TIB/Registered'\n",
    "tissue_name='GCA020TIB_TISSUE01'\n",
    "mask_path=f'/fs5/p_masi/baos1/rudravg/MXIF/MXIF/Helmsley/MxIF/Set02/GCA020TIB/Registered/{tissue_name}_RetentionMask.tif'\n",
    "output_path='/fs5/p_masi/rudravg/MxIF_Vxm_Registered'"
   ]
  },
  {
   "cell_type": "code",
   "execution_count": 6,
   "metadata": {},
   "outputs": [
    {
     "data": {
      "text/plain": [
       "'/fs5/p_masi/baos1/rudravg/MXIF/MXIF/Helmsley/MxIF/Set02/GCA020TIB/Registered/GCA020TIB_TISSUE01_RetentionMask.tif'"
      ]
     },
     "execution_count": 6,
     "metadata": {},
     "output_type": "execute_result"
    }
   ],
   "source": [
    "mask_path"
   ]
  },
  {
   "cell_type": "code",
   "execution_count": 7,
   "metadata": {},
   "outputs": [
    {
     "name": "stdout",
     "output_type": "stream",
     "text": [
      "81\n"
     ]
    }
   ],
   "source": [
    "all_tissues=[]\n",
    "for file in os.listdir(tissue_path):\n",
    "    if fnmatch.fnmatch(file, f'{tissue_name}_*'):\n",
    "        all_tissues.append(os.path.join(tissue_path, file))\n",
    "print(len(all_tissues))"
   ]
  },
  {
   "cell_type": "code",
   "execution_count": 8,
   "metadata": {},
   "outputs": [
    {
     "name": "stdout",
     "output_type": "stream",
     "text": [
      "80\n"
     ]
    }
   ],
   "source": [
    "filtered_tissues = list(filter(lambda x: 'RetentionMask' not in x, all_tissues))\n",
    "print(len(filtered_tissues))\n",
    "# Group the strings by round number\n",
    "tissues_by_round = defaultdict(list)\n",
    "for tissue in filtered_tissues:\n",
    "    round_number = int(re.search('ROUND_(\\\\d+)', tissue).group(1))\n",
    "    tissues_by_round[round_number].append(tissue)\n",
    "\n",
    "# Sort the dictionary items by key (round number)\n",
    "sorted_items = sorted(tissues_by_round.items())\n",
    "\n",
    "# Sort each group so that the string containing \"DAPI_DAPI\" comes first, and convert the sorted dictionary items to a list\n",
    "grouped_tissues = [sorted(group, key=lambda x: f'{tissue_name}_DAPI' not in x) for _, group in sorted_items]"
   ]
  },
  {
   "cell_type": "code",
   "execution_count": 9,
   "metadata": {},
   "outputs": [
    {
     "data": {
      "text/plain": [
       "[['/fs5/p_masi/baos1/rudravg/MXIF/MXIF/Helmsley/MxIF/Set02/GCA020TIB/Registered/GCA020TIB_TISSUE01_DAPI_DAPI_12ms_ROUND_00.tif',\n",
       "  '/fs5/p_masi/baos1/rudravg/MXIF/MXIF/Helmsley/MxIF/Set02/GCA020TIB/Registered/GCA020TIB_TISSUE01_SNA_CY3_50ms_ROUND_00.tif',\n",
       "  '/fs5/p_masi/baos1/rudravg/MXIF/MXIF/Helmsley/MxIF/Set02/GCA020TIB/Registered/GCA020TIB_TISSUE01_AF_CY2_75ms_ROUND_00.tif',\n",
       "  '/fs5/p_masi/baos1/rudravg/MXIF/MXIF/Helmsley/MxIF/Set02/GCA020TIB/Registered/GCA020TIB_TISSUE01_WGA_CY5_75ms_ROUND_00.tif'],\n",
       " ['/fs5/p_masi/baos1/rudravg/MXIF/MXIF/Helmsley/MxIF/Set02/GCA020TIB/Registered/GCA020TIB_TISSUE01_DAPI_DAPI_12ms_ROUND_01.tif',\n",
       "  '/fs5/p_masi/baos1/rudravg/MXIF/MXIF/Helmsley/MxIF/Set02/GCA020TIB/Registered/GCA020TIB_TISSUE01_Background_CY2_0ms_ROUND_01.tif',\n",
       "  '/fs5/p_masi/baos1/rudravg/MXIF/MXIF/Helmsley/MxIF/Set02/GCA020TIB/Registered/GCA020TIB_TISSUE01_Background_CY2_75ms_ROUND_01.tif',\n",
       "  '/fs5/p_masi/baos1/rudravg/MXIF/MXIF/Helmsley/MxIF/Set02/GCA020TIB/Registered/GCA020TIB_TISSUE01_Background_CY5_75ms_ROUND_01.tif',\n",
       "  '/fs5/p_masi/baos1/rudravg/MXIF/MXIF/Helmsley/MxIF/Set02/GCA020TIB/Registered/GCA020TIB_TISSUE01_Background_CY3_50ms_ROUND_01.tif'],\n",
       " ['/fs5/p_masi/baos1/rudravg/MXIF/MXIF/Helmsley/MxIF/Set02/GCA020TIB/Registered/GCA020TIB_TISSUE01_DAPI_DAPI_12ms_ROUND_02.tif',\n",
       "  '/fs5/p_masi/baos1/rudravg/MXIF/MXIF/Helmsley/MxIF/Set02/GCA020TIB/Registered/GCA020TIB_TISSUE01_ACTG1_CY3_100ms_ROUND_02.tif',\n",
       "  '/fs5/p_masi/baos1/rudravg/MXIF/MXIF/Helmsley/MxIF/Set02/GCA020TIB/Registered/GCA020TIB_TISSUE01_Muc2_CY2_75ms_ROUND_02.tif',\n",
       "  '/fs5/p_masi/baos1/rudravg/MXIF/MXIF/Helmsley/MxIF/Set02/GCA020TIB/Registered/GCA020TIB_TISSUE01_CD45_CY5_1000ms_ROUND_02.tif'],\n",
       " ['/fs5/p_masi/baos1/rudravg/MXIF/MXIF/Helmsley/MxIF/Set02/GCA020TIB/Registered/GCA020TIB_TISSUE01_DAPI_DAPI_12ms_ROUND_03.tif',\n",
       "  '/fs5/p_masi/baos1/rudravg/MXIF/MXIF/Helmsley/MxIF/Set02/GCA020TIB/Registered/GCA020TIB_TISSUE01_Background_CY2_75ms_ROUND_03.tif',\n",
       "  '/fs5/p_masi/baos1/rudravg/MXIF/MXIF/Helmsley/MxIF/Set02/GCA020TIB/Registered/GCA020TIB_TISSUE01_Background_CY5_1000ms_ROUND_03.tif',\n",
       "  '/fs5/p_masi/baos1/rudravg/MXIF/MXIF/Helmsley/MxIF/Set02/GCA020TIB/Registered/GCA020TIB_TISSUE01_Background_CY3_100ms_ROUND_03.tif'],\n",
       " ['/fs5/p_masi/baos1/rudravg/MXIF/MXIF/Helmsley/MxIF/Set02/GCA020TIB/Registered/GCA020TIB_TISSUE01_DAPI_DAPI_12ms_ROUND_04.tif',\n",
       "  '/fs5/p_masi/baos1/rudravg/MXIF/MXIF/Helmsley/MxIF/Set02/GCA020TIB/Registered/GCA020TIB_TISSUE01_CD20_CY5_500ms_ROUND_04.tif',\n",
       "  '/fs5/p_masi/baos1/rudravg/MXIF/MXIF/Helmsley/MxIF/Set02/GCA020TIB/Registered/GCA020TIB_TISSUE01_Collagen_CY3_100ms_ROUND_04.tif',\n",
       "  '/fs5/p_masi/baos1/rudravg/MXIF/MXIF/Helmsley/MxIF/Set02/GCA020TIB/Registered/GCA020TIB_TISSUE01_CD11B_CY2_500ms_ROUND_04.tif'],\n",
       " ['/fs5/p_masi/baos1/rudravg/MXIF/MXIF/Helmsley/MxIF/Set02/GCA020TIB/Registered/GCA020TIB_TISSUE01_DAPI_DAPI_12ms_ROUND_05.tif',\n",
       "  '/fs5/p_masi/baos1/rudravg/MXIF/MXIF/Helmsley/MxIF/Set02/GCA020TIB/Registered/GCA020TIB_TISSUE01_Background_CY5_500ms_ROUND_05.tif',\n",
       "  '/fs5/p_masi/baos1/rudravg/MXIF/MXIF/Helmsley/MxIF/Set02/GCA020TIB/Registered/GCA020TIB_TISSUE01_Background_CY2_500ms_ROUND_05.tif',\n",
       "  '/fs5/p_masi/baos1/rudravg/MXIF/MXIF/Helmsley/MxIF/Set02/GCA020TIB/Registered/GCA020TIB_TISSUE01_Background_CY3_100ms_ROUND_05.tif'],\n",
       " ['/fs5/p_masi/baos1/rudravg/MXIF/MXIF/Helmsley/MxIF/Set02/GCA020TIB/Registered/GCA020TIB_TISSUE01_DAPI_DAPI_12ms_ROUND_06.tif',\n",
       "  '/fs5/p_masi/baos1/rudravg/MXIF/MXIF/Helmsley/MxIF/Set02/GCA020TIB/Registered/GCA020TIB_TISSUE01_pSTAT3_CY5_500ms_ROUND_06.tif',\n",
       "  '/fs5/p_masi/baos1/rudravg/MXIF/MXIF/Helmsley/MxIF/Set02/GCA020TIB/Registered/GCA020TIB_TISSUE01_BCATENIN_CY3_50ms_ROUND_06.tif',\n",
       "  '/fs5/p_masi/baos1/rudravg/MXIF/MXIF/Helmsley/MxIF/Set02/GCA020TIB/Registered/GCA020TIB_TISSUE01_PCNA_CY2_175ms_ROUND_06.tif'],\n",
       " ['/fs5/p_masi/baos1/rudravg/MXIF/MXIF/Helmsley/MxIF/Set02/GCA020TIB/Registered/GCA020TIB_TISSUE01_DAPI_DAPI_12ms_ROUND_07.tif',\n",
       "  '/fs5/p_masi/baos1/rudravg/MXIF/MXIF/Helmsley/MxIF/Set02/GCA020TIB/Registered/GCA020TIB_TISSUE01_Background_CY2_175ms_ROUND_07.tif',\n",
       "  '/fs5/p_masi/baos1/rudravg/MXIF/MXIF/Helmsley/MxIF/Set02/GCA020TIB/Registered/GCA020TIB_TISSUE01_Background_CY3_50ms_ROUND_07.tif',\n",
       "  '/fs5/p_masi/baos1/rudravg/MXIF/MXIF/Helmsley/MxIF/Set02/GCA020TIB/Registered/GCA020TIB_TISSUE01_Background_CY5_500ms_ROUND_07.tif'],\n",
       " ['/fs5/p_masi/baos1/rudravg/MXIF/MXIF/Helmsley/MxIF/Set02/GCA020TIB/Registered/GCA020TIB_TISSUE01_DAPI_DAPI_12ms_ROUND_08.tif',\n",
       "  '/fs5/p_masi/baos1/rudravg/MXIF/MXIF/Helmsley/MxIF/Set02/GCA020TIB/Registered/GCA020TIB_TISSUE01_CD4_CY5_500ms_ROUND_08.tif',\n",
       "  '/fs5/p_masi/baos1/rudravg/MXIF/MXIF/Helmsley/MxIF/Set02/GCA020TIB/Registered/GCA020TIB_TISSUE01_pEGFR_CY2_175ms_ROUND_08.tif',\n",
       "  '/fs5/p_masi/baos1/rudravg/MXIF/MXIF/Helmsley/MxIF/Set02/GCA020TIB/Registered/GCA020TIB_TISSUE01_CgA_CY3_150ms_ROUND_08.tif'],\n",
       " ['/fs5/p_masi/baos1/rudravg/MXIF/MXIF/Helmsley/MxIF/Set02/GCA020TIB/Registered/GCA020TIB_TISSUE01_DAPI_DAPI_12ms_ROUND_09.tif',\n",
       "  '/fs5/p_masi/baos1/rudravg/MXIF/MXIF/Helmsley/MxIF/Set02/GCA020TIB/Registered/GCA020TIB_TISSUE01_Background_CY2_175ms_ROUND_09.tif',\n",
       "  '/fs5/p_masi/baos1/rudravg/MXIF/MXIF/Helmsley/MxIF/Set02/GCA020TIB/Registered/GCA020TIB_TISSUE01_Background_CY3_150ms_ROUND_09.tif',\n",
       "  '/fs5/p_masi/baos1/rudravg/MXIF/MXIF/Helmsley/MxIF/Set02/GCA020TIB/Registered/GCA020TIB_TISSUE01_Background_CY5_500ms_ROUND_09.tif'],\n",
       " ['/fs5/p_masi/baos1/rudravg/MXIF/MXIF/Helmsley/MxIF/Set02/GCA020TIB/Registered/GCA020TIB_TISSUE01_DAPI_DAPI_12ms_ROUND_10.tif',\n",
       "  '/fs5/p_masi/baos1/rudravg/MXIF/MXIF/Helmsley/MxIF/Set02/GCA020TIB/Registered/GCA020TIB_TISSUE01_CD3d_CY3_150ms_ROUND_10.tif',\n",
       "  '/fs5/p_masi/baos1/rudravg/MXIF/MXIF/Helmsley/MxIF/Set02/GCA020TIB/Registered/GCA020TIB_TISSUE01_Cox2_DAPI_500ms_ROUND_10.tif',\n",
       "  '/fs5/p_masi/baos1/rudravg/MXIF/MXIF/Helmsley/MxIF/Set02/GCA020TIB/Registered/GCA020TIB_TISSUE01_HLAA_CY5_200ms_ROUND_10.tif',\n",
       "  '/fs5/p_masi/baos1/rudravg/MXIF/MXIF/Helmsley/MxIF/Set02/GCA020TIB/Registered/GCA020TIB_TISSUE01_Cox2_CY2_500ms_ROUND_10.tif',\n",
       "  '/fs5/p_masi/baos1/rudravg/MXIF/MXIF/Helmsley/MxIF/Set02/GCA020TIB/Registered/GCA020TIB_TISSUE01_CD3d_CY2_150ms_ROUND_10.tif',\n",
       "  '/fs5/p_masi/baos1/rudravg/MXIF/MXIF/Helmsley/MxIF/Set02/GCA020TIB/Registered/GCA020TIB_TISSUE01_HLA A_CY3_NaNms_ROUND_10.tif'],\n",
       " ['/fs5/p_masi/baos1/rudravg/MXIF/MXIF/Helmsley/MxIF/Set02/GCA020TIB/Registered/GCA020TIB_TISSUE01_DAPI_DAPI_12ms_ROUND_11.tif',\n",
       "  '/fs5/p_masi/baos1/rudravg/MXIF/MXIF/Helmsley/MxIF/Set02/GCA020TIB/Registered/GCA020TIB_TISSUE01_Background_CY3_150ms_ROUND_11.tif',\n",
       "  '/fs5/p_masi/baos1/rudravg/MXIF/MXIF/Helmsley/MxIF/Set02/GCA020TIB/Registered/GCA020TIB_TISSUE01_Background_CY2_500ms_ROUND_11.tif',\n",
       "  '/fs5/p_masi/baos1/rudravg/MXIF/MXIF/Helmsley/MxIF/Set02/GCA020TIB/Registered/GCA020TIB_TISSUE01_Background_CY5_200ms_ROUND_11.tif'],\n",
       " ['/fs5/p_masi/baos1/rudravg/MXIF/MXIF/Helmsley/MxIF/Set02/GCA020TIB/Registered/GCA020TIB_TISSUE01_DAPI_DAPI_12ms_ROUND_12.tif',\n",
       "  '/fs5/p_masi/baos1/rudravg/MXIF/MXIF/Helmsley/MxIF/Set02/GCA020TIB/Registered/GCA020TIB_TISSUE01_OLFM4_CY3_50ms_ROUND_12.tif',\n",
       "  '/fs5/p_masi/baos1/rudravg/MXIF/MXIF/Helmsley/MxIF/Set02/GCA020TIB/Registered/GCA020TIB_TISSUE01_CD8_CY5_500ms_ROUND_12.tif',\n",
       "  '/fs5/p_masi/baos1/rudravg/MXIF/MXIF/Helmsley/MxIF/Set02/GCA020TIB/Registered/GCA020TIB_TISSUE01_PanCK_CY2_100ms_ROUND_12.tif'],\n",
       " ['/fs5/p_masi/baos1/rudravg/MXIF/MXIF/Helmsley/MxIF/Set02/GCA020TIB/Registered/GCA020TIB_TISSUE01_DAPI_DAPI_12ms_ROUND_13.tif',\n",
       "  '/fs5/p_masi/baos1/rudravg/MXIF/MXIF/Helmsley/MxIF/Set02/GCA020TIB/Registered/GCA020TIB_TISSUE01_Background_CY3_50ms_ROUND_13.tif',\n",
       "  '/fs5/p_masi/baos1/rudravg/MXIF/MXIF/Helmsley/MxIF/Set02/GCA020TIB/Registered/GCA020TIB_TISSUE01_Background_CY5_500ms_ROUND_13.tif',\n",
       "  '/fs5/p_masi/baos1/rudravg/MXIF/MXIF/Helmsley/MxIF/Set02/GCA020TIB/Registered/GCA020TIB_TISSUE01_Background_CY2_100ms_ROUND_13.tif'],\n",
       " ['/fs5/p_masi/baos1/rudravg/MXIF/MXIF/Helmsley/MxIF/Set02/GCA020TIB/Registered/GCA020TIB_TISSUE01_DAPI_DAPI_12ms_ROUND_14.tif',\n",
       "  '/fs5/p_masi/baos1/rudravg/MXIF/MXIF/Helmsley/MxIF/Set02/GCA020TIB/Registered/GCA020TIB_TISSUE01_NaKATPase_CY5_100ms_ROUND_14.tif',\n",
       "  '/fs5/p_masi/baos1/rudravg/MXIF/MXIF/Helmsley/MxIF/Set02/GCA020TIB/Registered/GCA020TIB_TISSUE01_CD68_CY3_100ms_ROUND_14.tif',\n",
       "  '/fs5/p_masi/baos1/rudravg/MXIF/MXIF/Helmsley/MxIF/Set02/GCA020TIB/Registered/GCA020TIB_TISSUE01_ACTININ_CY2_350ms_ROUND_14.tif'],\n",
       " ['/fs5/p_masi/baos1/rudravg/MXIF/MXIF/Helmsley/MxIF/Set02/GCA020TIB/Registered/GCA020TIB_TISSUE01_DAPI_DAPI_12ms_ROUND_15.tif',\n",
       "  '/fs5/p_masi/baos1/rudravg/MXIF/MXIF/Helmsley/MxIF/Set02/GCA020TIB/Registered/GCA020TIB_TISSUE01_Background_CY5_100ms_ROUND_15.tif',\n",
       "  '/fs5/p_masi/baos1/rudravg/MXIF/MXIF/Helmsley/MxIF/Set02/GCA020TIB/Registered/GCA020TIB_TISSUE01_Background_CY2_350ms_ROUND_15.tif',\n",
       "  '/fs5/p_masi/baos1/rudravg/MXIF/MXIF/Helmsley/MxIF/Set02/GCA020TIB/Registered/GCA020TIB_TISSUE01_Background_CY3_100ms_ROUND_15.tif'],\n",
       " ['/fs5/p_masi/baos1/rudravg/MXIF/MXIF/Helmsley/MxIF/Set02/GCA020TIB/Registered/GCA020TIB_TISSUE01_DAPI_DAPI_12ms_ROUND_16.tif',\n",
       "  '/fs5/p_masi/baos1/rudravg/MXIF/MXIF/Helmsley/MxIF/Set02/GCA020TIB/Registered/GCA020TIB_TISSUE01_Vimentin_CY2_75ms_ROUND_16.tif',\n",
       "  '/fs5/p_masi/baos1/rudravg/MXIF/MXIF/Helmsley/MxIF/Set02/GCA020TIB/Registered/GCA020TIB_TISSUE01_Sox9_CY3_150ms_ROUND_16.tif',\n",
       "  '/fs5/p_masi/baos1/rudravg/MXIF/MXIF/Helmsley/MxIF/Set02/GCA020TIB/Registered/GCA020TIB_TISSUE01_FOXP3_CY5_500ms_ROUND_16.tif'],\n",
       " ['/fs5/p_masi/baos1/rudravg/MXIF/MXIF/Helmsley/MxIF/Set02/GCA020TIB/Registered/GCA020TIB_TISSUE01_DAPI_DAPI_12ms_ROUND_17.tif',\n",
       "  '/fs5/p_masi/baos1/rudravg/MXIF/MXIF/Helmsley/MxIF/Set02/GCA020TIB/Registered/GCA020TIB_TISSUE01_Background_CY2_75ms_ROUND_17.tif',\n",
       "  '/fs5/p_masi/baos1/rudravg/MXIF/MXIF/Helmsley/MxIF/Set02/GCA020TIB/Registered/GCA020TIB_TISSUE01_Background_CY5_500ms_ROUND_17.tif',\n",
       "  '/fs5/p_masi/baos1/rudravg/MXIF/MXIF/Helmsley/MxIF/Set02/GCA020TIB/Registered/GCA020TIB_TISSUE01_Background_CY3_150ms_ROUND_17.tif'],\n",
       " ['/fs5/p_masi/baos1/rudravg/MXIF/MXIF/Helmsley/MxIF/Set02/GCA020TIB/Registered/GCA020TIB_TISSUE01_DAPI_DAPI_12ms_ROUND_18.tif',\n",
       "  '/fs5/p_masi/baos1/rudravg/MXIF/MXIF/Helmsley/MxIF/Set02/GCA020TIB/Registered/GCA020TIB_TISSUE01_SMA_CY3_12ms_ROUND_18.tif',\n",
       "  '/fs5/p_masi/baos1/rudravg/MXIF/MXIF/Helmsley/MxIF/Set02/GCA020TIB/Registered/GCA020TIB_TISSUE01_Lysozyme_CY2_200ms_ROUND_18.tif',\n",
       "  '/fs5/p_masi/baos1/rudravg/MXIF/MXIF/Helmsley/MxIF/Set02/GCA020TIB/Registered/GCA020TIB_TISSUE01_ERBB2_CY5_1000ms_ROUND_18.tif']]"
      ]
     },
     "execution_count": 9,
     "metadata": {},
     "output_type": "execute_result"
    }
   ],
   "source": [
    "grouped_tissues"
   ]
  },
  {
   "cell_type": "code",
   "execution_count": 11,
   "metadata": {},
   "outputs": [],
   "source": [
    "round0_dapi = grouped_tissues[0][0]\n",
    "round0_dapi,height,width = Utils_v2.load_tissues_for_overlap(round0_dapi,mask_path)"
   ]
  },
  {
   "cell_type": "markdown",
   "metadata": {},
   "source": [
    "***Generate the Deformation Mask***"
   ]
  },
  {
   "cell_type": "code",
   "execution_count": null,
   "metadata": {},
   "outputs": [],
   "source": [
    "round0_dapi_for_composition = grouped_tissues[0][0]\n",
    "round_last_dapi_for_compositin = grouped_tissues[-1][0]\n",
    "block_size = 1024\n",
    "\n",
    "round0_dapi_for_composition=np.array(Image.open(round0_dapi_for_composition)) / 255.\n",
    "round_last_dapi_for_compositin=np.array(Image.open(round_last_dapi_for_compositin)) /255.\n",
    "original_height, original_width = round0_dapi_for_composition.shape\n",
    "\n",
    "pad_size0 = block_size - round0_dapi_for_composition.shape[0] % block_size\n",
    "pad_size1 = block_size - round0_dapi_for_composition.shape[1] % block_size\n",
    "\n",
    "# Pad the images\n",
    "round0_dapi_for_composition = np.pad(round0_dapi_for_composition, ((0, pad_size0), (0, pad_size1)))\n",
    "round_last_dapi_for_compositin = np.pad(round_last_dapi_for_compositin, ((0, pad_size0), (0, pad_size1)))"
   ]
  },
  {
   "cell_type": "code",
   "execution_count": null,
   "metadata": {},
   "outputs": [],
   "source": [
    "model_path='/home-local/rudravg/test_DAPI/1024_Dataset_V2/Smoothness_1_epochs/epoch_15/epoch_15.pth'\n",
    "model,device=Utils_v2.load_model(model_path) #Write this code"
   ]
  },
  {
   "cell_type": "code",
   "execution_count": null,
   "metadata": {},
   "outputs": [],
   "source": [
    "L2_norm=Utils_v2.L2_norm_mask(round0_dapi_for_composition,round_last_dapi_for_compositin,model,device)"
   ]
  },
  {
   "cell_type": "code",
   "execution_count": null,
   "metadata": {},
   "outputs": [],
   "source": [
    "plt.figure()\n",
    "\n",
    "# Display the L2 norm\n",
    "plt.imshow(L2_norm, cmap='viridis',vmin=0,vmax=5)\n",
    "\n",
    "# Add a colorbar\n",
    "plt.colorbar()\n",
    "\n",
    "# Set the title\n",
    "plt.title('L2 Norm')\n",
    "# Show the plot\n",
    "plt.show()"
   ]
  },
  {
   "cell_type": "code",
   "execution_count": null,
   "metadata": {},
   "outputs": [],
   "source": [
    "mask = L2_norm > 10\n",
    "\n",
    "mask_image = (mask * 255).astype(np.uint8)\n",
    "mask_image = mask_image[:original_height, :original_width]"
   ]
  },
  {
   "cell_type": "markdown",
   "metadata": {},
   "source": [
    "***Perform Registration and save images***"
   ]
  },
  {
   "cell_type": "code",
   "execution_count": null,
   "metadata": {},
   "outputs": [],
   "source": [
    "round0_dapi[mask_image == 255] = 0\n",
    "new_dir = os.path.join(output_path, tissue_name)"
   ]
  },
  {
   "cell_type": "code",
   "execution_count": null,
   "metadata": {},
   "outputs": [],
   "source": [
    "#Save Round 0 Images"
   ]
  },
  {
   "cell_type": "code",
   "execution_count": null,
   "metadata": {},
   "outputs": [],
   "source": [
    "i=0\n",
    "for group in grouped_tissues[1:]:\n",
    "    stains=len(group)\n",
    "    i+=1\n",
    "    print(f\"Registering Round {i}, which has {stains} number of stains\")\n",
    "    if stains==1:\n",
    "        print(\"Bruh where are all the tissues\")\n",
    "    elif stains==2:\n",
    "        roundi_dapi = group[0]\n",
    "        stain1=group[1]\n",
    "        roundi_dapi,_,_ = Utils_v2.load_tissues_for_overlap(roundi_dapi,mask_path)\n",
    "        stain1,_,_ = Utils_v2.load_tissues_for_overlap(stain1,mask_path)\n",
    "        roundi_dapi[mask_image == 255] = 0\n",
    "        stain1[mask_image == 255] = 0\n",
    "        registered_dapi,registered_stain1=Utils_v2.register_multiple_tissues_with_overlap(moving=roundi_dapi,fixed=round0_dapi,\n",
    "                                                                                          stain1=stain1,model=model,device=device)\n",
    "        registered_dapi = registered_dapi*255.\n",
    "        registered_stain1 = registered_stain1*255.\n",
    "        registered_dapi = registered_dapi[:height, :width]\n",
    "        registered_stain1 = registered_stain1[:height, :width]\n",
    "        Image.fromarray(registered_dapi).save(os.path.join(new_dir,os.path.basename(group[0])))\n",
    "        Image.fromarray(registered_stain1).save(os.path.join(new_dir,os.path.basename(group[1])))\n",
    "    elif stains==3:\n",
    "        roundi_dapi = group[0]\n",
    "        stain1=group[1]\n",
    "        stain2=group[2]\n",
    "        roundi_dapi,_,_ = Utils_v2.load_tissues_for_overlap(roundi_dapi,mask_path)\n",
    "        stain1,_,_ = Utils_v2.load_tissues_for_overlap(stain1,mask_path)\n",
    "        stain2,_,_ = Utils_v2.load_tissues_for_overlap(stain2,mask_path)\n",
    "        roundi_dapi[mask_image == 255] = 0\n",
    "        stain1[mask_image == 255] = 0\n",
    "        stain2[mask_image == 255] = 0\n",
    "        registered_dapi,registered_stain1,registered_stain2=Utils_v2.register_multiple_tissues_with_overlap(moving=roundi_dapi,fixed=round0_dapi,\n",
    "                                                                                          stain1=stain1,stain2=stain2,model=model,device=device)\n",
    "        registered_dapi = registered_dapi*255.\n",
    "        registered_stain1 = registered_stain1*255.\n",
    "        registered_stain2 = registered_stain2*255.\n",
    "        registered_dapi = registered_dapi[:height, :width]\n",
    "        registered_stain1 = registered_stain1[:height, :width]\n",
    "        registered_stain2 = registered_stain2[:height, :width]\n",
    "    \n",
    "        Image.fromarray(registered_dapi).save(os.path.join(new_dir,os.path.basename(group[0])))\n",
    "        Image.fromarray(registered_stain1).save(os.path.join(new_dir,os.path.basename(group[1])))\n",
    "        Image.fromarray(registered_stain2).save(os.path.join(new_dir,os.path.basename(group[2])))\n",
    "    elif stains==4:\n",
    "        roundi_dapi = group[0]\n",
    "        stain1=group[1]\n",
    "        stain2=group[2]\n",
    "        stain3=group[3]\n",
    "        roundi_dapi,_,_ = Utils_v2.load_tissues_for_overlap(roundi_dapi,mask_path)\n",
    "        stain1,_,_ = Utils_v2.load_tissues_for_overlap(stain1,mask_path)\n",
    "        stain2,_,_ = Utils_v2.load_tissues_for_overlap(stain2,mask_path)\n",
    "        stain3,_,_ = Utils_v2.load_tissues_for_overlap(stain3,mask_path)\n",
    "        roundi_dapi[mask_image == 255] = 0\n",
    "        stain1[mask_image == 255] = 0\n",
    "        stain2[mask_image == 255] = 0\n",
    "        stain3[mask_image == 255] = 0\n",
    "        registered_dapi,registered_stain1,registered_stain2,registered_stain3=Utils_v2.register_multiple_tissues_with_overlap(moving=roundi_dapi,fixed=round0_dapi,\n",
    "                                                                                          stain1=stain1,stain2=stain2,stain3=stain3,model=model,device=device)\n",
    "        registered_dapi = registered_dapi*255.\n",
    "        registered_stain1 = registered_stain1*255.\n",
    "        registered_stain2 = registered_stain2*255.\n",
    "        registered_stain3 = registered_stain3*255.\n",
    "        registered_dapi = registered_dapi[:height, :width]\n",
    "        registered_stain1 = registered_stain1[:height, :width]\n",
    "        registered_stain2 = registered_stain2[:height, :width]\n",
    "        registered_stain3 = registered_stain3[:height, :width]\n",
    "        Image.fromarray(np.uint8(registered_dapi)).save(os.path.join(new_dir,os.path.basename(group[0])))\n",
    "        Image.fromarray(np.uint8(registered_stain1)).save(os.path.join(new_dir,os.path.basename(group[1])))\n",
    "        Image.fromarray(np.uint8(registered_stain2)).save(os.path.join(new_dir,os.path.basename(group[2])))\n",
    "        Image.fromarray(np.uint8(registered_stain3)).save(os.path.join(new_dir,os.path.basename(group[3])))\n",
    "    elif stains==5:\n",
    "        roundi_dapi = group[0]\n",
    "        stain1=group[1]\n",
    "        stain2=group[2]\n",
    "        stain3=group[3]\n",
    "        stain4=group[4]\n",
    "        roundi_dapi,_,_ = Utils_v2.load_tissues_for_overlap(roundi_dapi,mask_path)\n",
    "        stain1,_,_ = Utils_v2.load_tissues_for_overlap(stain1,mask_path)\n",
    "        stain2,_,_ = Utils_v2.load_tissues_for_overlap(stain2,mask_path)\n",
    "        stain3,_,_ = Utils_v2.load_tissues_for_overlap(stain3,mask_path)\n",
    "        stain4,_,_ = Utils_v2.load_tissues_for_overlap(stain4,mask_path)\n",
    "        roundi_dapi[mask_image == 255] = 0\n",
    "        stain1[mask_image == 255] = 0\n",
    "        stain2[mask_image == 255] = 0\n",
    "        stain3[mask_image == 255] = 0\n",
    "        stain4[mask_image == 255] = 0\n",
    "        registered_dapi,registered_stain1,registered_stain2,registered_stain3,registered_stain4=Utils_v2.register_multiple_tissues_with_overlap(moving=roundi_dapi,fixed=round0_dapi,\n",
    "                                                                                          stain1=stain1,stain2=stain2,stain3=stain3,stain4=stain4,model=model,device=device)\n",
    "        registered_dapi = registered_dapi*255.\n",
    "        registered_stain1 = registered_stain1*255.\n",
    "        registered_stain2 = registered_stain2*255.\n",
    "        registered_stain3 = registered_stain3*255.\n",
    "        registered_stain4 = registered_stain4*255.\n",
    "        registered_dapi = registered_dapi[:height, :width]\n",
    "        registered_stain1 = registered_stain1[:height, :width]\n",
    "        registered_stain2 = registered_stain2[:height, :width]\n",
    "        registered_stain3 = registered_stain3[:height, :width]\n",
    "        registered_stain4 = registered_stain4[:height, :width]\n",
    "        Image.fromarray(np.uint8(registered_dapi)).save(os.path.join(new_dir,os.path.basename(group[0])))\n",
    "        Image.fromarray(np.uint8(registered_stain1)).save(os.path.join(new_dir,os.path.basename(group[1])))\n",
    "        Image.fromarray(np.uint8(registered_stain2)).save(os.path.join(new_dir,os.path.basename(group[2])))\n",
    "        Image.fromarray(np.uint8(registered_stain3)).save(os.path.join(new_dir,os.path.basename(group[3])))\n",
    "        Image.fromarray(np.uint8(registered_stain4)).save(os.path.join(new_dir,os.path.basename(group[4])))\n",
    "    elif stains==6:\n",
    "        roundi_dapi = group[0]\n",
    "        stain1=group[1]\n",
    "        stain2=group[2]\n",
    "        stain3=group[3]\n",
    "        stain4=group[4]\n",
    "        stain5=group[5]\n",
    "        roundi_dapi,_,_ = Utils_v2.load_tissues_for_overlap(roundi_dapi,mask_path)\n",
    "        stain1,_,_ = Utils_v2.load_tissues_for_overlap(stain1,mask_path)\n",
    "        stain2,_,_ = Utils_v2.load_tissues_for_overlap(stain2,mask_path)\n",
    "        stain3,_,_ = Utils_v2.load_tissues_for_overlap(stain3,mask_path)\n",
    "        stain4,_,_ = Utils_v2.load_tissues_for_overlap(stain4,mask_path)\n",
    "        stain5,_,_ = Utils_v2.load_tissues_for_overlap(stain5,mask_path)\n",
    "        roundi_dapi[mask_image == 255] = 0\n",
    "        stain1[mask_image == 255] = 0\n",
    "        stain2[mask_image == 255] = 0\n",
    "        stain3[mask_image == 255] = 0\n",
    "        stain4[mask_image == 255] = 0\n",
    "        stain5[mask_image == 255] = 0\n",
    "        registered_dapi,registered_stain1,registered_stain2,registered_stain3,registered_stain4,registered_stain5=Utils_v2.register_multiple_tissues_with_overlap(moving=roundi_dapi,fixed=round0_dapi,\n",
    "                                                                                          stain1=stain1,stain2=stain2,stain3=stain3,stain4=stain4,stain5=stain5,model=model,device=device)\n",
    "        registered_dapi = registered_dapi*255.\n",
    "        registered_stain1 = registered_stain1*255.\n",
    "        registered_stain2 = registered_stain2*255.\n",
    "        registered_stain3 = registered_stain3*255.\n",
    "        registered_stain4 = registered_stain4*255.\n",
    "        registered_stain5 = registered_stain5*255.\n",
    "        registered_dapi = registered_dapi[:height, :width]\n",
    "        registered_stain1 = registered_stain1[:height, :width]\n",
    "        registered_stain2 = registered_stain2[:height, :width]\n",
    "        registered_stain3 = registered_stain3[:height, :width]\n",
    "        registered_stain4 = registered_stain4[:height, :width]\n",
    "        registered_stain5 = registered_stain5[:height, :width]\n",
    "        Image.fromarray(np.uint8(registered_dapi)).save(os.path.join(new_dir,os.path.basename(group[0])))\n",
    "        Image.fromarray(np.uint8(registered_stain1)).save(os.path.join(new_dir,os.path.basename(group[1])))\n",
    "        Image.fromarray(np.uint8(registered_stain2)).save(os.path.join(new_dir,os.path.basename(group[2])))\n",
    "        Image.fromarray(np.uint8(registered_stain3)).save(os.path.join(new_dir,os.path.basename(group[3])))\n",
    "        Image.fromarray(np.uint8(registered_stain4)).save(os.path.join(new_dir,os.path.basename(group[4])))\n",
    "        Image.fromarray(np.uint8(registered_stain5)).save(os.path.join(new_dir,os.path.basename(group[5])))\n",
    "    elif stains==7:\n",
    "        roundi_dapi = group[0]\n",
    "        stain1=group[1]\n",
    "        stain2=group[2]\n",
    "        stain3=group[3]\n",
    "        stain4=group[4]\n",
    "        stain5=group[5]\n",
    "        stain6=group[6]\n",
    "        roundi_dapi,_,_ = Utils_v2.load_tissues_for_overlap(roundi_dapi,mask_path)\n",
    "        stain1,_,_ = Utils_v2.load_tissues_for_overlap(stain1,mask_path)\n",
    "        stain2,_,_ = Utils_v2.load_tissues_for_overlap(stain2,mask_path)\n",
    "        stain3,_,_ = Utils_v2.load_tissues_for_overlap(stain3,mask_path)\n",
    "        stain4,_,_ = Utils_v2.load_tissues_for_overlap(stain4,mask_path)\n",
    "        stain5,_,_ = Utils_v2.load_tissues_for_overlap(stain5,mask_path)\n",
    "        stain6,_,_ = Utils_v2.load_tissues_for_overlap(stain6,mask_path)\n",
    "        roundi_dapi[mask_image == 255] = 0\n",
    "        stain1[mask_image == 255] = 0\n",
    "        stain2[mask_image == 255] = 0\n",
    "        stain3[mask_image == 255] = 0\n",
    "        stain4[mask_image == 255] = 0\n",
    "        stain5[mask_image == 255] = 0\n",
    "        stain6[mask_image == 255] = 0\n",
    "        registered_dapi,registered_stain1,registered_stain2,registered_stain3,registered_stain4,registered_stain5,registered_stain6=Utils_v2.register_multiple_tissues_with_overlap(moving=roundi_dapi,fixed=round0_dapi,\n",
    "                                                                                          stain1=stain1,stain2=stain2,stain3=stain3,stain4=stain4,stain5=stain5,stain6=stain6,model=model,device=device)\n",
    "        registered_dapi = registered_dapi*255.\n",
    "        registered_stain1 = registered_stain1*255.\n",
    "        registered_stain2 = registered_stain2*255.\n",
    "        registered_stain3 = registered_stain3*255.\n",
    "        registered_stain4 = registered_stain4*255.\n",
    "        registered_stain5 = registered_stain5*255.\n",
    "        registered_stain6 = registered_stain6*255.\n",
    "        registered_dapi = registered_dapi[:height, :width]\n",
    "        registered_stain1 = registered_stain1[:height, :width]\n",
    "        registered_stain2 = registered_stain2[:height, :width]\n",
    "        registered_stain3 = registered_stain3[:height, :width]\n",
    "        registered_stain4 = registered_stain4[:height, :width]\n",
    "        registered_stain5 = registered_stain5[:height, :width]\n",
    "        registered_stain6 = registered_stain6[:height, :width]\n",
    "        Image.fromarray(np.uint8(registered_dapi)).save(os.path.join(new_dir,os.path.basename(group[0])))\n",
    "        Image.fromarray(np.uint8(registered_stain1)).save(os.path.join(new_dir,os.path.basename(group[1])))\n",
    "        Image.fromarray(np.uint8(registered_stain2)).save(os.path.join(new_dir,os.path.basename(group[2])))\n",
    "        Image.fromarray(np.uint8(registered_stain3)).save(os.path.join(new_dir,os.path.basename(group[3])))\n",
    "        Image.fromarray(np.uint8(registered_stain4)).save(os.path.join(new_dir,os.path.basename(group[4])))\n",
    "        Image.fromarray(np.uint8(registered_stain5)).save(os.path.join(new_dir,os.path.basename(group[5])))\n",
    "        Image.fromarray(np.uint8(registered_stain6)).save(os.path.join(new_dir,os.path.basename(group[6])))\n",
    "print(f\"Registration Done. Output Saved at {new_dir}\")"
   ]
  },
  {
   "cell_type": "markdown",
   "metadata": {},
   "source": [
    "***AF Removal for Registered***"
   ]
  },
  {
   "cell_type": "code",
   "execution_count": null,
   "metadata": {},
   "outputs": [],
   "source": [
    "registered_images_path=new_dir\n",
    "af_removed_output_path_registered=os.path.join(registered_images_path,'AF_Removed')\n",
    "\n",
    "if not os.path.exists(af_removed_output_path_registered):\n",
    "    os.makedirs(af_removed_output_path_registered)\n",
    "\n",
    "AF_Removal_Set_02.process_sample(registered_images_path,af_removed_output_path_registered)"
   ]
  },
  {
   "cell_type": "markdown",
   "metadata": {},
   "source": [
    "***Applying mask and saving unregistered***"
   ]
  },
  {
   "cell_type": "code",
   "execution_count": null,
   "metadata": {},
   "outputs": [],
   "source": [
    "unregistered_output_path=os.path.join(new_dir,'Unregistered')\n",
    "\n",
    "if not os.path.exists(unregistered_output_path):\n",
    "    os.makedirs(unregistered_output_path)\n",
    "\n",
    "for group in grouped_tissues:\n",
    "    for file_path in group:\n",
    "        file,height,width=Utils_v2.load_tissues_for_overlap(file_path,mask_path)\n",
    "        file=file*255.\n",
    "        file = file[:height, :width]\n",
    "        file_name=os.path.basename(file_path)[:-4]\n",
    "        Image.fromarray(np.uint8(file)).save(os.path.join(unregistered_output_path,f\"{file_name}.tif\"))"
   ]
  },
  {
   "cell_type": "markdown",
   "metadata": {},
   "source": [
    "***AF Removal for Unregistered***"
   ]
  },
  {
   "cell_type": "code",
   "execution_count": null,
   "metadata": {},
   "outputs": [],
   "source": [
    "af_removed_output_path_unregistered=os.path.join(unregistered_output_path,'AF_Removed')\n",
    "\n",
    "if not os.path.exists(af_removed_output_path_unregistered):\n",
    "    os.makedirs(af_removed_output_path_unregistered)\n",
    "\n",
    "AF_Removal_Set_02.process_sample(unregistered_output_path,af_removed_output_path_unregistered)"
   ]
  },
  {
   "cell_type": "markdown",
   "metadata": {},
   "source": [
    "***Average DAPI***"
   ]
  },
  {
   "cell_type": "code",
   "execution_count": null,
   "metadata": {},
   "outputs": [],
   "source": [
    "files = glob.glob(os.path.join(new_dir, \"*DAPI*\"))\n",
    "print(files)\n",
    "def get_round_number(filename):\n",
    "    match = re.search(r'ROUND_(\\d+)', filename)\n",
    "    return int(match.group(1)) if match else 0\n",
    "\n",
    "# Sort the files by the round number\n",
    "files = sorted(files, key=get_round_number)\n",
    "print(files[0])\n",
    "file_zer0=files[0]\n",
    "image0=np.array(Image.open(file_zer0))\n",
    "image_accumulator=np.zeros(image0.shape)"
   ]
  },
  {
   "cell_type": "code",
   "execution_count": null,
   "metadata": {},
   "outputs": [],
   "source": [
    "for file in tqdm(files):\n",
    "    image=np.array(Image.open(file))\n",
    "    image,_=Utils_v2.adjust_intensity(image0,image)\n",
    "    image_accumulator+=image\n",
    "image_accumulator=image_accumulator/len(files)"
   ]
  },
  {
   "cell_type": "code",
   "execution_count": null,
   "metadata": {},
   "outputs": [],
   "source": [
    "fig, axs = plt.subplots(1, 2, figsize=(10, 5))\n",
    "\n",
    "# Plot image0 in the first subplot\n",
    "axs[0].imshow(image0, cmap='gray')\n",
    "axs[0].set_title('image0')\n",
    "\n",
    "# Plot image_accumulator in the second subplot\n",
    "axs[1].imshow(image_accumulator, cmap='gray')\n",
    "axs[1].set_title('image_accumulator')\n",
    "\n",
    "# Display the plot\n",
    "plt.show()"
   ]
  },
  {
   "cell_type": "code",
   "execution_count": null,
   "metadata": {},
   "outputs": [],
   "source": [
    "Image.fromarray(np.uint8(image_accumulator)).save(os.path.join(new_dir,f\"AverageDAPI_{tissue_name}.tif\"))"
   ]
  },
  {
   "cell_type": "markdown",
   "metadata": {},
   "source": [
    "***DeepCell Inferece***"
   ]
  },
  {
   "cell_type": "code",
   "execution_count": null,
   "metadata": {},
   "outputs": [],
   "source": [
    "#https://stackoverflow.com/questions/13745648/running-bash-script-from-within-python"
   ]
  }
 ],
 "metadata": {
  "kernelspec": {
   "display_name": "dapi_reg",
   "language": "python",
   "name": "python3"
  },
  "language_info": {
   "codemirror_mode": {
    "name": "ipython",
    "version": 3
   },
   "file_extension": ".py",
   "mimetype": "text/x-python",
   "name": "python",
   "nbconvert_exporter": "python",
   "pygments_lexer": "ipython3",
   "version": "3.12.1"
  }
 },
 "nbformat": 4,
 "nbformat_minor": 2
}
