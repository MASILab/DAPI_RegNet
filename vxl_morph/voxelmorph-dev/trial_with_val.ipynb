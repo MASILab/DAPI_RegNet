{
 "cells": [
  {
   "cell_type": "code",
   "execution_count": 1,
   "metadata": {},
   "outputs": [],
   "source": [
    "import os,sys,time\n",
    "import numpy as np\n",
    "import torch"
   ]
  },
  {
   "cell_type": "code",
   "execution_count": 2,
   "metadata": {},
   "outputs": [],
   "source": [
    "os.environ['NEURITE_BACKEND'] = 'pytorch'\n",
    "os.environ['VXM_BACKEND'] = 'pytorch'\n"
   ]
  },
  {
   "cell_type": "code",
   "execution_count": 3,
   "metadata": {},
   "outputs": [],
   "source": [
    "import voxelmorph as vxm\n",
    "from torchvision import datasets, transforms\n",
    "import matplotlib.pyplot as plt\n",
    "from torchvision.datasets import MNIST\n",
    "from torch.utils.data import DataLoader, Dataset\n",
    "from torchvision.transforms import ToTensor\n",
    "import importlib"
   ]
  },
  {
   "cell_type": "code",
   "execution_count": 4,
   "metadata": {},
   "outputs": [],
   "source": [
    "file='/home-local/rudravg/registration_stress_test/512/image_pairs_v2.txt'\n",
    "train_files=vxm.py.utils.read_file_list(file)\n",
    "val_file='/home-local/rudravg/registration_stress_test/512/image_pairs_val_v2.txt'\n",
    "val_files=vxm.py.utils.read_file_list(val_file)"
   ]
  },
  {
   "cell_type": "code",
   "execution_count": 5,
   "metadata": {},
   "outputs": [
    {
     "data": {
      "text/plain": [
       "(4800,\n",
       " '/home-local/rudravg/registration_stress_test/512/image1_0.npy',\n",
       " 600,\n",
       " '/home-local/rudravg/registration_stress_test/512/image1_2400.npy')"
      ]
     },
     "execution_count": 5,
     "metadata": {},
     "output_type": "execute_result"
    }
   ],
   "source": [
    "len(train_files), train_files[0],len(val_files), val_files[0]"
   ]
  },
  {
   "cell_type": "code",
   "execution_count": 6,
   "metadata": {},
   "outputs": [],
   "source": [
    "generator=vxm.generators.scan_to_scan(train_files)\n",
    "val_generator=vxm.generators.scan_to_scan(train_files)"
   ]
  },
  {
   "cell_type": "code",
   "execution_count": 7,
   "metadata": {},
   "outputs": [
    {
     "data": {
      "text/plain": [
       "(<generator object scan_to_scan at 0x7f30b3d374c0>,\n",
       " <generator object scan_to_scan at 0x7f30b3d37600>)"
      ]
     },
     "execution_count": 7,
     "metadata": {},
     "output_type": "execute_result"
    }
   ],
   "source": [
    "generator,val_generator"
   ]
  },
  {
   "cell_type": "code",
   "execution_count": 8,
   "metadata": {},
   "outputs": [
    {
     "data": {
      "text/plain": [
       "(512, 512)"
      ]
     },
     "execution_count": 8,
     "metadata": {},
     "output_type": "execute_result"
    }
   ],
   "source": [
    "inshape=next(generator)[0][0].shape[1:-1]\n",
    "inshape"
   ]
  },
  {
   "cell_type": "code",
   "execution_count": 9,
   "metadata": {},
   "outputs": [
    {
     "data": {
      "text/plain": [
       "(1, 512, 512, 1)"
      ]
     },
     "execution_count": 9,
     "metadata": {},
     "output_type": "execute_result"
    }
   ],
   "source": [
    "batch=next(generator)\n",
    "batch[0][0].shape"
   ]
  },
  {
   "cell_type": "code",
   "execution_count": 10,
   "metadata": {},
   "outputs": [
    {
     "name": "stderr",
     "output_type": "stream",
     "text": [
      "/home/local/VANDERBILT/rudravg/miniconda3/envs/dapi_reg/lib/python3.12/site-packages/torch/functional.py:507: UserWarning: torch.meshgrid: in an upcoming release, it will be required to pass the indexing argument. (Triggered internally at ../aten/src/ATen/native/TensorShape.cpp:3549.)\n",
      "  return _VF.meshgrid(tensors, **kwargs)  # type: ignore[attr-defined]\n"
     ]
    }
   ],
   "source": [
    "model=vxm.networks.VxmDense(inshape=inshape)"
   ]
  },
  {
   "cell_type": "code",
   "execution_count": 11,
   "metadata": {},
   "outputs": [
    {
     "data": {
      "text/plain": [
       "VxmDense(\n",
       "  (unet_model): Unet(\n",
       "    (encoder): ModuleList(\n",
       "      (0): ModuleList(\n",
       "        (0): ConvBlock(\n",
       "          (main): Conv2d(2, 16, kernel_size=(3, 3), stride=(1, 1), padding=(1, 1))\n",
       "          (activation): LeakyReLU(negative_slope=0.2)\n",
       "        )\n",
       "      )\n",
       "      (1): ModuleList(\n",
       "        (0): ConvBlock(\n",
       "          (main): Conv2d(16, 32, kernel_size=(3, 3), stride=(1, 1), padding=(1, 1))\n",
       "          (activation): LeakyReLU(negative_slope=0.2)\n",
       "        )\n",
       "      )\n",
       "      (2-3): 2 x ModuleList(\n",
       "        (0): ConvBlock(\n",
       "          (main): Conv2d(32, 32, kernel_size=(3, 3), stride=(1, 1), padding=(1, 1))\n",
       "          (activation): LeakyReLU(negative_slope=0.2)\n",
       "        )\n",
       "      )\n",
       "    )\n",
       "    (decoder): ModuleList(\n",
       "      (0): ModuleList(\n",
       "        (0): ConvBlock(\n",
       "          (main): Conv2d(32, 32, kernel_size=(3, 3), stride=(1, 1), padding=(1, 1))\n",
       "          (activation): LeakyReLU(negative_slope=0.2)\n",
       "        )\n",
       "      )\n",
       "      (1-3): 3 x ModuleList(\n",
       "        (0): ConvBlock(\n",
       "          (main): Conv2d(64, 32, kernel_size=(3, 3), stride=(1, 1), padding=(1, 1))\n",
       "          (activation): LeakyReLU(negative_slope=0.2)\n",
       "        )\n",
       "      )\n",
       "    )\n",
       "    (remaining): ModuleList(\n",
       "      (0): ConvBlock(\n",
       "        (main): Conv2d(48, 32, kernel_size=(3, 3), stride=(1, 1), padding=(1, 1))\n",
       "        (activation): LeakyReLU(negative_slope=0.2)\n",
       "      )\n",
       "      (1): ConvBlock(\n",
       "        (main): Conv2d(32, 16, kernel_size=(3, 3), stride=(1, 1), padding=(1, 1))\n",
       "        (activation): LeakyReLU(negative_slope=0.2)\n",
       "      )\n",
       "      (2): ConvBlock(\n",
       "        (main): Conv2d(16, 16, kernel_size=(3, 3), stride=(1, 1), padding=(1, 1))\n",
       "        (activation): LeakyReLU(negative_slope=0.2)\n",
       "      )\n",
       "    )\n",
       "  )\n",
       "  (flow): Conv2d(16, 2, kernel_size=(3, 3), stride=(1, 1), padding=(1, 1))\n",
       "  (resize): ResizeTransform()\n",
       "  (fullsize): ResizeTransform()\n",
       "  (integrate): VecInt(\n",
       "    (transformer): SpatialTransformer()\n",
       "  )\n",
       "  (transformer): SpatialTransformer()\n",
       ")"
      ]
     },
     "execution_count": 11,
     "metadata": {},
     "output_type": "execute_result"
    }
   ],
   "source": [
    "model"
   ]
  },
  {
   "cell_type": "code",
   "execution_count": 12,
   "metadata": {},
   "outputs": [],
   "source": [
    "model.to('cuda')\n",
    "model.train()\n",
    "optimizer=torch.optim.Adam(model.parameters(), lr=1e-4)"
   ]
  },
  {
   "cell_type": "code",
   "execution_count": 13,
   "metadata": {},
   "outputs": [],
   "source": [
    "image_loss_func=vxm.losses.MSE().loss \n",
    "losses=[image_loss_func]\n",
    "weights=[1]"
   ]
  },
  {
   "cell_type": "code",
   "execution_count": 14,
   "metadata": {},
   "outputs": [],
   "source": [
    "losses += [vxm.losses.Grad('l2',loss_mult=2).loss]\n",
    "weights += [1]"
   ]
  },
  {
   "cell_type": "code",
   "execution_count": 15,
   "metadata": {},
   "outputs": [
    {
     "data": {
      "text/plain": [
       "[<bound method MSE.loss of <voxelmorph.torch.losses.MSE object at 0x7f30b3be89b0>>,\n",
       " <bound method Grad.loss of <voxelmorph.torch.losses.Grad object at 0x7f30b3c43440>>]"
      ]
     },
     "execution_count": 15,
     "metadata": {},
     "output_type": "execute_result"
    }
   ],
   "source": [
    "losses"
   ]
  },
  {
   "cell_type": "code",
   "execution_count": 16,
   "metadata": {},
   "outputs": [
    {
     "data": {
      "text/plain": [
       "[1, 1]"
      ]
     },
     "execution_count": 16,
     "metadata": {},
     "output_type": "execute_result"
    }
   ],
   "source": [
    "weights"
   ]
  },
  {
   "cell_type": "code",
   "execution_count": 17,
   "metadata": {},
   "outputs": [
    {
     "data": {
      "text/plain": [
       "(torch.Size([1, 1, 512, 512]),\n",
       " torch.Size([1, 1, 512, 512]),\n",
       " torch.Size([1, 1, 512, 512]))"
      ]
     },
     "execution_count": 17,
     "metadata": {},
     "output_type": "execute_result"
    }
   ],
   "source": [
    "inputs, y_true = next(generator)\n",
    "inputs1 = [torch.from_numpy(d).to('cuda').float().permute(0,3,1,2) for d in inputs]\n",
    "y_true1 = [torch.from_numpy(d).to('cuda').float().permute(0,3,1,2) for d in y_true]\n",
    "inputs1[0].shape, y_true1[0].shape,inputs1[1].shape"
   ]
  },
  {
   "cell_type": "code",
   "execution_count": 18,
   "metadata": {},
   "outputs": [
    {
     "data": {
      "text/plain": [
       "1"
      ]
     },
     "execution_count": 18,
     "metadata": {},
     "output_type": "execute_result"
    }
   ],
   "source": [
    "weights[1]"
   ]
  },
  {
   "cell_type": "code",
   "execution_count": 19,
   "metadata": {},
   "outputs": [
    {
     "name": "stdout",
     "output_type": "stream",
     "text": [
      "Epoch 1 Loss: 0.029093208800574453\n",
      "Epoch 1 Losses: [0.02793362 0.00115959]\n",
      "Epoch 1 Step Time: 0.031727145413557686\n",
      "Epoch 1 Val Loss: 0.02065259230012695\n",
      "Epoch 2 Loss: 0.019700766516907605\n",
      "Epoch 2 Losses: [0.01847533 0.00122544]\n",
      "Epoch 2 Step Time: 0.031343531310558316\n",
      "Epoch 2 Val Loss: 0.01559362317280223\n",
      "Epoch 3 Loss: 0.014875920045014937\n",
      "Epoch 3 Losses: [0.01347767 0.00139825]\n",
      "Epoch 3 Step Time: 0.031180254419644674\n",
      "Epoch 3 Val Loss: 0.013468787343396495\n",
      "Epoch 4 Loss: 0.013519092868203492\n",
      "Epoch 4 Losses: [0.0121616 0.0013575]\n",
      "Epoch 4 Step Time: 0.031226246058940886\n",
      "Epoch 4 Val Loss: 0.012373266686530163\n",
      "Epoch 5 Loss: 0.013473123099198953\n",
      "Epoch 5 Losses: [0.01206516 0.00140796]\n",
      "Epoch 5 Step Time: 0.031297121147314706\n",
      "Epoch 5 Val Loss: 0.012443209561364105\n",
      "Epoch 6 Loss: 0.013290286330302478\n",
      "Epoch 6 Losses: [0.0119246  0.00136569]\n",
      "Epoch 6 Step Time: 0.03155037224292755\n",
      "Epoch 6 Val Loss: 0.012189752080012113\n",
      "Epoch 7 Loss: 0.012229305098881014\n",
      "Epoch 7 Losses: [0.01081832 0.00141098]\n",
      "Epoch 7 Step Time: 0.03130409965912501\n",
      "Epoch 7 Val Loss: 0.011128172959045817\n",
      "Epoch 8 Loss: 0.01110595053920406\n",
      "Epoch 8 Losses: [0.00968379 0.00142216]\n",
      "Epoch 8 Step Time: 0.031176789700984954\n",
      "Epoch 8 Val Loss: 0.010449436815300335\n",
      "Epoch 9 Loss: 0.011735702540026977\n",
      "Epoch 9 Losses: [0.01026378 0.00147192]\n",
      "Epoch 9 Step Time: 0.03137072225411733\n",
      "Epoch 9 Val Loss: 0.012293374391738325\n",
      "Epoch 10 Loss: 0.010993916541629005\n",
      "Epoch 10 Losses: [0.0095249  0.00146901]\n",
      "Epoch 10 Step Time: 0.03143602212270101\n",
      "Epoch 10 Val Loss: 0.016190870065862933\n",
      "Epoch 11 Loss: 0.010833542894057852\n",
      "Epoch 11 Losses: [0.00936144 0.0014721 ]\n",
      "Epoch 11 Step Time: 0.03149731477101644\n",
      "Epoch 11 Val Loss: 0.010126216754627725\n",
      "Epoch 12 Loss: 0.009942567589750978\n",
      "Epoch 12 Losses: [0.00856221 0.00138035]\n",
      "Epoch 12 Step Time: 0.031349203685919445\n",
      "Epoch 12 Val Loss: 0.009885766132889936\n",
      "Epoch 13 Loss: 0.009758758070820477\n",
      "Epoch 13 Losses: [0.00835201 0.00140675]\n",
      "Epoch 13 Step Time: 0.03143779794375102\n",
      "Epoch 13 Val Loss: 0.010661598998121918\n",
      "Epoch 14 Loss: 0.009813105899568958\n",
      "Epoch 14 Losses: [0.0083922  0.00142091]\n",
      "Epoch 14 Step Time: 0.03135465274254481\n",
      "Epoch 14 Val Loss: 0.009566569548721114\n",
      "Epoch 15 Loss: 0.01099043682431026\n",
      "Epoch 15 Losses: [0.00958884 0.00140159]\n",
      "Epoch 15 Step Time: 0.031218755642573037\n",
      "Epoch 15 Val Loss: 0.009874503520938258\n",
      "Epoch 16 Loss: 0.00968300719881275\n",
      "Epoch 16 Losses: [0.00823798 0.00144502]\n",
      "Epoch 16 Step Time: 0.03149728447198868\n",
      "Epoch 16 Val Loss: 0.009337038065229232\n",
      "Epoch 17 Loss: 0.009851463702313292\n",
      "Epoch 17 Losses: [0.00846302 0.00138845]\n",
      "Epoch 17 Step Time: 0.03145928670962651\n",
      "Epoch 17 Val Loss: 0.009291433103693028\n",
      "Epoch 18 Loss: 0.010512305308851258\n",
      "Epoch 18 Losses: [0.00909773 0.00141458]\n",
      "Epoch 18 Step Time: 0.03146108537912369\n",
      "Epoch 18 Val Loss: 0.008174997756335263\n",
      "Epoch 19 Loss: 0.008881562651125326\n",
      "Epoch 19 Losses: [0.00747626 0.00140531]\n",
      "Epoch 19 Step Time: 0.03141254166762034\n",
      "Epoch 19 Val Loss: 0.008932795222693433\n",
      "Epoch 20 Loss: 0.009374981124031668\n",
      "Epoch 20 Losses: [0.0079476  0.00142738]\n",
      "Epoch 20 Step Time: 0.03147069891293844\n",
      "Epoch 20 Val Loss: 0.007979813006240875\n",
      "Epoch 21 Loss: 0.012635870023223106\n",
      "Epoch 21 Losses: [0.01102579 0.00161008]\n",
      "Epoch 21 Step Time: 0.03141038070122401\n",
      "Epoch 21 Val Loss: 0.01241631818547224\n",
      "Epoch 22 Loss: 0.008849295391337364\n",
      "Epoch 22 Losses: [0.00745484 0.00139445]\n",
      "Epoch 22 Step Time: 0.031436188519001006\n",
      "Epoch 22 Val Loss: 0.013104494322712223\n",
      "Epoch 23 Loss: 0.008731548113622315\n",
      "Epoch 23 Losses: [0.00731631 0.00141524]\n",
      "Epoch 23 Step Time: 0.03135157992442449\n",
      "Epoch 23 Val Loss: 0.00792747175320983\n",
      "Epoch 24 Loss: 0.009868191538310688\n",
      "Epoch 24 Losses: [0.00849657 0.00137162]\n",
      "Epoch 24 Step Time: 0.031389016509056095\n",
      "Epoch 24 Val Loss: 0.013097915754963954\n",
      "Epoch 25 Loss: 0.010907139472207443\n",
      "Epoch 25 Losses: [0.00938056 0.00152658]\n",
      "Epoch 25 Step Time: 0.031349856754144034\n",
      "Epoch 25 Val Loss: 0.009565121987834572\n",
      "Epoch 26 Loss: 0.00835505629729596\n",
      "Epoch 26 Losses: [0.00694737 0.00140769]\n",
      "Epoch 26 Step Time: 0.030962773561477662\n",
      "Epoch 26 Val Loss: 0.007845486187531302\n",
      "Epoch 27 Loss: 0.009306678354817754\n",
      "Epoch 27 Losses: [0.00788971 0.00141697]\n",
      "Epoch 27 Step Time: 0.03147803763548533\n",
      "Epoch 27 Val Loss: 0.008470006387603158\n",
      "Epoch 28 Loss: 0.009441996203531745\n",
      "Epoch 28 Losses: [0.00806686 0.00137513]\n",
      "Epoch 28 Step Time: 0.03136404166618983\n",
      "Epoch 28 Val Loss: 0.008321362956582258\n",
      "Epoch 29 Loss: 0.007808136530948104\n",
      "Epoch 29 Losses: [0.00653211 0.00127603]\n",
      "Epoch 29 Step Time: 0.03126700133085251\n",
      "Epoch 29 Val Loss: 0.008402221148523192\n",
      "Epoch 30 Loss: 0.008104941419393679\n",
      "Epoch 30 Losses: [0.00690837 0.00119657]\n",
      "Epoch 30 Step Time: 0.03135856469472249\n",
      "Epoch 30 Val Loss: 0.008795632039352009\n"
     ]
    }
   ],
   "source": [
    "epoch_loss_final=[]\n",
    "val_loss_final=[]\n",
    "for epoch in range(30):\n",
    "    model.train()\n",
    "    model.save(f'512_models/model_epoch_{epoch}.pt')\n",
    "    epoch_loss=[]\n",
    "    epoch_total_loss=[]\n",
    "    epoch_step_time=[]\n",
    "    val_loss=[]\n",
    "\n",
    "    for step in range(2400):\n",
    "        step_time=time.time()\n",
    "        inputs, y_true = next(generator)\n",
    "        inputs = [torch.from_numpy(d).to('cuda').float().permute(0,3,1,2) for d in inputs]\n",
    "        y_true = [torch.from_numpy(d).to('cuda').float().permute(0,3,1,2) for d in y_true]\n",
    "        y_pred=model(*inputs)\n",
    "        loss=0\n",
    "        loss_list=[]\n",
    "        for n,loss_function in enumerate(losses):\n",
    "            curr_loss=loss_function(y_true[0],y_pred[0])*weights[n]\n",
    "            loss_list.append(curr_loss.item())\n",
    "            loss+=curr_loss\n",
    "            #print(loss.item())\n",
    "        epoch_loss.append(loss_list)\n",
    "        epoch_total_loss.append(loss.item())\n",
    "        optimizer.zero_grad()\n",
    "        loss.backward()\n",
    "        optimizer.step()\n",
    "        epoch_step_time.append(time.time()-step_time)\n",
    "    print(f'Epoch {epoch+1} Loss: {np.mean(epoch_total_loss)}')\n",
    "    epoch_loss_final.append(np.mean(epoch_total_loss))\n",
    "    print(f'Epoch {epoch+1} Losses: {np.mean(epoch_loss, axis=0)}')\n",
    "    print(f'Epoch {epoch+1} Step Time: {np.mean(epoch_step_time)}')\n",
    "    with torch.no_grad():\n",
    "        model.eval()\n",
    "        for step in range(300):\n",
    "            inputs, y_true = next(val_generator)\n",
    "            inputs = [torch.from_numpy(d).to('cuda').float().permute(0,3,1,2) for d in inputs]\n",
    "            y_true = [torch.from_numpy(d).to('cuda').float().permute(0,3,1,2) for d in y_true]\n",
    "            y_pred=model(*inputs)\n",
    "            loss=0\n",
    "            for n,loss_function in enumerate(losses):\n",
    "                curr_loss=loss_function(y_true[0],y_pred[0])*weights[n]\n",
    "                loss+=curr_loss\n",
    "            val_loss.append(loss.item())\n",
    "        print(f'Epoch {epoch+1} Val Loss: {np.mean(val_loss)}')\n",
    "        val_loss_final.append(np.mean(val_loss))\n",
    "model.save('512_models/final_model.pt')"
   ]
  },
  {
   "cell_type": "code",
   "execution_count": 20,
   "metadata": {},
   "outputs": [
    {
     "data": {
      "image/png": "[encoded data removed]",
      "text/plain": [
       "<Figure size 1000x500 with 1 Axes>"
      ]
     },
     "metadata": {},
     "output_type": "display_data"
    }
   ],
   "source": [
    "plt.figure(figsize=(10, 5))\n",
    "plt.plot(epoch_loss_final, label='Training Loss')\n",
    "plt.plot(val_loss_final, label='Validation Loss')\n",
    "plt.title('Training and Validation Losses')\n",
    "plt.xlabel('Epoch')\n",
    "plt.ylabel('Loss')\n",
    "plt.legend()\n",
    "plt.show()"
   ]
  },
  {
   "cell_type": "code",
   "execution_count": 68,
   "metadata": {},
   "outputs": [
    {
     "data": {
      "text/plain": [
       "(0.007845486187531302, 25, 0.007808136530948104, 28)"
      ]
     },
     "execution_count": 68,
     "metadata": {},
     "output_type": "execute_result"
    }
   ],
   "source": [
    "min(val_loss_final), val_loss_final.index(min(val_loss_final)),min(epoch_loss_final), epoch_loss_final.index(min(epoch_loss_final))"
   ]
  },
  {
   "cell_type": "code",
   "execution_count": 97,
   "metadata": {},
   "outputs": [
    {
     "data": {
      "image/png": "[encoded data removed]",
      "text/plain": [
       "<Figure size 1000x500 with 2 Axes>"
      ]
     },
     "metadata": {},
     "output_type": "display_data"
    }
   ],
   "source": [
    "moving_file='/home-local/rudravg/registration_stress_test/512/image1_2685.npy'\n",
    "moving_file='/home-local/rudravg/registration_stress_test/512/image1_2685.npy'\n",
    "model_path='/nfs2/forGaurav/yesbackup/DAPI_reg/vxl_morph/voxelmorph-dev/512_models/model_epoch_28.pt'\n",
    "# Load the images\n",
    "moving_image = np.load(moving_file)\n",
    "fixed_image = np.load(fixed_file)\n",
    "\n",
    "# Create a figure with 2 subplots\n",
    "fig, axs = plt.subplots(1, 2, figsize=(10, 5))\n",
    "\n",
    "# Plot the moving image\n",
    "axs[0].imshow(moving_image, cmap='gray')\n",
    "axs[0].axis('off')\n",
    "axs[0].set_title('Moving Image')\n",
    "\n",
    "# Plot the fixed image\n",
    "axs[1].imshow(fixed_image, cmap='gray')\n",
    "axs[1].axis('off')\n",
    "axs[1].set_title('Fixed Image')\n",
    "\n",
    "# Display the plot\n",
    "plt.show()\n"
   ]
  },
  {
   "cell_type": "code",
   "execution_count": 98,
   "metadata": {},
   "outputs": [
    {
     "data": {
      "text/plain": [
       "(0.0, 1.0, 0.0, 1.0)"
      ]
     },
     "execution_count": 98,
     "metadata": {},
     "output_type": "execute_result"
    }
   ],
   "source": [
    "fixed_image.min(),fixed_image.max(),moving_image.min(),moving_image.max()"
   ]
  },
  {
   "cell_type": "code",
   "execution_count": 99,
   "metadata": {},
   "outputs": [],
   "source": [
    "device = 'cuda'\n",
    "moving=vxm.py.utils.load_volfile(moving_file,add_batch_axis=True,add_feat_axis=True)\n",
    "fixed,fixed_affine=vxm.py.utils.load_volfile(fixed_file,add_batch_axis=True,add_feat_axis=True,ret_affine=True)"
   ]
  },
  {
   "cell_type": "code",
   "execution_count": 100,
   "metadata": {},
   "outputs": [
    {
     "data": {
      "text/plain": [
       "VxmDense(\n",
       "  (unet_model): Unet(\n",
       "    (encoder): ModuleList(\n",
       "      (0): ModuleList(\n",
       "        (0): ConvBlock(\n",
       "          (main): Conv2d(2, 16, kernel_size=(3, 3), stride=(1, 1), padding=(1, 1))\n",
       "          (activation): LeakyReLU(negative_slope=0.2)\n",
       "        )\n",
       "      )\n",
       "      (1): ModuleList(\n",
       "        (0): ConvBlock(\n",
       "          (main): Conv2d(16, 32, kernel_size=(3, 3), stride=(1, 1), padding=(1, 1))\n",
       "          (activation): LeakyReLU(negative_slope=0.2)\n",
       "        )\n",
       "      )\n",
       "      (2-3): 2 x ModuleList(\n",
       "        (0): ConvBlock(\n",
       "          (main): Conv2d(32, 32, kernel_size=(3, 3), stride=(1, 1), padding=(1, 1))\n",
       "          (activation): LeakyReLU(negative_slope=0.2)\n",
       "        )\n",
       "      )\n",
       "    )\n",
       "    (decoder): ModuleList(\n",
       "      (0): ModuleList(\n",
       "        (0): ConvBlock(\n",
       "          (main): Conv2d(32, 32, kernel_size=(3, 3), stride=(1, 1), padding=(1, 1))\n",
       "          (activation): LeakyReLU(negative_slope=0.2)\n",
       "        )\n",
       "      )\n",
       "      (1-3): 3 x ModuleList(\n",
       "        (0): ConvBlock(\n",
       "          (main): Conv2d(64, 32, kernel_size=(3, 3), stride=(1, 1), padding=(1, 1))\n",
       "          (activation): LeakyReLU(negative_slope=0.2)\n",
       "        )\n",
       "      )\n",
       "    )\n",
       "    (remaining): ModuleList(\n",
       "      (0): ConvBlock(\n",
       "        (main): Conv2d(48, 32, kernel_size=(3, 3), stride=(1, 1), padding=(1, 1))\n",
       "        (activation): LeakyReLU(negative_slope=0.2)\n",
       "      )\n",
       "      (1): ConvBlock(\n",
       "        (main): Conv2d(32, 16, kernel_size=(3, 3), stride=(1, 1), padding=(1, 1))\n",
       "        (activation): LeakyReLU(negative_slope=0.2)\n",
       "      )\n",
       "      (2): ConvBlock(\n",
       "        (main): Conv2d(16, 16, kernel_size=(3, 3), stride=(1, 1), padding=(1, 1))\n",
       "        (activation): LeakyReLU(negative_slope=0.2)\n",
       "      )\n",
       "    )\n",
       "  )\n",
       "  (flow): Conv2d(16, 2, kernel_size=(3, 3), stride=(1, 1), padding=(1, 1))\n",
       "  (resize): ResizeTransform()\n",
       "  (fullsize): ResizeTransform()\n",
       "  (integrate): VecInt(\n",
       "    (transformer): SpatialTransformer()\n",
       "  )\n",
       "  (transformer): SpatialTransformer()\n",
       ")"
      ]
     },
     "execution_count": 100,
     "metadata": {},
     "output_type": "execute_result"
    }
   ],
   "source": [
    "test_model=vxm.networks.VxmDense.load(model_path, device)\n",
    "test_model.to(device)\n",
    "test_model.eval()"
   ]
  },
  {
   "cell_type": "code",
   "execution_count": 101,
   "metadata": {},
   "outputs": [],
   "source": [
    "input_moving=torch.from_numpy(moving).to(device).float().permute(0,3,1,2)\n",
    "input_fixed=torch.from_numpy(fixed).to(device).float().permute(0,3,1,2)\n"
   ]
  },
  {
   "cell_type": "code",
   "execution_count": 102,
   "metadata": {},
   "outputs": [],
   "source": [
    "moved,warp=test_model(input_moving,input_fixed,registration=True)\n"
   ]
  },
  {
   "cell_type": "code",
   "execution_count": 103,
   "metadata": {},
   "outputs": [
    {
     "data": {
      "text/plain": [
       "(2, 512, 512)"
      ]
     },
     "execution_count": 103,
     "metadata": {},
     "output_type": "execute_result"
    }
   ],
   "source": [
    "moved_img=moved.detach().cpu().numpy().squeeze()\n",
    "moved_img.shape\n",
    "warped=warp.detach().cpu().numpy().squeeze()\n",
    "warped.shape"
   ]
  },
  {
   "cell_type": "code",
   "execution_count": 104,
   "metadata": {},
   "outputs": [
    {
     "data": {
      "image/png": "[encoded data removed]",
      "text/plain": [
       "<Figure size 1500x500 with 3 Axes>"
      ]
     },
     "metadata": {},
     "output_type": "display_data"
    }
   ],
   "source": [
    "# Load the moving and fixed images\n",
    "moving_image = np.load(moving_file)\n",
    "fixed_image = np.load(fixed_file)\n",
    "\n",
    "# Create a figure with 3 subplots\n",
    "fig, axs = plt.subplots(1, 3, figsize=(15, 5))\n",
    "\n",
    "# Plot the moving image\n",
    "axs[0].imshow(moving_image, cmap='gray')\n",
    "axs[0].axis('off')\n",
    "axs[0].set_title('Moving Image')\n",
    "\n",
    "# Plot the fixed image\n",
    "axs[1].imshow(fixed_image, cmap='gray')\n",
    "axs[1].axis('off')\n",
    "axs[1].set_title('Fixed Image')\n",
    "\n",
    "# Plot the registered image\n",
    "axs[2].imshow(moved_img, cmap='gray')\n",
    "axs[2].axis('off')\n",
    "axs[2].set_title('Registered Image')\n",
    "\n",
    "# Display the plot\n",
    "plt.show()"
   ]
  },
  {
   "cell_type": "code",
   "execution_count": 146,
   "metadata": {},
   "outputs": [
    {
     "data": {
      "image/png": "[encoded data removed]",
      "text/plain": [
       "<Figure size 640x480 with 3 Axes>"
      ]
     },
     "metadata": {},
     "output_type": "display_data"
    }
   ],
   "source": [
    "images,yimage=next(generator)\n",
    "img1=images[0][0].squeeze()\n",
    "img2=images[1][0].squeeze()\n",
    "img3=yimage[0].squeeze()\n",
    "img1.shape,img2.shape,img3.shape    \n",
    "# Plot the first image\n",
    "plt.subplot(1, 3, 1)\n",
    "plt.imshow(img1, cmap='gray')\n",
    "plt.axis('off')\n",
    "plt.title('Image 1')\n",
    "\n",
    "# Plot the second image\n",
    "plt.subplot(1, 3, 2)\n",
    "plt.imshow(img2, cmap='gray')\n",
    "plt.axis('off')\n",
    "plt.title('Image 2')\n",
    "\n",
    "# Plot the third image\n",
    "plt.subplot(1, 3, 3)\n",
    "plt.imshow(img3, cmap='gray')\n",
    "plt.axis('off')\n",
    "plt.title('Image 3')\n",
    "\n",
    "# Display the plot\n",
    "plt.show()\n"
   ]
  },
  {
   "cell_type": "code",
   "execution_count": 127,
   "metadata": {},
   "outputs": [
    {
     "data": {
      "text/plain": [
       "(2, 1, 512, 512, 1)"
      ]
     },
     "execution_count": 127,
     "metadata": {},
     "output_type": "execute_result"
    }
   ],
   "source": [
    "list_item=np.asarray(images).shape\n",
    "list_item"
   ]
  },
  {
   "cell_type": "code",
   "execution_count": 147,
   "metadata": {},
   "outputs": [],
   "source": [
    "test_generator=vxm.generators.scan_to_scan(val_files,batch_size=10)"
   ]
  },
  {
   "cell_type": "code",
   "execution_count": 152,
   "metadata": {},
   "outputs": [
    {
     "data": {
      "text/plain": [
       "(2, (10, 512, 512, 1), (10, 512, 512, 1))"
      ]
     },
     "execution_count": 152,
     "metadata": {},
     "output_type": "execute_result"
    }
   ],
   "source": [
    "new_list_item=next(test_generator)\n",
    "len(new_list_item),new_list_item[0][0].shape,new_list_item[1][0].shape"
   ]
  },
  {
   "cell_type": "code",
   "execution_count": 158,
   "metadata": {},
   "outputs": [
    {
     "data": {
      "text/plain": [
       "(512, 512, 1)"
      ]
     },
     "execution_count": 158,
     "metadata": {},
     "output_type": "execute_result"
    }
   ],
   "source": [
    "new_list_item[0][0][4].shape"
   ]
  },
  {
   "cell_type": "code",
   "execution_count": 159,
   "metadata": {},
   "outputs": [],
   "source": [
    "#The input to the model is a list of two images of shape (batch_size, height, width, 1).\n",
    "#The output of the model is a list of two images of shape (batch_size, height, width, 1) and a transformation field of shape (batch_size, height, width, 2).\n",
    "#So we have to concatenate the two images into a single tensor of shape (batch_size, 2, height, width, 1) and then pass it to the model.\n",
    "#So it will be for each batch, we will have 2 images as the input."
   ]
  },
  {
   "cell_type": "code",
   "execution_count": 164,
   "metadata": {},
   "outputs": [],
   "source": [
    "inputs, y_true = next(generator)\n",
    "inputs = [torch.from_numpy(d).to('cuda').float().permute(0,3,1,2) for d in inputs]\n",
    "y_true = [torch.from_numpy(d).to('cuda').float().permute(0,3,1,2) for d in y_true]"
   ]
  },
  {
   "cell_type": "code",
   "execution_count": 167,
   "metadata": {},
   "outputs": [
    {
     "data": {
      "text/plain": [
       "torch.Size([1, 1, 512, 512])"
      ]
     },
     "execution_count": 167,
     "metadata": {},
     "output_type": "execute_result"
    }
   ],
   "source": [
    "inputs[1].shape"
   ]
  },
  {
   "cell_type": "code",
   "execution_count": 169,
   "metadata": {},
   "outputs": [
    {
     "data": {
      "text/plain": [
       "torch.Size([1, 1, 512, 512])"
      ]
     },
     "execution_count": 169,
     "metadata": {},
     "output_type": "execute_result"
    }
   ],
   "source": [
    "y_true[0].shape"
   ]
  },
  {
   "cell_type": "code",
   "execution_count": 170,
   "metadata": {},
   "outputs": [
    {
     "data": {
      "text/plain": [
       "(2, torch.Size([1, 1, 512, 512]), torch.Size([1, 1, 512, 512]))"
      ]
     },
     "execution_count": 170,
     "metadata": {},
     "output_type": "execute_result"
    }
   ],
   "source": [
    "len(inputs),inputs[0].shape,inputs[1].shape"
   ]
  },
  {
   "cell_type": "code",
   "execution_count": 171,
   "metadata": {},
   "outputs": [
    {
     "data": {
      "text/plain": [
       "(1, torch.Size([1, 1, 512, 512]))"
      ]
     },
     "execution_count": 171,
     "metadata": {},
     "output_type": "execute_result"
    }
   ],
   "source": [
    "len(y_true),y_true[0].shape"
   ]
  },
  {
   "cell_type": "code",
   "execution_count": null,
   "metadata": {},
   "outputs": [],
   "source": []
  }
 ],
 "metadata": {
  "kernelspec": {
   "display_name": "dapi_reg",
   "language": "python",
   "name": "python3"
  },
  "language_info": {
   "codemirror_mode": {
    "name": "ipython",
    "version": 3
   },
   "file_extension": ".py",
   "mimetype": "text/x-python",
   "name": "python",
   "nbconvert_exporter": "python",
   "pygments_lexer": "ipython3",
   "version": "3.12.1"
  }
 },
 "nbformat": 4,
 "nbformat_minor": 2
}
