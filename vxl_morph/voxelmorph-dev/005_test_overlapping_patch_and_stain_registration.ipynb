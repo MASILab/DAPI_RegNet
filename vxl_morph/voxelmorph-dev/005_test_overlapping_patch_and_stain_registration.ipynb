{
 "cells": [
  {
   "cell_type": "code",
   "execution_count": 1,
   "metadata": {},
   "outputs": [],
   "source": [
    "import torch\n",
    "import os\n",
    "os.environ['NEURITE_BACKEND'] = 'pytorch'\n",
    "os.environ['VXM_BACKEND'] = 'pytorch'\n",
    "import voxelmorph as vxm\n",
    "import matplotlib.pyplot as plt\n",
    "import glob\n",
    "import re\n",
    "import csv\n",
    "from tifffile import imwrite\n",
    "import numpy as np\n",
    "from PIL import Image\n",
    "import fnmatch\n",
    "from collections import defaultdict\n",
    "import shutil\n",
    "\n",
    "from my_utils_v2 import Utils_v2"
   ]
  },
  {
   "cell_type": "markdown",
   "metadata": {},
   "source": [
    "Original Tissue Path"
   ]
  },
  {
   "cell_type": "code",
   "execution_count": 3,
   "metadata": {},
   "outputs": [],
   "source": [
    "tissue_path='/fs5/p_masi/baos1/rudravg/MXIF/MXIF/Helmsley/MxIF/Set02/GCA033TIB/Registered'\n",
    "tissue_name='GCA033TIB_TISSUE01'\n",
    "mask_path=f'/fs5/p_masi/baos1/rudravg/MXIF/MXIF/Helmsley/MxIF/Set02/GCA033TIB/Registered/{tissue_name}_RetentionMask.tif'\n",
    "output_path='/fs5/p_masi/rudravg/MxIF_Vxm_Registered'"
   ]
  },
  {
   "cell_type": "code",
   "execution_count": 4,
   "metadata": {},
   "outputs": [
    {
     "data": {
      "text/plain": [
       "'/fs5/p_masi/baos1/rudravg/MXIF/MXIF/Helmsley/MxIF/Set02/GCA033TIB/Registered/GCA033TIB_TISSUE01_RetentionMask.tif'"
      ]
     },
     "execution_count": 4,
     "metadata": {},
     "output_type": "execute_result"
    }
   ],
   "source": [
    "mask_path"
   ]
  },
  {
   "cell_type": "markdown",
   "metadata": {},
   "source": [
    "Getting all Tissues"
   ]
  },
  {
   "cell_type": "code",
   "execution_count": 5,
   "metadata": {},
   "outputs": [
    {
     "name": "stdout",
     "output_type": "stream",
     "text": [
      "78\n"
     ]
    }
   ],
   "source": [
    "all_tissues=[]\n",
    "for file in os.listdir(tissue_path):\n",
    "    if fnmatch.fnmatch(file, f'{tissue_name}_*'):\n",
    "        all_tissues.append(os.path.join(tissue_path, file))\n",
    "print(len(all_tissues))"
   ]
  },
  {
   "cell_type": "markdown",
   "metadata": {},
   "source": [
    "Putting each DAPI and it's corresponding stains into an array"
   ]
  },
  {
   "cell_type": "code",
   "execution_count": 6,
   "metadata": {},
   "outputs": [
    {
     "name": "stdout",
     "output_type": "stream",
     "text": [
      "77\n"
     ]
    }
   ],
   "source": [
    "filtered_tissues = list(filter(lambda x: 'RetentionMask' not in x, all_tissues))\n",
    "print(len(filtered_tissues))\n",
    "# Group the strings by round number\n",
    "tissues_by_round = defaultdict(list)\n",
    "for tissue in filtered_tissues:\n",
    "    round_number = int(re.search('ROUND_(\\\\d+)', tissue).group(1))\n",
    "    tissues_by_round[round_number].append(tissue)\n",
    "\n",
    "# Sort the dictionary items by key (round number)\n",
    "sorted_items = sorted(tissues_by_round.items())\n",
    "\n",
    "# Sort each group so that the string containing \"DAPI_DAPI\" comes first, and convert the sorted dictionary items to a list\n",
    "grouped_tissues = [sorted(group, key=lambda x: f'{tissue_name}_DAPI' not in x) for _, group in sorted_items]\n"
   ]
  },
  {
   "cell_type": "code",
   "execution_count": 7,
   "metadata": {},
   "outputs": [
    {
     "data": {
      "text/plain": [
       "77"
      ]
     },
     "execution_count": 7,
     "metadata": {},
     "output_type": "execute_result"
    }
   ],
   "source": [
    "sum=0\n",
    "for group in grouped_tissues:\n",
    "    sum+=len(group)\n",
    "sum"
   ]
  },
  {
   "cell_type": "code",
   "execution_count": 8,
   "metadata": {},
   "outputs": [
    {
     "data": {
      "text/plain": [
       "[['/fs5/p_masi/baos1/rudravg/MXIF/MXIF/Helmsley/MxIF/Set02/GCA033TIB/Registered/GCA033TIB_TISSUE01_DAPI_DAPI_12ms_ROUND_00.tif',\n",
       "  '/fs5/p_masi/baos1/rudravg/MXIF/MXIF/Helmsley/MxIF/Set02/GCA033TIB/Registered/GCA033TIB_TISSUE01_WGA_CY5_75ms_ROUND_00.tif',\n",
       "  '/fs5/p_masi/baos1/rudravg/MXIF/MXIF/Helmsley/MxIF/Set02/GCA033TIB/Registered/GCA033TIB_TISSUE01_AF_CY2_75ms_ROUND_00.tif',\n",
       "  '/fs5/p_masi/baos1/rudravg/MXIF/MXIF/Helmsley/MxIF/Set02/GCA033TIB/Registered/GCA033TIB_TISSUE01_SNA_CY3_50ms_ROUND_00.tif'],\n",
       " ['/fs5/p_masi/baos1/rudravg/MXIF/MXIF/Helmsley/MxIF/Set02/GCA033TIB/Registered/GCA033TIB_TISSUE01_DAPI_DAPI_12ms_ROUND_01.tif',\n",
       "  '/fs5/p_masi/baos1/rudravg/MXIF/MXIF/Helmsley/MxIF/Set02/GCA033TIB/Registered/GCA033TIB_TISSUE01_Background_CY2_75ms_ROUND_01.tif',\n",
       "  '/fs5/p_masi/baos1/rudravg/MXIF/MXIF/Helmsley/MxIF/Set02/GCA033TIB/Registered/GCA033TIB_TISSUE01_Background_CY3_50ms_ROUND_01.tif',\n",
       "  '/fs5/p_masi/baos1/rudravg/MXIF/MXIF/Helmsley/MxIF/Set02/GCA033TIB/Registered/GCA033TIB_TISSUE01_Background_CY5_75ms_ROUND_01.tif',\n",
       "  '/fs5/p_masi/baos1/rudravg/MXIF/MXIF/Helmsley/MxIF/Set02/GCA033TIB/Registered/GCA033TIB_TISSUE01_Background_CY2_0ms_ROUND_01.tif'],\n",
       " ['/fs5/p_masi/baos1/rudravg/MXIF/MXIF/Helmsley/MxIF/Set02/GCA033TIB/Registered/GCA033TIB_TISSUE01_DAPI_DAPI_12ms_ROUND_02.tif',\n",
       "  '/fs5/p_masi/baos1/rudravg/MXIF/MXIF/Helmsley/MxIF/Set02/GCA033TIB/Registered/GCA033TIB_TISSUE01_CD45_CY5_1000ms_ROUND_02.tif',\n",
       "  '/fs5/p_masi/baos1/rudravg/MXIF/MXIF/Helmsley/MxIF/Set02/GCA033TIB/Registered/GCA033TIB_TISSUE01_Muc2_CY2_75ms_ROUND_02.tif',\n",
       "  '/fs5/p_masi/baos1/rudravg/MXIF/MXIF/Helmsley/MxIF/Set02/GCA033TIB/Registered/GCA033TIB_TISSUE01_ACTG1_CY3_100ms_ROUND_02.tif'],\n",
       " ['/fs5/p_masi/baos1/rudravg/MXIF/MXIF/Helmsley/MxIF/Set02/GCA033TIB/Registered/GCA033TIB_TISSUE01_DAPI_DAPI_12ms_ROUND_03.tif',\n",
       "  '/fs5/p_masi/baos1/rudravg/MXIF/MXIF/Helmsley/MxIF/Set02/GCA033TIB/Registered/GCA033TIB_TISSUE01_Background_CY5_1000ms_ROUND_03.tif',\n",
       "  '/fs5/p_masi/baos1/rudravg/MXIF/MXIF/Helmsley/MxIF/Set02/GCA033TIB/Registered/GCA033TIB_TISSUE01_Background_CY2_75ms_ROUND_03.tif',\n",
       "  '/fs5/p_masi/baos1/rudravg/MXIF/MXIF/Helmsley/MxIF/Set02/GCA033TIB/Registered/GCA033TIB_TISSUE01_Background_CY3_100ms_ROUND_03.tif'],\n",
       " ['/fs5/p_masi/baos1/rudravg/MXIF/MXIF/Helmsley/MxIF/Set02/GCA033TIB/Registered/GCA033TIB_TISSUE01_DAPI_DAPI_12ms_ROUND_04.tif',\n",
       "  '/fs5/p_masi/baos1/rudravg/MXIF/MXIF/Helmsley/MxIF/Set02/GCA033TIB/Registered/GCA033TIB_TISSUE01_CD11B_CY2_500ms_ROUND_04.tif',\n",
       "  '/fs5/p_masi/baos1/rudravg/MXIF/MXIF/Helmsley/MxIF/Set02/GCA033TIB/Registered/GCA033TIB_TISSUE01_CD20_CY5_500ms_ROUND_04.tif',\n",
       "  '/fs5/p_masi/baos1/rudravg/MXIF/MXIF/Helmsley/MxIF/Set02/GCA033TIB/Registered/GCA033TIB_TISSUE01_Collagen_CY3_100ms_ROUND_04.tif'],\n",
       " ['/fs5/p_masi/baos1/rudravg/MXIF/MXIF/Helmsley/MxIF/Set02/GCA033TIB/Registered/GCA033TIB_TISSUE01_DAPI_DAPI_12ms_ROUND_05.tif',\n",
       "  '/fs5/p_masi/baos1/rudravg/MXIF/MXIF/Helmsley/MxIF/Set02/GCA033TIB/Registered/GCA033TIB_TISSUE01_Background_CY2_500ms_ROUND_05.tif',\n",
       "  '/fs5/p_masi/baos1/rudravg/MXIF/MXIF/Helmsley/MxIF/Set02/GCA033TIB/Registered/GCA033TIB_TISSUE01_Background_CY5_500ms_ROUND_05.tif',\n",
       "  '/fs5/p_masi/baos1/rudravg/MXIF/MXIF/Helmsley/MxIF/Set02/GCA033TIB/Registered/GCA033TIB_TISSUE01_Background_CY3_100ms_ROUND_05.tif'],\n",
       " ['/fs5/p_masi/baos1/rudravg/MXIF/MXIF/Helmsley/MxIF/Set02/GCA033TIB/Registered/GCA033TIB_TISSUE01_DAPI_DAPI_12ms_ROUND_06.tif',\n",
       "  '/fs5/p_masi/baos1/rudravg/MXIF/MXIF/Helmsley/MxIF/Set02/GCA033TIB/Registered/GCA033TIB_TISSUE01_BCATENIN_CY3_50ms_ROUND_06.tif',\n",
       "  '/fs5/p_masi/baos1/rudravg/MXIF/MXIF/Helmsley/MxIF/Set02/GCA033TIB/Registered/GCA033TIB_TISSUE01_PCNA_CY2_175ms_ROUND_06.tif',\n",
       "  '/fs5/p_masi/baos1/rudravg/MXIF/MXIF/Helmsley/MxIF/Set02/GCA033TIB/Registered/GCA033TIB_TISSUE01_pSTAT3_CY5_500ms_ROUND_06.tif'],\n",
       " ['/fs5/p_masi/baos1/rudravg/MXIF/MXIF/Helmsley/MxIF/Set02/GCA033TIB/Registered/GCA033TIB_TISSUE01_DAPI_DAPI_12ms_ROUND_07.tif',\n",
       "  '/fs5/p_masi/baos1/rudravg/MXIF/MXIF/Helmsley/MxIF/Set02/GCA033TIB/Registered/GCA033TIB_TISSUE01_Background_CY3_50ms_ROUND_07.tif',\n",
       "  '/fs5/p_masi/baos1/rudravg/MXIF/MXIF/Helmsley/MxIF/Set02/GCA033TIB/Registered/GCA033TIB_TISSUE01_Background_CY2_175ms_ROUND_07.tif',\n",
       "  '/fs5/p_masi/baos1/rudravg/MXIF/MXIF/Helmsley/MxIF/Set02/GCA033TIB/Registered/GCA033TIB_TISSUE01_Background_CY5_500ms_ROUND_07.tif'],\n",
       " ['/fs5/p_masi/baos1/rudravg/MXIF/MXIF/Helmsley/MxIF/Set02/GCA033TIB/Registered/GCA033TIB_TISSUE01_DAPI_DAPI_12ms_ROUND_08.tif',\n",
       "  '/fs5/p_masi/baos1/rudravg/MXIF/MXIF/Helmsley/MxIF/Set02/GCA033TIB/Registered/GCA033TIB_TISSUE01_pEGFR_CY2_175ms_ROUND_08.tif',\n",
       "  '/fs5/p_masi/baos1/rudravg/MXIF/MXIF/Helmsley/MxIF/Set02/GCA033TIB/Registered/GCA033TIB_TISSUE01_CD4_CY5_500ms_ROUND_08.tif',\n",
       "  '/fs5/p_masi/baos1/rudravg/MXIF/MXIF/Helmsley/MxIF/Set02/GCA033TIB/Registered/GCA033TIB_TISSUE01_CgA_CY3_150ms_ROUND_08.tif'],\n",
       " ['/fs5/p_masi/baos1/rudravg/MXIF/MXIF/Helmsley/MxIF/Set02/GCA033TIB/Registered/GCA033TIB_TISSUE01_DAPI_DAPI_12ms_ROUND_09.tif',\n",
       "  '/fs5/p_masi/baos1/rudravg/MXIF/MXIF/Helmsley/MxIF/Set02/GCA033TIB/Registered/GCA033TIB_TISSUE01_Background_CY2_175ms_ROUND_09.tif',\n",
       "  '/fs5/p_masi/baos1/rudravg/MXIF/MXIF/Helmsley/MxIF/Set02/GCA033TIB/Registered/GCA033TIB_TISSUE01_Background_CY3_150ms_ROUND_09.tif',\n",
       "  '/fs5/p_masi/baos1/rudravg/MXIF/MXIF/Helmsley/MxIF/Set02/GCA033TIB/Registered/GCA033TIB_TISSUE01_Background_CY5_500ms_ROUND_09.tif'],\n",
       " ['/fs5/p_masi/baos1/rudravg/MXIF/MXIF/Helmsley/MxIF/Set02/GCA033TIB/Registered/GCA033TIB_TISSUE01_DAPI_DAPI_12ms_ROUND_10.tif',\n",
       "  '/fs5/p_masi/baos1/rudravg/MXIF/MXIF/Helmsley/MxIF/Set02/GCA033TIB/Registered/GCA033TIB_TISSUE01_CD3d_CY3_150ms_ROUND_10.tif',\n",
       "  '/fs5/p_masi/baos1/rudravg/MXIF/MXIF/Helmsley/MxIF/Set02/GCA033TIB/Registered/GCA033TIB_TISSUE01_HLAA_CY5_200ms_ROUND_10.tif',\n",
       "  '/fs5/p_masi/baos1/rudravg/MXIF/MXIF/Helmsley/MxIF/Set02/GCA033TIB/Registered/GCA033TIB_TISSUE01_Cox2_CY2_500ms_ROUND_10.tif'],\n",
       " ['/fs5/p_masi/baos1/rudravg/MXIF/MXIF/Helmsley/MxIF/Set02/GCA033TIB/Registered/GCA033TIB_TISSUE01_DAPI_DAPI_12ms_ROUND_11.tif',\n",
       "  '/fs5/p_masi/baos1/rudravg/MXIF/MXIF/Helmsley/MxIF/Set02/GCA033TIB/Registered/GCA033TIB_TISSUE01_Background_CY2_500ms_ROUND_11.tif',\n",
       "  '/fs5/p_masi/baos1/rudravg/MXIF/MXIF/Helmsley/MxIF/Set02/GCA033TIB/Registered/GCA033TIB_TISSUE01_Background_CY3_150ms_ROUND_11.tif',\n",
       "  '/fs5/p_masi/baos1/rudravg/MXIF/MXIF/Helmsley/MxIF/Set02/GCA033TIB/Registered/GCA033TIB_TISSUE01_Background_CY5_200ms_ROUND_11.tif'],\n",
       " ['/fs5/p_masi/baos1/rudravg/MXIF/MXIF/Helmsley/MxIF/Set02/GCA033TIB/Registered/GCA033TIB_TISSUE01_DAPI_DAPI_12ms_ROUND_12.tif',\n",
       "  '/fs5/p_masi/baos1/rudravg/MXIF/MXIF/Helmsley/MxIF/Set02/GCA033TIB/Registered/GCA033TIB_TISSUE01_OLFM4_CY3_50ms_ROUND_12.tif',\n",
       "  '/fs5/p_masi/baos1/rudravg/MXIF/MXIF/Helmsley/MxIF/Set02/GCA033TIB/Registered/GCA033TIB_TISSUE01_PanCK_CY2_100ms_ROUND_12.tif',\n",
       "  '/fs5/p_masi/baos1/rudravg/MXIF/MXIF/Helmsley/MxIF/Set02/GCA033TIB/Registered/GCA033TIB_TISSUE01_CD8_CY5_500ms_ROUND_12.tif'],\n",
       " ['/fs5/p_masi/baos1/rudravg/MXIF/MXIF/Helmsley/MxIF/Set02/GCA033TIB/Registered/GCA033TIB_TISSUE01_DAPI_DAPI_12ms_ROUND_13.tif',\n",
       "  '/fs5/p_masi/baos1/rudravg/MXIF/MXIF/Helmsley/MxIF/Set02/GCA033TIB/Registered/GCA033TIB_TISSUE01_Background_CY5_500ms_ROUND_13.tif',\n",
       "  '/fs5/p_masi/baos1/rudravg/MXIF/MXIF/Helmsley/MxIF/Set02/GCA033TIB/Registered/GCA033TIB_TISSUE01_Background_CY2_100ms_ROUND_13.tif',\n",
       "  '/fs5/p_masi/baos1/rudravg/MXIF/MXIF/Helmsley/MxIF/Set02/GCA033TIB/Registered/GCA033TIB_TISSUE01_Background_CY3_50ms_ROUND_13.tif'],\n",
       " ['/fs5/p_masi/baos1/rudravg/MXIF/MXIF/Helmsley/MxIF/Set02/GCA033TIB/Registered/GCA033TIB_TISSUE01_DAPI_DAPI_12ms_ROUND_14.tif',\n",
       "  '/fs5/p_masi/baos1/rudravg/MXIF/MXIF/Helmsley/MxIF/Set02/GCA033TIB/Registered/GCA033TIB_TISSUE01_CD68_CY3_100ms_ROUND_14.tif',\n",
       "  '/fs5/p_masi/baos1/rudravg/MXIF/MXIF/Helmsley/MxIF/Set02/GCA033TIB/Registered/GCA033TIB_TISSUE01_NaKATPase_CY5_100ms_ROUND_14.tif',\n",
       "  '/fs5/p_masi/baos1/rudravg/MXIF/MXIF/Helmsley/MxIF/Set02/GCA033TIB/Registered/GCA033TIB_TISSUE01_ACTININ_CY2_350ms_ROUND_14.tif'],\n",
       " ['/fs5/p_masi/baos1/rudravg/MXIF/MXIF/Helmsley/MxIF/Set02/GCA033TIB/Registered/GCA033TIB_TISSUE01_DAPI_DAPI_12ms_ROUND_15.tif',\n",
       "  '/fs5/p_masi/baos1/rudravg/MXIF/MXIF/Helmsley/MxIF/Set02/GCA033TIB/Registered/GCA033TIB_TISSUE01_Background_CY5_100ms_ROUND_15.tif',\n",
       "  '/fs5/p_masi/baos1/rudravg/MXIF/MXIF/Helmsley/MxIF/Set02/GCA033TIB/Registered/GCA033TIB_TISSUE01_Background_CY2_350ms_ROUND_15.tif',\n",
       "  '/fs5/p_masi/baos1/rudravg/MXIF/MXIF/Helmsley/MxIF/Set02/GCA033TIB/Registered/GCA033TIB_TISSUE01_Background_CY3_100ms_ROUND_15.tif'],\n",
       " ['/fs5/p_masi/baos1/rudravg/MXIF/MXIF/Helmsley/MxIF/Set02/GCA033TIB/Registered/GCA033TIB_TISSUE01_DAPI_DAPI_12ms_ROUND_16.tif',\n",
       "  '/fs5/p_masi/baos1/rudravg/MXIF/MXIF/Helmsley/MxIF/Set02/GCA033TIB/Registered/GCA033TIB_TISSUE01_Vimentin_CY2_75ms_ROUND_16.tif',\n",
       "  '/fs5/p_masi/baos1/rudravg/MXIF/MXIF/Helmsley/MxIF/Set02/GCA033TIB/Registered/GCA033TIB_TISSUE01_FOXP3_CY5_500ms_ROUND_16.tif',\n",
       "  '/fs5/p_masi/baos1/rudravg/MXIF/MXIF/Helmsley/MxIF/Set02/GCA033TIB/Registered/GCA033TIB_TISSUE01_Sox9_CY3_150ms_ROUND_16.tif'],\n",
       " ['/fs5/p_masi/baos1/rudravg/MXIF/MXIF/Helmsley/MxIF/Set02/GCA033TIB/Registered/GCA033TIB_TISSUE01_DAPI_DAPI_12ms_ROUND_17.tif',\n",
       "  '/fs5/p_masi/baos1/rudravg/MXIF/MXIF/Helmsley/MxIF/Set02/GCA033TIB/Registered/GCA033TIB_TISSUE01_Background_CY2_75ms_ROUND_17.tif',\n",
       "  '/fs5/p_masi/baos1/rudravg/MXIF/MXIF/Helmsley/MxIF/Set02/GCA033TIB/Registered/GCA033TIB_TISSUE01_Background_CY5_500ms_ROUND_17.tif',\n",
       "  '/fs5/p_masi/baos1/rudravg/MXIF/MXIF/Helmsley/MxIF/Set02/GCA033TIB/Registered/GCA033TIB_TISSUE01_Background_CY3_150ms_ROUND_17.tif'],\n",
       " ['/fs5/p_masi/baos1/rudravg/MXIF/MXIF/Helmsley/MxIF/Set02/GCA033TIB/Registered/GCA033TIB_TISSUE01_DAPI_DAPI_12ms_ROUND_18.tif',\n",
       "  '/fs5/p_masi/baos1/rudravg/MXIF/MXIF/Helmsley/MxIF/Set02/GCA033TIB/Registered/GCA033TIB_TISSUE01_Lysozyme_CY2_200ms_ROUND_18.tif',\n",
       "  '/fs5/p_masi/baos1/rudravg/MXIF/MXIF/Helmsley/MxIF/Set02/GCA033TIB/Registered/GCA033TIB_TISSUE01_SMA_CY3_12ms_ROUND_18.tif',\n",
       "  '/fs5/p_masi/baos1/rudravg/MXIF/MXIF/Helmsley/MxIF/Set02/GCA033TIB/Registered/GCA033TIB_TISSUE01_ERBB2_CY5_1000ms_ROUND_18.tif']]"
      ]
     },
     "execution_count": 8,
     "metadata": {},
     "output_type": "execute_result"
    }
   ],
   "source": [
    "grouped_tissues"
   ]
  },
  {
   "cell_type": "markdown",
   "metadata": {},
   "source": [
    "Declaring the Round 0 DAPI and Registering the DAPI's and stains together"
   ]
  },
  {
   "cell_type": "code",
   "execution_count": 9,
   "metadata": {},
   "outputs": [],
   "source": [
    "round0_dapi = grouped_tissues[0][0]\n",
    "round0_dapi,height,width = Utils_v2.load_tissues_for_overlap(round0_dapi,mask_path)"
   ]
  },
  {
   "cell_type": "code",
   "execution_count": 10,
   "metadata": {},
   "outputs": [
    {
     "name": "stderr",
     "output_type": "stream",
     "text": [
      "/home/local/VANDERBILT/rudravg/miniconda3/envs/dapi_reg/lib/python3.12/site-packages/torch/functional.py:507: UserWarning: torch.meshgrid: in an upcoming release, it will be required to pass the indexing argument. (Triggered internally at ../aten/src/ATen/native/TensorShape.cpp:3549.)\n",
      "  return _VF.meshgrid(tensors, **kwargs)  # type: ignore[attr-defined]\n"
     ]
    }
   ],
   "source": [
    "model_path='/home-local/rudravg/test_DAPI/1024_Dataset_V2/trial2_epochs/epoch_113/epoch_113.pth'\n",
    "model,device=Utils_v2.load_model(model_path) #Write this code"
   ]
  },
  {
   "cell_type": "markdown",
   "metadata": {},
   "source": [
    "Copy the paths related to Round0, since we are not applying any transformations on them"
   ]
  },
  {
   "cell_type": "code",
   "execution_count": 11,
   "metadata": {},
   "outputs": [],
   "source": [
    "new_dir = os.path.join(output_path, tissue_name)\n",
    "os.makedirs(new_dir, exist_ok=True)\n",
    "\n",
    "for file_path in grouped_tissues[0]:\n",
    "    file,height,width=Utils_v2.load_tissues_for_overlap(file_path,mask_path)\n",
    "    file=file*255.\n",
    "    file = file[:height, :width]\n",
    "    Image.fromarray(np.uint8(file)).save(os.path.join(new_dir, os.path.basename(file_path)))"
   ]
  },
  {
   "cell_type": "code",
   "execution_count": 12,
   "metadata": {},
   "outputs": [
    {
     "name": "stdout",
     "output_type": "stream",
     "text": [
      "/fs5/p_masi/rudravg/MxIF_Vxm_Registered/GCA033TIB_TISSUE01\n"
     ]
    }
   ],
   "source": [
    "print(new_dir)"
   ]
  },
  {
   "cell_type": "code",
   "execution_count": 13,
   "metadata": {},
   "outputs": [
    {
     "name": "stdout",
     "output_type": "stream",
     "text": [
      "['/fs5/p_masi/baos1/rudravg/MXIF/MXIF/Helmsley/MxIF/Set02/GCA033TIB/Registered/GCA033TIB_TISSUE01_DAPI_DAPI_12ms_ROUND_00.tif', '/fs5/p_masi/baos1/rudravg/MXIF/MXIF/Helmsley/MxIF/Set02/GCA033TIB/Registered/GCA033TIB_TISSUE01_WGA_CY5_75ms_ROUND_00.tif', '/fs5/p_masi/baos1/rudravg/MXIF/MXIF/Helmsley/MxIF/Set02/GCA033TIB/Registered/GCA033TIB_TISSUE01_AF_CY2_75ms_ROUND_00.tif', '/fs5/p_masi/baos1/rudravg/MXIF/MXIF/Helmsley/MxIF/Set02/GCA033TIB/Registered/GCA033TIB_TISSUE01_SNA_CY3_50ms_ROUND_00.tif']\n",
      "['/fs5/p_masi/baos1/rudravg/MXIF/MXIF/Helmsley/MxIF/Set02/GCA033TIB/Registered/GCA033TIB_TISSUE01_DAPI_DAPI_12ms_ROUND_01.tif', '/fs5/p_masi/baos1/rudravg/MXIF/MXIF/Helmsley/MxIF/Set02/GCA033TIB/Registered/GCA033TIB_TISSUE01_Background_CY2_75ms_ROUND_01.tif', '/fs5/p_masi/baos1/rudravg/MXIF/MXIF/Helmsley/MxIF/Set02/GCA033TIB/Registered/GCA033TIB_TISSUE01_Background_CY3_50ms_ROUND_01.tif', '/fs5/p_masi/baos1/rudravg/MXIF/MXIF/Helmsley/MxIF/Set02/GCA033TIB/Registered/GCA033TIB_TISSUE01_Background_CY5_75ms_ROUND_01.tif', '/fs5/p_masi/baos1/rudravg/MXIF/MXIF/Helmsley/MxIF/Set02/GCA033TIB/Registered/GCA033TIB_TISSUE01_Background_CY2_0ms_ROUND_01.tif']\n",
      "['/fs5/p_masi/baos1/rudravg/MXIF/MXIF/Helmsley/MxIF/Set02/GCA033TIB/Registered/GCA033TIB_TISSUE01_DAPI_DAPI_12ms_ROUND_02.tif', '/fs5/p_masi/baos1/rudravg/MXIF/MXIF/Helmsley/MxIF/Set02/GCA033TIB/Registered/GCA033TIB_TISSUE01_CD45_CY5_1000ms_ROUND_02.tif', '/fs5/p_masi/baos1/rudravg/MXIF/MXIF/Helmsley/MxIF/Set02/GCA033TIB/Registered/GCA033TIB_TISSUE01_Muc2_CY2_75ms_ROUND_02.tif', '/fs5/p_masi/baos1/rudravg/MXIF/MXIF/Helmsley/MxIF/Set02/GCA033TIB/Registered/GCA033TIB_TISSUE01_ACTG1_CY3_100ms_ROUND_02.tif']\n",
      "['/fs5/p_masi/baos1/rudravg/MXIF/MXIF/Helmsley/MxIF/Set02/GCA033TIB/Registered/GCA033TIB_TISSUE01_DAPI_DAPI_12ms_ROUND_03.tif', '/fs5/p_masi/baos1/rudravg/MXIF/MXIF/Helmsley/MxIF/Set02/GCA033TIB/Registered/GCA033TIB_TISSUE01_Background_CY5_1000ms_ROUND_03.tif', '/fs5/p_masi/baos1/rudravg/MXIF/MXIF/Helmsley/MxIF/Set02/GCA033TIB/Registered/GCA033TIB_TISSUE01_Background_CY2_75ms_ROUND_03.tif', '/fs5/p_masi/baos1/rudravg/MXIF/MXIF/Helmsley/MxIF/Set02/GCA033TIB/Registered/GCA033TIB_TISSUE01_Background_CY3_100ms_ROUND_03.tif']\n",
      "['/fs5/p_masi/baos1/rudravg/MXIF/MXIF/Helmsley/MxIF/Set02/GCA033TIB/Registered/GCA033TIB_TISSUE01_DAPI_DAPI_12ms_ROUND_04.tif', '/fs5/p_masi/baos1/rudravg/MXIF/MXIF/Helmsley/MxIF/Set02/GCA033TIB/Registered/GCA033TIB_TISSUE01_CD11B_CY2_500ms_ROUND_04.tif', '/fs5/p_masi/baos1/rudravg/MXIF/MXIF/Helmsley/MxIF/Set02/GCA033TIB/Registered/GCA033TIB_TISSUE01_CD20_CY5_500ms_ROUND_04.tif', '/fs5/p_masi/baos1/rudravg/MXIF/MXIF/Helmsley/MxIF/Set02/GCA033TIB/Registered/GCA033TIB_TISSUE01_Collagen_CY3_100ms_ROUND_04.tif']\n",
      "['/fs5/p_masi/baos1/rudravg/MXIF/MXIF/Helmsley/MxIF/Set02/GCA033TIB/Registered/GCA033TIB_TISSUE01_DAPI_DAPI_12ms_ROUND_05.tif', '/fs5/p_masi/baos1/rudravg/MXIF/MXIF/Helmsley/MxIF/Set02/GCA033TIB/Registered/GCA033TIB_TISSUE01_Background_CY2_500ms_ROUND_05.tif', '/fs5/p_masi/baos1/rudravg/MXIF/MXIF/Helmsley/MxIF/Set02/GCA033TIB/Registered/GCA033TIB_TISSUE01_Background_CY5_500ms_ROUND_05.tif', '/fs5/p_masi/baos1/rudravg/MXIF/MXIF/Helmsley/MxIF/Set02/GCA033TIB/Registered/GCA033TIB_TISSUE01_Background_CY3_100ms_ROUND_05.tif']\n",
      "['/fs5/p_masi/baos1/rudravg/MXIF/MXIF/Helmsley/MxIF/Set02/GCA033TIB/Registered/GCA033TIB_TISSUE01_DAPI_DAPI_12ms_ROUND_06.tif', '/fs5/p_masi/baos1/rudravg/MXIF/MXIF/Helmsley/MxIF/Set02/GCA033TIB/Registered/GCA033TIB_TISSUE01_BCATENIN_CY3_50ms_ROUND_06.tif', '/fs5/p_masi/baos1/rudravg/MXIF/MXIF/Helmsley/MxIF/Set02/GCA033TIB/Registered/GCA033TIB_TISSUE01_PCNA_CY2_175ms_ROUND_06.tif', '/fs5/p_masi/baos1/rudravg/MXIF/MXIF/Helmsley/MxIF/Set02/GCA033TIB/Registered/GCA033TIB_TISSUE01_pSTAT3_CY5_500ms_ROUND_06.tif']\n",
      "['/fs5/p_masi/baos1/rudravg/MXIF/MXIF/Helmsley/MxIF/Set02/GCA033TIB/Registered/GCA033TIB_TISSUE01_DAPI_DAPI_12ms_ROUND_07.tif', '/fs5/p_masi/baos1/rudravg/MXIF/MXIF/Helmsley/MxIF/Set02/GCA033TIB/Registered/GCA033TIB_TISSUE01_Background_CY3_50ms_ROUND_07.tif', '/fs5/p_masi/baos1/rudravg/MXIF/MXIF/Helmsley/MxIF/Set02/GCA033TIB/Registered/GCA033TIB_TISSUE01_Background_CY2_175ms_ROUND_07.tif', '/fs5/p_masi/baos1/rudravg/MXIF/MXIF/Helmsley/MxIF/Set02/GCA033TIB/Registered/GCA033TIB_TISSUE01_Background_CY5_500ms_ROUND_07.tif']\n",
      "['/fs5/p_masi/baos1/rudravg/MXIF/MXIF/Helmsley/MxIF/Set02/GCA033TIB/Registered/GCA033TIB_TISSUE01_DAPI_DAPI_12ms_ROUND_08.tif', '/fs5/p_masi/baos1/rudravg/MXIF/MXIF/Helmsley/MxIF/Set02/GCA033TIB/Registered/GCA033TIB_TISSUE01_pEGFR_CY2_175ms_ROUND_08.tif', '/fs5/p_masi/baos1/rudravg/MXIF/MXIF/Helmsley/MxIF/Set02/GCA033TIB/Registered/GCA033TIB_TISSUE01_CD4_CY5_500ms_ROUND_08.tif', '/fs5/p_masi/baos1/rudravg/MXIF/MXIF/Helmsley/MxIF/Set02/GCA033TIB/Registered/GCA033TIB_TISSUE01_CgA_CY3_150ms_ROUND_08.tif']\n",
      "['/fs5/p_masi/baos1/rudravg/MXIF/MXIF/Helmsley/MxIF/Set02/GCA033TIB/Registered/GCA033TIB_TISSUE01_DAPI_DAPI_12ms_ROUND_09.tif', '/fs5/p_masi/baos1/rudravg/MXIF/MXIF/Helmsley/MxIF/Set02/GCA033TIB/Registered/GCA033TIB_TISSUE01_Background_CY2_175ms_ROUND_09.tif', '/fs5/p_masi/baos1/rudravg/MXIF/MXIF/Helmsley/MxIF/Set02/GCA033TIB/Registered/GCA033TIB_TISSUE01_Background_CY3_150ms_ROUND_09.tif', '/fs5/p_masi/baos1/rudravg/MXIF/MXIF/Helmsley/MxIF/Set02/GCA033TIB/Registered/GCA033TIB_TISSUE01_Background_CY5_500ms_ROUND_09.tif']\n",
      "['/fs5/p_masi/baos1/rudravg/MXIF/MXIF/Helmsley/MxIF/Set02/GCA033TIB/Registered/GCA033TIB_TISSUE01_DAPI_DAPI_12ms_ROUND_10.tif', '/fs5/p_masi/baos1/rudravg/MXIF/MXIF/Helmsley/MxIF/Set02/GCA033TIB/Registered/GCA033TIB_TISSUE01_CD3d_CY3_150ms_ROUND_10.tif', '/fs5/p_masi/baos1/rudravg/MXIF/MXIF/Helmsley/MxIF/Set02/GCA033TIB/Registered/GCA033TIB_TISSUE01_HLAA_CY5_200ms_ROUND_10.tif', '/fs5/p_masi/baos1/rudravg/MXIF/MXIF/Helmsley/MxIF/Set02/GCA033TIB/Registered/GCA033TIB_TISSUE01_Cox2_CY2_500ms_ROUND_10.tif']\n",
      "['/fs5/p_masi/baos1/rudravg/MXIF/MXIF/Helmsley/MxIF/Set02/GCA033TIB/Registered/GCA033TIB_TISSUE01_DAPI_DAPI_12ms_ROUND_11.tif', '/fs5/p_masi/baos1/rudravg/MXIF/MXIF/Helmsley/MxIF/Set02/GCA033TIB/Registered/GCA033TIB_TISSUE01_Background_CY2_500ms_ROUND_11.tif', '/fs5/p_masi/baos1/rudravg/MXIF/MXIF/Helmsley/MxIF/Set02/GCA033TIB/Registered/GCA033TIB_TISSUE01_Background_CY3_150ms_ROUND_11.tif', '/fs5/p_masi/baos1/rudravg/MXIF/MXIF/Helmsley/MxIF/Set02/GCA033TIB/Registered/GCA033TIB_TISSUE01_Background_CY5_200ms_ROUND_11.tif']\n",
      "['/fs5/p_masi/baos1/rudravg/MXIF/MXIF/Helmsley/MxIF/Set02/GCA033TIB/Registered/GCA033TIB_TISSUE01_DAPI_DAPI_12ms_ROUND_12.tif', '/fs5/p_masi/baos1/rudravg/MXIF/MXIF/Helmsley/MxIF/Set02/GCA033TIB/Registered/GCA033TIB_TISSUE01_OLFM4_CY3_50ms_ROUND_12.tif', '/fs5/p_masi/baos1/rudravg/MXIF/MXIF/Helmsley/MxIF/Set02/GCA033TIB/Registered/GCA033TIB_TISSUE01_PanCK_CY2_100ms_ROUND_12.tif', '/fs5/p_masi/baos1/rudravg/MXIF/MXIF/Helmsley/MxIF/Set02/GCA033TIB/Registered/GCA033TIB_TISSUE01_CD8_CY5_500ms_ROUND_12.tif']\n",
      "['/fs5/p_masi/baos1/rudravg/MXIF/MXIF/Helmsley/MxIF/Set02/GCA033TIB/Registered/GCA033TIB_TISSUE01_DAPI_DAPI_12ms_ROUND_13.tif', '/fs5/p_masi/baos1/rudravg/MXIF/MXIF/Helmsley/MxIF/Set02/GCA033TIB/Registered/GCA033TIB_TISSUE01_Background_CY5_500ms_ROUND_13.tif', '/fs5/p_masi/baos1/rudravg/MXIF/MXIF/Helmsley/MxIF/Set02/GCA033TIB/Registered/GCA033TIB_TISSUE01_Background_CY2_100ms_ROUND_13.tif', '/fs5/p_masi/baos1/rudravg/MXIF/MXIF/Helmsley/MxIF/Set02/GCA033TIB/Registered/GCA033TIB_TISSUE01_Background_CY3_50ms_ROUND_13.tif']\n",
      "['/fs5/p_masi/baos1/rudravg/MXIF/MXIF/Helmsley/MxIF/Set02/GCA033TIB/Registered/GCA033TIB_TISSUE01_DAPI_DAPI_12ms_ROUND_14.tif', '/fs5/p_masi/baos1/rudravg/MXIF/MXIF/Helmsley/MxIF/Set02/GCA033TIB/Registered/GCA033TIB_TISSUE01_CD68_CY3_100ms_ROUND_14.tif', '/fs5/p_masi/baos1/rudravg/MXIF/MXIF/Helmsley/MxIF/Set02/GCA033TIB/Registered/GCA033TIB_TISSUE01_NaKATPase_CY5_100ms_ROUND_14.tif', '/fs5/p_masi/baos1/rudravg/MXIF/MXIF/Helmsley/MxIF/Set02/GCA033TIB/Registered/GCA033TIB_TISSUE01_ACTININ_CY2_350ms_ROUND_14.tif']\n",
      "['/fs5/p_masi/baos1/rudravg/MXIF/MXIF/Helmsley/MxIF/Set02/GCA033TIB/Registered/GCA033TIB_TISSUE01_DAPI_DAPI_12ms_ROUND_15.tif', '/fs5/p_masi/baos1/rudravg/MXIF/MXIF/Helmsley/MxIF/Set02/GCA033TIB/Registered/GCA033TIB_TISSUE01_Background_CY5_100ms_ROUND_15.tif', '/fs5/p_masi/baos1/rudravg/MXIF/MXIF/Helmsley/MxIF/Set02/GCA033TIB/Registered/GCA033TIB_TISSUE01_Background_CY2_350ms_ROUND_15.tif', '/fs5/p_masi/baos1/rudravg/MXIF/MXIF/Helmsley/MxIF/Set02/GCA033TIB/Registered/GCA033TIB_TISSUE01_Background_CY3_100ms_ROUND_15.tif']\n",
      "['/fs5/p_masi/baos1/rudravg/MXIF/MXIF/Helmsley/MxIF/Set02/GCA033TIB/Registered/GCA033TIB_TISSUE01_DAPI_DAPI_12ms_ROUND_16.tif', '/fs5/p_masi/baos1/rudravg/MXIF/MXIF/Helmsley/MxIF/Set02/GCA033TIB/Registered/GCA033TIB_TISSUE01_Vimentin_CY2_75ms_ROUND_16.tif', '/fs5/p_masi/baos1/rudravg/MXIF/MXIF/Helmsley/MxIF/Set02/GCA033TIB/Registered/GCA033TIB_TISSUE01_FOXP3_CY5_500ms_ROUND_16.tif', '/fs5/p_masi/baos1/rudravg/MXIF/MXIF/Helmsley/MxIF/Set02/GCA033TIB/Registered/GCA033TIB_TISSUE01_Sox9_CY3_150ms_ROUND_16.tif']\n",
      "['/fs5/p_masi/baos1/rudravg/MXIF/MXIF/Helmsley/MxIF/Set02/GCA033TIB/Registered/GCA033TIB_TISSUE01_DAPI_DAPI_12ms_ROUND_17.tif', '/fs5/p_masi/baos1/rudravg/MXIF/MXIF/Helmsley/MxIF/Set02/GCA033TIB/Registered/GCA033TIB_TISSUE01_Background_CY2_75ms_ROUND_17.tif', '/fs5/p_masi/baos1/rudravg/MXIF/MXIF/Helmsley/MxIF/Set02/GCA033TIB/Registered/GCA033TIB_TISSUE01_Background_CY5_500ms_ROUND_17.tif', '/fs5/p_masi/baos1/rudravg/MXIF/MXIF/Helmsley/MxIF/Set02/GCA033TIB/Registered/GCA033TIB_TISSUE01_Background_CY3_150ms_ROUND_17.tif']\n",
      "['/fs5/p_masi/baos1/rudravg/MXIF/MXIF/Helmsley/MxIF/Set02/GCA033TIB/Registered/GCA033TIB_TISSUE01_DAPI_DAPI_12ms_ROUND_18.tif', '/fs5/p_masi/baos1/rudravg/MXIF/MXIF/Helmsley/MxIF/Set02/GCA033TIB/Registered/GCA033TIB_TISSUE01_Lysozyme_CY2_200ms_ROUND_18.tif', '/fs5/p_masi/baos1/rudravg/MXIF/MXIF/Helmsley/MxIF/Set02/GCA033TIB/Registered/GCA033TIB_TISSUE01_SMA_CY3_12ms_ROUND_18.tif', '/fs5/p_masi/baos1/rudravg/MXIF/MXIF/Helmsley/MxIF/Set02/GCA033TIB/Registered/GCA033TIB_TISSUE01_ERBB2_CY5_1000ms_ROUND_18.tif']\n"
     ]
    }
   ],
   "source": [
    "for group in grouped_tissues:\n",
    "    print (group)"
   ]
  },
  {
   "cell_type": "markdown",
   "metadata": {},
   "source": [
    "Now comes the actual registration lesgo"
   ]
  },
  {
   "cell_type": "code",
   "execution_count": 14,
   "metadata": {},
   "outputs": [
    {
     "name": "stdout",
     "output_type": "stream",
     "text": [
      "Registering Round 1, which has 5 number of stains\n",
      "Registering Round 2, which has 4 number of stains\n",
      "Registering Round 3, which has 4 number of stains\n",
      "Registering Round 4, which has 4 number of stains\n",
      "Registering Round 5, which has 4 number of stains\n",
      "Registering Round 6, which has 4 number of stains\n",
      "Registering Round 7, which has 4 number of stains\n",
      "Registering Round 8, which has 4 number of stains\n",
      "Registering Round 9, which has 4 number of stains\n",
      "Registering Round 10, which has 4 number of stains\n",
      "Registering Round 11, which has 4 number of stains\n",
      "Registering Round 12, which has 4 number of stains\n",
      "Registering Round 13, which has 4 number of stains\n",
      "Registering Round 14, which has 4 number of stains\n",
      "Registering Round 15, which has 4 number of stains\n",
      "Registering Round 16, which has 4 number of stains\n",
      "Registering Round 17, which has 4 number of stains\n",
      "Registering Round 18, which has 4 number of stains\n"
     ]
    }
   ],
   "source": [
    "model_path='/home-local/rudravg/test_DAPI/1024_Dataset_V2/trial2_epochs/epoch_113/epoch_113.pth'\n",
    "model,device=Utils_v2.load_model(model_path) #Write this code\n",
    "i=0\n",
    "for group in grouped_tissues[1:]:\n",
    "    stains=len(group)\n",
    "    i+=1\n",
    "    print(f\"Registering Round {i}, which has {stains} number of stains\")\n",
    "    if stains==1:\n",
    "        print(\"Bruh where are all the tissues\")\n",
    "    elif stains==2:\n",
    "        roundi_dapi = group[0]\n",
    "        stain1=group[1]\n",
    "        roundi_dapi,_,_ = Utils_v2.load_tissues_for_overlap(roundi_dapi,mask_path)\n",
    "        stain1,_,_ = Utils_v2.load_tissues_for_overlap(stain1,mask_path)\n",
    "        registered_dapi,registered_stain1=Utils_v2.register_multiple_tissues_with_overlap(moving=roundi_dapi,fixed=round0_dapi,\n",
    "                                                                                          stain1=stain1,model=model,device=device)\n",
    "        registered_dapi = registered_dapi*255.\n",
    "        registered_stain1 = registered_stain1*255.\n",
    "        registered_dapi = registered_dapi[:height, :width]\n",
    "        registered_stain1 = registered_stain1[:height, :width]\n",
    "        Image.fromarray(registered_dapi).save(os.path.join(new_dir,os.path.basename(group[0])))\n",
    "        Image.fromarray(registered_stain1).save(os.path.join(new_dir,os.path.basename(group[1])))\n",
    "    elif stains==3:\n",
    "        roundi_dapi = group[0]\n",
    "        stain1=group[1]\n",
    "        stain2=group[2]\n",
    "        roundi_dapi,_,_ = Utils_v2.load_tissues_for_overlap(roundi_dapi,mask_path)\n",
    "        stain1,_,_ = Utils_v2.load_tissues_for_overlap(stain1,mask_path)\n",
    "        stain2,_,_ = Utils_v2.load_tissues_for_overlap(stain2,mask_path)\n",
    "        registered_dapi,registered_stain1,registered_stain2=Utils_v2.register_multiple_tissues_with_overlap(moving=roundi_dapi,fixed=round0_dapi,\n",
    "                                                                                          stain1=stain1,stain2=stain2,model=model,device=device)\n",
    "        registered_dapi = registered_dapi*255.\n",
    "        registered_stain1 = registered_stain1*255.\n",
    "        registered_stain2 = registered_stain2*255.\n",
    "        registered_dapi = registered_dapi[:height, :width]\n",
    "        registered_stain1 = registered_stain1[:height, :width]\n",
    "        registered_stain2 = registered_stain2[:height, :width]\n",
    "    \n",
    "        Image.fromarray(registered_dapi).save(os.path.join(new_dir,os.path.basename(group[0])))\n",
    "        Image.fromarray(registered_stain1).save(os.path.join(new_dir,os.path.basename(group[1])))\n",
    "        Image.fromarray(registered_stain2).save(os.path.join(new_dir,os.path.basename(group[2])))\n",
    "    elif stains==4:\n",
    "        roundi_dapi = group[0]\n",
    "        stain1=group[1]\n",
    "        stain2=group[2]\n",
    "        stain3=group[3]\n",
    "        roundi_dapi,_,_ = Utils_v2.load_tissues_for_overlap(roundi_dapi,mask_path)\n",
    "        stain1,_,_ = Utils_v2.load_tissues_for_overlap(stain1,mask_path)\n",
    "        stain2,_,_ = Utils_v2.load_tissues_for_overlap(stain2,mask_path)\n",
    "        stain3,_,_ = Utils_v2.load_tissues_for_overlap(stain3,mask_path)\n",
    "        registered_dapi,registered_stain1,registered_stain2,registered_stain3=Utils_v2.register_multiple_tissues_with_overlap(moving=roundi_dapi,fixed=round0_dapi,\n",
    "                                                                                          stain1=stain1,stain2=stain2,stain3=stain3,model=model,device=device)\n",
    "        registered_dapi = registered_dapi*255.\n",
    "        registered_stain1 = registered_stain1*255.\n",
    "        registered_stain2 = registered_stain2*255.\n",
    "        registered_stain3 = registered_stain3*255.\n",
    "        registered_dapi = registered_dapi[:height, :width]\n",
    "        registered_stain1 = registered_stain1[:height, :width]\n",
    "        registered_stain2 = registered_stain2[:height, :width]\n",
    "        registered_stain3 = registered_stain3[:height, :width]\n",
    "        Image.fromarray(np.uint8(registered_dapi)).save(os.path.join(new_dir,os.path.basename(group[0])))\n",
    "        Image.fromarray(np.uint8(registered_stain1)).save(os.path.join(new_dir,os.path.basename(group[1])))\n",
    "        Image.fromarray(np.uint8(registered_stain2)).save(os.path.join(new_dir,os.path.basename(group[2])))\n",
    "        Image.fromarray(np.uint8(registered_stain3)).save(os.path.join(new_dir,os.path.basename(group[3])))\n",
    "    elif stains==5:\n",
    "        roundi_dapi = group[0]\n",
    "        stain1=group[1]\n",
    "        stain2=group[2]\n",
    "        stain3=group[3]\n",
    "        stain4=group[4]\n",
    "        roundi_dapi,_,_ = Utils_v2.load_tissues_for_overlap(roundi_dapi,mask_path)\n",
    "        stain1,_,_ = Utils_v2.load_tissues_for_overlap(stain1,mask_path)\n",
    "        stain2,_,_ = Utils_v2.load_tissues_for_overlap(stain2,mask_path)\n",
    "        stain3,_,_ = Utils_v2.load_tissues_for_overlap(stain3,mask_path)\n",
    "        stain4,_,_ = Utils_v2.load_tissues_for_overlap(stain4,mask_path)\n",
    "        registered_dapi,registered_stain1,registered_stain2,registered_stain3,registered_stain4=Utils_v2.register_multiple_tissues_with_overlap(moving=roundi_dapi,fixed=round0_dapi,\n",
    "                                                                                          stain1=stain1,stain2=stain2,stain3=stain3,stain4=stain4,model=model,device=device)\n",
    "        registered_dapi = registered_dapi*255.\n",
    "        registered_stain1 = registered_stain1*255.\n",
    "        registered_stain2 = registered_stain2*255.\n",
    "        registered_stain3 = registered_stain3*255.\n",
    "        registered_stain4 = registered_stain4*255.\n",
    "        registered_dapi = registered_dapi[:height, :width]\n",
    "        registered_stain1 = registered_stain1[:height, :width]\n",
    "        registered_stain2 = registered_stain2[:height, :width]\n",
    "        registered_stain3 = registered_stain3[:height, :width]\n",
    "        registered_stain4 = registered_stain4[:height, :width]\n",
    "        Image.fromarray(np.uint8(registered_dapi)).save(os.path.join(new_dir,os.path.basename(group[0])))\n",
    "        Image.fromarray(np.uint8(registered_stain1)).save(os.path.join(new_dir,os.path.basename(group[1])))\n",
    "        Image.fromarray(np.uint8(registered_stain2)).save(os.path.join(new_dir,os.path.basename(group[2])))\n",
    "        Image.fromarray(np.uint8(registered_stain3)).save(os.path.join(new_dir,os.path.basename(group[3])))\n",
    "        Image.fromarray(np.uint8(registered_stain4)).save(os.path.join(new_dir,os.path.basename(group[4])))\n",
    "    elif stains==6:\n",
    "        roundi_dapi = group[0]\n",
    "        stain1=group[1]\n",
    "        stain2=group[2]\n",
    "        stain3=group[3]\n",
    "        stain4=group[4]\n",
    "        stain5=group[5]\n",
    "        roundi_dapi,_,_ = Utils_v2.load_tissues_for_overlap(roundi_dapi,mask_path)\n",
    "        stain1,_,_ = Utils_v2.load_tissues_for_overlap(stain1,mask_path)\n",
    "        stain2,_,_ = Utils_v2.load_tissues_for_overlap(stain2,mask_path)\n",
    "        stain3,_,_ = Utils_v2.load_tissues_for_overlap(stain3,mask_path)\n",
    "        stain4,_,_ = Utils_v2.load_tissues_for_overlap(stain4,mask_path)\n",
    "        stain5,_,_ = Utils_v2.load_tissues_for_overlap(stain5,mask_path)\n",
    "        registered_dapi,registered_stain1,registered_stain2,registered_stain3,registered_stain4,registered_stain5=Utils_v2.register_multiple_tissues_with_overlap(moving=roundi_dapi,fixed=round0_dapi,\n",
    "                                                                                          stain1=stain1,stain2=stain2,stain3=stain3,stain4=stain4,stain5=stain5,model=model,device=device)\n",
    "        registered_dapi = registered_dapi*255.\n",
    "        registered_stain1 = registered_stain1*255.\n",
    "        registered_stain2 = registered_stain2*255.\n",
    "        registered_stain3 = registered_stain3*255.\n",
    "        registered_stain4 = registered_stain4*255.\n",
    "        registered_stain5 = registered_stain5*255.\n",
    "        registered_dapi = registered_dapi[:height, :width]\n",
    "        registered_stain1 = registered_stain1[:height, :width]\n",
    "        registered_stain2 = registered_stain2[:height, :width]\n",
    "        registered_stain3 = registered_stain3[:height, :width]\n",
    "        registered_stain4 = registered_stain4[:height, :width]\n",
    "        registered_stain5 = registered_stain5[:height, :width]\n",
    "        Image.fromarray(np.uint8(registered_dapi)).save(os.path.join(new_dir,os.path.basename(group[0])))\n",
    "        Image.fromarray(np.uint8(registered_stain1)).save(os.path.join(new_dir,os.path.basename(group[1])))\n",
    "        Image.fromarray(np.uint8(registered_stain2)).save(os.path.join(new_dir,os.path.basename(group[2])))\n",
    "        Image.fromarray(np.uint8(registered_stain3)).save(os.path.join(new_dir,os.path.basename(group[3])))\n",
    "        Image.fromarray(np.uint8(registered_stain4)).save(os.path.join(new_dir,os.path.basename(group[4])))\n",
    "        Image.fromarray(np.uint8(registered_stain5)).save(os.path.join(new_dir,os.path.basename(group[5])))\n",
    "    elif stains==7:\n",
    "        roundi_dapi = group[0]\n",
    "        stain1=group[1]\n",
    "        stain2=group[2]\n",
    "        stain3=group[3]\n",
    "        stain4=group[4]\n",
    "        stain5=group[5]\n",
    "        stain6=group[6]\n",
    "        roundi_dapi,_,_ = Utils_v2.load_tissues_for_overlap(roundi_dapi,mask_path)\n",
    "        stain1,_,_ = Utils_v2.load_tissues_for_overlap(stain1,mask_path)\n",
    "        stain2,_,_ = Utils_v2.load_tissues_for_overlap(stain2,mask_path)\n",
    "        stain3,_,_ = Utils_v2.load_tissues_for_overlap(stain3,mask_path)\n",
    "        stain4,_,_ = Utils_v2.load_tissues_for_overlap(stain4,mask_path)\n",
    "        stain5,_,_ = Utils_v2.load_tissues_for_overlap(stain5,mask_path)\n",
    "        stain6,_,_ = Utils_v2.load_tissues_for_overlap(stain6,mask_path)\n",
    "        registered_dapi,registered_stain1,registered_stain2,registered_stain3,registered_stain4,registered_stain5,registered_stain6=Utils_v2.register_multiple_tissues_with_overlap(moving=roundi_dapi,fixed=round0_dapi,\n",
    "                                                                                          stain1=stain1,stain2=stain2,stain3=stain3,stain4=stain4,stain5=stain5,stain6=stain6,model=model,device=device)\n",
    "        registered_dapi = registered_dapi*255.\n",
    "        registered_stain1 = registered_stain1*255.\n",
    "        registered_stain2 = registered_stain2*255.\n",
    "        registered_stain3 = registered_stain3*255.\n",
    "        registered_stain4 = registered_stain4*255.\n",
    "        registered_stain5 = registered_stain5*255.\n",
    "        registered_stain6 = registered_stain6*255.\n",
    "        registered_dapi = registered_dapi[:height, :width]\n",
    "        registered_stain1 = registered_stain1[:height, :width]\n",
    "        registered_stain2 = registered_stain2[:height, :width]\n",
    "        registered_stain3 = registered_stain3[:height, :width]\n",
    "        registered_stain4 = registered_stain4[:height, :width]\n",
    "        registered_stain5 = registered_stain5[:height, :width]\n",
    "        registered_stain6 = registered_stain6[:height, :width]\n",
    "        Image.fromarray(np.uint8(registered_dapi)).save(os.path.join(new_dir,os.path.basename(group[0])))\n",
    "        Image.fromarray(np.uint8(registered_stain1)).save(os.path.join(new_dir,os.path.basename(group[1])))\n",
    "        Image.fromarray(np.uint8(registered_stain2)).save(os.path.join(new_dir,os.path.basename(group[2])))\n",
    "        Image.fromarray(np.uint8(registered_stain3)).save(os.path.join(new_dir,os.path.basename(group[3])))\n",
    "        Image.fromarray(np.uint8(registered_stain4)).save(os.path.join(new_dir,os.path.basename(group[4])))\n",
    "        Image.fromarray(np.uint8(registered_stain5)).save(os.path.join(new_dir,os.path.basename(group[5])))\n",
    "        Image.fromarray(np.uint8(registered_stain6)).save(os.path.join(new_dir,os.path.basename(group[6])))"
   ]
  },
  {
   "cell_type": "code",
   "execution_count": 25,
   "metadata": {},
   "outputs": [],
   "source": [
    "sox9_after='/fs5/p_masi/rudravg/MxIF_Vxm_Registered/GCA020TIB_TISSUE01/AF_Removed/ROUND_02_CY5_GCA020TIB_TISSUE01_CD45_normalized_corrected.tif'\n",
    "sox9_before='/fs5/p_masi/rudravg/MxIF_Vxm_Registered/GCA020TIB_TISSUE01/Unregistered/AF_Removed/ROUND_02_CY5_GCA020TIB_TISSUE01_CD45_normalized_corrected.tif'\n",
    "average_dapi='/home-local/rudravg/dapi_raw/Set02/GCA020TIB/AFRemoved/GCA020TIB_TISSUE01_DAPI.tif'\n",
    "sox9_before=np.array(Image.open(sox9_before))\n",
    "sox9_after=np.array(Image.open(sox9_after))\n",
    "average_dapi=np.array(Image.open(average_dapi))"
   ]
  },
  {
   "cell_type": "code",
   "execution_count": 26,
   "metadata": {},
   "outputs": [
    {
     "data": {
      "text/plain": [
       "array([0.14160487])"
      ]
     },
     "execution_count": 26,
     "metadata": {},
     "output_type": "execute_result"
    }
   ],
   "source": [
    "Utils_v2.calculate_ncc(sox9_before.ravel(),average_dapi.ravel())"
   ]
  },
  {
   "cell_type": "code",
   "execution_count": 27,
   "metadata": {},
   "outputs": [
    {
     "data": {
      "text/plain": [
       "array([0.14275191])"
      ]
     },
     "execution_count": 27,
     "metadata": {},
     "output_type": "execute_result"
    }
   ],
   "source": [
    "Utils_v2.calculate_ncc(sox9_after.ravel(),average_dapi.ravel())"
   ]
  },
  {
   "cell_type": "code",
   "execution_count": null,
   "metadata": {},
   "outputs": [],
   "source": []
  }
 ],
 "metadata": {
  "kernelspec": {
   "display_name": "dapi_reg",
   "language": "python",
   "name": "python3"
  },
  "language_info": {
   "codemirror_mode": {
    "name": "ipython",
    "version": 3
   },
   "file_extension": ".py",
   "mimetype": "text/x-python",
   "name": "python",
   "nbconvert_exporter": "python",
   "pygments_lexer": "ipython3",
   "version": "3.12.1"
  }
 },
 "nbformat": 4,
 "nbformat_minor": 2
}
