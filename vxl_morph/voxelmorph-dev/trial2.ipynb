{
 "cells": [
  {
   "cell_type": "code",
   "execution_count": 1,
   "metadata": {},
   "outputs": [],
   "source": [
    "import os,sys,time\n",
    "import numpy as np\n",
    "import torch"
   ]
  },
  {
   "cell_type": "code",
   "execution_count": 2,
   "metadata": {},
   "outputs": [],
   "source": [
    "os.environ['NEURITE_BACKEND'] = 'pytorch'\n",
    "os.environ['VXM_BACKEND'] = 'pytorch'\n"
   ]
  },
  {
   "cell_type": "code",
   "execution_count": 3,
   "metadata": {},
   "outputs": [],
   "source": [
    "import voxelmorph as vxm\n",
    "from torchvision import datasets, transforms\n",
    "import matplotlib.pyplot as plt\n",
    "from torchvision.datasets import MNIST\n",
    "from torch.utils.data import DataLoader, Dataset\n",
    "from torchvision.transforms import ToTensor\n",
    "import importlib"
   ]
  },
  {
   "cell_type": "code",
   "execution_count": 4,
   "metadata": {},
   "outputs": [],
   "source": [
    "file='/home-local/rudravg/registration_stress_test/512/image_pairs_v2.txt'\n",
    "train_files=vxm.py.utils.read_file_list(file)\n",
    "val_file='/home-local/rudravg/registration_stress_test/512/image_pairs_val_v2.txt'\n",
    "val_files=vxm.py.utils.read_file_list(val_file)"
   ]
  },
  {
   "cell_type": "code",
   "execution_count": 5,
   "metadata": {},
   "outputs": [
    {
     "data": {
      "text/plain": [
       "(2800, '/home-local/rudravg/registration_stress_test/512/image1_0.npy')"
      ]
     },
     "execution_count": 5,
     "metadata": {},
     "output_type": "execute_result"
    }
   ],
   "source": [
    "len(train_files), train_files[0]"
   ]
  },
  {
   "cell_type": "code",
   "execution_count": 6,
   "metadata": {},
   "outputs": [],
   "source": [
    "generator=vxm.generators.scan_to_scan(train_files)\n",
    "val_generator=vxm.generators.scan_to_scan(train_files)"
   ]
  },
  {
   "cell_type": "code",
   "execution_count": 7,
   "metadata": {},
   "outputs": [
    {
     "data": {
      "text/plain": [
       "<generator object scan_to_scan at 0x7fba611774c0>"
      ]
     },
     "execution_count": 7,
     "metadata": {},
     "output_type": "execute_result"
    }
   ],
   "source": [
    "generator"
   ]
  },
  {
   "cell_type": "code",
   "execution_count": 8,
   "metadata": {},
   "outputs": [
    {
     "data": {
      "text/plain": [
       "(512, 512)"
      ]
     },
     "execution_count": 8,
     "metadata": {},
     "output_type": "execute_result"
    }
   ],
   "source": [
    "inshape=next(generator)[0][0].shape[1:-1]\n",
    "inshape"
   ]
  },
  {
   "cell_type": "code",
   "execution_count": 9,
   "metadata": {},
   "outputs": [
    {
     "data": {
      "text/plain": [
       "(1, 512, 512, 1)"
      ]
     },
     "execution_count": 9,
     "metadata": {},
     "output_type": "execute_result"
    }
   ],
   "source": [
    "batch=next(generator)\n",
    "batch[0][0].shape"
   ]
  },
  {
   "cell_type": "code",
   "execution_count": 10,
   "metadata": {},
   "outputs": [
    {
     "name": "stderr",
     "output_type": "stream",
     "text": [
      "/home/local/VANDERBILT/rudravg/miniconda3/envs/dapi_reg/lib/python3.12/site-packages/torch/functional.py:507: UserWarning: torch.meshgrid: in an upcoming release, it will be required to pass the indexing argument. (Triggered internally at ../aten/src/ATen/native/TensorShape.cpp:3549.)\n",
      "  return _VF.meshgrid(tensors, **kwargs)  # type: ignore[attr-defined]\n"
     ]
    }
   ],
   "source": [
    "model=vxm.networks.VxmDense(inshape=inshape)"
   ]
  },
  {
   "cell_type": "code",
   "execution_count": 11,
   "metadata": {},
   "outputs": [
    {
     "data": {
      "text/plain": [
       "VxmDense(\n",
       "  (unet_model): Unet(\n",
       "    (encoder): ModuleList(\n",
       "      (0): ModuleList(\n",
       "        (0): ConvBlock(\n",
       "          (main): Conv2d(2, 16, kernel_size=(3, 3), stride=(1, 1), padding=(1, 1))\n",
       "          (activation): LeakyReLU(negative_slope=0.2)\n",
       "        )\n",
       "      )\n",
       "      (1): ModuleList(\n",
       "        (0): ConvBlock(\n",
       "          (main): Conv2d(16, 32, kernel_size=(3, 3), stride=(1, 1), padding=(1, 1))\n",
       "          (activation): LeakyReLU(negative_slope=0.2)\n",
       "        )\n",
       "      )\n",
       "      (2-3): 2 x ModuleList(\n",
       "        (0): ConvBlock(\n",
       "          (main): Conv2d(32, 32, kernel_size=(3, 3), stride=(1, 1), padding=(1, 1))\n",
       "          (activation): LeakyReLU(negative_slope=0.2)\n",
       "        )\n",
       "      )\n",
       "    )\n",
       "    (decoder): ModuleList(\n",
       "      (0): ModuleList(\n",
       "        (0): ConvBlock(\n",
       "          (main): Conv2d(32, 32, kernel_size=(3, 3), stride=(1, 1), padding=(1, 1))\n",
       "          (activation): LeakyReLU(negative_slope=0.2)\n",
       "        )\n",
       "      )\n",
       "      (1-3): 3 x ModuleList(\n",
       "        (0): ConvBlock(\n",
       "          (main): Conv2d(64, 32, kernel_size=(3, 3), stride=(1, 1), padding=(1, 1))\n",
       "          (activation): LeakyReLU(negative_slope=0.2)\n",
       "        )\n",
       "      )\n",
       "    )\n",
       "    (remaining): ModuleList(\n",
       "      (0): ConvBlock(\n",
       "        (main): Conv2d(48, 32, kernel_size=(3, 3), stride=(1, 1), padding=(1, 1))\n",
       "        (activation): LeakyReLU(negative_slope=0.2)\n",
       "      )\n",
       "      (1): ConvBlock(\n",
       "        (main): Conv2d(32, 16, kernel_size=(3, 3), stride=(1, 1), padding=(1, 1))\n",
       "        (activation): LeakyReLU(negative_slope=0.2)\n",
       "      )\n",
       "      (2): ConvBlock(\n",
       "        (main): Conv2d(16, 16, kernel_size=(3, 3), stride=(1, 1), padding=(1, 1))\n",
       "        (activation): LeakyReLU(negative_slope=0.2)\n",
       "      )\n",
       "    )\n",
       "  )\n",
       "  (flow): Conv2d(16, 2, kernel_size=(3, 3), stride=(1, 1), padding=(1, 1))\n",
       "  (resize): ResizeTransform()\n",
       "  (fullsize): ResizeTransform()\n",
       "  (integrate): VecInt(\n",
       "    (transformer): SpatialTransformer()\n",
       "  )\n",
       "  (transformer): SpatialTransformer()\n",
       ")"
      ]
     },
     "execution_count": 11,
     "metadata": {},
     "output_type": "execute_result"
    }
   ],
   "source": [
    "model"
   ]
  },
  {
   "cell_type": "code",
   "execution_count": 12,
   "metadata": {},
   "outputs": [],
   "source": [
    "model.to('cuda')\n",
    "model.train()\n",
    "optimizer=torch.optim.Adam(model.parameters(), lr=1e-4)"
   ]
  },
  {
   "cell_type": "code",
   "execution_count": 13,
   "metadata": {},
   "outputs": [],
   "source": [
    "image_loss_func=vxm.losses.MSE().loss \n",
    "losses=[image_loss_func]\n",
    "weights=[1]"
   ]
  },
  {
   "cell_type": "code",
   "execution_count": 14,
   "metadata": {},
   "outputs": [],
   "source": [
    "losses += [vxm.losses.Grad('l2',loss_mult=2).loss]\n",
    "weights += [1]"
   ]
  },
  {
   "cell_type": "code",
   "execution_count": 15,
   "metadata": {},
   "outputs": [
    {
     "data": {
      "text/plain": [
       "[<bound method MSE.loss of <voxelmorph.torch.losses.MSE object at 0x7fba6105f140>>,\n",
       " <bound method Grad.loss of <voxelmorph.torch.losses.Grad object at 0x7fba620a7a70>>]"
      ]
     },
     "execution_count": 15,
     "metadata": {},
     "output_type": "execute_result"
    }
   ],
   "source": [
    "losses"
   ]
  },
  {
   "cell_type": "code",
   "execution_count": 16,
   "metadata": {},
   "outputs": [
    {
     "data": {
      "text/plain": [
       "[1, 1]"
      ]
     },
     "execution_count": 16,
     "metadata": {},
     "output_type": "execute_result"
    }
   ],
   "source": [
    "weights"
   ]
  },
  {
   "cell_type": "code",
   "execution_count": 17,
   "metadata": {},
   "outputs": [
    {
     "data": {
      "text/plain": [
       "(torch.Size([1, 1, 512, 512]),\n",
       " torch.Size([1, 1, 512, 512]),\n",
       " torch.Size([1, 1, 512, 512]))"
      ]
     },
     "execution_count": 17,
     "metadata": {},
     "output_type": "execute_result"
    }
   ],
   "source": [
    "inputs, y_true = next(generator)\n",
    "inputs1 = [torch.from_numpy(d).to('cuda').float().permute(0,3,1,2) for d in inputs]\n",
    "y_true1 = [torch.from_numpy(d).to('cuda').float().permute(0,3,1,2) for d in y_true]\n",
    "inputs1[0].shape, y_true1[0].shape,inputs1[1].shape"
   ]
  },
  {
   "cell_type": "code",
   "execution_count": 18,
   "metadata": {},
   "outputs": [
    {
     "data": {
      "text/plain": [
       "1"
      ]
     },
     "execution_count": 18,
     "metadata": {},
     "output_type": "execute_result"
    }
   ],
   "source": [
    "weights[1]"
   ]
  },
  {
   "cell_type": "code",
   "execution_count": 19,
   "metadata": {},
   "outputs": [
    {
     "name": "stdout",
     "output_type": "stream",
     "text": [
      "Epoch 1 Loss: 0.030869058672571555\n",
      "Epoch 1 Losses: [0.02962963 0.00123943]\n",
      "Epoch 1 Step Time: 0.031432528614997866\n",
      "Epoch 2 Loss: 0.01833274813403841\n",
      "Epoch 2 Losses: [0.01690095 0.0014318 ]\n",
      "Epoch 2 Step Time: 0.03132188272476196\n",
      "Epoch 3 Loss: 0.01545534752763342\n",
      "Epoch 3 Losses: [0.01401083 0.00144452]\n",
      "Epoch 3 Step Time: 0.031353785276412964\n",
      "Epoch 4 Loss: 0.01551562478474807\n",
      "Epoch 4 Losses: [0.01410679 0.00140883]\n",
      "Epoch 4 Step Time: 0.03111210036277771\n",
      "Epoch 5 Loss: 0.01386845523735974\n",
      "Epoch 5 Losses: [0.01247996 0.00138849]\n",
      "Epoch 5 Step Time: 0.03110472273826599\n",
      "Epoch 6 Loss: 0.01655677997658495\n",
      "Epoch 6 Losses: [0.01509269 0.00146409]\n",
      "Epoch 6 Step Time: 0.03135742449760437\n",
      "Epoch 7 Loss: 0.01477746413240675\n",
      "Epoch 7 Losses: [0.01320933 0.00156813]\n",
      "Epoch 7 Step Time: 0.03121708607673645\n",
      "Epoch 8 Loss: 0.013311663026339375\n",
      "Epoch 8 Losses: [0.01176882 0.00154285]\n",
      "Epoch 8 Step Time: 0.0312349933385849\n",
      "Epoch 9 Loss: 0.012982009175932036\n",
      "Epoch 9 Losses: [0.0115178  0.00146421]\n",
      "Epoch 9 Step Time: 0.031052400350570677\n",
      "Epoch 10 Loss: 0.01304068072285736\n",
      "Epoch 10 Losses: [0.01156181 0.00147887]\n",
      "Epoch 10 Step Time: 0.031181953072547914\n",
      "Epoch 11 Loss: 0.01219422884384403\n",
      "Epoch 11 Losses: [0.01070666 0.00148757]\n",
      "Epoch 11 Step Time: 0.031236375451087952\n",
      "Epoch 12 Loss: 0.011851613691076636\n",
      "Epoch 12 Losses: [0.01049177 0.00135984]\n",
      "Epoch 12 Step Time: 0.031334184527397155\n",
      "Epoch 13 Loss: 0.01196133792132605\n",
      "Epoch 13 Losses: [0.01031893 0.00164241]\n",
      "Epoch 13 Step Time: 0.03131999623775482\n",
      "Epoch 14 Loss: 0.010513275029603392\n",
      "Epoch 14 Losses: [0.00908291 0.00143036]\n",
      "Epoch 14 Step Time: 0.031439257979393\n",
      "Epoch 15 Loss: 0.009152962411928455\n",
      "Epoch 15 Losses: [0.00785373 0.00129923]\n",
      "Epoch 15 Step Time: 0.031145477533340453\n",
      "Epoch 16 Loss: 0.00986183870700188\n",
      "Epoch 16 Losses: [0.00852256 0.00133927]\n",
      "Epoch 16 Step Time: 0.031250487685203554\n",
      "Epoch 17 Loss: 0.009863628808001523\n",
      "Epoch 17 Losses: [0.00860313 0.0012605 ]\n",
      "Epoch 17 Step Time: 0.031166262984275817\n",
      "Epoch 18 Loss: 0.010476960974512622\n",
      "Epoch 18 Losses: [0.00925412 0.00122284]\n",
      "Epoch 18 Step Time: 0.031139320969581604\n",
      "Epoch 19 Loss: 0.009419032739591784\n",
      "Epoch 19 Losses: [0.00821355 0.00120548]\n",
      "Epoch 19 Step Time: 0.03125234341621399\n",
      "Epoch 20 Loss: 0.008937522057793103\n",
      "Epoch 20 Losses: [0.00780304 0.00113448]\n",
      "Epoch 20 Step Time: 0.03131274878978729\n"
     ]
    }
   ],
   "source": [
    "for epoch in range(20):\n",
    "    if epoch==5:\n",
    "        model.save('model_512_new.pt')\n",
    "    epoch_loss=[]\n",
    "    epoch_total_loss=[]\n",
    "    epoch_step_time=[]\n",
    "    for step in range(2000):\n",
    "        step_time=time.time()\n",
    "        inputs, y_true = next(generator)\n",
    "        inputs = [torch.from_numpy(d).to('cuda').float().permute(0,3,1,2) for d in inputs]\n",
    "        y_true = [torch.from_numpy(d).to('cuda').float().permute(0,3,1,2) for d in y_true]\n",
    "        #print(inputs[0].shape, y_true[0].shape,inputs[1].shape)\n",
    "        y_pred=model(*inputs)\n",
    "        loss=0\n",
    "        loss_list=[]\n",
    "        for n,loss_function in enumerate(losses):\n",
    "            curr_loss=loss_function(y_true[0],y_pred[0])*weights[n]\n",
    "            loss_list.append(curr_loss.item())\n",
    "            loss+=curr_loss\n",
    "            #print(loss.item())\n",
    "        epoch_loss.append(loss_list)\n",
    "        epoch_total_loss.append(loss.item())\n",
    "        optimizer.zero_grad()\n",
    "        loss.backward()\n",
    "        optimizer.step()\n",
    "        epoch_step_time.append(time.time()-step_time)\n",
    "    print(f'Epoch {epoch+1} Loss: {np.mean(epoch_total_loss)}')\n",
    "    print(f'Epoch {epoch+1} Losses: {np.mean(epoch_loss, axis=0)}')\n",
    "    print(f'Epoch {epoch+1} Step Time: {np.mean(epoch_step_time)}')\n",
    "model.save('final_model_512_new.pt')"
   ]
  },
  {
   "cell_type": "code",
   "execution_count": 20,
   "metadata": {},
   "outputs": [
    {
     "data": {
      "image/png": "[encoded data removed]",
      "text/plain": [
       "<Figure size 1000x500 with 2 Axes>"
      ]
     },
     "metadata": {},
     "output_type": "display_data"
    }
   ],
   "source": [
    "fixed_file='/home-local/rudravg/registration_stress_test/512/image1_2683.npy'\n",
    "moving_file='/home-local/rudravg/registration_stress_test/512/image2_2684.npy'\n",
    "model_path='/nfs2/forGaurav/yesbackup/DAPI_reg/vxl_morph/voxelmorph-dev/final_model_512_new.pt'\n",
    "# Load the images\n",
    "moving_image = np.load(moving_file)\n",
    "fixed_image = np.load(fixed_file)\n",
    "\n",
    "# Create a figure with 2 subplots\n",
    "fig, axs = plt.subplots(1, 2, figsize=(10, 5))\n",
    "\n",
    "# Plot the moving image\n",
    "axs[0].imshow(moving_image, cmap='gray')\n",
    "axs[0].axis('off')\n",
    "axs[0].set_title('Moving Image')\n",
    "\n",
    "# Plot the fixed image\n",
    "axs[1].imshow(fixed_image, cmap='gray')\n",
    "axs[1].axis('off')\n",
    "axs[1].set_title('Fixed Image')\n",
    "\n",
    "# Display the plot\n",
    "plt.show()\n"
   ]
  },
  {
   "cell_type": "code",
   "execution_count": 21,
   "metadata": {},
   "outputs": [
    {
     "data": {
      "text/plain": [
       "(0.0, 1.0, 0.0, 1.0)"
      ]
     },
     "execution_count": 21,
     "metadata": {},
     "output_type": "execute_result"
    }
   ],
   "source": [
    "fixed_image.min(),fixed_image.max(),moving_image.min(),moving_image.max()"
   ]
  },
  {
   "cell_type": "code",
   "execution_count": 22,
   "metadata": {},
   "outputs": [],
   "source": [
    "device = 'cuda'\n",
    "moving=vxm.py.utils.load_volfile(moving_file,add_batch_axis=True,add_feat_axis=True)\n",
    "fixed,fixed_affine=vxm.py.utils.load_volfile(fixed_file,add_batch_axis=True,add_feat_axis=True,ret_affine=True)"
   ]
  },
  {
   "cell_type": "code",
   "execution_count": 23,
   "metadata": {},
   "outputs": [
    {
     "data": {
      "text/plain": [
       "VxmDense(\n",
       "  (unet_model): Unet(\n",
       "    (encoder): ModuleList(\n",
       "      (0): ModuleList(\n",
       "        (0): ConvBlock(\n",
       "          (main): Conv2d(2, 16, kernel_size=(3, 3), stride=(1, 1), padding=(1, 1))\n",
       "          (activation): LeakyReLU(negative_slope=0.2)\n",
       "        )\n",
       "      )\n",
       "      (1): ModuleList(\n",
       "        (0): ConvBlock(\n",
       "          (main): Conv2d(16, 32, kernel_size=(3, 3), stride=(1, 1), padding=(1, 1))\n",
       "          (activation): LeakyReLU(negative_slope=0.2)\n",
       "        )\n",
       "      )\n",
       "      (2-3): 2 x ModuleList(\n",
       "        (0): ConvBlock(\n",
       "          (main): Conv2d(32, 32, kernel_size=(3, 3), stride=(1, 1), padding=(1, 1))\n",
       "          (activation): LeakyReLU(negative_slope=0.2)\n",
       "        )\n",
       "      )\n",
       "    )\n",
       "    (decoder): ModuleList(\n",
       "      (0): ModuleList(\n",
       "        (0): ConvBlock(\n",
       "          (main): Conv2d(32, 32, kernel_size=(3, 3), stride=(1, 1), padding=(1, 1))\n",
       "          (activation): LeakyReLU(negative_slope=0.2)\n",
       "        )\n",
       "      )\n",
       "      (1-3): 3 x ModuleList(\n",
       "        (0): ConvBlock(\n",
       "          (main): Conv2d(64, 32, kernel_size=(3, 3), stride=(1, 1), padding=(1, 1))\n",
       "          (activation): LeakyReLU(negative_slope=0.2)\n",
       "        )\n",
       "      )\n",
       "    )\n",
       "    (remaining): ModuleList(\n",
       "      (0): ConvBlock(\n",
       "        (main): Conv2d(48, 32, kernel_size=(3, 3), stride=(1, 1), padding=(1, 1))\n",
       "        (activation): LeakyReLU(negative_slope=0.2)\n",
       "      )\n",
       "      (1): ConvBlock(\n",
       "        (main): Conv2d(32, 16, kernel_size=(3, 3), stride=(1, 1), padding=(1, 1))\n",
       "        (activation): LeakyReLU(negative_slope=0.2)\n",
       "      )\n",
       "      (2): ConvBlock(\n",
       "        (main): Conv2d(16, 16, kernel_size=(3, 3), stride=(1, 1), padding=(1, 1))\n",
       "        (activation): LeakyReLU(negative_slope=0.2)\n",
       "      )\n",
       "    )\n",
       "  )\n",
       "  (flow): Conv2d(16, 2, kernel_size=(3, 3), stride=(1, 1), padding=(1, 1))\n",
       "  (resize): ResizeTransform()\n",
       "  (fullsize): ResizeTransform()\n",
       "  (integrate): VecInt(\n",
       "    (transformer): SpatialTransformer()\n",
       "  )\n",
       "  (transformer): SpatialTransformer()\n",
       ")"
      ]
     },
     "execution_count": 23,
     "metadata": {},
     "output_type": "execute_result"
    }
   ],
   "source": [
    "test_model=vxm.networks.VxmDense.load(model_path, device)\n",
    "test_model.to(device)\n",
    "test_model.eval()"
   ]
  },
  {
   "cell_type": "code",
   "execution_count": 24,
   "metadata": {},
   "outputs": [],
   "source": [
    "input_moving=torch.from_numpy(moving).to(device).float().permute(0,3,1,2)\n",
    "input_fixed=torch.from_numpy(fixed).to(device).float().permute(0,3,1,2)\n"
   ]
  },
  {
   "cell_type": "code",
   "execution_count": 25,
   "metadata": {},
   "outputs": [],
   "source": [
    "moved,warp=test_model(input_moving,input_fixed,registration=True)\n"
   ]
  },
  {
   "cell_type": "code",
   "execution_count": 26,
   "metadata": {},
   "outputs": [
    {
     "data": {
      "text/plain": [
       "(2, 512, 512)"
      ]
     },
     "execution_count": 26,
     "metadata": {},
     "output_type": "execute_result"
    }
   ],
   "source": [
    "moved_img=moved.detach().cpu().numpy().squeeze()\n",
    "moved_img.shape\n",
    "warped=warp.detach().cpu().numpy().squeeze()\n",
    "warped.shape"
   ]
  },
  {
   "cell_type": "code",
   "execution_count": 27,
   "metadata": {},
   "outputs": [
    {
     "data": {
      "image/png": "[encoded data removed]",
      "text/plain": [
       "<Figure size 1500x500 with 3 Axes>"
      ]
     },
     "metadata": {},
     "output_type": "display_data"
    }
   ],
   "source": [
    "# Load the moving and fixed images\n",
    "moving_image = np.load(moving_file)\n",
    "fixed_image = np.load(fixed_file)\n",
    "\n",
    "# Create a figure with 3 subplots\n",
    "fig, axs = plt.subplots(1, 3, figsize=(15, 5))\n",
    "\n",
    "# Plot the moving image\n",
    "axs[0].imshow(moving_image, cmap='gray')\n",
    "axs[0].axis('off')\n",
    "axs[0].set_title('Moving Image')\n",
    "\n",
    "# Plot the fixed image\n",
    "axs[1].imshow(fixed_image, cmap='gray')\n",
    "axs[1].axis('off')\n",
    "axs[1].set_title('Fixed Image')\n",
    "\n",
    "# Plot the registered image\n",
    "axs[2].imshow(moved_img, cmap='gray')\n",
    "axs[2].axis('off')\n",
    "axs[2].set_title('Registered Image')\n",
    "\n",
    "# Display the plot\n",
    "plt.show()"
   ]
  }
 ],
 "metadata": {
  "kernelspec": {
   "display_name": "dapi_reg",
   "language": "python",
   "name": "python3"
  },
  "language_info": {
   "codemirror_mode": {
    "name": "ipython",
    "version": 3
   },
   "file_extension": ".py",
   "mimetype": "text/x-python",
   "name": "python",
   "nbconvert_exporter": "python",
   "pygments_lexer": "ipython3",
   "version": "3.12.1"
  }
 },
 "nbformat": 4,
 "nbformat_minor": 2
}
