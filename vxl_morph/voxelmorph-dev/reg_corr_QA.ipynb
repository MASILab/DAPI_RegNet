{
 "cells": [
  {
   "cell_type": "code",
   "execution_count": 1,
   "metadata": {},
   "outputs": [],
   "source": [
    "from my_utils import Utils\n",
    "import torch\n",
    "import os\n",
    "os.environ['NEURITE_BACKEND'] = 'pytorch'\n",
    "os.environ['VXM_BACKEND'] = 'pytorch'\n",
    "import voxelmorph as vxm\n",
    "import matplotlib.pyplot as plt\n",
    "import glob\n",
    "import re"
   ]
  },
  {
   "cell_type": "code",
   "execution_count": 2,
   "metadata": {},
   "outputs": [],
   "source": [
    "original_tissues_path='/nfs2/baos1/rudravg'\n",
    "round_0_name='GCA112TIA'\n",
    "save_dir=''\n",
    "model_path='/home-local/rudravg/test_DAPI/epochs/epoch_50/epoch_50.pth'\n",
    "#Original Tissue files\n",
    "search_pattern = os.path.join(original_tissues_path, round_0_name + '*')\n",
    "matching_files = glob.glob(search_pattern)\n",
    "def extract_round_number(filename):\n",
    "    match = re.search(r'_ROUND_(\\d+)_', filename)\n",
    "    if match:\n",
    "        return int(match.group(1))\n",
    "    else:\n",
    "        return 0\n",
    "sorted_files = sorted(matching_files, key=extract_round_number) # List of paths for stored files.\n",
    "mask_search_pattern = os.path.join(original_tissues_path, 'Retention_Masks', round_0_name + '*')"
   ]
  },
  {
   "cell_type": "code",
   "execution_count": 3,
   "metadata": {},
   "outputs": [],
   "source": [
    "mask_files = glob.glob(mask_search_pattern)\n",
    "if mask_files:\n",
    "    mask_name = mask_files[0]\n",
    "else:\n",
    "    mask_name = None"
   ]
  },
  {
   "cell_type": "code",
   "execution_count": 4,
   "metadata": {},
   "outputs": [],
   "source": [
    "original_tissue=sorted_files[0]\n",
    "target_tissue=sorted_files[1]\n",
    "fixed,moving=Utils.load_images_and_apply_mask(original_tissue,target_tissue,mask_name)"
   ]
  },
  {
   "cell_type": "code",
   "execution_count": 5,
   "metadata": {},
   "outputs": [
    {
     "name": "stderr",
     "output_type": "stream",
     "text": [
      "/home/local/VANDERBILT/rudravg/miniconda3/envs/dapi_reg/lib/python3.12/site-packages/torch/functional.py:507: UserWarning: torch.meshgrid: in an upcoming release, it will be required to pass the indexing argument. (Triggered internally at ../aten/src/ATen/native/TensorShape.cpp:3549.)\n",
      "  return _VF.meshgrid(tensors, **kwargs)  # type: ignore[attr-defined]\n"
     ]
    }
   ],
   "source": [
    "device = torch.device('cuda:0' if torch.cuda.is_available() else 'cpu')\n",
    "model,device=Utils.load_model(model_path)"
   ]
  },
  {
   "cell_type": "code",
   "execution_count": 6,
   "metadata": {},
   "outputs": [],
   "source": [
    "registered_tissue=Utils.register_tissues(moving,fixed,model,device)"
   ]
  },
  {
   "cell_type": "code",
   "execution_count": 7,
   "metadata": {},
   "outputs": [],
   "source": [
    "after_ncc=Utils.calculate_ncc(fixed.ravel(),registered_tissue.ravel())\n",
    "before_ncc=Utils.calculate_ncc(fixed.ravel(),moving.ravel())\n",
    "print('NCC between moving and recon:',before_ncc)\n",
    "print('NCC between fixed and recon:',after_ncc)"
   ]
  },
  {
   "cell_type": "code",
   "execution_count": null,
   "metadata": {},
   "outputs": [],
   "source": []
  }
 ],
 "metadata": {
  "kernelspec": {
   "display_name": "dapi_reg",
   "language": "python",
   "name": "python3"
  },
  "language_info": {
   "codemirror_mode": {
    "name": "ipython",
    "version": 3
   },
   "file_extension": ".py",
   "mimetype": "text/x-python",
   "name": "python",
   "nbconvert_exporter": "python",
   "pygments_lexer": "ipython3",
   "version": "3.12.1"
  }
 },
 "nbformat": 4,
 "nbformat_minor": 2
}
