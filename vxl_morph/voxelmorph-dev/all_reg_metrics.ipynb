{
 "cells": [
  {
   "cell_type": "markdown",
   "metadata": {},
   "source": [
    "***Code to calculate the before and after registration metrics on all tissues and plot box plots***"
   ]
  },
  {
   "cell_type": "markdown",
   "metadata": {},
   "source": [
    "Last edited on 15/04/2024"
   ]
  },
  {
   "cell_type": "markdown",
   "metadata": {},
   "source": [
    "The metrics csv file stored at: /nfs2/forGaurav/yesbackup/DAPI_reg/final_metrics"
   ]
  },
  {
   "cell_type": "code",
   "execution_count": 1,
   "metadata": {},
   "outputs": [
    {
     "name": "stderr",
     "output_type": "stream",
     "text": [
      "/tmp/ipykernel_2339103/276627886.py:16: DeprecationWarning: \n",
      "Pyarrow will become a required dependency of pandas in the next major release of pandas (pandas 3.0),\n",
      "(to allow more performant data types, such as the Arrow string type, and better interoperability with other libraries)\n",
      "but was not found to be installed on your system.\n",
      "If this would cause problems for you,\n",
      "please provide us feedback at https://github.com/pandas-dev/pandas/issues/54466\n",
      "        \n",
      "  import pandas as pd\n"
     ]
    }
   ],
   "source": [
    "from PIL import Image\n",
    "import os\n",
    "import numpy as np\n",
    "from tqdm import tqdm\n",
    "import matplotlib.pyplot as plt\n",
    "import matplotlib.patches as patches\n",
    "from my_utils import Utils\n",
    "import glob\n",
    "import re\n",
    "os.environ['NEURITE_BACKEND'] = 'pytorch'\n",
    "os.environ['VXM_BACKEND'] = 'pytorch'\n",
    "import voxelmorph as vxm\n",
    "from my_utils import Utils\n",
    "import torch\n",
    "import csv\n",
    "import pandas as pd\n",
    "import seaborn as sns\n",
    "import matplotlib.pyplot as plt"
   ]
  },
  {
   "cell_type": "code",
   "execution_count": 6,
   "metadata": {},
   "outputs": [],
   "source": [
    "Image.MAX_IMAGE_PIXELS = None\n",
    "def extract_round_number(filename):\n",
    "    match = re.search(r'_ROUND_(\\d+)_', filename)\n",
    "    if match:\n",
    "        return int(match.group(1))\n",
    "    else:\n",
    "        return 0\n",
    "#Step 1: Load the images and apply the masks\n",
    "tissue_names_file='/nfs2/baos1/rudravg/tissue_names.txt'\n",
    "original_tissues_path='/nfs2/baos1/rudravg'\n",
    "\n",
    "raw_dir='/home-local/rudravg/Segmentation_test/Images'\n",
    "mask_dir='/home-local/rudravg/Segmentation_test/Masks'\n",
    "model_path='/home-local/rudravg/test_DAPI/epochs/epoch_50/epoch_50.pth'\n",
    "\n",
    "#Reading all tissue names\n",
    "with open(tissue_names_file, 'r') as file:\n",
    "    tissue_names = [line.strip() for line in file.readlines()]\n",
    "model,device=Utils.load_model(model_path)\n"
   ]
  },
  {
   "cell_type": "code",
   "execution_count": 7,
   "metadata": {},
   "outputs": [
    {
     "name": "stderr",
     "output_type": "stream",
     "text": [
      "Generating Images and Truths:   0%|          | 0/62 [00:00<?, ?it/s]"
     ]
    },
    {
     "name": "stderr",
     "output_type": "stream",
     "text": []
    }
   ],
   "source": [
    "with open('/nfs2/forGaurav/yesbackup/DAPI_reg/final_metricsoutput_version2.csv', 'w', newline='') as file:\n",
    "    writer = csv.writer(file)\n",
    "    writer.writerow(['tissue', 'round_x', 'before_ncc', 'after_ncc','intensity','mean_rmse'])\n",
    "    for tissue in tqdm(tissue_names,desc='Generating Images and Truths'):\n",
    "        search_pattern_raw_files = os.path.join(original_tissues_path, tissue + '*')\n",
    "        matching_files_raw = glob.glob(search_pattern_raw_files)\n",
    "        sorted_files_raw = sorted(matching_files_raw, key=extract_round_number) #This is important\n",
    "        mask_search_pattern = os.path.join(original_tissues_path, 'Retention_Masks', tissue + '*')\n",
    "        mask_files = glob.glob(mask_search_pattern)\n",
    "        round_0=sorted_files_raw[0]\n",
    "        if mask_files:\n",
    "            mask_name = mask_files[0]\n",
    "            mask=np.array(Image.open(mask_name))\n",
    "            mask = (mask > 0).astype(int)\n",
    "        else:\n",
    "            print(f\"Bruh fix mask for {tissue}\")\n",
    "            continue\n",
    "        for round_x in tqdm(sorted_files_raw[1:]):\n",
    "            moving,fixed,orig_height,orig_width=Utils.load_images_and_apply_mask(fixed=round_0,moving=round_x,mask=mask_name)\n",
    "            registered_tissue,L2_warp=Utils.register_tissues(moving=moving,fixed=fixed,model=model,device=device)\n",
    "            moving_unpadded=moving[:orig_height,:orig_width]\n",
    "            fixed_unpadded=fixed[:orig_height,:orig_width]\n",
    "            registered_tissue_unpadded=registered_tissue[:orig_height,:orig_width]\n",
    "            L2_warp=L2_warp[:orig_height,:orig_width]\n",
    "            mean_rmse=np.mean(L2_warp)\n",
    "            intensity_corrected_tissue,intensity_factor=Utils.adjust_intensity(fixed_unpadded,registered_tissue_unpadded)\n",
    "            before_ncc=Utils.calculate_ncc(fixed_unpadded.ravel(),moving_unpadded.ravel())\n",
    "            after_ncc=Utils.calculate_ncc(fixed_unpadded.ravel(),registered_tissue_unpadded.ravel())\n",
    "            writer.writerow([tissue, round_x, before_ncc, after_ncc,intensity_factor,mean_rmse])"
   ]
  },
  {
   "cell_type": "markdown",
   "metadata": {},
   "source": [
    "***Box Plots yaaay***"
   ]
  },
  {
   "cell_type": "code",
   "execution_count": null,
   "metadata": {},
   "outputs": [],
   "source": [
    "metrics='/nfs2/forGaurav/yesbackup/DAPI_reg/final_metricsoutput.csv'\n",
    "data_loaded = pd.read_csv(metrics)\n",
    "data_loaded['before_ncc'] = data_loaded['before_ncc'].str.strip('[]').astype(float)\n",
    "data_loaded['after_ncc'] = data_loaded['after_ncc'].str.strip('[]').astype(float)\n",
    "\n"
   ]
  },
  {
   "cell_type": "code",
   "execution_count": null,
   "metadata": {},
   "outputs": [],
   "source": [
    "unique_tissues = data_loaded['tissue'].unique()\n",
    "tissue_to_number = {tissue: i+1 for i, tissue in enumerate(unique_tissues)}\n",
    "data_loaded['tissue_number'] = data_loaded['tissue'].map(tissue_to_number)\n",
    "\n",
    "# Preparing data for plotting by melting the DataFrame\n",
    "data_melted = data_loaded.melt(id_vars=['tissue_number'], value_vars=['before_ncc', 'after_ncc'], \n",
    "                               var_name='Condition', value_name='NCC Value')\n",
    "\n"
   ]
  },
  {
   "cell_type": "code",
   "execution_count": null,
   "metadata": {},
   "outputs": [],
   "source": [
    "# Set the theme and context\n",
    "sns.set_theme(style=\"whitegrid\")\n",
    "sns.set_context(\"notebook\", font_scale=1.2)\n",
    "\n",
    "# Create the figure and the boxplot\n",
    "plt.figure(figsize=(20, 8))\n",
    "ax = sns.boxplot(x='tissue_number', y='NCC Value', hue='Condition', data=data_melted, palette='Set2', dodge=True, fliersize=2)\n",
    "\n",
    "# Set the title, labels, and legend\n",
    "ax.set_title('Boxplot of Before and After NCC Values for Each Tissue', fontsize=16)\n",
    "ax.set_xlabel('Tissue Number', fontsize=14)\n",
    "ax.set_ylabel('NCC Value', fontsize=14)\n",
    "plt.legend(title='Condition', title_fontsize='13', fontsize='12')\n",
    "\n",
    "# Set the x-ticks\n",
    "plt.xticks(ticks=range(len(unique_tissues)), labels=[f'{i+1}' for i in range(len(unique_tissues))], fontsize=12)\n",
    "\n",
    "plt.show()"
   ]
  },
  {
   "cell_type": "code",
   "execution_count": null,
   "metadata": {},
   "outputs": [],
   "source": [
    "sns.set_theme(style=\"whitegrid\")\n",
    "sns.set_context(\"notebook\", font_scale=1.2)\n",
    "\n",
    "# Create the figure and the stripplot\n",
    "plt.figure(figsize=(20, 8))\n",
    "ax = sns.stripplot(x='tissue_number', y='NCC Value', hue='Condition', data=data_melted, palette='Set1', jitter=True, size=5,alpha=0.9)\n",
    "\n",
    "# Set the title, labels, and legend\n",
    "ax.set_title('Before and After NCC Values for Each Tissue', fontsize=16)\n",
    "ax.set_xlabel('Tissue Number', fontsize=14)\n",
    "ax.set_ylabel('NCC Value', fontsize=14)\n",
    "plt.legend(title='Condition', title_fontsize='13', fontsize='12')\n",
    "\n",
    "# Set the x-ticks\n",
    "plt.xticks(ticks=range(len(unique_tissues)), labels=[f'{i+1}' for i in range(len(unique_tissues))], fontsize=12)\n",
    "\n",
    "plt.show()"
   ]
  },
  {
   "cell_type": "code",
   "execution_count": null,
   "metadata": {},
   "outputs": [],
   "source": [
    "plt.figure(figsize=(12, 8))\n",
    "ax = sns.boxplot(y='tissue_number', x='NCC Value', hue='Condition', data=data_melted, palette='Set2', dodge=True, orient='h')\n",
    "ax.set_title('Boxplot of Before and After NCC Values for Each Tissue')\n",
    "plt.legend(title='Condition')\n",
    "ax.set_ylabel('Tissue Number')\n",
    "plt.yticks(ticks=range(len(unique_tissues)), labels=[f'{i+1}' for i in range(len(unique_tissues))])\n",
    "plt.show()"
   ]
  },
  {
   "cell_type": "code",
   "execution_count": null,
   "metadata": {},
   "outputs": [],
   "source": []
  }
 ],
 "metadata": {
  "kernelspec": {
   "display_name": "dapi_reg",
   "language": "python",
   "name": "python3"
  },
  "language_info": {
   "codemirror_mode": {
    "name": "ipython",
    "version": 3
   },
   "file_extension": ".py",
   "mimetype": "text/x-python",
   "name": "python",
   "nbconvert_exporter": "python",
   "pygments_lexer": "ipython3",
   "version": "3.12.1"
  }
 },
 "nbformat": 4,
 "nbformat_minor": 2
}
