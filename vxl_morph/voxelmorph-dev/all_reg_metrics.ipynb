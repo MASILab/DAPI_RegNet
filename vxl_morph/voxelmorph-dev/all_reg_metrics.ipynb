{
 "cells": [
  {
   "cell_type": "markdown",
   "metadata": {},
   "source": [
    "***Code to calculate the before and after registration metrics on all tissues and plot box plots***"
   ]
  },
  {
   "cell_type": "markdown",
   "metadata": {},
   "source": [
    "Last edited on 12/04/2024"
   ]
  },
  {
   "cell_type": "markdown",
   "metadata": {},
   "source": [
    "The metrics csv file stored at: /nfs2/forGaurav/yesbackup/DAPI_reg/final_metrics"
   ]
  },
  {
   "cell_type": "code",
   "execution_count": 1,
   "metadata": {},
   "outputs": [],
   "source": [
    "from PIL import Image\n",
    "import os\n",
    "import numpy as np\n",
    "from tqdm import tqdm\n",
    "import matplotlib.pyplot as plt\n",
    "import matplotlib.patches as patches\n",
    "from my_utils import Utils\n",
    "import glob\n",
    "import re\n",
    "os.environ['NEURITE_BACKEND'] = 'pytorch'\n",
    "os.environ['VXM_BACKEND'] = 'pytorch'\n",
    "import voxelmorph as vxm\n",
    "from my_utils import Utils\n",
    "import torch\n",
    "import csv"
   ]
  },
  {
   "cell_type": "code",
   "execution_count": 2,
   "metadata": {},
   "outputs": [],
   "source": [
    "Image.MAX_IMAGE_PIXELS = None\n",
    "def extract_round_number(filename):\n",
    "    match = re.search(r'_ROUND_(\\d+)_', filename)\n",
    "    if match:\n",
    "        return int(match.group(1))\n",
    "    else:\n",
    "        return 0\n",
    "#Step 1: Load the images and apply the masks\n",
    "tissue_names_file='/nfs2/baos1/rudravg/tissue_names.txt'\n",
    "original_tissues_path='/nfs2/baos1/rudravg'\n",
    "\n",
    "raw_dir='/home-local/rudravg/Segmentation_test/Images'\n",
    "mask_dir='/home-local/rudravg/Segmentation_test/Masks'\n",
    "model_path='/home-local/rudravg/test_DAPI/epochs/epoch_50/epoch_50.pth'\n",
    "\n",
    "#Reading all tissue names\n",
    "with open(tissue_names_file, 'r') as file:\n",
    "    tissue_names = [line.strip() for line in file.readlines()]"
   ]
  },
  {
   "cell_type": "code",
   "execution_count": 3,
   "metadata": {},
   "outputs": [
    {
     "name": "stderr",
     "output_type": "stream",
     "text": [
      "Generating Images and Truths:   0%|          | 0/62 [00:00<?, ?it/s]"
     ]
    },
    {
     "name": "stderr",
     "output_type": "stream",
     "text": [
      "/home/local/VANDERBILT/rudravg/miniconda3/envs/dapi_reg/lib/python3.12/site-packages/torch/functional.py:507: UserWarning: torch.meshgrid: in an upcoming release, it will be required to pass the indexing argument. (Triggered internally at ../aten/src/ATen/native/TensorShape.cpp:3549.)\n",
      "  return _VF.meshgrid(tensors, **kwargs)  # type: ignore[attr-defined]\n",
      "Generating Images and Truths:  56%|█████▋    | 35/62 [31:57<25:04, 55.73s/it]  "
     ]
    }
   ],
   "source": [
    "with open('/nfs2/forGaurav/yesbackup/DAPI_reg/final_metricsoutput.csv', 'w', newline='') as file:\n",
    "    writer = csv.writer(file)\n",
    "    writer.writerow(['tissue', 'round_x', 'before_ncc', 'after_ncc'])\n",
    "    for tissue in tqdm(tissue_names,desc='Generating Images and Truths'):\n",
    "        search_pattern_raw_files = os.path.join(original_tissues_path, tissue + '*')\n",
    "        matching_files_raw = glob.glob(search_pattern_raw_files)\n",
    "        sorted_files_raw = sorted(matching_files_raw, key=extract_round_number) #This is important\n",
    "        mask_search_pattern = os.path.join(original_tissues_path, 'Retention_Masks', tissue + '*')\n",
    "        mask_files = glob.glob(mask_search_pattern)\n",
    "        round_0=sorted_files_raw[0]\n",
    "        if mask_files:\n",
    "            mask_name = mask_files[0]\n",
    "            mask=np.array(Image.open(mask_name))\n",
    "            mask = (mask > 0).astype(int)\n",
    "        else:\n",
    "            continue\n",
    "        for round_x in sorted_files_raw[1:]:\n",
    "            moving,fixed,orig_height,orig_width=Utils.load_images_and_apply_mask(round_0,round_x,mask_name)\n",
    "            model,device=Utils.load_model(model_path)\n",
    "            registered_tissue,L2_warp=Utils.register_tissues(moving,fixed,model,device)\n",
    "            moving_unpadded=moving[:orig_height,:orig_width]\n",
    "            fixed_unpadded=fixed[:orig_height,:orig_width]\n",
    "            registered_tissue_unpadded=registered_tissue[:orig_height,:orig_width]\n",
    "            L2_warp=L2_warp[:orig_height,:orig_width]\n",
    "            before_ncc=Utils.calculate_ncc(fixed_unpadded.ravel(),moving_unpadded.ravel())\n",
    "            after_ncc=Utils.calculate_ncc(fixed_unpadded.ravel(),registered_tissue_unpadded.ravel())\n",
    "            writer.writerow([tissue, round_x, before_ncc, after_ncc])"
   ]
  },
  {
   "cell_type": "code",
   "execution_count": null,
   "metadata": {},
   "outputs": [],
   "source": []
  }
 ],
 "metadata": {
  "kernelspec": {
   "display_name": "dapi_reg",
   "language": "python",
   "name": "python3"
  },
  "language_info": {
   "codemirror_mode": {
    "name": "ipython",
    "version": 3
   },
   "file_extension": ".py",
   "mimetype": "text/x-python",
   "name": "python",
   "nbconvert_exporter": "python",
   "pygments_lexer": "ipython3",
   "version": "3.12.1"
  }
 },
 "nbformat": 4,
 "nbformat_minor": 2
}
