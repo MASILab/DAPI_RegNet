{
 "cells": [
  {
   "cell_type": "code",
   "execution_count": 1,
   "metadata": {},
   "outputs": [],
   "source": [
    "from PIL import Image\n",
    "import os\n",
    "import numpy as np\n",
    "from tqdm import tqdm\n",
    "import matplotlib.pyplot as plt\n",
    "import matplotlib.patches as patches"
   ]
  },
  {
   "cell_type": "code",
   "execution_count": 3,
   "metadata": {},
   "outputs": [
    {
     "data": {
      "text/plain": [
       "(50, 11)"
      ]
     },
     "execution_count": 3,
     "metadata": {},
     "output_type": "execute_result"
    }
   ],
   "source": [
    "data_text_file='/fs5/p_masi/baos1/rudravg/MXIF/MXIF/Helmsley/MxIF/data_tissues.txt'\n",
    "Image.MAX_IMAGE_PIXELS = None\n",
    "with open(data_text_file, 'r') as file:\n",
    "    lines = file.readlines()\n",
    "test_files=lines[0:50]\n",
    "train_files=lines[50:]\n",
    "\n",
    "len(test_files), len(train_files)   "
   ]
  },
  {
   "cell_type": "code",
   "execution_count": 42,
   "metadata": {},
   "outputs": [
    {
     "name": "stdout",
     "output_type": "stream",
     "text": [
      "./Set03/GCA077TIA/Registered/GCA077TIA_DAPI_DAPI_12ms_ROUND_00.tif\n",
      "\n",
      "./Set03/GCA019ACA/Registered/GCA019ACA_DAPI_DAPI_12ms_ROUND_00.tif\n",
      "\n",
      "./Set03/GCA071TIA/Registered/GCA071TIA_DAPI_DAPI_12ms_ROUND_00.tif\n",
      "\n",
      "./Set02/GCA201ACB/Registered/GCA201ACB_DAPI_DAPI_12ms_ROUND_00.tif\n",
      "\n"
     ]
    },
    {
     "ename": "",
     "evalue": "",
     "output_type": "error",
     "traceback": [
      "\u001b[1;31mThe Kernel crashed while executing code in the current cell or a previous cell. \n",
      "\u001b[1;31mPlease review the code in the cell(s) to identify a possible cause of the failure. \n",
      "\u001b[1;31mClick <a href='https://aka.ms/vscodeJupyterKernelCrash'>here</a> for more info. \n",
      "\u001b[1;31mView Jupyter <a href='command:jupyter.viewOutput'>log</a> for further details."
     ]
    }
   ],
   "source": [
    "for line in test_files:\n",
    "    print(line)\n",
    "    if 'TISSUE' in line:\n",
    "        sub_tissue_name=(line.split('/')[4].split('_')[0])+'_'+(line.split('/')[4].split('_')[1])\n",
    "        sub_name=(line.split('/')[4].split('_')[0])\n",
    "    else:\n",
    "        sub_name=(line.split('/')[4].split('_')[0])\n",
    "        sub_tissue_name=sub_name\n",
    "    set_name=line.split('/')[1]\n",
    "    \n",
    "    set_dir=f'/fs5/p_masi/baos1/rudravg/MXIF/MXIF/Helmsley/MxIF/{set_name}/{sub_name}/Registered'\n",
    "    file_names = [name for name in os.listdir(set_dir) if sub_tissue_name in name and 'DAPI' in name]\n",
    "    sorted_file_names = sorted(file_names, key=lambda name: int(name.split('_ROUND_')[1].split('.')[0]))\n",
    "    target_file=f'{set_dir}/{sorted_file_names[0]}'\n",
    "    source_files_1=f'{set_dir}/{sorted_file_names[10]}'\n",
    "    source_files_2=f'{set_dir}/{sorted_file_names[15]}'\n",
    "    source_files_3=f'{set_dir}/{sorted_file_names[-1]}'\n",
    "    mask=f'/fs5/p_masi/baos1/rudravg/MXIF/MXIF/Helmsley/MxIF/{set_name}/{sub_name}/Registered/{sub_tissue_name}_RetentionMask.tif'\n",
    "    target = np.array(Image.open(target_file))/255.\n",
    "    source_1 = np.array(Image.open(source_files_1))/255.\n",
    "    source_2 = np.array(Image.open(source_files_2))/255.\n",
    "    source_3 = np.array(Image.open(source_files_3))/255.\n",
    "    mask = np.array(Image.open(mask))\n",
    "    target = target * mask\n",
    "    source_1 = source_1 * mask\n",
    "    source_2 = source_2 * mask\n",
    "    source_3 = source_3 * mask\n",
    "    window_size = (1024, 1024)\n",
    "\n",
    "    # Define directories\n",
    "    output_dir = '/home-local/rudravg/test_DAPI/1024_Dataset'\n",
    "    target_dir = os.path.join(output_dir, 'target_images')\n",
    "    source_dir = os.path.join(output_dir, 'source_images')\n",
    "\n",
    "    # Create directories if they don't exist\n",
    "    os.makedirs(target_dir, exist_ok=True)\n",
    "    os.makedirs(source_dir, exist_ok=True)\n",
    "\n",
    "    # Define pairs file\n",
    "    pairs_file = os.path.join(output_dir, 'pairs.txt')\n",
    "\n",
    "    # Open pairs file for writing\n",
    "    with open(pairs_file, 'a') as f:\n",
    "        for i in range(0, mask.shape[0], window_size[0]):\n",
    "            for j in range(0, mask.shape[1], window_size[1]):\n",
    "                window_mask = mask[i:i+window_size[0], j:j+window_size[1]]\n",
    "                \n",
    "                if np.count_nonzero(window_mask) > 400:\n",
    "                    # Save the cut pieces of the target in target_dir\n",
    "                    window_target = target[i:i+window_size[0], j:j+window_size[1]]\n",
    "                    target_path = os.path.join(target_dir, f'{sub_name}_{set_name}_Cut_{i}_{j}.npy')\n",
    "                    #target_png_path = os.path.join(target_dir, f'{sub_name}_{set_name}_{i}_{j}.png')\n",
    "                    np.save(target_path, window_target)\n",
    "                   # Image.fromarray(window_target).save(target_png_path)\n",
    "\n",
    "                    \n",
    "                    # Cut source_1, source_2 and source_3 in the same way and save their corresponding pieces in source_dir\n",
    "                    for source, source_name in zip([source_1, source_2, source_3], ['source_1', 'source_2', 'source_3']):\n",
    "                        window_source = source[i:i+window_size[0], j:j+window_size[1]]\n",
    "                        source_path = os.path.join(source_dir, f'Sub_{sub_name}_Set_{set_name}_Round_{source_name}_Cut_{i}_{j}.npy')\n",
    "                       # source_png_path = os.path.join(source_dir, f'{sub_name}_{set_name}_{source_name}_{i}_{j}.png')\n",
    "                       # Image.fromarray(window_source).save(source_png_path)\n",
    "                        np.save(source_path, window_source)\n",
    "                        \n",
    "                        # Append a space separated line in pairs_file with the first part being path to the source image and the second part being path to the target image\n",
    "                        f.write(f'{source_path} {target_path}\\n')"
   ]
  },
  {
   "cell_type": "code",
   "execution_count": 39,
   "metadata": {},
   "outputs": [],
   "source": [
    "tial=np.load('/home-local/rudravg/test_DAPI/1024_Dataset/source_images/GCA077TIA_Set03_source_1_0_1024.npy')"
   ]
  },
  {
   "cell_type": "code",
   "execution_count": 40,
   "metadata": {},
   "outputs": [
    {
     "data": {
      "text/plain": [
       "1.0"
      ]
     },
     "execution_count": 40,
     "metadata": {},
     "output_type": "execute_result"
    }
   ],
   "source": [
    "np.max(tial)"
   ]
  },
  {
   "cell_type": "code",
   "execution_count": 41,
   "metadata": {},
   "outputs": [
    {
     "data": {
      "text/plain": [
       "array([0.        , 0.00784314, 0.01176471, 0.01568627, 0.01960784,\n",
       "       0.02352941, 0.02745098, 0.03137255, 0.03529412, 0.03921569,\n",
       "       0.04313725, 0.04705882, 0.05098039, 0.05490196, 0.05882353,\n",
       "       0.0627451 , 0.06666667, 0.07058824, 0.0745098 , 0.07843137,\n",
       "       0.08235294, 0.08627451, 0.09019608, 0.09411765, 0.09803922,\n",
       "       0.10196078, 0.10588235, 0.10980392, 0.11372549, 0.11764706,\n",
       "       0.12156863, 0.1254902 , 0.12941176, 0.13333333, 0.1372549 ,\n",
       "       0.14117647, 0.14509804, 0.14901961, 0.15294118, 0.15686275,\n",
       "       0.16078431, 0.16470588, 0.16862745, 0.17254902, 0.17647059,\n",
       "       0.18039216, 0.18431373, 0.18823529, 0.19215686, 0.19607843,\n",
       "       0.2       , 0.20392157, 0.20784314, 0.21176471, 0.21568627,\n",
       "       0.21960784, 0.22352941, 0.22745098, 0.23137255, 0.23529412,\n",
       "       0.23921569, 0.24313725, 0.24705882, 0.25098039, 0.25490196,\n",
       "       0.25882353, 0.2627451 , 0.26666667, 0.27058824, 0.2745098 ,\n",
       "       0.27843137, 0.28235294, 0.28627451, 0.29019608, 0.29411765,\n",
       "       0.29803922, 0.30196078, 0.30588235, 0.30980392, 0.31372549,\n",
       "       0.31764706, 0.32156863, 0.3254902 , 0.32941176, 0.33333333,\n",
       "       0.3372549 , 0.34117647, 0.34509804, 0.34901961, 0.35294118,\n",
       "       0.35686275, 0.36078431, 0.36470588, 0.36862745, 0.37254902,\n",
       "       0.37647059, 0.38039216, 0.38431373, 0.38823529, 0.39215686,\n",
       "       0.39607843, 0.4       , 0.40392157, 0.40784314, 0.41176471,\n",
       "       0.41568627, 0.41960784, 0.42352941, 0.42745098, 0.43137255,\n",
       "       0.43529412, 0.43921569, 0.44313725, 0.44705882, 0.45098039,\n",
       "       0.45490196, 0.45882353, 0.4627451 , 0.46666667, 0.47058824,\n",
       "       0.4745098 , 0.47843137, 0.48235294, 0.48627451, 0.49019608,\n",
       "       0.49411765, 0.49803922, 0.50196078, 0.50588235, 0.50980392,\n",
       "       0.51372549, 0.51764706, 0.52156863, 0.5254902 , 0.52941176,\n",
       "       0.53333333, 0.5372549 , 0.54117647, 0.54509804, 0.54901961,\n",
       "       0.55294118, 0.55686275, 0.56078431, 0.56470588, 0.56862745,\n",
       "       0.57254902, 0.57647059, 0.58039216, 0.58431373, 0.58823529,\n",
       "       0.59215686, 0.59607843, 0.6       , 0.60392157, 0.60784314,\n",
       "       0.61176471, 0.61568627, 0.61960784, 0.62352941, 0.62745098,\n",
       "       0.63137255, 0.63529412, 0.63921569, 0.64313725, 0.64705882,\n",
       "       0.65098039, 0.65490196, 0.65882353, 0.6627451 , 0.66666667,\n",
       "       0.67058824, 0.6745098 , 0.67843137, 0.68235294, 0.68627451,\n",
       "       0.69019608, 0.69411765, 0.69803922, 0.70196078, 0.70588235,\n",
       "       0.70980392, 0.71372549, 0.71764706, 0.72156863, 0.7254902 ,\n",
       "       0.72941176, 0.73333333, 0.7372549 , 0.74117647, 0.74509804,\n",
       "       0.74901961, 0.75294118, 0.75686275, 0.76078431, 0.76470588,\n",
       "       0.76862745, 0.77254902, 0.77647059, 0.78039216, 0.78431373,\n",
       "       0.78823529, 0.79215686, 0.79607843, 0.8       , 0.80392157,\n",
       "       0.80784314, 0.81176471, 0.81568627, 0.81960784, 0.82352941,\n",
       "       0.82745098, 0.83137255, 0.83529412, 0.83921569, 0.84313725,\n",
       "       0.84705882, 0.85098039, 0.85490196, 0.85882353, 0.8627451 ,\n",
       "       0.86666667, 0.87058824, 0.8745098 , 0.87843137, 0.88235294,\n",
       "       0.88627451, 0.89019608, 0.89411765, 0.89803922, 0.90196078,\n",
       "       0.90588235, 0.90980392, 0.91372549, 0.91764706, 0.92156863,\n",
       "       0.9254902 , 0.92941176, 0.93333333, 0.9372549 , 0.94117647,\n",
       "       0.94509804, 0.94901961, 0.95294118, 0.95686275, 0.96078431,\n",
       "       0.96470588, 0.96862745, 0.97254902, 0.97647059, 0.98039216,\n",
       "       0.98431373, 0.98823529, 0.99215686, 0.99607843, 1.        ])"
      ]
     },
     "execution_count": 41,
     "metadata": {},
     "output_type": "execute_result"
    }
   ],
   "source": [
    "np.unique(tial)"
   ]
  },
  {
   "cell_type": "code",
   "execution_count": 27,
   "metadata": {},
   "outputs": [
    {
     "data": {
      "text/plain": [
       "(1.0, 1.0, 1.0, 1.0, 1.0)"
      ]
     },
     "execution_count": 27,
     "metadata": {},
     "output_type": "execute_result"
    }
   ],
   "source": [
    "np.max(mask),np.max(target),np.max(source_1),np.max(source_2),np.max(source_3)"
   ]
  },
  {
   "cell_type": "code",
   "execution_count": 28,
   "metadata": {},
   "outputs": [
    {
     "data": {
      "text/plain": [
       "(0.0, 0.0, 0.0, 0.0, 0.0)"
      ]
     },
     "execution_count": 28,
     "metadata": {},
     "output_type": "execute_result"
    }
   ],
   "source": [
    "np.min(mask),np.min(target),np.min(source_1),np.min(source_2),np.min(source_3)"
   ]
  },
  {
   "cell_type": "code",
   "execution_count": 29,
   "metadata": {},
   "outputs": [
    {
     "data": {
      "text/plain": [
       "array([0.        , 0.00392157, 0.00784314, 0.01568627, 0.01960784,\n",
       "       0.02352941, 0.02745098, 0.03137255, 0.03529412, 0.03921569,\n",
       "       0.04313725, 0.04705882, 0.05098039, 0.05490196, 0.05882353,\n",
       "       0.0627451 , 0.06666667, 0.07058824, 0.0745098 , 0.07843137,\n",
       "       0.08235294, 0.08627451, 0.09019608, 0.09411765, 0.09803922,\n",
       "       0.10196078, 0.10588235, 0.10980392, 0.11372549, 0.11764706,\n",
       "       0.12156863, 0.1254902 , 0.12941176, 0.13333333, 0.1372549 ,\n",
       "       0.14117647, 0.14509804, 0.14901961, 0.15294118, 0.15686275,\n",
       "       0.16078431, 0.16470588, 0.16862745, 0.17254902, 0.17647059,\n",
       "       0.18039216, 0.18431373, 0.18823529, 0.19215686, 0.19607843,\n",
       "       0.2       , 0.20392157, 0.20784314, 0.21176471, 0.21568627,\n",
       "       0.21960784, 0.22352941, 0.22745098, 0.23137255, 0.23529412,\n",
       "       0.23921569, 0.24313725, 0.24705882, 0.25098039, 0.25490196,\n",
       "       0.25882353, 0.2627451 , 0.26666667, 0.27058824, 0.2745098 ,\n",
       "       0.27843137, 0.28235294, 0.28627451, 0.29019608, 0.29411765,\n",
       "       0.29803922, 0.30196078, 0.30588235, 0.30980392, 0.31372549,\n",
       "       0.31764706, 0.32156863, 0.3254902 , 0.32941176, 0.33333333,\n",
       "       0.3372549 , 0.34117647, 0.34509804, 0.34901961, 0.35294118,\n",
       "       0.35686275, 0.36078431, 0.36470588, 0.36862745, 0.37254902,\n",
       "       0.37647059, 0.38039216, 0.38431373, 0.38823529, 0.39215686,\n",
       "       0.39607843, 0.4       , 0.40392157, 0.40784314, 0.41176471,\n",
       "       0.41568627, 0.41960784, 0.42352941, 0.42745098, 0.43137255,\n",
       "       0.43529412, 0.43921569, 0.44313725, 0.44705882, 0.45098039,\n",
       "       0.45490196, 0.45882353, 0.4627451 , 0.46666667, 0.47058824,\n",
       "       0.4745098 , 0.47843137, 0.48235294, 0.48627451, 0.49019608,\n",
       "       0.49411765, 0.49803922, 0.50196078, 0.50588235, 0.50980392,\n",
       "       0.51372549, 0.51764706, 0.52156863, 0.5254902 , 0.52941176,\n",
       "       0.53333333, 0.5372549 , 0.54117647, 0.54509804, 0.54901961,\n",
       "       0.55294118, 0.55686275, 0.56078431, 0.56470588, 0.56862745,\n",
       "       0.57254902, 0.57647059, 0.58039216, 0.58431373, 0.58823529,\n",
       "       0.59215686, 0.59607843, 0.6       , 0.60392157, 0.60784314,\n",
       "       0.61176471, 0.61568627, 0.61960784, 0.62352941, 0.62745098,\n",
       "       0.63137255, 0.63529412, 0.63921569, 0.64313725, 0.64705882,\n",
       "       0.65098039, 0.65490196, 0.65882353, 0.6627451 , 0.66666667,\n",
       "       0.67058824, 0.6745098 , 0.67843137, 0.68235294, 0.68627451,\n",
       "       0.69019608, 0.69411765, 0.69803922, 0.70196078, 0.70588235,\n",
       "       0.70980392, 0.71372549, 0.71764706, 0.72156863, 0.7254902 ,\n",
       "       0.72941176, 0.73333333, 0.7372549 , 0.74117647, 0.74509804,\n",
       "       0.74901961, 0.75294118, 0.75686275, 0.76078431, 0.76470588,\n",
       "       0.76862745, 0.77254902, 0.77647059, 0.78039216, 0.78431373,\n",
       "       0.78823529, 0.79215686, 0.79607843, 0.8       , 0.80392157,\n",
       "       0.80784314, 0.81176471, 0.81568627, 0.81960784, 0.82352941,\n",
       "       0.82745098, 0.83137255, 0.83529412, 0.83921569, 0.84313725,\n",
       "       0.84705882, 0.85098039, 0.85490196, 0.85882353, 0.8627451 ,\n",
       "       0.86666667, 0.87058824, 0.8745098 , 0.87843137, 0.88235294,\n",
       "       0.88627451, 0.89019608, 0.89411765, 0.89803922, 0.90196078,\n",
       "       0.90588235, 0.90980392, 0.91372549, 0.91764706, 0.92156863,\n",
       "       0.9254902 , 0.92941176, 0.93333333, 0.9372549 , 0.94117647,\n",
       "       0.94509804, 0.94901961, 0.95294118, 0.95686275, 0.96078431,\n",
       "       0.96470588, 0.96862745, 0.97254902, 0.97647059, 0.98039216,\n",
       "       0.98431373, 0.98823529, 0.99215686, 0.99607843, 1.        ])"
      ]
     },
     "execution_count": 29,
     "metadata": {},
     "output_type": "execute_result"
    }
   ],
   "source": [
    "np.unique(target)"
   ]
  },
  {
   "cell_type": "code",
   "execution_count": 5,
   "metadata": {},
   "outputs": [
    {
     "name": "stderr",
     "output_type": "stream",
     "text": [
      "100%|██████████| 2792/2792 [00:09<00:00, 289.56it/s]\n"
     ]
    }
   ],
   "source": [
    "import os\n",
    "import numpy as np\n",
    "from tqdm import tqdm\n",
    "\n",
    "# Define the directory\n",
    "dir_path = '/home-local/rudravg/test_DAPI/1024_Dataset/target_images'\n",
    "non_512_filenames = []\n",
    "# Iterate over all files in the directory\n",
    "for filename in tqdm(os.listdir(dir_path)):\n",
    "    # Check if the file is a .npy file\n",
    "    if filename.endswith('.npy'):\n",
    "        # Load the numpy array\n",
    "        array = np.load(os.path.join(dir_path, filename))\n",
    "        \n",
    "        # Check if the shape of the array is not 512x512\n",
    "        if array.shape != (1024, 1024):\n",
    "            print(f'Filename: {filename}, Shape: {array.shape}')\n",
    "            #non_512_filenames.append(filename)\n",
    "#print(len(non_512_filenames))"
   ]
  },
  {
   "cell_type": "code",
   "execution_count": null,
   "metadata": {},
   "outputs": [],
   "source": []
  }
 ],
 "metadata": {
  "kernelspec": {
   "display_name": "dapi_reg",
   "language": "python",
   "name": "python3"
  },
  "language_info": {
   "codemirror_mode": {
    "name": "ipython",
    "version": 3
   },
   "file_extension": ".py",
   "mimetype": "text/x-python",
   "name": "python",
   "nbconvert_exporter": "python",
   "pygments_lexer": "ipython3",
   "version": "3.12.1"
  }
 },
 "nbformat": 4,
 "nbformat_minor": 2
}
