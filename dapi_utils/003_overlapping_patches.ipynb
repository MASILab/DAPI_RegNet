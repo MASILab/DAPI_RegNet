{
 "cells": [
  {
   "cell_type": "code",
   "execution_count": 1,
   "metadata": {},
   "outputs": [],
   "source": [
    "import cv2\n",
    "import numpy as np\n",
    "import matplotlib.pyplot as plt\n",
    "\n",
    "\n"
   ]
  },
  {
   "cell_type": "code",
   "execution_count": 2,
   "metadata": {},
   "outputs": [],
   "source": [
    "def extract_patches(img, patch_size, overlap):\n",
    "    patches = []\n",
    "    step = patch_size - overlap\n",
    "    for y in range(0, img.shape[0] - patch_size + 1, step):\n",
    "        for x in range(0, img.shape[1] - patch_size + 1, step):\n",
    "            patches.append((x, y, img[y:y + patch_size, x:x + patch_size]))\n",
    "    return patches\n",
    "\n",
    "def average_overlaps(patches, img_shape, patch_size, overlap):\n",
    "    reconstruction = np.zeros(img_shape, dtype=np.float64)\n",
    "    count = np.zeros(img_shape, dtype=np.float64)\n",
    "\n",
    "    step = patch_size - overlap\n",
    "    for x, y, patch in patches:\n",
    "        reconstruction[y:y + patch_size, x:x + patch_size] += patch\n",
    "        count[y:y + patch_size, x:x + patch_size] += 1\n",
    "\n",
    "    # Avoid division by zero\n",
    "    count[count == 0] = 1\n",
    "    reconstruction /= count\n",
    "    return reconstruction.astype(np.uint8)\n",
    "\n"
   ]
  },
  {
   "cell_type": "code",
   "execution_count": 7,
   "metadata": {},
   "outputs": [],
   "source": [
    "# Create a test image with different intensity blocks\n",
    "test_img = np.zeros((90, 90), dtype=np.uint8)\n",
    "test_img[0:40, 0:100] = 100  # Top-left\n",
    "test_img[0:100, 100:210] = 150  # Top-right\n",
    "test_img[100:210, 0:100] = 200  # Bottom-left\n",
    "test_img[100:210, 100:210] = 250  # Bottom-right\n",
    "\n",
    "# Parameters\n",
    "patch_size = 50  # Example patch size\n",
    "overlap = 10     # Overlap of 10 pixels\n",
    "\n",
    "# Extract patches\n",
    "patches = extract_patches(test_img, patch_size, overlap)\n",
    "\n",
    "# Average overlapping patches\n",
    "reconstructed_image = average_overlaps(patches, test_img.shape, patch_size, overlap)\n"
   ]
  },
  {
   "cell_type": "code",
   "execution_count": 8,
   "metadata": {},
   "outputs": [
    {
     "data": {
      "image/png": "[encoded data removed]",
      "text/plain": [
       "<Figure size 1000x500 with 2 Axes>"
      ]
     },
     "metadata": {},
     "output_type": "display_data"
    }
   ],
   "source": [
    "\n",
    "# Display the original and reconstructed images using matplotlib for better visualization\n",
    "\n",
    "fig, axs = plt.subplots(1, 2, figsize=(10, 5))\n",
    "axs[0].imshow(test_img, cmap='gray')\n",
    "axs[0].set_title('Original Image')\n",
    "axs[0].axis('off')\n",
    "\n",
    "axs[1].imshow(reconstructed_image, cmap='gray')\n",
    "axs[1].set_title('Reconstructed Image')\n",
    "axs[1].axis('off')\n",
    "\n",
    "plt.show()"
   ]
  },
  {
   "cell_type": "code",
   "execution_count": 27,
   "metadata": {},
   "outputs": [
    {
     "data": {
      "text/plain": [
       "(-0.5, 89.5, 89.5, -0.5)"
      ]
     },
     "execution_count": 27,
     "metadata": {},
     "output_type": "execute_result"
    },
    {
     "data": {
      "image/png": "[encoded data removed]",
      "text/plain": [
       "<Figure size 1000x500 with 2 Axes>"
      ]
     },
     "metadata": {},
     "output_type": "display_data"
    }
   ],
   "source": [
    "test_img = np.zeros((90, 90), dtype=np.uint8)\n",
    "test_img[40:45,:]=50\n",
    "test_img[45:50,:]=100\n",
    "test_img[:,40:45]=50\n",
    "test_img[:,45:50]=100\n",
    "patches = extract_patches(test_img, patch_size, overlap)\n",
    "\n",
    "# Average overlapping patches\n",
    "reconstructed_image = average_overlaps(patches, test_img.shape, patch_size, overlap)\n",
    "\n",
    "fig, axs = plt.subplots(1, 2, figsize=(10, 5))\n",
    "axs[0].imshow(test_img, cmap='gray')\n",
    "axs[0].set_title('Original Image')\n",
    "axs[0].axis('off')\n",
    "\n",
    "axs[1].imshow(reconstructed_image, cmap='gray')\n",
    "axs[1].set_title('Reconstructed Image')\n",
    "axs[1].axis('off')\n"
   ]
  },
  {
   "cell_type": "code",
   "execution_count": null,
   "metadata": {},
   "outputs": [],
   "source": []
  }
 ],
 "metadata": {
  "kernelspec": {
   "display_name": "dapi_reg",
   "language": "python",
   "name": "python3"
  },
  "language_info": {
   "codemirror_mode": {
    "name": "ipython",
    "version": 3
   },
   "file_extension": ".py",
   "mimetype": "text/x-python",
   "name": "python",
   "nbconvert_exporter": "python",
   "pygments_lexer": "ipython3",
   "version": "3.12.1"
  }
 },
 "nbformat": 4,
 "nbformat_minor": 2
}
