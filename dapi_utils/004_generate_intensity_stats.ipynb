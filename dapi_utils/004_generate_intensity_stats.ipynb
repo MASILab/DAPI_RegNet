{
 "cells": [
  {
   "cell_type": "code",
   "execution_count": 1,
   "metadata": {},
   "outputs": [
    {
     "name": "stderr",
     "output_type": "stream",
     "text": [
      "/tmp/ipykernel_887469/3071408525.py:2: DeprecationWarning: \n",
      "Pyarrow will become a required dependency of pandas in the next major release of pandas (pandas 3.0),\n",
      "(to allow more performant data types, such as the Arrow string type, and better interoperability with other libraries)\n",
      "but was not found to be installed on your system.\n",
      "If this would cause problems for you,\n",
      "please provide us feedback at https://github.com/pandas-dev/pandas/issues/54466\n",
      "        \n",
      "  import pandas as pd\n"
     ]
    }
   ],
   "source": [
    "import numpy as np\n",
    "import pandas as pd\n",
    "from PIL import Image\n",
    "import pandas as pd\n",
    "import matplotlib.pyplot as plt\n",
    "from tqdm import tqdm\n",
    "import glob\n",
    "import os\n",
    "import re\n",
    "Image.MAX_IMAGE_PIXELS = None"
   ]
  },
  {
   "cell_type": "code",
   "execution_count": 2,
   "metadata": {},
   "outputs": [],
   "source": [
    "marker_list = ['CD11B','CD20','CD3d','CD45','CD4','CD68','CD8','CgA','Lysozyme','NaKATPase','PanCK','SMA','Sox9','Vimentin','OLFM4']\n"
   ]
  },
  {
   "cell_type": "code",
   "execution_count": 3,
   "metadata": {},
   "outputs": [],
   "source": [
    "image_dir='/fs5/p_masi/rudravg/MxIF_Vxm_Registered/GCA020TIB_TISSUE01/AF_Removed'"
   ]
  },
  {
   "cell_type": "code",
   "execution_count": 4,
   "metadata": {},
   "outputs": [],
   "source": [
    "marker_files = {}\n",
    "\n",
    "# Loop over each marker\n",
    "for marker in marker_list:\n",
    "    # Search for files that contain the marker name\n",
    "    files = glob.glob(os.path.join(image_dir, f\"*{marker}*\"))\n",
    "    \n",
    "    # Filter the files to only include those that exactly match the marker name\n",
    "    files = [file for file in files if f\"GCA020TIB_TISSUE01_{marker}_\" in file.split('/')[-1]]    \n",
    "    # Add the files to the dictionary\n",
    "    marker_files[marker] = files"
   ]
  },
  {
   "cell_type": "code",
   "execution_count": 5,
   "metadata": {},
   "outputs": [
    {
     "data": {
      "text/plain": [
       "{'CD11B': ['/fs5/p_masi/rudravg/MxIF_Vxm_Registered/GCA020TIB_TISSUE01/AF_Removed/ROUND_04_CY2_GCA020TIB_TISSUE01_CD11B_normalized_corrected.tif'],\n",
       " 'CD20': ['/fs5/p_masi/rudravg/MxIF_Vxm_Registered/GCA020TIB_TISSUE01/AF_Removed/ROUND_04_CY5_GCA020TIB_TISSUE01_CD20_normalized_corrected.tif'],\n",
       " 'CD3d': ['/fs5/p_masi/rudravg/MxIF_Vxm_Registered/GCA020TIB_TISSUE01/AF_Removed/ROUND_10_CY3_GCA020TIB_TISSUE01_CD3d_normalized_corrected.tif'],\n",
       " 'CD45': ['/fs5/p_masi/rudravg/MxIF_Vxm_Registered/GCA020TIB_TISSUE01/AF_Removed/ROUND_02_CY5_GCA020TIB_TISSUE01_CD45_normalized_corrected.tif'],\n",
       " 'CD4': ['/fs5/p_masi/rudravg/MxIF_Vxm_Registered/GCA020TIB_TISSUE01/AF_Removed/ROUND_08_CY5_GCA020TIB_TISSUE01_CD4_normalized_corrected.tif'],\n",
       " 'CD68': ['/fs5/p_masi/rudravg/MxIF_Vxm_Registered/GCA020TIB_TISSUE01/AF_Removed/ROUND_14_CY3_GCA020TIB_TISSUE01_CD68_normalized_corrected.tif'],\n",
       " 'CD8': ['/fs5/p_masi/rudravg/MxIF_Vxm_Registered/GCA020TIB_TISSUE01/AF_Removed/ROUND_12_CY5_GCA020TIB_TISSUE01_CD8_normalized_corrected.tif'],\n",
       " 'CgA': ['/fs5/p_masi/rudravg/MxIF_Vxm_Registered/GCA020TIB_TISSUE01/AF_Removed/ROUND_08_CY3_GCA020TIB_TISSUE01_CgA_normalized_corrected.tif'],\n",
       " 'Lysozyme': ['/fs5/p_masi/rudravg/MxIF_Vxm_Registered/GCA020TIB_TISSUE01/AF_Removed/ROUND_18_CY2_GCA020TIB_TISSUE01_Lysozyme_normalized_corrected.tif'],\n",
       " 'NaKATPase': ['/fs5/p_masi/rudravg/MxIF_Vxm_Registered/GCA020TIB_TISSUE01/AF_Removed/ROUND_14_CY5_GCA020TIB_TISSUE01_NaKATPase_normalized_corrected.tif'],\n",
       " 'PanCK': ['/fs5/p_masi/rudravg/MxIF_Vxm_Registered/GCA020TIB_TISSUE01/AF_Removed/ROUND_12_CY2_GCA020TIB_TISSUE01_PanCK_normalized_corrected.tif'],\n",
       " 'SMA': ['/fs5/p_masi/rudravg/MxIF_Vxm_Registered/GCA020TIB_TISSUE01/AF_Removed/ROUND_18_CY3_GCA020TIB_TISSUE01_SMA_normalized_corrected.tif'],\n",
       " 'Sox9': ['/fs5/p_masi/rudravg/MxIF_Vxm_Registered/GCA020TIB_TISSUE01/AF_Removed/ROUND_16_CY3_GCA020TIB_TISSUE01_Sox9_normalized_corrected.tif'],\n",
       " 'Vimentin': ['/fs5/p_masi/rudravg/MxIF_Vxm_Registered/GCA020TIB_TISSUE01/AF_Removed/ROUND_16_CY2_GCA020TIB_TISSUE01_Vimentin_normalized_corrected.tif'],\n",
       " 'OLFM4': ['/fs5/p_masi/rudravg/MxIF_Vxm_Registered/GCA020TIB_TISSUE01/AF_Removed/ROUND_12_CY3_GCA020TIB_TISSUE01_OLFM4_normalized_corrected.tif']}"
      ]
     },
     "execution_count": 5,
     "metadata": {},
     "output_type": "execute_result"
    }
   ],
   "source": [
    "marker_files"
   ]
  },
  {
   "cell_type": "code",
   "execution_count": 6,
   "metadata": {},
   "outputs": [],
   "source": [
    "data=[]"
   ]
  },
  {
   "cell_type": "code",
   "execution_count": 7,
   "metadata": {},
   "outputs": [],
   "source": [
    "mask = Image.open('/fs5/p_masi/rudravg/MxIF_Vxm_Registered/GCA020TIB_TISSUE01/mask.tif')\n",
    "mask_np = np.array(mask)\n",
    "unique_instances = np.unique(mask_np)\n",
    "unique_instances = unique_instances[unique_instances != 0] "
   ]
  },
  {
   "cell_type": "code",
   "execution_count": 9,
   "metadata": {},
   "outputs": [
    {
     "data": {
      "text/plain": [
       "18443"
      ]
     },
     "execution_count": 9,
     "metadata": {},
     "output_type": "execute_result"
    }
   ],
   "source": [
    "len(unique_instances)"
   ]
  },
  {
   "cell_type": "code",
   "execution_count": 8,
   "metadata": {},
   "outputs": [],
   "source": [
    "import concurrent.futures\n",
    "from tqdm import tqdm\n",
    "\n",
    "def process_instance(instance):\n",
    "    # Initialize a list to hold the current row of data\n",
    "    row = [instance]\n",
    "\n",
    "    # Create a mask for the current instance\n",
    "    instance_mask = mask_np == instance\n",
    "\n",
    "    # Calculate the centroid of the current instance\n",
    "    y_indices, x_indices = np.where(instance_mask)\n",
    "    centroid_x = np.mean(x_indices)\n",
    "    centroid_y = np.mean(y_indices)\n",
    "\n",
    "    # Append the centroid to the row\n",
    "    row.extend([centroid_x, centroid_y])\n",
    "\n",
    "    # Loop over each marker\n",
    "    for marker, files in marker_files.items():\n",
    "        # Assume there's only one file per marker\n",
    "        file = files[0]\n",
    "\n",
    "        # Open the image file\n",
    "        image = Image.open(file)\n",
    "\n",
    "        # Convert the image to a numpy array\n",
    "        image_np = np.array(image)\n",
    "\n",
    "        # Get the pixels of the current instance\n",
    "        instance_pixels = image_np[instance_mask]\n",
    "\n",
    "        # Calculate the mean intensity\n",
    "        mean_intensity = np.mean(instance_pixels)\n",
    "\n",
    "        # Append the mean intensity to the row\n",
    "        row.append(mean_intensity)\n",
    "\n",
    "    return row\n",
    "\n",
    "# Initialize a list to hold the data\n",
    "data = []\n",
    "\n",
    "# Create a ThreadPoolExecutor\n",
    "with concurrent.futures.ThreadPoolExecutor() as executor:\n",
    "    # Use the executor to map the process_instance function to the unique_instances\n",
    "    data = list(tqdm(executor.map(process_instance, unique_instances), total=len(unique_instances)))"
   ]
  },
  {
   "cell_type": "code",
   "execution_count": 66,
   "metadata": {},
   "outputs": [],
   "source": [
    "df1 = pd.DataFrame(data, columns=['Instance', 'Centroid_X', 'Centroid_Y'] + marker_list)"
   ]
  },
  {
   "cell_type": "code",
   "execution_count": 68,
   "metadata": {},
   "outputs": [
    {
     "data": {
      "text/html": [
       "<div>\n",
       "<style scoped>\n",
       "    .dataframe tbody tr th:only-of-type {\n",
       "        vertical-align: middle;\n",
       "    }\n",
       "\n",
       "    .dataframe tbody tr th {\n",
       "        vertical-align: top;\n",
       "    }\n",
       "\n",
       "    .dataframe thead th {\n",
       "        text-align: right;\n",
       "    }\n",
       "</style>\n",
       "<table border=\"1\" class=\"dataframe\">\n",
       "  <thead>\n",
       "    <tr style=\"text-align: right;\">\n",
       "      <th></th>\n",
       "      <th>Instance</th>\n",
       "      <th>Centroid_X</th>\n",
       "      <th>Centroid_Y</th>\n",
       "      <th>CD11B</th>\n",
       "      <th>CD20</th>\n",
       "      <th>CD3D</th>\n",
       "      <th>CD45</th>\n",
       "      <th>CD4</th>\n",
       "      <th>CD68</th>\n",
       "      <th>CD8</th>\n",
       "      <th>CGA</th>\n",
       "      <th>LYSOZYME</th>\n",
       "      <th>NAKATPASE</th>\n",
       "      <th>PANCK</th>\n",
       "      <th>SMA</th>\n",
       "      <th>SOX9</th>\n",
       "      <th>VIMENTIN</th>\n",
       "      <th>OLFM4</th>\n",
       "    </tr>\n",
       "  </thead>\n",
       "  <tbody>\n",
       "    <tr>\n",
       "      <th>2020</th>\n",
       "      <td>2021</td>\n",
       "      <td>1699.250597</td>\n",
       "      <td>2793.434368</td>\n",
       "      <td>22.262529</td>\n",
       "      <td>32.264915</td>\n",
       "      <td>14.360382</td>\n",
       "      <td>12.942720</td>\n",
       "      <td>13.940334</td>\n",
       "      <td>39.455849</td>\n",
       "      <td>9.284010</td>\n",
       "      <td>55.568020</td>\n",
       "      <td>28.980907</td>\n",
       "      <td>4.627685</td>\n",
       "      <td>15.983294</td>\n",
       "      <td>2.584726</td>\n",
       "      <td>30.510740</td>\n",
       "      <td>10.594272</td>\n",
       "      <td>6.272077</td>\n",
       "    </tr>\n",
       "    <tr>\n",
       "      <th>2021</th>\n",
       "      <td>2022</td>\n",
       "      <td>1695.616114</td>\n",
       "      <td>2805.753555</td>\n",
       "      <td>7.312796</td>\n",
       "      <td>7.592417</td>\n",
       "      <td>7.255924</td>\n",
       "      <td>8.270143</td>\n",
       "      <td>8.587678</td>\n",
       "      <td>16.786730</td>\n",
       "      <td>6.379147</td>\n",
       "      <td>16.047394</td>\n",
       "      <td>10.118484</td>\n",
       "      <td>3.156398</td>\n",
       "      <td>6.241706</td>\n",
       "      <td>1.620853</td>\n",
       "      <td>11.549763</td>\n",
       "      <td>2.312796</td>\n",
       "      <td>1.772512</td>\n",
       "    </tr>\n",
       "    <tr>\n",
       "      <th>2022</th>\n",
       "      <td>2023</td>\n",
       "      <td>1754.052933</td>\n",
       "      <td>2863.974249</td>\n",
       "      <td>9.117311</td>\n",
       "      <td>12.030043</td>\n",
       "      <td>5.463519</td>\n",
       "      <td>8.658083</td>\n",
       "      <td>10.321888</td>\n",
       "      <td>16.856939</td>\n",
       "      <td>5.371960</td>\n",
       "      <td>27.243204</td>\n",
       "      <td>16.828325</td>\n",
       "      <td>2.117311</td>\n",
       "      <td>5.357654</td>\n",
       "      <td>3.889843</td>\n",
       "      <td>16.719599</td>\n",
       "      <td>6.477826</td>\n",
       "      <td>2.018598</td>\n",
       "    </tr>\n",
       "    <tr>\n",
       "      <th>2023</th>\n",
       "      <td>2024</td>\n",
       "      <td>1680.765625</td>\n",
       "      <td>2869.058036</td>\n",
       "      <td>24.906250</td>\n",
       "      <td>24.131697</td>\n",
       "      <td>15.752233</td>\n",
       "      <td>16.859375</td>\n",
       "      <td>15.296875</td>\n",
       "      <td>32.745537</td>\n",
       "      <td>8.669642</td>\n",
       "      <td>67.216515</td>\n",
       "      <td>27.316965</td>\n",
       "      <td>3.566964</td>\n",
       "      <td>15.392858</td>\n",
       "      <td>4.281250</td>\n",
       "      <td>27.727678</td>\n",
       "      <td>13.973214</td>\n",
       "      <td>4.095982</td>\n",
       "    </tr>\n",
       "    <tr>\n",
       "      <th>2024</th>\n",
       "      <td>2025</td>\n",
       "      <td>1687.907595</td>\n",
       "      <td>2889.232911</td>\n",
       "      <td>17.944304</td>\n",
       "      <td>22.192406</td>\n",
       "      <td>10.601266</td>\n",
       "      <td>10.473417</td>\n",
       "      <td>12.175949</td>\n",
       "      <td>27.079746</td>\n",
       "      <td>6.670886</td>\n",
       "      <td>39.589874</td>\n",
       "      <td>24.096203</td>\n",
       "      <td>3.079747</td>\n",
       "      <td>8.650633</td>\n",
       "      <td>2.872152</td>\n",
       "      <td>22.970886</td>\n",
       "      <td>27.127848</td>\n",
       "      <td>3.520253</td>\n",
       "    </tr>\n",
       "  </tbody>\n",
       "</table>\n",
       "</div>"
      ],
      "text/plain": [
       "      Instance   Centroid_X   Centroid_Y      CD11B       CD20       CD3D  \\\n",
       "2020      2021  1699.250597  2793.434368  22.262529  32.264915  14.360382   \n",
       "2021      2022  1695.616114  2805.753555   7.312796   7.592417   7.255924   \n",
       "2022      2023  1754.052933  2863.974249   9.117311  12.030043   5.463519   \n",
       "2023      2024  1680.765625  2869.058036  24.906250  24.131697  15.752233   \n",
       "2024      2025  1687.907595  2889.232911  17.944304  22.192406  10.601266   \n",
       "\n",
       "           CD45        CD4       CD68       CD8        CGA   LYSOZYME  \\\n",
       "2020  12.942720  13.940334  39.455849  9.284010  55.568020  28.980907   \n",
       "2021   8.270143   8.587678  16.786730  6.379147  16.047394  10.118484   \n",
       "2022   8.658083  10.321888  16.856939  5.371960  27.243204  16.828325   \n",
       "2023  16.859375  15.296875  32.745537  8.669642  67.216515  27.316965   \n",
       "2024  10.473417  12.175949  27.079746  6.670886  39.589874  24.096203   \n",
       "\n",
       "      NAKATPASE      PANCK       SMA       SOX9   VIMENTIN     OLFM4  \n",
       "2020   4.627685  15.983294  2.584726  30.510740  10.594272  6.272077  \n",
       "2021   3.156398   6.241706  1.620853  11.549763   2.312796  1.772512  \n",
       "2022   2.117311   5.357654  3.889843  16.719599   6.477826  2.018598  \n",
       "2023   3.566964  15.392858  4.281250  27.727678  13.973214  4.095982  \n",
       "2024   3.079747   8.650633  2.872152  22.970886  27.127848  3.520253  "
      ]
     },
     "execution_count": 68,
     "metadata": {},
     "output_type": "execute_result"
    }
   ],
   "source": [
    "df1.tail()"
   ]
  },
  {
   "cell_type": "code",
   "execution_count": 72,
   "metadata": {},
   "outputs": [],
   "source": [
    "df1.to_csv('/fs5/p_masi/rudravg/MxIF_Vxm_Registered/GCA112TIA/Unregistered/unregistered_instance_data_allMarkers2.csv', index=False)"
   ]
  }
 ],
 "metadata": {
  "kernelspec": {
   "display_name": "dapi_reg",
   "language": "python",
   "name": "python3"
  },
  "language_info": {
   "codemirror_mode": {
    "name": "ipython",
    "version": 3
   },
   "file_extension": ".py",
   "mimetype": "text/x-python",
   "name": "python",
   "nbconvert_exporter": "python",
   "pygments_lexer": "ipython3",
   "version": "3.12.1"
  }
 },
 "nbformat": 4,
 "nbformat_minor": 2
}
