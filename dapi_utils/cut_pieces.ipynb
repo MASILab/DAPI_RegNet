{
 "cells": [
  {
   "cell_type": "code",
   "execution_count": 5,
   "metadata": {},
   "outputs": [],
   "source": [
    "from PIL import Image\n",
    "import os\n",
    "import numpy as np\n",
    "from tqdm import tqdm\n",
    "import matplotlib.pyplot as plt\n",
    "import matplotlib.patches as patches"
   ]
  },
  {
   "cell_type": "markdown",
   "metadata": {},
   "source": [
    "### Train Pairs Generator ###"
   ]
  },
  {
   "cell_type": "code",
   "execution_count": 42,
   "metadata": {},
   "outputs": [
    {
     "name": "stdout",
     "output_type": "stream",
     "text": [
      "Subject Name: GCA062ACA\n",
      "Original Round Number: 00\n",
      "File 1 Round Number: 16\n",
      "File 2 Round Number: 14\n",
      "File 3 Round Number: 17\n"
     ]
    },
    {
     "data": {
      "text/plain": [
       "dtype('float64')"
      ]
     },
     "execution_count": 42,
     "metadata": {},
     "output_type": "execute_result"
    }
   ],
   "source": [
    "orig_file='/nfs2/baos1/rudravg/GCA062ACA_TISSUE01_DAPI_DAPI_12ms_ROUND_00_initial_reg.tif'\n",
    "mask_file='/nfs2/baos1/rudravg/Retention_Masks/GCA062ACA_TISSUE01_TISSUE_RETENTION.tif'\n",
    "file_1_name='/nfs2/baos1/rudravg/GCA062ACA_TISSUE01_DAPI_DAPI_12ms_ROUND_16_initial_reg.tif'\n",
    "file_2_name='/nfs2/baos1/rudravg/GCA062ACA_TISSUE01_DAPI_DAPI_12ms_ROUND_14_initial_reg.tif'\n",
    "file_3_name='/nfs2/baos1/rudravg/GCA062ACA_TISSUE01_DAPI_DAPI_12ms_ROUND_17_initial_reg.tif'\n",
    "\n",
    "parts = orig_file.split('/')[-1].split('_')\n",
    "subject_name = parts[0]\n",
    "tissue_numer=parts[1]\n",
    "orig_round_number = parts[-3]\n",
    "parts=file_1_name.split('/')[-1].split('_')\n",
    "file_1_round_number=parts[-3]\n",
    "parts=file_2_name.split('/')[-1].split('_')\n",
    "file_2_round_number=parts[-3]\n",
    "parts=file_3_name.split('/')[-1].split('_')\n",
    "file_3_round_number=parts[-3]\n",
    "#Print all round numbers\n",
    "print('Subject Name:',subject_name)\n",
    "print('Original Round Number:',orig_round_number)\n",
    "print('File 1 Round Number:',file_1_round_number)\n",
    "print('File 2 Round Number:',file_2_round_number)\n",
    "print('File 3 Round Number:',file_3_round_number)\n",
    "\n",
    "\n",
    "\n",
    "mask_file=np.array(Image.open(mask_file))\n",
    "#Make the mask file binary\n",
    "mask_file[mask_file>0]=1\n",
    "orig_file=np.array(Image.open(orig_file))\n",
    "orig_file=(orig_file*mask_file)/255.0\n",
    "file_1=np.array(Image.open(file_1_name))\n",
    "file_1=(file_1*mask_file)/255.0\n",
    "file_2=np.array(Image.open(file_2_name))\n",
    "file_2=(file_2*mask_file)/255.0\n",
    "file_3=np.array(Image.open(file_3_name))\n",
    "file_3=(file_3*mask_file)/255.0\n",
    "orig_file.dtype\n",
    "\n"
   ]
  },
  {
   "cell_type": "code",
   "execution_count": 43,
   "metadata": {},
   "outputs": [],
   "source": [
    "window_size = (1024, 1024)\n",
    "\n",
    "# Define directories\n",
    "output_dir = '/home-local/rudravg/test_DAPI'\n",
    "target_dir = os.path.join(output_dir, 'target_images')\n",
    "source_dir = os.path.join(output_dir, 'source_images')\n",
    "\n",
    "# Create directories if they don't exist\n",
    "os.makedirs(target_dir, exist_ok=True)\n",
    "os.makedirs(source_dir, exist_ok=True)\n",
    "\n",
    "# Define pairs file\n",
    "pairs_file = os.path.join(output_dir, 'pairs.txt')\n",
    "\n",
    "# Open pairs file for writing\n",
    "with open(pairs_file, 'a') as f:\n",
    "    for i in range(0, mask_file.shape[0], window_size[0]):\n",
    "        for j in range(0, mask_file.shape[1], window_size[1]):\n",
    "            window_mask = mask_file[i:i+window_size[0], j:j+window_size[1]]\n",
    "            \n",
    "            if np.count_nonzero(window_mask) > 200:\n",
    "                # Save the cut pieces of the orig_file in target_dir\n",
    "                window_orig = orig_file[i:i+window_size[0], j:j+window_size[1]]\n",
    "                window_orig = (window_orig * 255).astype(np.uint8)\n",
    "                target_path = os.path.join(target_dir, f'{subject_name}_{tissue_numer}_{orig_round_number}_{i}_{j}.npy')\n",
    "                np.save(target_path, window_orig)\n",
    "                \n",
    "                # Cut file_1, file_2 and file_3 in the same way and save their corresponding pieces in source_dir\n",
    "                for file, file_name, round_number in zip([file_1, file_2, file_3], ['file_1', 'file_2', 'file_3'], [file_1_round_number, file_2_round_number, file_3_round_number]):\n",
    "                    window_file = file[i:i+window_size[0], j:j+window_size[1]]\n",
    "                    window_file = (window_file * 255).astype(np.uint8)\n",
    "                    source_path = os.path.join(source_dir, f'{subject_name}_{tissue_numer}_{round_number}_{i}_{j}.npy')\n",
    "                    np.save(source_path, window_file)\n",
    "                    \n",
    "                    # Append a space separated line in pairs_file with the first part being path to the source image and the second part being path to the target image\n",
    "                    f.write(f'{source_path} {target_path}\\n')"
   ]
  },
  {
   "cell_type": "markdown",
   "metadata": {},
   "source": [
    "### Val Pairs Generator ###"
   ]
  },
  {
   "cell_type": "code",
   "execution_count": 50,
   "metadata": {},
   "outputs": [
    {
     "name": "stdout",
     "output_type": "stream",
     "text": [
      "Subject Name: GCA045TIB\n",
      "Original Round Number: 00\n",
      "File 1 Round Number: 13\n"
     ]
    },
    {
     "data": {
      "text/plain": [
       "dtype('float64')"
      ]
     },
     "execution_count": 50,
     "metadata": {},
     "output_type": "execute_result"
    }
   ],
   "source": [
    "orig_file='/nfs2/baos1/rudravg/GCA045TIB_TISSUE01_DAPI_DAPI_12ms_ROUND_00_initial_reg.tif'\n",
    "mask_file='/nfs2/baos1/rudravg/Retention_Masks/GCA045TIB_TISSUE01_TISSUE_RETENTION.tif'\n",
    "file_1_name='/nfs2/baos1/rudravg/GCA045TIB_TISSUE01_DAPI_DAPI_12ms_ROUND_13_initial_reg.tif'\n",
    "\n",
    "parts = orig_file.split('/')[-1].split('_')\n",
    "subject_name = parts[0]\n",
    "tissue_numer=parts[1]\n",
    "orig_round_number = parts[-3]\n",
    "parts=file_1_name.split('/')[-1].split('_')\n",
    "file_1_round_number=parts[-3]\n",
    "#Print all round numbers\n",
    "print('Subject Name:',subject_name)\n",
    "print('Original Round Number:',orig_round_number)\n",
    "print('File 1 Round Number:',file_1_round_number)\n",
    "\n",
    "mask_file=np.array(Image.open(mask_file))\n",
    "#Make the mask file binary\n",
    "mask_file[mask_file>0]=1\n",
    "orig_file=np.array(Image.open(orig_file))\n",
    "orig_file=(orig_file*mask_file)/255.0\n",
    "file_1=np.array(Image.open(file_1_name))\n",
    "file_1=(file_1*mask_file)/255.0\n",
    "orig_file.dtype"
   ]
  },
  {
   "cell_type": "code",
   "execution_count": 51,
   "metadata": {},
   "outputs": [],
   "source": [
    "window_size = (512, 512)\n",
    "\n",
    "# Define directories\n",
    "output_dir = '/home-local/rudravg/test_DAPI'\n",
    "target_dir = os.path.join(output_dir, 'val_target_images')\n",
    "source_dir = os.path.join(output_dir, 'val_source_images')\n",
    "\n",
    "# Create directories if they don't exist\n",
    "os.makedirs(target_dir, exist_ok=True)\n",
    "os.makedirs(source_dir, exist_ok=True)\n",
    "\n",
    "# Define pairs file\n",
    "pairs_file = os.path.join(output_dir, 'val_pairs.txt')\n",
    "\n",
    "# Open pairs file for appending\n",
    "with open(pairs_file, 'a') as f:\n",
    "    for i in range(0, mask_file.shape[0], window_size[0]):\n",
    "        for j in range(0, mask_file.shape[1], window_size[1]):\n",
    "            window_mask = mask_file[i:i+window_size[0], j:j+window_size[1]]\n",
    "            \n",
    "            if np.count_nonzero(window_mask) > 200:\n",
    "                # Save the cut pieces of the orig_file in target_dir\n",
    "                window_orig = orig_file[i:i+window_size[0], j:j+window_size[1]]\n",
    "                window_orig = (window_orig * 255).astype(np.uint8)\n",
    "                target_path = os.path.join(target_dir, f'{subject_name}_{orig_round_number}_{i}_{j}.npy')\n",
    "                np.save(target_path, window_orig)\n",
    "                \n",
    "                # Cut file_1 and save its corresponding piece in source_dir\n",
    "                window_file_1 = file_1[i:i+window_size[0], j:j+window_size[1]]\n",
    "                window_file_1 = (window_file_1 * 255).astype(np.uint8)\n",
    "                source_path = os.path.join(source_dir, f'{subject_name}_{file_1_round_number}_{i}_{j}.npy')\n",
    "                np.save(source_path, window_file_1)\n",
    "                    \n",
    "                # Append a space separated line in pairs_file with the first part being path to the source image and the second part being path to the target image\n",
    "                f.write(f'{source_path} {target_path}\\n')"
   ]
  },
  {
   "cell_type": "markdown",
   "metadata": {},
   "source": [
    "### To delete all the non 512x512 images pairs from the txt file ###\n",
    "Note that the images are still saved in the directories, just the difference is that the new_pairs.txt and new_val_pairs.txt won't load them"
   ]
  },
  {
   "cell_type": "code",
   "execution_count": 6,
   "metadata": {},
   "outputs": [
    {
     "name": "stderr",
     "output_type": "stream",
     "text": [
      "100%|██████████| 108/108 [00:00<00:00, 8861.03it/s]"
     ]
    },
    {
     "name": "stdout",
     "output_type": "stream",
     "text": [
      "6\n"
     ]
    },
    {
     "name": "stderr",
     "output_type": "stream",
     "text": [
      "\n"
     ]
    }
   ],
   "source": [
    "import os\n",
    "import numpy as np\n",
    "from tqdm import tqdm\n",
    "\n",
    "# Define the directory\n",
    "dir_path = '/home-local/rudravg/test_DAPI/val_source_images'\n",
    "non_512_filenames = []\n",
    "# Iterate over all files in the directory\n",
    "for filename in tqdm(os.listdir(dir_path)):\n",
    "    # Check if the file is a .npy file\n",
    "    if filename.endswith('.npy'):\n",
    "        # Load the numpy array\n",
    "        array = np.load(os.path.join(dir_path, filename))\n",
    "        \n",
    "        # Check if the shape of the array is not 512x512\n",
    "        if array.shape != (512, 512):\n",
    "            non_512_filenames.append(filename)\n",
    "print(len(non_512_filenames))\n",
    "new_txt_file = '/home-local/rudravg/test_DAPI/new_val_pairs.txt'\n",
    "txt_file = '/home-local/rudravg/test_DAPI/val_pairs.txt'\n",
    "\n",
    "# Open the text file for reading and the new text file for writing\n",
    "with open(txt_file, 'r') as f, open(new_txt_file, 'w') as new_f:\n",
    "    # Iterate over all lines in the text file\n",
    "    for line in f:\n",
    "        # Check if the line contains any of the non-512x512 filenames\n",
    "        if not any(filename in line for filename in non_512_filenames):\n",
    "            # Write the line to the new text file\n",
    "            new_f.write(line)"
   ]
  },
  {
   "cell_type": "code",
   "execution_count": null,
   "metadata": {},
   "outputs": [],
   "source": []
  }
 ],
 "metadata": {
  "kernelspec": {
   "display_name": "dapi_reg",
   "language": "python",
   "name": "python3"
  },
  "language_info": {
   "codemirror_mode": {
    "name": "ipython",
    "version": 3
   },
   "file_extension": ".py",
   "mimetype": "text/x-python",
   "name": "python",
   "nbconvert_exporter": "python",
   "pygments_lexer": "ipython3",
   "version": "3.12.1"
  }
 },
 "nbformat": 4,
 "nbformat_minor": 2
}
