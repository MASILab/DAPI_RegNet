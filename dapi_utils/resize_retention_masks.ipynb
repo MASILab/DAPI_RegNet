{
 "cells": [
  {
   "cell_type": "code",
   "execution_count": 19,
   "metadata": {},
   "outputs": [],
   "source": [
    "import os\n",
    "import numpy as np\n",
    "from PIL import Image\n",
    "from tqdm import tqdm"
   ]
  },
  {
   "cell_type": "code",
   "execution_count": 20,
   "metadata": {},
   "outputs": [],
   "source": [
    "text_file=\"/fs5/p_masi/baos1/rudravg/MXIF/MXIF/Helmsley/MxIF/round_0_dapis.txt\"\n",
    "retention_dir='/nfs2/baos1/rudravg/Retention_Masks'\n",
    "Image.MAX_IMAGE_PIXELS = None"
   ]
  },
  {
   "cell_type": "code",
   "execution_count": 21,
   "metadata": {},
   "outputs": [
    {
     "name": "stdout",
     "output_type": "stream",
     "text": [
      "Set03\n"
     ]
    }
   ],
   "source": [
    "with open(text_file, 'r') as file:\n",
    "    lines = file.readlines()\n",
    "print(lines[0].split('/')[1])"
   ]
  },
  {
   "cell_type": "code",
   "execution_count": 22,
   "metadata": {},
   "outputs": [],
   "source": [
    "sub_name='GCA112TIA'\n",
    "sub_tissue_name='GCA112TIA'\n",
    "set_dir=f'/fs5/p_masi/baos1/rudravg/MXIF/MXIF/Helmsley/MxIF/Set06/{sub_name}/Registered'\n",
    "retention_dir='/nfs2/baos1/rudravg/Retention_Masks'\n",
    "Image.MAX_IMAGE_PIXELS = None"
   ]
  },
  {
   "cell_type": "code",
   "execution_count": 23,
   "metadata": {},
   "outputs": [
    {
     "name": "stdout",
     "output_type": "stream",
     "text": [
      "['GCA112TIA_TISSUE_RETENTION.tif']\n"
     ]
    }
   ],
   "source": [
    "matching_files = [name for name in os.listdir(retention_dir) if sub_tissue_name in name]\n",
    "print(matching_files)\n",
    "# Print the matching files\n",
    "for file in matching_files:\n",
    "    mask_file=f'{retention_dir}/{file}'"
   ]
  },
  {
   "cell_type": "code",
   "execution_count": 24,
   "metadata": {},
   "outputs": [
    {
     "data": {
      "text/plain": [
       "(1589, 1675)"
      ]
     },
     "execution_count": 24,
     "metadata": {},
     "output_type": "execute_result"
    }
   ],
   "source": [
    "mask = Image.open(mask_file)\n",
    "mask.size"
   ]
  },
  {
   "cell_type": "code",
   "execution_count": 25,
   "metadata": {},
   "outputs": [
    {
     "data": {
      "text/plain": [
       "array([  0, 255], dtype=uint8)"
      ]
     },
     "execution_count": 25,
     "metadata": {},
     "output_type": "execute_result"
    }
   ],
   "source": [
    "np.unique(mask)"
   ]
  },
  {
   "cell_type": "code",
   "execution_count": 31,
   "metadata": {},
   "outputs": [
    {
     "name": "stdout",
     "output_type": "stream",
     "text": [
      "GCA112TIA_BACKGROUND_CY5_100ms_ROUND_12.tif\n",
      "(1589, 1675)\n",
      "GCA112TIA_DAPI_DAPI_12ms_ROUND_05.tif\n",
      "(1589, 1675)\n",
      "GCA112TIA_CD11B_CY2_320ms_ROUND_09.tif\n",
      "(1589, 1675)\n",
      "GCA112TIA_AF_CY3_80ms_ROUND_00.tif\n",
      "(3177, 3349)\n",
      "GCA112TIA_DAPI_DAPI_14ms_ROUND_01.tif\n",
      "(1589, 1675)\n",
      "GCA112TIA_COLLAGEN_CY3_12ms_ROUND_01.tif\n",
      "(1589, 1675)\n",
      "GCA112TIA_BACKGROUND_CY3_12ms_ROUND_02.tif\n",
      "(1589, 1675)\n",
      "GCA112TIA_BACKGROUND_CY3_135ms_ROUND_18.tif\n",
      "(1589, 1675)\n",
      "GCA112TIA_BACKGROUND_CY5_700ms_ROUND_14.tif\n",
      "(1589, 1675)\n",
      "GCA112TIA_CGA_CY3_250ms_ROUND_05.tif\n",
      "(1589, 1675)\n",
      "GCA112TIA_BCATENIN_CY3_120ms_ROUND_03.tif\n",
      "(1589, 1675)\n",
      "GCA112TIA_CD3D_CY3_75ms_ROUND_09.tif\n",
      "(1589, 1675)\n",
      "GCA112TIA_BACKGROUND_CY2_200ms_ROUND_04.tif\n",
      "(1589, 1675)\n",
      "GCA112TIA_BACKGROUND_CY3_30ms_ROUND_14.tif\n",
      "(1589, 1675)\n",
      "GCA112TIA_MUC2_CY2_200ms_ROUND_03.tif\n",
      "(1589, 1675)\n",
      "GCA112TIA_DAPI_DAPI_12ms_ROUND_14.tif\n",
      "(1589, 1675)\n",
      "GCA112TIA_FOXP3_CY5_1500ms_ROUND_15.tif\n",
      "(1589, 1675)\n",
      "GCA112TIA_BACKGROUND_CY5_500ms_ROUND_02.tif\n",
      "(1589, 1675)\n",
      "GCA112TIA_DAPI_DAPI_12ms_ROUND_13.tif\n",
      "(1589, 1675)\n",
      "GCA112TIA_BACKGROUND_CY3_75ms_ROUND_10.tif\n",
      "(1589, 1675)\n",
      "GCA112TIA_ERBB2_CY5_2000ms_ROUND_17.tif\n",
      "(1589, 1675)\n",
      "GCA112TIA_RetentionMask.tif\n",
      "(1589, 1675)\n",
      "GCA112TIA_BACKGROUND_CY2_150ms_ROUND_16.tif\n",
      "(1589, 1675)\n",
      "GCA112TIA_DAPI_DAPI_12ms_ROUND_04.tif\n",
      "(1589, 1675)\n",
      "GCA112TIA_SOX9_CY3_135ms_ROUND_17.tif\n",
      "(1589, 1675)\n",
      "GCA112TIA_DAPI_DAPI_12ms_ROUND_03.tif\n",
      "(1589, 1675)\n",
      "GCA112TIA_BACKGROUND_CY2_320ms_ROUND_12.tif\n",
      "(1589, 1675)\n",
      "GCA112TIA_AF_CY5_1000ms_ROUND_00.tif\n",
      "(3177, 3349)\n",
      "GCA112TIA_PEGFR_CY2_330ms_ROUND_19.tif\n",
      "(1589, 1675)\n",
      "GCA112TIA_DAPI_DAPI_12ms_ROUND_12.tif\n",
      "(1589, 1675)\n",
      "GCA112TIA_DAPI_DAPI_12ms_ROUND_15.tif\n",
      "(1589, 1675)\n",
      "GCA112TIA_BACKGROUND_CY2_450ms_ROUND_06.tif\n",
      "(1589, 1675)\n",
      "GCA112TIA_OLFM4_CY3_30ms_ROUND_13.tif\n",
      "(1589, 1675)\n",
      "GCA112TIA_BACKGROUND_CY5_1500ms_ROUND_16.tif\n",
      "(1589, 1675)\n",
      "GCA112TIA_BACKGROUND_CY5_770ms_ROUND_04.tif\n",
      "(1589, 1675)\n",
      "GCA112TIA_DAPI_DAPI_12ms_ROUND_18.tif\n",
      "(1589, 1675)\n",
      "GCA112TIA_BACKGROUND_CY5_100ms_ROUND_06.tif\n",
      "(1589, 1675)\n",
      "GCA112TIA_BACKGROUND_CY3_75ms_ROUND_12.tif\n",
      "(1589, 1675)\n",
      "GCA112TIA_DAPI_DAPI_12ms_ROUND_16.tif\n",
      "(1589, 1675)\n",
      "GCA112TIA_BACKGROUND_CY3_15ms_ROUND_16.tif\n",
      "(1589, 1675)\n",
      "GCA112TIA_SMA_CY3_15ms_ROUND_15.tif\n",
      "(1589, 1675)\n",
      "GCA112TIA_DAPI_DAPI_12ms_ROUND_11.tif\n",
      "(1589, 1675)\n",
      "GCA112TIA_BACKGROUND_CY3_170ms_ROUND_08.tif\n",
      "(1589, 1675)\n",
      "GCA112TIA_HLAA_CY5_100ms_ROUND_05.tif\n",
      "(1589, 1675)\n",
      "GCA112TIA_VIMENTIN_CY2_150ms_ROUND_15.tif\n",
      "(1589, 1675)\n",
      "GCA112TIA_BACKGROUND_CY3_120ms_ROUND_04.tif\n",
      "(1589, 1675)\n",
      "GCA112TIA_ACTG1_CY5_1000ms_ROUND_19.tif\n",
      "(1589, 1675)\n",
      "GCA112TIA_CD68_CY3_170ms_ROUND_07.tif\n",
      "(1589, 1675)\n",
      "GCA112TIA_DAPI_DAPI_12ms_ROUND_07.tif\n",
      "(1589, 1675)\n",
      "GCA112TIA_DAPI_DAPI_12ms_ROUND_09.tif\n",
      "(1589, 1675)\n",
      "GCA112TIA_DAPI_DAPI_30ms_ROUND_00.tif\n",
      "(3177, 3349)\n",
      "GCA112TIA_BACKGROUND_CY5_100ms_ROUND_10.tif\n",
      "(1589, 1675)\n",
      "GCA112TIA_CD20_CY5_770ms_ROUND_03.tif\n",
      "(1589, 1675)\n",
      "GCA112TIA_PCNA_CY2_450ms_ROUND_05.tif\n",
      "(1589, 1675)\n",
      "GCA112TIA_CD8_CY5_650ms_ROUND_11.tif\n",
      "(1589, 1675)\n",
      "GCA112TIA_NAKATPASE_CY5_100ms_ROUND_09.tif\n",
      "(1589, 1675)\n",
      "GCA112TIA_BACKGROUND_CY2_175ms_ROUND_02.tif\n",
      "(1589, 1675)\n",
      "GCA112TIA_DAPI_DAPI_12ms_ROUND_10.tif\n",
      "(1589, 1675)\n",
      "GCA112TIA_DAPI_DAPI_12ms_ROUND_17.tif\n",
      "(1589, 1675)\n",
      "GCA112TIA_BACKGROUND_CY2_250ms_ROUND_14.tif\n",
      "(1589, 1675)\n",
      "GCA112TIA_DAPI_DAPI_12ms_ROUND_19.tif\n",
      "(3177, 3349)\n",
      "GCA112TIA_BACKGROUND_CY5_500ms_ROUND_08.tif\n",
      "(1589, 1675)\n",
      "GCA112TIA_PANCK_CY2_200ms_ROUND_11.tif\n",
      "(1589, 1675)\n",
      "GCA112TIA_LYSOZYME_CY2_300ms_ROUND_17.tif\n",
      "(1589, 1675)\n",
      "GCA112TIA_BACKGROUND_CY2_320ms_ROUND_10.tif\n",
      "(1589, 1675)\n",
      "GCA112TIA_CD45_CY5_500ms_ROUND_01.tif\n",
      "(1589, 1675)\n",
      "GCA112TIA_BACKGROUND_CY5_2000ms_ROUND_18.tif\n",
      "(1589, 1675)\n",
      "GCA112TIA_DAPI_DAPI_12ms_ROUND_08.tif\n",
      "(1589, 1675)\n",
      "GCA112TIA_BACKGROUND_CY3_250ms_ROUND_06.tif\n",
      "(1589, 1675)\n",
      "GCA112TIA_DAPI_DAPI_12ms_ROUND_06.tif\n",
      "(1589, 1675)\n",
      "GCA112TIA_BACKGROUND_CY2_300ms_ROUND_18.tif\n",
      "(1589, 1675)\n",
      "GCA112TIA_CD4_CY5_500ms_ROUND_07.tif\n",
      "(1589, 1675)\n",
      "GCA112TIA_AF_CY2_200ms_ROUND_00.tif\n",
      "(3177, 3349)\n",
      "GCA112TIA_DAPI_DAPI_14ms_ROUND_02.tif\n",
      "(1589, 1675)\n"
     ]
    }
   ],
   "source": [
    "file_names = [name for name in os.listdir(set_dir) if sub_tissue_name in name]\n",
    "# Open the first image and get its shape\n",
    "first_image = Image.open(os.path.join(set_dir, file_names[0]))\n",
    "for file in file_names:\n",
    "    print(file)\n",
    "    image=Image.open(os.path.join(set_dir, file))\n",
    "    print(image.size)\n"
   ]
  },
  {
   "cell_type": "code",
   "execution_count": 26,
   "metadata": {},
   "outputs": [
    {
     "name": "stdout",
     "output_type": "stream",
     "text": [
      "GCA112TIA_DAPI_DAPI_12ms_ROUND_05.tif\n"
     ]
    },
    {
     "data": {
      "text/plain": [
       "(1589, 1675)"
      ]
     },
     "execution_count": 26,
     "metadata": {},
     "output_type": "execute_result"
    }
   ],
   "source": [
    "file_names = [name for name in os.listdir(set_dir) if sub_tissue_name in name]\n",
    "print(file_names[1])\n",
    "# Open the first image and get its shape\n",
    "first_image = Image.open(os.path.join(set_dir, file_names[0]))\n",
    "mask=mask.resize(first_image.size,Image.NEAREST)\n",
    "mask.size"
   ]
  },
  {
   "cell_type": "code",
   "execution_count": 27,
   "metadata": {},
   "outputs": [],
   "source": [
    "mask=np.array(mask)\n",
    "mask=mask/255."
   ]
  },
  {
   "cell_type": "code",
   "execution_count": 28,
   "metadata": {},
   "outputs": [
    {
     "name": "stdout",
     "output_type": "stream",
     "text": [
      "/fs5/p_masi/baos1/rudravg/MXIF/MXIF/Helmsley/MxIF/Set06/GCA112TIA/Registered/GCA112TIA_RetentionMask.tif\n"
     ]
    }
   ],
   "source": [
    "print(os.path.join(set_dir,f'{sub_tissue_name}_RetentionMask.tif'))"
   ]
  },
  {
   "cell_type": "code",
   "execution_count": 29,
   "metadata": {},
   "outputs": [],
   "source": [
    "Image.fromarray(mask).save(os.path.join(set_dir,f'{sub_tissue_name}_RetentionMask.tif'))"
   ]
  },
  {
   "cell_type": "code",
   "execution_count": 30,
   "metadata": {},
   "outputs": [],
   "source": [
    "image='/fs5/p_masi/baos1/rudravg/MXIF/MXIF/Helmsley/MxIF/Set06/GCA112TIA/Registered/GCA112TIA_RetentionMask.tif'\n",
    "mask = np.array(Image.open(image))\n",
    "mask=mask/255.\n",
    "Image.fromarray(mask).save(image)"
   ]
  }
 ],
 "metadata": {
  "kernelspec": {
   "display_name": "dapi_reg",
   "language": "python",
   "name": "python3"
  },
  "language_info": {
   "codemirror_mode": {
    "name": "ipython",
    "version": 3
   },
   "file_extension": ".py",
   "mimetype": "text/x-python",
   "name": "python",
   "nbconvert_exporter": "python",
   "pygments_lexer": "ipython3",
   "version": "3.12.1"
  }
 },
 "nbformat": 4,
 "nbformat_minor": 2
}
