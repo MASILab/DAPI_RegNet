{
 "cells": [
  {
   "cell_type": "code",
   "execution_count": 174,
   "metadata": {},
   "outputs": [],
   "source": [
    "import os\n",
    "import numpy as np\n",
    "from PIL import Image"
   ]
  },
  {
   "cell_type": "code",
   "execution_count": 183,
   "metadata": {},
   "outputs": [],
   "source": [
    "text_file=\"/fs5/p_masi/baos1/rudravg/MXIF/MXIF/Helmsley/MxIF/round_0_dapis.txt\"\n"
   ]
  },
  {
   "cell_type": "code",
   "execution_count": 184,
   "metadata": {},
   "outputs": [],
   "source": [
    "with open(text_file, 'r') as file:\n",
    "    lines = file.readlines()"
   ]
  },
  {
   "cell_type": "code",
   "execution_count": 194,
   "metadata": {},
   "outputs": [],
   "source": [
    "for line in lines:\n",
    "    if 'TISSUE' in line:\n",
    "        sub_tissue_name=(line.split('/')[4].split('_')[0])+'_'+(line.split('/')[4].split('_')[1])\n",
    "        sub_name=(line.split('/')[4].split('_')[0])\n",
    "    else:\n",
    "        sub_name=(line.split('/')[4].split('_')[0])\n",
    "        sub_tissue_name=sub_name\n",
    "    \n"
   ]
  },
  {
   "cell_type": "code",
   "execution_count": 175,
   "metadata": {},
   "outputs": [],
   "source": [
    "sub_name='GCA066TIB'\n",
    "sub_tissue_name='GCA066TIB_TISSUE01'\n",
    "set_dir=f'/fs5/p_masi/baos1/rudravg/MXIF/MXIF/Helmsley/MxIF/Set03/{sub_name}/Registered'\n",
    "retention_dir='/nfs2/baos1/rudravg/Retention_Masks'\n",
    "Image.MAX_IMAGE_PIXELS = None"
   ]
  },
  {
   "cell_type": "code",
   "execution_count": 176,
   "metadata": {},
   "outputs": [
    {
     "name": "stdout",
     "output_type": "stream",
     "text": [
      "['GCA066TIB_TISSUE01_TISSUE_RETENTION.tif']\n"
     ]
    }
   ],
   "source": [
    "matching_files = [name for name in os.listdir(retention_dir) if sub_tissue_name in name]\n",
    "print(matching_files)\n",
    "# Print the matching files\n",
    "for file in matching_files:\n",
    "    mask_file=f'{retention_dir}/{file}'"
   ]
  },
  {
   "cell_type": "code",
   "execution_count": 177,
   "metadata": {},
   "outputs": [
    {
     "data": {
      "text/plain": [
       "(2917, 3565)"
      ]
     },
     "execution_count": 177,
     "metadata": {},
     "output_type": "execute_result"
    }
   ],
   "source": [
    "mask = Image.open(mask_file)\n",
    "mask.size"
   ]
  },
  {
   "cell_type": "code",
   "execution_count": 178,
   "metadata": {},
   "outputs": [
    {
     "data": {
      "text/plain": [
       "array([  0, 255], dtype=uint8)"
      ]
     },
     "execution_count": 178,
     "metadata": {},
     "output_type": "execute_result"
    }
   ],
   "source": [
    "np.unique(mask)"
   ]
  },
  {
   "cell_type": "code",
   "execution_count": 179,
   "metadata": {},
   "outputs": [
    {
     "data": {
      "text/plain": [
       "(5833, 7129)"
      ]
     },
     "execution_count": 179,
     "metadata": {},
     "output_type": "execute_result"
    }
   ],
   "source": [
    "file_names = [name for name in os.listdir(set_dir) if sub_tissue_name in name]\n",
    "\n",
    "# Open the first image and get its shape\n",
    "first_image = Image.open(os.path.join(set_dir, file_names[0]))\n",
    "mask=mask.resize(first_image.size,Image.NEAREST)\n",
    "mask.size"
   ]
  },
  {
   "cell_type": "code",
   "execution_count": 180,
   "metadata": {},
   "outputs": [],
   "source": [
    "mask=np.array(mask)\n",
    "mask=mask/255."
   ]
  },
  {
   "cell_type": "code",
   "execution_count": 181,
   "metadata": {},
   "outputs": [
    {
     "name": "stdout",
     "output_type": "stream",
     "text": [
      "/fs5/p_masi/baos1/rudravg/MXIF/MXIF/Helmsley/MxIF/Set03/GCA066TIB/Registered/GCA066TIB_TISSUE01_RetentionMask.tif\n"
     ]
    }
   ],
   "source": [
    "print(os.path.join(set_dir,f'{sub_tissue_name}_RetentionMask.tif'))"
   ]
  },
  {
   "cell_type": "code",
   "execution_count": 182,
   "metadata": {},
   "outputs": [],
   "source": [
    "Image.fromarray(mask).save(os.path.join(set_dir,f'{sub_tissue_name}_RetentionMask.tif'))"
   ]
  }
 ],
 "metadata": {
  "kernelspec": {
   "display_name": "dapi_reg",
   "language": "python",
   "name": "python3"
  },
  "language_info": {
   "codemirror_mode": {
    "name": "ipython",
    "version": 3
   },
   "file_extension": ".py",
   "mimetype": "text/x-python",
   "name": "python",
   "nbconvert_exporter": "python",
   "pygments_lexer": "ipython3",
   "version": "3.12.1"
  }
 },
 "nbformat": 4,
 "nbformat_minor": 2
}
