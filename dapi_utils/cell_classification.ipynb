{
 "cells": [
  {
   "cell_type": "code",
   "execution_count": 5,
   "metadata": {},
   "outputs": [
    {
     "name": "stderr",
     "output_type": "stream",
     "text": [
      "/tmp/ipykernel_1739383/2162656668.py:1: DeprecationWarning: \n",
      "Pyarrow will become a required dependency of pandas in the next major release of pandas (pandas 3.0),\n",
      "(to allow more performant data types, such as the Arrow string type, and better interoperability with other libraries)\n",
      "but was not found to be installed on your system.\n",
      "If this would cause problems for you,\n",
      "please provide us feedback at https://github.com/pandas-dev/pandas/issues/54466\n",
      "        \n",
      "  import pandas as pd\n"
     ]
    }
   ],
   "source": [
    "import pandas as pd\n",
    "import numpy as np"
   ]
  },
  {
   "cell_type": "code",
   "execution_count": 30,
   "metadata": {},
   "outputs": [],
   "source": [
    "thresholds={\n",
    "    'CD11B': 65,\n",
    "    'CD20':  100,\n",
    "    'CD3D':  50,\n",
    "    'CD45':  60,\n",
    "    'CD4':  60,\n",
    "    'CD68':  35,\n",
    "    'CD8':  35,\n",
    "    'CGA':  50,\n",
    "    'LYSOZYME':  103,\n",
    "    'NAKATPASE':  50,\n",
    "    'PANCK':  80,\n",
    "    'SMA':  126,\n",
    "    'SOX9':  113,\n",
    "    'VIMENTIN':  38,\n",
    "    'OLFM4':  40, \n",
    "}"
   ]
  },
  {
   "cell_type": "code",
   "execution_count": 31,
   "metadata": {},
   "outputs": [],
   "source": [
    "mean_intensities_file_registered=pd.read_csv('/fs5/p_masi/rudravg/MxIF_Vxm_Registered_V2/GCA022ACB_TISSUE03/registered_GCA022ACB_T3_instances.csv')\n",
    "mean_intensities_file_unregistered=pd.read_csv('/fs5/p_masi/rudravg/MxIF_Vxm_Registered_V2/GCA022ACB_TISSUE03/unregistered_GCA022ACB_T3_instances.csv')"
   ]
  },
  {
   "cell_type": "code",
   "execution_count": 32,
   "metadata": {},
   "outputs": [],
   "source": [
    "mean_intensities_file_registered.columns = mean_intensities_file_registered.columns.str.upper()\n",
    "mean_intensities_file_unregistered.columns = mean_intensities_file_unregistered.columns.str.upper()\n",
    "\n",
    "mean_intensities_file_registered.columns = mean_intensities_file_registered.columns.str.replace('MEAN', 'Mean')\n",
    "mean_intensities_file_unregistered.columns = mean_intensities_file_unregistered.columns.str.replace('MEAN', 'Mean')"
   ]
  },
  {
   "cell_type": "code",
   "execution_count": 33,
   "metadata": {},
   "outputs": [
    {
     "data": {
      "text/html": [
       "<div>\n",
       "<style scoped>\n",
       "    .dataframe tbody tr th:only-of-type {\n",
       "        vertical-align: middle;\n",
       "    }\n",
       "\n",
       "    .dataframe tbody tr th {\n",
       "        vertical-align: top;\n",
       "    }\n",
       "\n",
       "    .dataframe thead th {\n",
       "        text-align: right;\n",
       "    }\n",
       "</style>\n",
       "<table border=\"1\" class=\"dataframe\">\n",
       "  <thead>\n",
       "    <tr style=\"text-align: right;\">\n",
       "      <th></th>\n",
       "      <th>INSTANCE</th>\n",
       "      <th>CENTROID_X</th>\n",
       "      <th>CENTROID_Y</th>\n",
       "      <th>MEAN_CD11B</th>\n",
       "      <th>MEAN_CD20</th>\n",
       "      <th>MEAN_CD3D</th>\n",
       "      <th>MEAN_CD45</th>\n",
       "      <th>MEAN_CD4</th>\n",
       "      <th>MEAN_CD68</th>\n",
       "      <th>MEAN_CD8</th>\n",
       "      <th>MEAN_CGA</th>\n",
       "      <th>MEAN_LYSOZYME</th>\n",
       "      <th>MEAN_NAKATPASE</th>\n",
       "      <th>MEAN_PANCK</th>\n",
       "      <th>MEAN_SMA</th>\n",
       "      <th>MEAN_SOX9</th>\n",
       "      <th>MEAN_VIMENTIN</th>\n",
       "      <th>MEAN_OLFM4</th>\n",
       "      <th>SLIDE_ID</th>\n",
       "    </tr>\n",
       "  </thead>\n",
       "  <tbody>\n",
       "    <tr>\n",
       "      <th>0</th>\n",
       "      <td>1</td>\n",
       "      <td>411.837782</td>\n",
       "      <td>125.603696</td>\n",
       "      <td>0.254620</td>\n",
       "      <td>0.110883</td>\n",
       "      <td>0.825462</td>\n",
       "      <td>48.683778</td>\n",
       "      <td>0.002053</td>\n",
       "      <td>0.244353</td>\n",
       "      <td>0.287474</td>\n",
       "      <td>0.049281</td>\n",
       "      <td>0.227926</td>\n",
       "      <td>0.000000</td>\n",
       "      <td>0.024641</td>\n",
       "      <td>0.098563</td>\n",
       "      <td>0.694045</td>\n",
       "      <td>0.706366</td>\n",
       "      <td>0.244353</td>\n",
       "      <td>registered</td>\n",
       "    </tr>\n",
       "    <tr>\n",
       "      <th>1</th>\n",
       "      <td>2</td>\n",
       "      <td>428.330935</td>\n",
       "      <td>135.187050</td>\n",
       "      <td>0.298561</td>\n",
       "      <td>0.517986</td>\n",
       "      <td>0.392086</td>\n",
       "      <td>109.634892</td>\n",
       "      <td>0.010791</td>\n",
       "      <td>0.176259</td>\n",
       "      <td>0.850719</td>\n",
       "      <td>0.012590</td>\n",
       "      <td>0.107914</td>\n",
       "      <td>0.010791</td>\n",
       "      <td>0.280576</td>\n",
       "      <td>0.000000</td>\n",
       "      <td>1.395683</td>\n",
       "      <td>0.271583</td>\n",
       "      <td>0.476619</td>\n",
       "      <td>registered</td>\n",
       "    </tr>\n",
       "    <tr>\n",
       "      <th>2</th>\n",
       "      <td>3</td>\n",
       "      <td>4827.311298</td>\n",
       "      <td>147.763221</td>\n",
       "      <td>0.000000</td>\n",
       "      <td>0.056490</td>\n",
       "      <td>0.000000</td>\n",
       "      <td>0.000000</td>\n",
       "      <td>0.018029</td>\n",
       "      <td>0.109375</td>\n",
       "      <td>0.018029</td>\n",
       "      <td>0.195913</td>\n",
       "      <td>0.004808</td>\n",
       "      <td>0.294471</td>\n",
       "      <td>8.137019</td>\n",
       "      <td>5.526442</td>\n",
       "      <td>4.257212</td>\n",
       "      <td>0.000000</td>\n",
       "      <td>0.062500</td>\n",
       "      <td>registered</td>\n",
       "    </tr>\n",
       "    <tr>\n",
       "      <th>3</th>\n",
       "      <td>4</td>\n",
       "      <td>393.721843</td>\n",
       "      <td>148.488055</td>\n",
       "      <td>0.443686</td>\n",
       "      <td>0.095563</td>\n",
       "      <td>4.298635</td>\n",
       "      <td>111.967577</td>\n",
       "      <td>4.302048</td>\n",
       "      <td>1.372014</td>\n",
       "      <td>0.081911</td>\n",
       "      <td>0.648464</td>\n",
       "      <td>0.192833</td>\n",
       "      <td>0.025597</td>\n",
       "      <td>0.003413</td>\n",
       "      <td>0.008532</td>\n",
       "      <td>2.058020</td>\n",
       "      <td>1.059727</td>\n",
       "      <td>0.146758</td>\n",
       "      <td>registered</td>\n",
       "    </tr>\n",
       "    <tr>\n",
       "      <th>4</th>\n",
       "      <td>5</td>\n",
       "      <td>434.630000</td>\n",
       "      <td>152.216667</td>\n",
       "      <td>0.036667</td>\n",
       "      <td>1.793333</td>\n",
       "      <td>5.393333</td>\n",
       "      <td>53.403333</td>\n",
       "      <td>0.506667</td>\n",
       "      <td>0.076667</td>\n",
       "      <td>4.480000</td>\n",
       "      <td>0.996667</td>\n",
       "      <td>1.453333</td>\n",
       "      <td>0.040000</td>\n",
       "      <td>1.756667</td>\n",
       "      <td>0.656667</td>\n",
       "      <td>3.573333</td>\n",
       "      <td>0.023333</td>\n",
       "      <td>2.890000</td>\n",
       "      <td>registered</td>\n",
       "    </tr>\n",
       "  </tbody>\n",
       "</table>\n",
       "</div>"
      ],
      "text/plain": [
       "   INSTANCE   CENTROID_X  CENTROID_Y  MEAN_CD11B  MEAN_CD20  MEAN_CD3D  \\\n",
       "0         1   411.837782  125.603696    0.254620   0.110883   0.825462   \n",
       "1         2   428.330935  135.187050    0.298561   0.517986   0.392086   \n",
       "2         3  4827.311298  147.763221    0.000000   0.056490   0.000000   \n",
       "3         4   393.721843  148.488055    0.443686   0.095563   4.298635   \n",
       "4         5   434.630000  152.216667    0.036667   1.793333   5.393333   \n",
       "\n",
       "    MEAN_CD45  MEAN_CD4  MEAN_CD68  MEAN_CD8  MEAN_CGA  MEAN_LYSOZYME  \\\n",
       "0   48.683778  0.002053   0.244353  0.287474  0.049281       0.227926   \n",
       "1  109.634892  0.010791   0.176259  0.850719  0.012590       0.107914   \n",
       "2    0.000000  0.018029   0.109375  0.018029  0.195913       0.004808   \n",
       "3  111.967577  4.302048   1.372014  0.081911  0.648464       0.192833   \n",
       "4   53.403333  0.506667   0.076667  4.480000  0.996667       1.453333   \n",
       "\n",
       "   MEAN_NAKATPASE  MEAN_PANCK  MEAN_SMA  MEAN_SOX9  MEAN_VIMENTIN  MEAN_OLFM4  \\\n",
       "0        0.000000    0.024641  0.098563   0.694045       0.706366    0.244353   \n",
       "1        0.010791    0.280576  0.000000   1.395683       0.271583    0.476619   \n",
       "2        0.294471    8.137019  5.526442   4.257212       0.000000    0.062500   \n",
       "3        0.025597    0.003413  0.008532   2.058020       1.059727    0.146758   \n",
       "4        0.040000    1.756667  0.656667   3.573333       0.023333    2.890000   \n",
       "\n",
       "     SLIDE_ID  \n",
       "0  registered  \n",
       "1  registered  \n",
       "2  registered  \n",
       "3  registered  \n",
       "4  registered  "
      ]
     },
     "execution_count": 33,
     "metadata": {},
     "output_type": "execute_result"
    }
   ],
   "source": [
    "mean_intensities_file_registered.head()"
   ]
  },
  {
   "cell_type": "code",
   "execution_count": 34,
   "metadata": {},
   "outputs": [
    {
     "data": {
      "text/plain": [
       "(64, 69)"
      ]
     },
     "execution_count": 34,
     "metadata": {},
     "output_type": "execute_result"
    }
   ],
   "source": [
    "(mean_intensities_file_registered['MEAN_OLFM4']>=40).sum(), (mean_intensities_file_unregistered['MEAN_OLFM4']>=40).sum()"
   ]
  },
  {
   "cell_type": "code",
   "execution_count": 35,
   "metadata": {},
   "outputs": [],
   "source": [
    "for marker, threshold in thresholds.items():\n",
    "    column_name = 'MEAN_' + marker\n",
    "    mean_intensities_file_registered[column_name] = mean_intensities_file_registered[column_name] > threshold\n",
    "    mean_intensities_file_unregistered[column_name] = mean_intensities_file_unregistered[column_name] > threshold"
   ]
  },
  {
   "cell_type": "code",
   "execution_count": 36,
   "metadata": {},
   "outputs": [
    {
     "name": "stdout",
     "output_type": "stream",
     "text": [
      "The number of True values in column MEAN_CD11B is 17\n",
      "The number of True values in column MEAN_CD20 is 20\n",
      "The number of True values in column MEAN_CD3D is 55\n",
      "The number of True values in column MEAN_CD45 is 77\n",
      "The number of True values in column MEAN_CD4 is 81\n",
      "The number of True values in column MEAN_CD68 is 312\n",
      "The number of True values in column MEAN_CD8 is 28\n",
      "The number of True values in column MEAN_CGA is 19\n",
      "The number of True values in column MEAN_LYSOZYME is 1\n",
      "The number of True values in column MEAN_NAKATPASE is 5644\n",
      "The number of True values in column MEAN_PANCK is 506\n",
      "The number of True values in column MEAN_SMA is 89\n",
      "The number of True values in column MEAN_SOX9 is 1\n",
      "The number of True values in column MEAN_VIMENTIN is 1841\n",
      "The number of True values in column MEAN_OLFM4 is 64\n",
      "The number of True values in column SLIDE_ID is 0\n",
      "The number of True values in column MEAN_CD11B is 15\n",
      "The number of True values in column MEAN_CD20 is 21\n",
      "The number of True values in column MEAN_CD3D is 61\n",
      "The number of True values in column MEAN_CD45 is 78\n",
      "The number of True values in column MEAN_CD4 is 97\n",
      "The number of True values in column MEAN_CD68 is 340\n",
      "The number of True values in column MEAN_CD8 is 24\n",
      "The number of True values in column MEAN_CGA is 18\n",
      "The number of True values in column MEAN_LYSOZYME is 1\n",
      "The number of True values in column MEAN_NAKATPASE is 5685\n",
      "The number of True values in column MEAN_PANCK is 542\n",
      "The number of True values in column MEAN_SMA is 89\n",
      "The number of True values in column MEAN_SOX9 is 0\n",
      "The number of True values in column MEAN_VIMENTIN is 1919\n",
      "The number of True values in column MEAN_OLFM4 is 69\n",
      "The number of True values in column SLIDE_ID is 0\n"
     ]
    }
   ],
   "source": [
    "for df in [mean_intensities_file_registered, mean_intensities_file_unregistered]:\n",
    "    for column in df.columns[3:]:\n",
    "        count = (df[column] == True).sum()\n",
    "        print(f\"The number of True values in column {column} is {count}\")"
   ]
  },
  {
   "cell_type": "code",
   "execution_count": 37,
   "metadata": {},
   "outputs": [
    {
     "ename": "KeyError",
     "evalue": "\"['slide_id'] not found in axis\"",
     "output_type": "error",
     "traceback": [
      "\u001b[0;31m---------------------------------------------------------------------------\u001b[0m",
      "\u001b[0;31mKeyError\u001b[0m                                  Traceback (most recent call last)",
      "Cell \u001b[0;32mIn[37], line 2\u001b[0m\n\u001b[1;32m      1\u001b[0m \u001b[38;5;66;03m#remove the slide_id column\u001b[39;00m\n\u001b[0;32m----> 2\u001b[0m mean_intensities_file_registered \u001b[38;5;241m=\u001b[39m \u001b[43mmean_intensities_file_registered\u001b[49m\u001b[38;5;241;43m.\u001b[39;49m\u001b[43mdrop\u001b[49m\u001b[43m(\u001b[49m\u001b[43mcolumns\u001b[49m\u001b[38;5;241;43m=\u001b[39;49m\u001b[43m[\u001b[49m\u001b[38;5;124;43m'\u001b[39;49m\u001b[38;5;124;43mslide_id\u001b[39;49m\u001b[38;5;124;43m'\u001b[39;49m\u001b[43m]\u001b[49m\u001b[43m)\u001b[49m\n\u001b[1;32m      3\u001b[0m mean_intensities_file_registered \u001b[38;5;241m=\u001b[39m mean_intensities_file_registered\u001b[38;5;241m.\u001b[39mdrop(columns\u001b[38;5;241m=\u001b[39m[\u001b[38;5;124m'\u001b[39m\u001b[38;5;124mMean_MUC2\u001b[39m\u001b[38;5;124m'\u001b[39m])\n\u001b[1;32m      4\u001b[0m mean_intensities_file_unregistered \u001b[38;5;241m=\u001b[39m mean_intensities_file_unregistered\u001b[38;5;241m.\u001b[39mdrop(columns\u001b[38;5;241m=\u001b[39m[\u001b[38;5;124m'\u001b[39m\u001b[38;5;124mslide_id\u001b[39m\u001b[38;5;124m'\u001b[39m])\n",
      "File \u001b[0;32m~/miniconda3/envs/dapi_reg/lib/python3.12/site-packages/pandas/core/frame.py:5568\u001b[0m, in \u001b[0;36mDataFrame.drop\u001b[0;34m(self, labels, axis, index, columns, level, inplace, errors)\u001b[0m\n\u001b[1;32m   5420\u001b[0m \u001b[38;5;28;01mdef\u001b[39;00m \u001b[38;5;21mdrop\u001b[39m(\n\u001b[1;32m   5421\u001b[0m     \u001b[38;5;28mself\u001b[39m,\n\u001b[1;32m   5422\u001b[0m     labels: IndexLabel \u001b[38;5;241m|\u001b[39m \u001b[38;5;28;01mNone\u001b[39;00m \u001b[38;5;241m=\u001b[39m \u001b[38;5;28;01mNone\u001b[39;00m,\n\u001b[0;32m   (...)\u001b[0m\n\u001b[1;32m   5429\u001b[0m     errors: IgnoreRaise \u001b[38;5;241m=\u001b[39m \u001b[38;5;124m\"\u001b[39m\u001b[38;5;124mraise\u001b[39m\u001b[38;5;124m\"\u001b[39m,\n\u001b[1;32m   5430\u001b[0m ) \u001b[38;5;241m-\u001b[39m\u001b[38;5;241m>\u001b[39m DataFrame \u001b[38;5;241m|\u001b[39m \u001b[38;5;28;01mNone\u001b[39;00m:\n\u001b[1;32m   5431\u001b[0m \u001b[38;5;250m    \u001b[39m\u001b[38;5;124;03m\"\"\"\u001b[39;00m\n\u001b[1;32m   5432\u001b[0m \u001b[38;5;124;03m    Drop specified labels from rows or columns.\u001b[39;00m\n\u001b[1;32m   5433\u001b[0m \n\u001b[0;32m   (...)\u001b[0m\n\u001b[1;32m   5566\u001b[0m \u001b[38;5;124;03m            weight  1.0     0.8\u001b[39;00m\n\u001b[1;32m   5567\u001b[0m \u001b[38;5;124;03m    \"\"\"\u001b[39;00m\n\u001b[0;32m-> 5568\u001b[0m     \u001b[38;5;28;01mreturn\u001b[39;00m \u001b[38;5;28;43msuper\u001b[39;49m\u001b[43m(\u001b[49m\u001b[43m)\u001b[49m\u001b[38;5;241;43m.\u001b[39;49m\u001b[43mdrop\u001b[49m\u001b[43m(\u001b[49m\n\u001b[1;32m   5569\u001b[0m \u001b[43m        \u001b[49m\u001b[43mlabels\u001b[49m\u001b[38;5;241;43m=\u001b[39;49m\u001b[43mlabels\u001b[49m\u001b[43m,\u001b[49m\n\u001b[1;32m   5570\u001b[0m \u001b[43m        \u001b[49m\u001b[43maxis\u001b[49m\u001b[38;5;241;43m=\u001b[39;49m\u001b[43maxis\u001b[49m\u001b[43m,\u001b[49m\n\u001b[1;32m   5571\u001b[0m \u001b[43m        \u001b[49m\u001b[43mindex\u001b[49m\u001b[38;5;241;43m=\u001b[39;49m\u001b[43mindex\u001b[49m\u001b[43m,\u001b[49m\n\u001b[1;32m   5572\u001b[0m \u001b[43m        \u001b[49m\u001b[43mcolumns\u001b[49m\u001b[38;5;241;43m=\u001b[39;49m\u001b[43mcolumns\u001b[49m\u001b[43m,\u001b[49m\n\u001b[1;32m   5573\u001b[0m \u001b[43m        \u001b[49m\u001b[43mlevel\u001b[49m\u001b[38;5;241;43m=\u001b[39;49m\u001b[43mlevel\u001b[49m\u001b[43m,\u001b[49m\n\u001b[1;32m   5574\u001b[0m \u001b[43m        \u001b[49m\u001b[43minplace\u001b[49m\u001b[38;5;241;43m=\u001b[39;49m\u001b[43minplace\u001b[49m\u001b[43m,\u001b[49m\n\u001b[1;32m   5575\u001b[0m \u001b[43m        \u001b[49m\u001b[43merrors\u001b[49m\u001b[38;5;241;43m=\u001b[39;49m\u001b[43merrors\u001b[49m\u001b[43m,\u001b[49m\n\u001b[1;32m   5576\u001b[0m \u001b[43m    \u001b[49m\u001b[43m)\u001b[49m\n",
      "File \u001b[0;32m~/miniconda3/envs/dapi_reg/lib/python3.12/site-packages/pandas/core/generic.py:4782\u001b[0m, in \u001b[0;36mNDFrame.drop\u001b[0;34m(self, labels, axis, index, columns, level, inplace, errors)\u001b[0m\n\u001b[1;32m   4780\u001b[0m \u001b[38;5;28;01mfor\u001b[39;00m axis, labels \u001b[38;5;129;01min\u001b[39;00m axes\u001b[38;5;241m.\u001b[39mitems():\n\u001b[1;32m   4781\u001b[0m     \u001b[38;5;28;01mif\u001b[39;00m labels \u001b[38;5;129;01mis\u001b[39;00m \u001b[38;5;129;01mnot\u001b[39;00m \u001b[38;5;28;01mNone\u001b[39;00m:\n\u001b[0;32m-> 4782\u001b[0m         obj \u001b[38;5;241m=\u001b[39m \u001b[43mobj\u001b[49m\u001b[38;5;241;43m.\u001b[39;49m\u001b[43m_drop_axis\u001b[49m\u001b[43m(\u001b[49m\u001b[43mlabels\u001b[49m\u001b[43m,\u001b[49m\u001b[43m \u001b[49m\u001b[43maxis\u001b[49m\u001b[43m,\u001b[49m\u001b[43m \u001b[49m\u001b[43mlevel\u001b[49m\u001b[38;5;241;43m=\u001b[39;49m\u001b[43mlevel\u001b[49m\u001b[43m,\u001b[49m\u001b[43m \u001b[49m\u001b[43merrors\u001b[49m\u001b[38;5;241;43m=\u001b[39;49m\u001b[43merrors\u001b[49m\u001b[43m)\u001b[49m\n\u001b[1;32m   4784\u001b[0m \u001b[38;5;28;01mif\u001b[39;00m inplace:\n\u001b[1;32m   4785\u001b[0m     \u001b[38;5;28mself\u001b[39m\u001b[38;5;241m.\u001b[39m_update_inplace(obj)\n",
      "File \u001b[0;32m~/miniconda3/envs/dapi_reg/lib/python3.12/site-packages/pandas/core/generic.py:4824\u001b[0m, in \u001b[0;36mNDFrame._drop_axis\u001b[0;34m(self, labels, axis, level, errors, only_slice)\u001b[0m\n\u001b[1;32m   4822\u001b[0m         new_axis \u001b[38;5;241m=\u001b[39m axis\u001b[38;5;241m.\u001b[39mdrop(labels, level\u001b[38;5;241m=\u001b[39mlevel, errors\u001b[38;5;241m=\u001b[39merrors)\n\u001b[1;32m   4823\u001b[0m     \u001b[38;5;28;01melse\u001b[39;00m:\n\u001b[0;32m-> 4824\u001b[0m         new_axis \u001b[38;5;241m=\u001b[39m \u001b[43maxis\u001b[49m\u001b[38;5;241;43m.\u001b[39;49m\u001b[43mdrop\u001b[49m\u001b[43m(\u001b[49m\u001b[43mlabels\u001b[49m\u001b[43m,\u001b[49m\u001b[43m \u001b[49m\u001b[43merrors\u001b[49m\u001b[38;5;241;43m=\u001b[39;49m\u001b[43merrors\u001b[49m\u001b[43m)\u001b[49m\n\u001b[1;32m   4825\u001b[0m     indexer \u001b[38;5;241m=\u001b[39m axis\u001b[38;5;241m.\u001b[39mget_indexer(new_axis)\n\u001b[1;32m   4827\u001b[0m \u001b[38;5;66;03m# Case for non-unique axis\u001b[39;00m\n\u001b[1;32m   4828\u001b[0m \u001b[38;5;28;01melse\u001b[39;00m:\n",
      "File \u001b[0;32m~/miniconda3/envs/dapi_reg/lib/python3.12/site-packages/pandas/core/indexes/base.py:7069\u001b[0m, in \u001b[0;36mIndex.drop\u001b[0;34m(self, labels, errors)\u001b[0m\n\u001b[1;32m   7067\u001b[0m \u001b[38;5;28;01mif\u001b[39;00m mask\u001b[38;5;241m.\u001b[39many():\n\u001b[1;32m   7068\u001b[0m     \u001b[38;5;28;01mif\u001b[39;00m errors \u001b[38;5;241m!=\u001b[39m \u001b[38;5;124m\"\u001b[39m\u001b[38;5;124mignore\u001b[39m\u001b[38;5;124m\"\u001b[39m:\n\u001b[0;32m-> 7069\u001b[0m         \u001b[38;5;28;01mraise\u001b[39;00m \u001b[38;5;167;01mKeyError\u001b[39;00m(\u001b[38;5;124mf\u001b[39m\u001b[38;5;124m\"\u001b[39m\u001b[38;5;132;01m{\u001b[39;00mlabels[mask]\u001b[38;5;241m.\u001b[39mtolist()\u001b[38;5;132;01m}\u001b[39;00m\u001b[38;5;124m not found in axis\u001b[39m\u001b[38;5;124m\"\u001b[39m)\n\u001b[1;32m   7070\u001b[0m     indexer \u001b[38;5;241m=\u001b[39m indexer[\u001b[38;5;241m~\u001b[39mmask]\n\u001b[1;32m   7071\u001b[0m \u001b[38;5;28;01mreturn\u001b[39;00m \u001b[38;5;28mself\u001b[39m\u001b[38;5;241m.\u001b[39mdelete(indexer)\n",
      "\u001b[0;31mKeyError\u001b[0m: \"['slide_id'] not found in axis\""
     ]
    }
   ],
   "source": [
    "#remove the slide_id column\n",
    "mean_intensities_file_registered = mean_intensities_file_registered.drop(columns=['slide_id'])\n",
    "mean_intensities_file_registered = mean_intensities_file_registered.drop(columns=['Mean_MUC2'])\n",
    "mean_intensities_file_unregistered = mean_intensities_file_unregistered.drop(columns=['slide_id'])\n",
    "mean_intensities_file_unregistered = mean_intensities_file_unregistered.drop(columns=['Mean_MUC2'])"
   ]
  },
  {
   "cell_type": "code",
   "execution_count": 38,
   "metadata": {},
   "outputs": [
    {
     "data": {
      "text/html": [
       "<div>\n",
       "<style scoped>\n",
       "    .dataframe tbody tr th:only-of-type {\n",
       "        vertical-align: middle;\n",
       "    }\n",
       "\n",
       "    .dataframe tbody tr th {\n",
       "        vertical-align: top;\n",
       "    }\n",
       "\n",
       "    .dataframe thead th {\n",
       "        text-align: right;\n",
       "    }\n",
       "</style>\n",
       "<table border=\"1\" class=\"dataframe\">\n",
       "  <thead>\n",
       "    <tr style=\"text-align: right;\">\n",
       "      <th></th>\n",
       "      <th>INSTANCE</th>\n",
       "      <th>CENTROID_X</th>\n",
       "      <th>CENTROID_Y</th>\n",
       "      <th>MEAN_CD11B</th>\n",
       "      <th>MEAN_CD20</th>\n",
       "      <th>MEAN_CD3D</th>\n",
       "      <th>MEAN_CD45</th>\n",
       "      <th>MEAN_CD4</th>\n",
       "      <th>MEAN_CD68</th>\n",
       "      <th>MEAN_CD8</th>\n",
       "      <th>MEAN_CGA</th>\n",
       "      <th>MEAN_LYSOZYME</th>\n",
       "      <th>MEAN_NAKATPASE</th>\n",
       "      <th>MEAN_PANCK</th>\n",
       "      <th>MEAN_SMA</th>\n",
       "      <th>MEAN_SOX9</th>\n",
       "      <th>MEAN_VIMENTIN</th>\n",
       "      <th>MEAN_OLFM4</th>\n",
       "      <th>SLIDE_ID</th>\n",
       "    </tr>\n",
       "  </thead>\n",
       "  <tbody>\n",
       "    <tr>\n",
       "      <th>0</th>\n",
       "      <td>1</td>\n",
       "      <td>411.837782</td>\n",
       "      <td>125.603696</td>\n",
       "      <td>False</td>\n",
       "      <td>False</td>\n",
       "      <td>False</td>\n",
       "      <td>False</td>\n",
       "      <td>False</td>\n",
       "      <td>False</td>\n",
       "      <td>False</td>\n",
       "      <td>False</td>\n",
       "      <td>False</td>\n",
       "      <td>False</td>\n",
       "      <td>False</td>\n",
       "      <td>False</td>\n",
       "      <td>False</td>\n",
       "      <td>False</td>\n",
       "      <td>False</td>\n",
       "      <td>registered</td>\n",
       "    </tr>\n",
       "    <tr>\n",
       "      <th>1</th>\n",
       "      <td>2</td>\n",
       "      <td>428.330935</td>\n",
       "      <td>135.187050</td>\n",
       "      <td>False</td>\n",
       "      <td>False</td>\n",
       "      <td>False</td>\n",
       "      <td>True</td>\n",
       "      <td>False</td>\n",
       "      <td>False</td>\n",
       "      <td>False</td>\n",
       "      <td>False</td>\n",
       "      <td>False</td>\n",
       "      <td>False</td>\n",
       "      <td>False</td>\n",
       "      <td>False</td>\n",
       "      <td>False</td>\n",
       "      <td>False</td>\n",
       "      <td>False</td>\n",
       "      <td>registered</td>\n",
       "    </tr>\n",
       "    <tr>\n",
       "      <th>2</th>\n",
       "      <td>3</td>\n",
       "      <td>4827.311298</td>\n",
       "      <td>147.763221</td>\n",
       "      <td>False</td>\n",
       "      <td>False</td>\n",
       "      <td>False</td>\n",
       "      <td>False</td>\n",
       "      <td>False</td>\n",
       "      <td>False</td>\n",
       "      <td>False</td>\n",
       "      <td>False</td>\n",
       "      <td>False</td>\n",
       "      <td>False</td>\n",
       "      <td>False</td>\n",
       "      <td>False</td>\n",
       "      <td>False</td>\n",
       "      <td>False</td>\n",
       "      <td>False</td>\n",
       "      <td>registered</td>\n",
       "    </tr>\n",
       "    <tr>\n",
       "      <th>3</th>\n",
       "      <td>4</td>\n",
       "      <td>393.721843</td>\n",
       "      <td>148.488055</td>\n",
       "      <td>False</td>\n",
       "      <td>False</td>\n",
       "      <td>False</td>\n",
       "      <td>True</td>\n",
       "      <td>False</td>\n",
       "      <td>False</td>\n",
       "      <td>False</td>\n",
       "      <td>False</td>\n",
       "      <td>False</td>\n",
       "      <td>False</td>\n",
       "      <td>False</td>\n",
       "      <td>False</td>\n",
       "      <td>False</td>\n",
       "      <td>False</td>\n",
       "      <td>False</td>\n",
       "      <td>registered</td>\n",
       "    </tr>\n",
       "    <tr>\n",
       "      <th>4</th>\n",
       "      <td>5</td>\n",
       "      <td>434.630000</td>\n",
       "      <td>152.216667</td>\n",
       "      <td>False</td>\n",
       "      <td>False</td>\n",
       "      <td>False</td>\n",
       "      <td>False</td>\n",
       "      <td>False</td>\n",
       "      <td>False</td>\n",
       "      <td>False</td>\n",
       "      <td>False</td>\n",
       "      <td>False</td>\n",
       "      <td>False</td>\n",
       "      <td>False</td>\n",
       "      <td>False</td>\n",
       "      <td>False</td>\n",
       "      <td>False</td>\n",
       "      <td>False</td>\n",
       "      <td>registered</td>\n",
       "    </tr>\n",
       "  </tbody>\n",
       "</table>\n",
       "</div>"
      ],
      "text/plain": [
       "   INSTANCE   CENTROID_X  CENTROID_Y  MEAN_CD11B  MEAN_CD20  MEAN_CD3D  \\\n",
       "0         1   411.837782  125.603696       False      False      False   \n",
       "1         2   428.330935  135.187050       False      False      False   \n",
       "2         3  4827.311298  147.763221       False      False      False   \n",
       "3         4   393.721843  148.488055       False      False      False   \n",
       "4         5   434.630000  152.216667       False      False      False   \n",
       "\n",
       "   MEAN_CD45  MEAN_CD4  MEAN_CD68  MEAN_CD8  MEAN_CGA  MEAN_LYSOZYME  \\\n",
       "0      False     False      False     False     False          False   \n",
       "1       True     False      False     False     False          False   \n",
       "2      False     False      False     False     False          False   \n",
       "3       True     False      False     False     False          False   \n",
       "4      False     False      False     False     False          False   \n",
       "\n",
       "   MEAN_NAKATPASE  MEAN_PANCK  MEAN_SMA  MEAN_SOX9  MEAN_VIMENTIN  MEAN_OLFM4  \\\n",
       "0           False       False     False      False          False       False   \n",
       "1           False       False     False      False          False       False   \n",
       "2           False       False     False      False          False       False   \n",
       "3           False       False     False      False          False       False   \n",
       "4           False       False     False      False          False       False   \n",
       "\n",
       "     SLIDE_ID  \n",
       "0  registered  \n",
       "1  registered  \n",
       "2  registered  \n",
       "3  registered  \n",
       "4  registered  "
      ]
     },
     "execution_count": 38,
     "metadata": {},
     "output_type": "execute_result"
    }
   ],
   "source": [
    "mean_intensities_file_registered.head()"
   ]
  },
  {
   "cell_type": "code",
   "execution_count": 39,
   "metadata": {},
   "outputs": [
    {
     "ename": "KeyError",
     "evalue": "'Mean_NAKATPASE'",
     "output_type": "error",
     "traceback": [
      "\u001b[0;31m---------------------------------------------------------------------------\u001b[0m",
      "\u001b[0;31mKeyError\u001b[0m                                  Traceback (most recent call last)",
      "File \u001b[0;32m~/miniconda3/envs/dapi_reg/lib/python3.12/site-packages/pandas/core/indexes/base.py:3802\u001b[0m, in \u001b[0;36mIndex.get_loc\u001b[0;34m(self, key)\u001b[0m\n\u001b[1;32m   3801\u001b[0m \u001b[38;5;28;01mtry\u001b[39;00m:\n\u001b[0;32m-> 3802\u001b[0m     \u001b[38;5;28;01mreturn\u001b[39;00m \u001b[38;5;28;43mself\u001b[39;49m\u001b[38;5;241;43m.\u001b[39;49m\u001b[43m_engine\u001b[49m\u001b[38;5;241;43m.\u001b[39;49m\u001b[43mget_loc\u001b[49m\u001b[43m(\u001b[49m\u001b[43mcasted_key\u001b[49m\u001b[43m)\u001b[49m\n\u001b[1;32m   3803\u001b[0m \u001b[38;5;28;01mexcept\u001b[39;00m \u001b[38;5;167;01mKeyError\u001b[39;00m \u001b[38;5;28;01mas\u001b[39;00m err:\n",
      "File \u001b[0;32mindex.pyx:153\u001b[0m, in \u001b[0;36mpandas._libs.index.IndexEngine.get_loc\u001b[0;34m()\u001b[0m\n",
      "File \u001b[0;32mindex.pyx:182\u001b[0m, in \u001b[0;36mpandas._libs.index.IndexEngine.get_loc\u001b[0;34m()\u001b[0m\n",
      "File \u001b[0;32mpandas/_libs/hashtable_class_helper.pxi:7081\u001b[0m, in \u001b[0;36mpandas._libs.hashtable.PyObjectHashTable.get_item\u001b[0;34m()\u001b[0m\n",
      "File \u001b[0;32mpandas/_libs/hashtable_class_helper.pxi:7089\u001b[0m, in \u001b[0;36mpandas._libs.hashtable.PyObjectHashTable.get_item\u001b[0;34m()\u001b[0m\n",
      "\u001b[0;31mKeyError\u001b[0m: 'Mean_NAKATPASE'",
      "\nThe above exception was the direct cause of the following exception:\n",
      "\u001b[0;31mKeyError\u001b[0m                                  Traceback (most recent call last)",
      "Cell \u001b[0;32mIn[39], line 4\u001b[0m\n\u001b[1;32m      1\u001b[0m \u001b[38;5;66;03m#Make a column called Epi+ and set it as True if NAKATPASE or PANCK or CGA is true\u001b[39;00m\n\u001b[1;32m      2\u001b[0m \n\u001b[1;32m      3\u001b[0m \u001b[38;5;66;03m#Registered\u001b[39;00m\n\u001b[0;32m----> 4\u001b[0m mean_intensities_file_registered[\u001b[38;5;124m'\u001b[39m\u001b[38;5;124mEpi+\u001b[39m\u001b[38;5;124m'\u001b[39m] \u001b[38;5;241m=\u001b[39m \u001b[43mmean_intensities_file_registered\u001b[49m\u001b[43m[\u001b[49m\u001b[38;5;124;43m'\u001b[39;49m\u001b[38;5;124;43mMean_NAKATPASE\u001b[39;49m\u001b[38;5;124;43m'\u001b[39;49m\u001b[43m]\u001b[49m \u001b[38;5;241m|\u001b[39m mean_intensities_file_registered[\u001b[38;5;124m'\u001b[39m\u001b[38;5;124mMean_PANCK\u001b[39m\u001b[38;5;124m'\u001b[39m] \u001b[38;5;241m|\u001b[39m mean_intensities_file_registered[\u001b[38;5;124m'\u001b[39m\u001b[38;5;124mMean_CGA\u001b[39m\u001b[38;5;124m'\u001b[39m]\n\u001b[1;32m      6\u001b[0m \u001b[38;5;66;03m#Unregistered\u001b[39;00m\n\u001b[1;32m      7\u001b[0m mean_intensities_file_unregistered[\u001b[38;5;124m'\u001b[39m\u001b[38;5;124mEpi+\u001b[39m\u001b[38;5;124m'\u001b[39m] \u001b[38;5;241m=\u001b[39m mean_intensities_file_unregistered[\u001b[38;5;124m'\u001b[39m\u001b[38;5;124mMean_NAKATPASE\u001b[39m\u001b[38;5;124m'\u001b[39m] \u001b[38;5;241m|\u001b[39m mean_intensities_file_unregistered[\u001b[38;5;124m'\u001b[39m\u001b[38;5;124mMean_PANCK\u001b[39m\u001b[38;5;124m'\u001b[39m] \u001b[38;5;241m|\u001b[39m mean_intensities_file_unregistered[\u001b[38;5;124m'\u001b[39m\u001b[38;5;124mMean_CGA\u001b[39m\u001b[38;5;124m'\u001b[39m]\n",
      "File \u001b[0;32m~/miniconda3/envs/dapi_reg/lib/python3.12/site-packages/pandas/core/frame.py:4090\u001b[0m, in \u001b[0;36mDataFrame.__getitem__\u001b[0;34m(self, key)\u001b[0m\n\u001b[1;32m   4088\u001b[0m \u001b[38;5;28;01mif\u001b[39;00m \u001b[38;5;28mself\u001b[39m\u001b[38;5;241m.\u001b[39mcolumns\u001b[38;5;241m.\u001b[39mnlevels \u001b[38;5;241m>\u001b[39m \u001b[38;5;241m1\u001b[39m:\n\u001b[1;32m   4089\u001b[0m     \u001b[38;5;28;01mreturn\u001b[39;00m \u001b[38;5;28mself\u001b[39m\u001b[38;5;241m.\u001b[39m_getitem_multilevel(key)\n\u001b[0;32m-> 4090\u001b[0m indexer \u001b[38;5;241m=\u001b[39m \u001b[38;5;28;43mself\u001b[39;49m\u001b[38;5;241;43m.\u001b[39;49m\u001b[43mcolumns\u001b[49m\u001b[38;5;241;43m.\u001b[39;49m\u001b[43mget_loc\u001b[49m\u001b[43m(\u001b[49m\u001b[43mkey\u001b[49m\u001b[43m)\u001b[49m\n\u001b[1;32m   4091\u001b[0m \u001b[38;5;28;01mif\u001b[39;00m is_integer(indexer):\n\u001b[1;32m   4092\u001b[0m     indexer \u001b[38;5;241m=\u001b[39m [indexer]\n",
      "File \u001b[0;32m~/miniconda3/envs/dapi_reg/lib/python3.12/site-packages/pandas/core/indexes/base.py:3809\u001b[0m, in \u001b[0;36mIndex.get_loc\u001b[0;34m(self, key)\u001b[0m\n\u001b[1;32m   3804\u001b[0m     \u001b[38;5;28;01mif\u001b[39;00m \u001b[38;5;28misinstance\u001b[39m(casted_key, \u001b[38;5;28mslice\u001b[39m) \u001b[38;5;129;01mor\u001b[39;00m (\n\u001b[1;32m   3805\u001b[0m         \u001b[38;5;28misinstance\u001b[39m(casted_key, abc\u001b[38;5;241m.\u001b[39mIterable)\n\u001b[1;32m   3806\u001b[0m         \u001b[38;5;129;01mand\u001b[39;00m \u001b[38;5;28many\u001b[39m(\u001b[38;5;28misinstance\u001b[39m(x, \u001b[38;5;28mslice\u001b[39m) \u001b[38;5;28;01mfor\u001b[39;00m x \u001b[38;5;129;01min\u001b[39;00m casted_key)\n\u001b[1;32m   3807\u001b[0m     ):\n\u001b[1;32m   3808\u001b[0m         \u001b[38;5;28;01mraise\u001b[39;00m InvalidIndexError(key)\n\u001b[0;32m-> 3809\u001b[0m     \u001b[38;5;28;01mraise\u001b[39;00m \u001b[38;5;167;01mKeyError\u001b[39;00m(key) \u001b[38;5;28;01mfrom\u001b[39;00m \u001b[38;5;21;01merr\u001b[39;00m\n\u001b[1;32m   3810\u001b[0m \u001b[38;5;28;01mexcept\u001b[39;00m \u001b[38;5;167;01mTypeError\u001b[39;00m:\n\u001b[1;32m   3811\u001b[0m     \u001b[38;5;66;03m# If we have a listlike key, _check_indexing_error will raise\u001b[39;00m\n\u001b[1;32m   3812\u001b[0m     \u001b[38;5;66;03m#  InvalidIndexError. Otherwise we fall through and re-raise\u001b[39;00m\n\u001b[1;32m   3813\u001b[0m     \u001b[38;5;66;03m#  the TypeError.\u001b[39;00m\n\u001b[1;32m   3814\u001b[0m     \u001b[38;5;28mself\u001b[39m\u001b[38;5;241m.\u001b[39m_check_indexing_error(key)\n",
      "\u001b[0;31mKeyError\u001b[0m: 'Mean_NAKATPASE'"
     ]
    }
   ],
   "source": [
    "#Make a column called Epi+ and set it as True if NAKATPASE or PANCK or CGA is true\n",
    "\n",
    "#Registered\n",
    "mean_intensities_file_registered['Epi+'] = mean_intensities_file_registered['Mean_NAKATPASE'] | mean_intensities_file_registered['Mean_PANCK'] | mean_intensities_file_registered['Mean_CGA']\n",
    "\n",
    "#Unregistered\n",
    "mean_intensities_file_unregistered['Epi+'] = mean_intensities_file_unregistered['Mean_NAKATPASE'] | mean_intensities_file_unregistered['Mean_PANCK'] | mean_intensities_file_unregistered['Mean_CGA']"
   ]
  },
  {
   "cell_type": "code",
   "execution_count": 27,
   "metadata": {},
   "outputs": [
    {
     "data": {
      "text/html": [
       "<div>\n",
       "<style scoped>\n",
       "    .dataframe tbody tr th:only-of-type {\n",
       "        vertical-align: middle;\n",
       "    }\n",
       "\n",
       "    .dataframe tbody tr th {\n",
       "        vertical-align: top;\n",
       "    }\n",
       "\n",
       "    .dataframe thead th {\n",
       "        text-align: right;\n",
       "    }\n",
       "</style>\n",
       "<table border=\"1\" class=\"dataframe\">\n",
       "  <thead>\n",
       "    <tr style=\"text-align: right;\">\n",
       "      <th></th>\n",
       "      <th>Instance</th>\n",
       "      <th>Centroid_X</th>\n",
       "      <th>Centroid_Y</th>\n",
       "      <th>Mean_CD11B</th>\n",
       "      <th>Mean_CD20</th>\n",
       "      <th>Mean_CD3d</th>\n",
       "      <th>Mean_CD45</th>\n",
       "      <th>Mean_CD4</th>\n",
       "      <th>Mean_CD68</th>\n",
       "      <th>Mean_CD8</th>\n",
       "      <th>Mean_CgA</th>\n",
       "      <th>Mean_Lysozyme</th>\n",
       "      <th>Mean_NaKATPase</th>\n",
       "      <th>Mean_PanCK</th>\n",
       "      <th>Mean_SMA</th>\n",
       "      <th>Mean_Sox9</th>\n",
       "      <th>Mean_Vimentin</th>\n",
       "      <th>Mean_OLFM4</th>\n",
       "    </tr>\n",
       "  </thead>\n",
       "  <tbody>\n",
       "    <tr>\n",
       "      <th>0</th>\n",
       "      <td>1</td>\n",
       "      <td>411.837782</td>\n",
       "      <td>125.603696</td>\n",
       "      <td>False</td>\n",
       "      <td>False</td>\n",
       "      <td>False</td>\n",
       "      <td>False</td>\n",
       "      <td>False</td>\n",
       "      <td>False</td>\n",
       "      <td>False</td>\n",
       "      <td>False</td>\n",
       "      <td>False</td>\n",
       "      <td>False</td>\n",
       "      <td>False</td>\n",
       "      <td>False</td>\n",
       "      <td>False</td>\n",
       "      <td>False</td>\n",
       "      <td>False</td>\n",
       "    </tr>\n",
       "    <tr>\n",
       "      <th>1</th>\n",
       "      <td>2</td>\n",
       "      <td>428.330935</td>\n",
       "      <td>135.187050</td>\n",
       "      <td>False</td>\n",
       "      <td>False</td>\n",
       "      <td>False</td>\n",
       "      <td>True</td>\n",
       "      <td>False</td>\n",
       "      <td>False</td>\n",
       "      <td>False</td>\n",
       "      <td>False</td>\n",
       "      <td>False</td>\n",
       "      <td>False</td>\n",
       "      <td>False</td>\n",
       "      <td>False</td>\n",
       "      <td>False</td>\n",
       "      <td>False</td>\n",
       "      <td>False</td>\n",
       "    </tr>\n",
       "    <tr>\n",
       "      <th>2</th>\n",
       "      <td>3</td>\n",
       "      <td>4827.311298</td>\n",
       "      <td>147.763221</td>\n",
       "      <td>False</td>\n",
       "      <td>False</td>\n",
       "      <td>False</td>\n",
       "      <td>False</td>\n",
       "      <td>False</td>\n",
       "      <td>False</td>\n",
       "      <td>False</td>\n",
       "      <td>False</td>\n",
       "      <td>False</td>\n",
       "      <td>False</td>\n",
       "      <td>False</td>\n",
       "      <td>False</td>\n",
       "      <td>False</td>\n",
       "      <td>False</td>\n",
       "      <td>False</td>\n",
       "    </tr>\n",
       "    <tr>\n",
       "      <th>3</th>\n",
       "      <td>4</td>\n",
       "      <td>393.721843</td>\n",
       "      <td>148.488055</td>\n",
       "      <td>False</td>\n",
       "      <td>False</td>\n",
       "      <td>False</td>\n",
       "      <td>True</td>\n",
       "      <td>False</td>\n",
       "      <td>False</td>\n",
       "      <td>False</td>\n",
       "      <td>False</td>\n",
       "      <td>False</td>\n",
       "      <td>False</td>\n",
       "      <td>False</td>\n",
       "      <td>False</td>\n",
       "      <td>False</td>\n",
       "      <td>False</td>\n",
       "      <td>False</td>\n",
       "    </tr>\n",
       "    <tr>\n",
       "      <th>4</th>\n",
       "      <td>5</td>\n",
       "      <td>434.630000</td>\n",
       "      <td>152.216667</td>\n",
       "      <td>False</td>\n",
       "      <td>False</td>\n",
       "      <td>False</td>\n",
       "      <td>False</td>\n",
       "      <td>False</td>\n",
       "      <td>False</td>\n",
       "      <td>False</td>\n",
       "      <td>False</td>\n",
       "      <td>False</td>\n",
       "      <td>False</td>\n",
       "      <td>False</td>\n",
       "      <td>False</td>\n",
       "      <td>False</td>\n",
       "      <td>False</td>\n",
       "      <td>False</td>\n",
       "    </tr>\n",
       "  </tbody>\n",
       "</table>\n",
       "</div>"
      ],
      "text/plain": [
       "   Instance   Centroid_X  Centroid_Y  Mean_CD11B  Mean_CD20  Mean_CD3d  \\\n",
       "0         1   411.837782  125.603696       False      False      False   \n",
       "1         2   428.330935  135.187050       False      False      False   \n",
       "2         3  4827.311298  147.763221       False      False      False   \n",
       "3         4   393.721843  148.488055       False      False      False   \n",
       "4         5   434.630000  152.216667       False      False      False   \n",
       "\n",
       "   Mean_CD45  Mean_CD4  Mean_CD68  Mean_CD8  Mean_CgA  Mean_Lysozyme  \\\n",
       "0      False     False      False     False     False          False   \n",
       "1       True     False      False     False     False          False   \n",
       "2      False     False      False     False     False          False   \n",
       "3       True     False      False     False     False          False   \n",
       "4      False     False      False     False     False          False   \n",
       "\n",
       "   Mean_NaKATPase  Mean_PanCK  Mean_SMA  Mean_Sox9  Mean_Vimentin  Mean_OLFM4  \n",
       "0           False       False     False      False          False       False  \n",
       "1           False       False     False      False          False       False  \n",
       "2           False       False     False      False          False       False  \n",
       "3           False       False     False      False          False       False  \n",
       "4           False       False     False      False          False       False  "
      ]
     },
     "execution_count": 27,
     "metadata": {},
     "output_type": "execute_result"
    }
   ],
   "source": [
    "mean_intensities_file_registered.head()\n"
   ]
  },
  {
   "cell_type": "code",
   "execution_count": 28,
   "metadata": {},
   "outputs": [
    {
     "ename": "KeyError",
     "evalue": "'Mean_VIMENTIN'",
     "output_type": "error",
     "traceback": [
      "\u001b[0;31m---------------------------------------------------------------------------\u001b[0m",
      "\u001b[0;31mKeyError\u001b[0m                                  Traceback (most recent call last)",
      "File \u001b[0;32m~/miniconda3/envs/dapi_reg/lib/python3.12/site-packages/pandas/core/indexes/base.py:3802\u001b[0m, in \u001b[0;36mIndex.get_loc\u001b[0;34m(self, key)\u001b[0m\n\u001b[1;32m   3801\u001b[0m \u001b[38;5;28;01mtry\u001b[39;00m:\n\u001b[0;32m-> 3802\u001b[0m     \u001b[38;5;28;01mreturn\u001b[39;00m \u001b[38;5;28;43mself\u001b[39;49m\u001b[38;5;241;43m.\u001b[39;49m\u001b[43m_engine\u001b[49m\u001b[38;5;241;43m.\u001b[39;49m\u001b[43mget_loc\u001b[49m\u001b[43m(\u001b[49m\u001b[43mcasted_key\u001b[49m\u001b[43m)\u001b[49m\n\u001b[1;32m   3803\u001b[0m \u001b[38;5;28;01mexcept\u001b[39;00m \u001b[38;5;167;01mKeyError\u001b[39;00m \u001b[38;5;28;01mas\u001b[39;00m err:\n",
      "File \u001b[0;32mindex.pyx:153\u001b[0m, in \u001b[0;36mpandas._libs.index.IndexEngine.get_loc\u001b[0;34m()\u001b[0m\n",
      "File \u001b[0;32mindex.pyx:182\u001b[0m, in \u001b[0;36mpandas._libs.index.IndexEngine.get_loc\u001b[0;34m()\u001b[0m\n",
      "File \u001b[0;32mpandas/_libs/hashtable_class_helper.pxi:7081\u001b[0m, in \u001b[0;36mpandas._libs.hashtable.PyObjectHashTable.get_item\u001b[0;34m()\u001b[0m\n",
      "File \u001b[0;32mpandas/_libs/hashtable_class_helper.pxi:7089\u001b[0m, in \u001b[0;36mpandas._libs.hashtable.PyObjectHashTable.get_item\u001b[0;34m()\u001b[0m\n",
      "\u001b[0;31mKeyError\u001b[0m: 'Mean_VIMENTIN'",
      "\nThe above exception was the direct cause of the following exception:\n",
      "\u001b[0;31mKeyError\u001b[0m                                  Traceback (most recent call last)",
      "Cell \u001b[0;32mIn[28], line 4\u001b[0m\n\u001b[1;32m      1\u001b[0m \u001b[38;5;66;03m#Make a column called Stroma+ and set it as True if VIMENTIN or SMA is true\u001b[39;00m\n\u001b[1;32m      2\u001b[0m \n\u001b[1;32m      3\u001b[0m \u001b[38;5;66;03m#Registered\u001b[39;00m\n\u001b[0;32m----> 4\u001b[0m mean_intensities_file_registered[\u001b[38;5;124m'\u001b[39m\u001b[38;5;124mStroma+\u001b[39m\u001b[38;5;124m'\u001b[39m] \u001b[38;5;241m=\u001b[39m \u001b[43mmean_intensities_file_registered\u001b[49m\u001b[43m[\u001b[49m\u001b[38;5;124;43m'\u001b[39;49m\u001b[38;5;124;43mMean_VIMENTIN\u001b[39;49m\u001b[38;5;124;43m'\u001b[39;49m\u001b[43m]\u001b[49m \u001b[38;5;241m|\u001b[39m mean_intensities_file_registered[\u001b[38;5;124m'\u001b[39m\u001b[38;5;124mMean_SMA\u001b[39m\u001b[38;5;124m'\u001b[39m]\n\u001b[1;32m      6\u001b[0m \u001b[38;5;66;03m#Unregistered\u001b[39;00m\n\u001b[1;32m      7\u001b[0m mean_intensities_file_unregistered[\u001b[38;5;124m'\u001b[39m\u001b[38;5;124mStroma+\u001b[39m\u001b[38;5;124m'\u001b[39m] \u001b[38;5;241m=\u001b[39m mean_intensities_file_unregistered[\u001b[38;5;124m'\u001b[39m\u001b[38;5;124mMean_VIMENTIN\u001b[39m\u001b[38;5;124m'\u001b[39m] \u001b[38;5;241m|\u001b[39m mean_intensities_file_unregistered[\u001b[38;5;124m'\u001b[39m\u001b[38;5;124mMean_SMA\u001b[39m\u001b[38;5;124m'\u001b[39m]\n",
      "File \u001b[0;32m~/miniconda3/envs/dapi_reg/lib/python3.12/site-packages/pandas/core/frame.py:4090\u001b[0m, in \u001b[0;36mDataFrame.__getitem__\u001b[0;34m(self, key)\u001b[0m\n\u001b[1;32m   4088\u001b[0m \u001b[38;5;28;01mif\u001b[39;00m \u001b[38;5;28mself\u001b[39m\u001b[38;5;241m.\u001b[39mcolumns\u001b[38;5;241m.\u001b[39mnlevels \u001b[38;5;241m>\u001b[39m \u001b[38;5;241m1\u001b[39m:\n\u001b[1;32m   4089\u001b[0m     \u001b[38;5;28;01mreturn\u001b[39;00m \u001b[38;5;28mself\u001b[39m\u001b[38;5;241m.\u001b[39m_getitem_multilevel(key)\n\u001b[0;32m-> 4090\u001b[0m indexer \u001b[38;5;241m=\u001b[39m \u001b[38;5;28;43mself\u001b[39;49m\u001b[38;5;241;43m.\u001b[39;49m\u001b[43mcolumns\u001b[49m\u001b[38;5;241;43m.\u001b[39;49m\u001b[43mget_loc\u001b[49m\u001b[43m(\u001b[49m\u001b[43mkey\u001b[49m\u001b[43m)\u001b[49m\n\u001b[1;32m   4091\u001b[0m \u001b[38;5;28;01mif\u001b[39;00m is_integer(indexer):\n\u001b[1;32m   4092\u001b[0m     indexer \u001b[38;5;241m=\u001b[39m [indexer]\n",
      "File \u001b[0;32m~/miniconda3/envs/dapi_reg/lib/python3.12/site-packages/pandas/core/indexes/base.py:3809\u001b[0m, in \u001b[0;36mIndex.get_loc\u001b[0;34m(self, key)\u001b[0m\n\u001b[1;32m   3804\u001b[0m     \u001b[38;5;28;01mif\u001b[39;00m \u001b[38;5;28misinstance\u001b[39m(casted_key, \u001b[38;5;28mslice\u001b[39m) \u001b[38;5;129;01mor\u001b[39;00m (\n\u001b[1;32m   3805\u001b[0m         \u001b[38;5;28misinstance\u001b[39m(casted_key, abc\u001b[38;5;241m.\u001b[39mIterable)\n\u001b[1;32m   3806\u001b[0m         \u001b[38;5;129;01mand\u001b[39;00m \u001b[38;5;28many\u001b[39m(\u001b[38;5;28misinstance\u001b[39m(x, \u001b[38;5;28mslice\u001b[39m) \u001b[38;5;28;01mfor\u001b[39;00m x \u001b[38;5;129;01min\u001b[39;00m casted_key)\n\u001b[1;32m   3807\u001b[0m     ):\n\u001b[1;32m   3808\u001b[0m         \u001b[38;5;28;01mraise\u001b[39;00m InvalidIndexError(key)\n\u001b[0;32m-> 3809\u001b[0m     \u001b[38;5;28;01mraise\u001b[39;00m \u001b[38;5;167;01mKeyError\u001b[39;00m(key) \u001b[38;5;28;01mfrom\u001b[39;00m \u001b[38;5;21;01merr\u001b[39;00m\n\u001b[1;32m   3810\u001b[0m \u001b[38;5;28;01mexcept\u001b[39;00m \u001b[38;5;167;01mTypeError\u001b[39;00m:\n\u001b[1;32m   3811\u001b[0m     \u001b[38;5;66;03m# If we have a listlike key, _check_indexing_error will raise\u001b[39;00m\n\u001b[1;32m   3812\u001b[0m     \u001b[38;5;66;03m#  InvalidIndexError. Otherwise we fall through and re-raise\u001b[39;00m\n\u001b[1;32m   3813\u001b[0m     \u001b[38;5;66;03m#  the TypeError.\u001b[39;00m\n\u001b[1;32m   3814\u001b[0m     \u001b[38;5;28mself\u001b[39m\u001b[38;5;241m.\u001b[39m_check_indexing_error(key)\n",
      "\u001b[0;31mKeyError\u001b[0m: 'Mean_VIMENTIN'"
     ]
    }
   ],
   "source": [
    "#Make a column called Stroma+ and set it as True if VIMENTIN or SMA is true\n",
    "\n",
    "#Registered\n",
    "mean_intensities_file_registered['Stroma+'] = mean_intensities_file_registered['Mean_VIMENTIN'] | mean_intensities_file_registered['Mean_SMA']\n",
    "\n",
    "#Unregistered\n",
    "mean_intensities_file_unregistered['Stroma+'] = mean_intensities_file_unregistered['Mean_VIMENTIN'] | mean_intensities_file_unregistered['Mean_SMA']"
   ]
  },
  {
   "cell_type": "code",
   "execution_count": 29,
   "metadata": {},
   "outputs": [
    {
     "data": {
      "text/html": [
       "<div>\n",
       "<style scoped>\n",
       "    .dataframe tbody tr th:only-of-type {\n",
       "        vertical-align: middle;\n",
       "    }\n",
       "\n",
       "    .dataframe tbody tr th {\n",
       "        vertical-align: top;\n",
       "    }\n",
       "\n",
       "    .dataframe thead th {\n",
       "        text-align: right;\n",
       "    }\n",
       "</style>\n",
       "<table border=\"1\" class=\"dataframe\">\n",
       "  <thead>\n",
       "    <tr style=\"text-align: right;\">\n",
       "      <th></th>\n",
       "      <th>Instance</th>\n",
       "      <th>Centroid_X</th>\n",
       "      <th>Centroid_Y</th>\n",
       "      <th>Mean_CD11B</th>\n",
       "      <th>Mean_CD20</th>\n",
       "      <th>Mean_CD3d</th>\n",
       "      <th>Mean_CD45</th>\n",
       "      <th>Mean_CD4</th>\n",
       "      <th>Mean_CD68</th>\n",
       "      <th>Mean_CD8</th>\n",
       "      <th>Mean_CgA</th>\n",
       "      <th>Mean_Lysozyme</th>\n",
       "      <th>Mean_NaKATPase</th>\n",
       "      <th>Mean_PanCK</th>\n",
       "      <th>Mean_SMA</th>\n",
       "      <th>Mean_Sox9</th>\n",
       "      <th>Mean_Vimentin</th>\n",
       "      <th>Mean_OLFM4</th>\n",
       "    </tr>\n",
       "  </thead>\n",
       "  <tbody>\n",
       "    <tr>\n",
       "      <th>0</th>\n",
       "      <td>1</td>\n",
       "      <td>411.837782</td>\n",
       "      <td>125.603696</td>\n",
       "      <td>False</td>\n",
       "      <td>False</td>\n",
       "      <td>False</td>\n",
       "      <td>False</td>\n",
       "      <td>False</td>\n",
       "      <td>False</td>\n",
       "      <td>False</td>\n",
       "      <td>False</td>\n",
       "      <td>False</td>\n",
       "      <td>False</td>\n",
       "      <td>False</td>\n",
       "      <td>False</td>\n",
       "      <td>False</td>\n",
       "      <td>False</td>\n",
       "      <td>False</td>\n",
       "    </tr>\n",
       "    <tr>\n",
       "      <th>1</th>\n",
       "      <td>2</td>\n",
       "      <td>428.330935</td>\n",
       "      <td>135.187050</td>\n",
       "      <td>False</td>\n",
       "      <td>False</td>\n",
       "      <td>False</td>\n",
       "      <td>True</td>\n",
       "      <td>False</td>\n",
       "      <td>False</td>\n",
       "      <td>False</td>\n",
       "      <td>False</td>\n",
       "      <td>False</td>\n",
       "      <td>False</td>\n",
       "      <td>False</td>\n",
       "      <td>False</td>\n",
       "      <td>False</td>\n",
       "      <td>False</td>\n",
       "      <td>False</td>\n",
       "    </tr>\n",
       "    <tr>\n",
       "      <th>2</th>\n",
       "      <td>3</td>\n",
       "      <td>4827.311298</td>\n",
       "      <td>147.763221</td>\n",
       "      <td>False</td>\n",
       "      <td>False</td>\n",
       "      <td>False</td>\n",
       "      <td>False</td>\n",
       "      <td>False</td>\n",
       "      <td>False</td>\n",
       "      <td>False</td>\n",
       "      <td>False</td>\n",
       "      <td>False</td>\n",
       "      <td>False</td>\n",
       "      <td>False</td>\n",
       "      <td>False</td>\n",
       "      <td>False</td>\n",
       "      <td>False</td>\n",
       "      <td>False</td>\n",
       "    </tr>\n",
       "    <tr>\n",
       "      <th>3</th>\n",
       "      <td>4</td>\n",
       "      <td>393.721843</td>\n",
       "      <td>148.488055</td>\n",
       "      <td>False</td>\n",
       "      <td>False</td>\n",
       "      <td>False</td>\n",
       "      <td>True</td>\n",
       "      <td>False</td>\n",
       "      <td>False</td>\n",
       "      <td>False</td>\n",
       "      <td>False</td>\n",
       "      <td>False</td>\n",
       "      <td>False</td>\n",
       "      <td>False</td>\n",
       "      <td>False</td>\n",
       "      <td>False</td>\n",
       "      <td>False</td>\n",
       "      <td>False</td>\n",
       "    </tr>\n",
       "    <tr>\n",
       "      <th>4</th>\n",
       "      <td>5</td>\n",
       "      <td>434.630000</td>\n",
       "      <td>152.216667</td>\n",
       "      <td>False</td>\n",
       "      <td>False</td>\n",
       "      <td>False</td>\n",
       "      <td>False</td>\n",
       "      <td>False</td>\n",
       "      <td>False</td>\n",
       "      <td>False</td>\n",
       "      <td>False</td>\n",
       "      <td>False</td>\n",
       "      <td>False</td>\n",
       "      <td>False</td>\n",
       "      <td>False</td>\n",
       "      <td>False</td>\n",
       "      <td>False</td>\n",
       "      <td>False</td>\n",
       "    </tr>\n",
       "  </tbody>\n",
       "</table>\n",
       "</div>"
      ],
      "text/plain": [
       "   Instance   Centroid_X  Centroid_Y  Mean_CD11B  Mean_CD20  Mean_CD3d  \\\n",
       "0         1   411.837782  125.603696       False      False      False   \n",
       "1         2   428.330935  135.187050       False      False      False   \n",
       "2         3  4827.311298  147.763221       False      False      False   \n",
       "3         4   393.721843  148.488055       False      False      False   \n",
       "4         5   434.630000  152.216667       False      False      False   \n",
       "\n",
       "   Mean_CD45  Mean_CD4  Mean_CD68  Mean_CD8  Mean_CgA  Mean_Lysozyme  \\\n",
       "0      False     False      False     False     False          False   \n",
       "1       True     False      False     False     False          False   \n",
       "2      False     False      False     False     False          False   \n",
       "3       True     False      False     False     False          False   \n",
       "4      False     False      False     False     False          False   \n",
       "\n",
       "   Mean_NaKATPase  Mean_PanCK  Mean_SMA  Mean_Sox9  Mean_Vimentin  Mean_OLFM4  \n",
       "0           False       False     False      False          False       False  \n",
       "1           False       False     False      False          False       False  \n",
       "2           False       False     False      False          False       False  \n",
       "3           False       False     False      False          False       False  \n",
       "4           False       False     False      False          False       False  "
      ]
     },
     "execution_count": 29,
     "metadata": {},
     "output_type": "execute_result"
    }
   ],
   "source": [
    "mean_intensities_file_registered.head()"
   ]
  },
  {
   "cell_type": "code",
   "execution_count": 299,
   "metadata": {},
   "outputs": [],
   "source": [
    "#Make a column called Immune+ and set it as True if  CD45+ or CD20+ or CD68+ or CD11B+ or Lysozyme+ or CD3d+ or CD8+ or CD4+\n",
    "\n",
    "#Registered\n",
    "mean_intensities_file_registered['Immune+'] = mean_intensities_file_registered['Mean_CD45'] | mean_intensities_file_registered['Mean_CD20'] | mean_intensities_file_registered['Mean_CD68'] | mean_intensities_file_registered['Mean_CD11B'] | mean_intensities_file_registered['Mean_LYSOZYME'] | mean_intensities_file_registered['Mean_CD3D'] | mean_intensities_file_registered['Mean_CD8'] | mean_intensities_file_registered['Mean_CD4']\n",
    "\n",
    "#Unregistered\n",
    "mean_intensities_file_unregistered['Immune+'] = mean_intensities_file_unregistered['Mean_CD45'] | mean_intensities_file_unregistered['Mean_CD20'] | mean_intensities_file_unregistered['Mean_CD68'] | mean_intensities_file_unregistered['Mean_CD11B'] | mean_intensities_file_unregistered['Mean_LYSOZYME'] | mean_intensities_file_unregistered['Mean_CD3D'] | mean_intensities_file_unregistered['Mean_CD8'] | mean_intensities_file_unregistered['Mean_CD4']"
   ]
  },
  {
   "cell_type": "code",
   "execution_count": 300,
   "metadata": {},
   "outputs": [
    {
     "data": {
      "text/html": [
       "<div>\n",
       "<style scoped>\n",
       "    .dataframe tbody tr th:only-of-type {\n",
       "        vertical-align: middle;\n",
       "    }\n",
       "\n",
       "    .dataframe tbody tr th {\n",
       "        vertical-align: top;\n",
       "    }\n",
       "\n",
       "    .dataframe thead th {\n",
       "        text-align: right;\n",
       "    }\n",
       "</style>\n",
       "<table border=\"1\" class=\"dataframe\">\n",
       "  <thead>\n",
       "    <tr style=\"text-align: right;\">\n",
       "      <th></th>\n",
       "      <th>Instance</th>\n",
       "      <th>Centroid_X</th>\n",
       "      <th>Centroid_Y</th>\n",
       "      <th>Mean_CD11B</th>\n",
       "      <th>Mean_CD20</th>\n",
       "      <th>Mean_CD3D</th>\n",
       "      <th>Mean_CD45</th>\n",
       "      <th>Mean_CD4</th>\n",
       "      <th>Mean_CD68</th>\n",
       "      <th>Mean_CD8</th>\n",
       "      <th>...</th>\n",
       "      <th>Mean_LYSOZYME</th>\n",
       "      <th>Mean_NAKATPASE</th>\n",
       "      <th>Mean_PANCK</th>\n",
       "      <th>Mean_SMA</th>\n",
       "      <th>Mean_SOX9</th>\n",
       "      <th>Mean_VIMENTIN</th>\n",
       "      <th>Mean_OLFM4</th>\n",
       "      <th>Epi+</th>\n",
       "      <th>Stroma+</th>\n",
       "      <th>Immune+</th>\n",
       "    </tr>\n",
       "  </thead>\n",
       "  <tbody>\n",
       "    <tr>\n",
       "      <th>0</th>\n",
       "      <td>1</td>\n",
       "      <td>5138.265993</td>\n",
       "      <td>404.909091</td>\n",
       "      <td>False</td>\n",
       "      <td>False</td>\n",
       "      <td>False</td>\n",
       "      <td>False</td>\n",
       "      <td>False</td>\n",
       "      <td>False</td>\n",
       "      <td>False</td>\n",
       "      <td>...</td>\n",
       "      <td>False</td>\n",
       "      <td>False</td>\n",
       "      <td>False</td>\n",
       "      <td>False</td>\n",
       "      <td>False</td>\n",
       "      <td>False</td>\n",
       "      <td>False</td>\n",
       "      <td>False</td>\n",
       "      <td>False</td>\n",
       "      <td>False</td>\n",
       "    </tr>\n",
       "    <tr>\n",
       "      <th>1</th>\n",
       "      <td>2</td>\n",
       "      <td>5166.064706</td>\n",
       "      <td>409.505882</td>\n",
       "      <td>False</td>\n",
       "      <td>False</td>\n",
       "      <td>False</td>\n",
       "      <td>False</td>\n",
       "      <td>False</td>\n",
       "      <td>False</td>\n",
       "      <td>False</td>\n",
       "      <td>...</td>\n",
       "      <td>False</td>\n",
       "      <td>True</td>\n",
       "      <td>False</td>\n",
       "      <td>False</td>\n",
       "      <td>False</td>\n",
       "      <td>False</td>\n",
       "      <td>False</td>\n",
       "      <td>True</td>\n",
       "      <td>False</td>\n",
       "      <td>False</td>\n",
       "    </tr>\n",
       "    <tr>\n",
       "      <th>2</th>\n",
       "      <td>3</td>\n",
       "      <td>5114.004211</td>\n",
       "      <td>421.277895</td>\n",
       "      <td>False</td>\n",
       "      <td>False</td>\n",
       "      <td>False</td>\n",
       "      <td>False</td>\n",
       "      <td>False</td>\n",
       "      <td>False</td>\n",
       "      <td>False</td>\n",
       "      <td>...</td>\n",
       "      <td>False</td>\n",
       "      <td>False</td>\n",
       "      <td>False</td>\n",
       "      <td>False</td>\n",
       "      <td>False</td>\n",
       "      <td>False</td>\n",
       "      <td>False</td>\n",
       "      <td>False</td>\n",
       "      <td>False</td>\n",
       "      <td>False</td>\n",
       "    </tr>\n",
       "    <tr>\n",
       "      <th>3</th>\n",
       "      <td>4</td>\n",
       "      <td>5162.088889</td>\n",
       "      <td>421.574074</td>\n",
       "      <td>False</td>\n",
       "      <td>False</td>\n",
       "      <td>False</td>\n",
       "      <td>False</td>\n",
       "      <td>False</td>\n",
       "      <td>False</td>\n",
       "      <td>False</td>\n",
       "      <td>...</td>\n",
       "      <td>False</td>\n",
       "      <td>True</td>\n",
       "      <td>False</td>\n",
       "      <td>False</td>\n",
       "      <td>False</td>\n",
       "      <td>False</td>\n",
       "      <td>False</td>\n",
       "      <td>True</td>\n",
       "      <td>False</td>\n",
       "      <td>False</td>\n",
       "    </tr>\n",
       "    <tr>\n",
       "      <th>4</th>\n",
       "      <td>5</td>\n",
       "      <td>5130.357513</td>\n",
       "      <td>426.000000</td>\n",
       "      <td>False</td>\n",
       "      <td>False</td>\n",
       "      <td>False</td>\n",
       "      <td>False</td>\n",
       "      <td>False</td>\n",
       "      <td>False</td>\n",
       "      <td>False</td>\n",
       "      <td>...</td>\n",
       "      <td>False</td>\n",
       "      <td>False</td>\n",
       "      <td>False</td>\n",
       "      <td>False</td>\n",
       "      <td>False</td>\n",
       "      <td>False</td>\n",
       "      <td>False</td>\n",
       "      <td>False</td>\n",
       "      <td>False</td>\n",
       "      <td>False</td>\n",
       "    </tr>\n",
       "  </tbody>\n",
       "</table>\n",
       "<p>5 rows × 21 columns</p>\n",
       "</div>"
      ],
      "text/plain": [
       "   Instance   Centroid_X  Centroid_Y  Mean_CD11B  Mean_CD20  Mean_CD3D  \\\n",
       "0         1  5138.265993  404.909091       False      False      False   \n",
       "1         2  5166.064706  409.505882       False      False      False   \n",
       "2         3  5114.004211  421.277895       False      False      False   \n",
       "3         4  5162.088889  421.574074       False      False      False   \n",
       "4         5  5130.357513  426.000000       False      False      False   \n",
       "\n",
       "   Mean_CD45  Mean_CD4  Mean_CD68  Mean_CD8  ...  Mean_LYSOZYME  \\\n",
       "0      False     False      False     False  ...          False   \n",
       "1      False     False      False     False  ...          False   \n",
       "2      False     False      False     False  ...          False   \n",
       "3      False     False      False     False  ...          False   \n",
       "4      False     False      False     False  ...          False   \n",
       "\n",
       "   Mean_NAKATPASE  Mean_PANCK  Mean_SMA  Mean_SOX9  Mean_VIMENTIN  Mean_OLFM4  \\\n",
       "0           False       False     False      False          False       False   \n",
       "1            True       False     False      False          False       False   \n",
       "2           False       False     False      False          False       False   \n",
       "3            True       False     False      False          False       False   \n",
       "4           False       False     False      False          False       False   \n",
       "\n",
       "    Epi+  Stroma+  Immune+  \n",
       "0  False    False    False  \n",
       "1   True    False    False  \n",
       "2  False    False    False  \n",
       "3   True    False    False  \n",
       "4  False    False    False  \n",
       "\n",
       "[5 rows x 21 columns]"
      ]
     },
     "execution_count": 300,
     "metadata": {},
     "output_type": "execute_result"
    }
   ],
   "source": [
    "mean_intensities_file_registered.head()"
   ]
  },
  {
   "cell_type": "code",
   "execution_count": 301,
   "metadata": {},
   "outputs": [],
   "source": [
    "#Make a column called Macrophage Exclusion and set it as True if  (CD68+ and CD3d+) or (CD68+ and CD20+), or CD68+ and CD4+), or (CD68+ and CD8+), or (CD68+ and CD11B+)\n",
    "\n",
    "#Registered\n",
    "mean_intensities_file_registered['Macrophage Exclusion'] = (mean_intensities_file_registered['Mean_CD68'] & mean_intensities_file_registered['Mean_CD3D']) | (mean_intensities_file_registered['Mean_CD68'] & mean_intensities_file_registered['Mean_CD20']) | (mean_intensities_file_registered['Mean_CD68'] & mean_intensities_file_registered['Mean_CD4']) | (mean_intensities_file_registered['Mean_CD68'] & mean_intensities_file_registered['Mean_CD8']) | (mean_intensities_file_registered['Mean_CD68'] & mean_intensities_file_registered['Mean_CD11B'])\n",
    "\n",
    "#Unregistered\n",
    "mean_intensities_file_unregistered['Macrophage Exclusion'] = (mean_intensities_file_unregistered['Mean_CD68'] & mean_intensities_file_unregistered['Mean_CD3D']) | (mean_intensities_file_unregistered['Mean_CD68'] & mean_intensities_file_unregistered['Mean_CD20']) | (mean_intensities_file_unregistered['Mean_CD68'] & mean_intensities_file_unregistered['Mean_CD4']) | (mean_intensities_file_unregistered['Mean_CD68'] & mean_intensities_file_unregistered['Mean_CD8']) | (mean_intensities_file_unregistered['Mean_CD68'] & mean_intensities_file_unregistered['Mean_CD11B'])"
   ]
  },
  {
   "cell_type": "code",
   "execution_count": 302,
   "metadata": {},
   "outputs": [],
   "source": [
    "#Make a column called monocyte exclusion and set it True if  (CD11B+ and CD3d+), or (CD11B+ and CD20+),or (CD11B+ and CD4+), or (CD11B+ and CD8+), or (CD11B+ and CD68+)\n",
    "\n",
    "#Registered\n",
    "mean_intensities_file_registered['Monocyte Exclusion'] = (mean_intensities_file_registered['Mean_CD11B'] & mean_intensities_file_registered['Mean_CD3D']) | (mean_intensities_file_registered['Mean_CD11B'] & mean_intensities_file_registered['Mean_CD20']) | (mean_intensities_file_registered['Mean_CD11B'] & mean_intensities_file_registered['Mean_CD4']) | (mean_intensities_file_registered['Mean_CD11B'] & mean_intensities_file_registered['Mean_CD8']) | (mean_intensities_file_registered['Mean_CD11B'] & mean_intensities_file_registered['Mean_CD68'])\n",
    "\n",
    "#Unregistered\n",
    "mean_intensities_file_unregistered['Monocyte Exclusion'] = (mean_intensities_file_unregistered['Mean_CD11B'] & mean_intensities_file_unregistered['Mean_CD3D']) | (mean_intensities_file_unregistered['Mean_CD11B'] & mean_intensities_file_unregistered['Mean_CD20']) | (mean_intensities_file_unregistered['Mean_CD11B'] & mean_intensities_file_unregistered['Mean_CD4']) | (mean_intensities_file_unregistered['Mean_CD11B'] & mean_intensities_file_unregistered['Mean_CD8']) | (mean_intensities_file_unregistered['Mean_CD11B'] & mean_intensities_file_unregistered['Mean_CD68'])"
   ]
  },
  {
   "cell_type": "code",
   "execution_count": 303,
   "metadata": {},
   "outputs": [
    {
     "data": {
      "text/html": [
       "<div>\n",
       "<style scoped>\n",
       "    .dataframe tbody tr th:only-of-type {\n",
       "        vertical-align: middle;\n",
       "    }\n",
       "\n",
       "    .dataframe tbody tr th {\n",
       "        vertical-align: top;\n",
       "    }\n",
       "\n",
       "    .dataframe thead th {\n",
       "        text-align: right;\n",
       "    }\n",
       "</style>\n",
       "<table border=\"1\" class=\"dataframe\">\n",
       "  <thead>\n",
       "    <tr style=\"text-align: right;\">\n",
       "      <th></th>\n",
       "      <th>Instance</th>\n",
       "      <th>Centroid_X</th>\n",
       "      <th>Centroid_Y</th>\n",
       "      <th>Mean_CD11B</th>\n",
       "      <th>Mean_CD20</th>\n",
       "      <th>Mean_CD3D</th>\n",
       "      <th>Mean_CD45</th>\n",
       "      <th>Mean_CD4</th>\n",
       "      <th>Mean_CD68</th>\n",
       "      <th>Mean_CD8</th>\n",
       "      <th>...</th>\n",
       "      <th>Mean_PANCK</th>\n",
       "      <th>Mean_SMA</th>\n",
       "      <th>Mean_SOX9</th>\n",
       "      <th>Mean_VIMENTIN</th>\n",
       "      <th>Mean_OLFM4</th>\n",
       "      <th>Epi+</th>\n",
       "      <th>Stroma+</th>\n",
       "      <th>Immune+</th>\n",
       "      <th>Macrophage Exclusion</th>\n",
       "      <th>Monocyte Exclusion</th>\n",
       "    </tr>\n",
       "  </thead>\n",
       "  <tbody>\n",
       "    <tr>\n",
       "      <th>0</th>\n",
       "      <td>1</td>\n",
       "      <td>5138.265993</td>\n",
       "      <td>404.909091</td>\n",
       "      <td>False</td>\n",
       "      <td>False</td>\n",
       "      <td>False</td>\n",
       "      <td>False</td>\n",
       "      <td>False</td>\n",
       "      <td>False</td>\n",
       "      <td>False</td>\n",
       "      <td>...</td>\n",
       "      <td>False</td>\n",
       "      <td>False</td>\n",
       "      <td>False</td>\n",
       "      <td>False</td>\n",
       "      <td>False</td>\n",
       "      <td>False</td>\n",
       "      <td>False</td>\n",
       "      <td>False</td>\n",
       "      <td>False</td>\n",
       "      <td>False</td>\n",
       "    </tr>\n",
       "    <tr>\n",
       "      <th>1</th>\n",
       "      <td>2</td>\n",
       "      <td>5166.064706</td>\n",
       "      <td>409.505882</td>\n",
       "      <td>False</td>\n",
       "      <td>False</td>\n",
       "      <td>False</td>\n",
       "      <td>False</td>\n",
       "      <td>False</td>\n",
       "      <td>False</td>\n",
       "      <td>False</td>\n",
       "      <td>...</td>\n",
       "      <td>False</td>\n",
       "      <td>False</td>\n",
       "      <td>False</td>\n",
       "      <td>False</td>\n",
       "      <td>False</td>\n",
       "      <td>True</td>\n",
       "      <td>False</td>\n",
       "      <td>False</td>\n",
       "      <td>False</td>\n",
       "      <td>False</td>\n",
       "    </tr>\n",
       "    <tr>\n",
       "      <th>2</th>\n",
       "      <td>3</td>\n",
       "      <td>5114.004211</td>\n",
       "      <td>421.277895</td>\n",
       "      <td>False</td>\n",
       "      <td>False</td>\n",
       "      <td>False</td>\n",
       "      <td>False</td>\n",
       "      <td>False</td>\n",
       "      <td>False</td>\n",
       "      <td>False</td>\n",
       "      <td>...</td>\n",
       "      <td>False</td>\n",
       "      <td>False</td>\n",
       "      <td>False</td>\n",
       "      <td>False</td>\n",
       "      <td>False</td>\n",
       "      <td>False</td>\n",
       "      <td>False</td>\n",
       "      <td>False</td>\n",
       "      <td>False</td>\n",
       "      <td>False</td>\n",
       "    </tr>\n",
       "    <tr>\n",
       "      <th>3</th>\n",
       "      <td>4</td>\n",
       "      <td>5162.088889</td>\n",
       "      <td>421.574074</td>\n",
       "      <td>False</td>\n",
       "      <td>False</td>\n",
       "      <td>False</td>\n",
       "      <td>False</td>\n",
       "      <td>False</td>\n",
       "      <td>False</td>\n",
       "      <td>False</td>\n",
       "      <td>...</td>\n",
       "      <td>False</td>\n",
       "      <td>False</td>\n",
       "      <td>False</td>\n",
       "      <td>False</td>\n",
       "      <td>False</td>\n",
       "      <td>True</td>\n",
       "      <td>False</td>\n",
       "      <td>False</td>\n",
       "      <td>False</td>\n",
       "      <td>False</td>\n",
       "    </tr>\n",
       "    <tr>\n",
       "      <th>4</th>\n",
       "      <td>5</td>\n",
       "      <td>5130.357513</td>\n",
       "      <td>426.000000</td>\n",
       "      <td>False</td>\n",
       "      <td>False</td>\n",
       "      <td>False</td>\n",
       "      <td>False</td>\n",
       "      <td>False</td>\n",
       "      <td>False</td>\n",
       "      <td>False</td>\n",
       "      <td>...</td>\n",
       "      <td>False</td>\n",
       "      <td>False</td>\n",
       "      <td>False</td>\n",
       "      <td>False</td>\n",
       "      <td>False</td>\n",
       "      <td>False</td>\n",
       "      <td>False</td>\n",
       "      <td>False</td>\n",
       "      <td>False</td>\n",
       "      <td>False</td>\n",
       "    </tr>\n",
       "  </tbody>\n",
       "</table>\n",
       "<p>5 rows × 23 columns</p>\n",
       "</div>"
      ],
      "text/plain": [
       "   Instance   Centroid_X  Centroid_Y  Mean_CD11B  Mean_CD20  Mean_CD3D  \\\n",
       "0         1  5138.265993  404.909091       False      False      False   \n",
       "1         2  5166.064706  409.505882       False      False      False   \n",
       "2         3  5114.004211  421.277895       False      False      False   \n",
       "3         4  5162.088889  421.574074       False      False      False   \n",
       "4         5  5130.357513  426.000000       False      False      False   \n",
       "\n",
       "   Mean_CD45  Mean_CD4  Mean_CD68  Mean_CD8  ...  Mean_PANCK  Mean_SMA  \\\n",
       "0      False     False      False     False  ...       False     False   \n",
       "1      False     False      False     False  ...       False     False   \n",
       "2      False     False      False     False  ...       False     False   \n",
       "3      False     False      False     False  ...       False     False   \n",
       "4      False     False      False     False  ...       False     False   \n",
       "\n",
       "   Mean_SOX9  Mean_VIMENTIN  Mean_OLFM4   Epi+  Stroma+  Immune+  \\\n",
       "0      False          False       False  False    False    False   \n",
       "1      False          False       False   True    False    False   \n",
       "2      False          False       False  False    False    False   \n",
       "3      False          False       False   True    False    False   \n",
       "4      False          False       False  False    False    False   \n",
       "\n",
       "   Macrophage Exclusion  Monocyte Exclusion  \n",
       "0                 False               False  \n",
       "1                 False               False  \n",
       "2                 False               False  \n",
       "3                 False               False  \n",
       "4                 False               False  \n",
       "\n",
       "[5 rows x 23 columns]"
      ]
     },
     "execution_count": 303,
     "metadata": {},
     "output_type": "execute_result"
    }
   ],
   "source": [
    "mean_intensities_file_registered.head()"
   ]
  },
  {
   "cell_type": "code",
   "execution_count": 304,
   "metadata": {},
   "outputs": [],
   "source": [
    "#Make a column called Epi&Stroma and set it True if both Epi+ and Stroma+ are True\n",
    "\n",
    "#Registered\n",
    "mean_intensities_file_registered['Epi&Stroma'] = mean_intensities_file_registered['Epi+'] & mean_intensities_file_registered['Stroma+']\n",
    "\n",
    "#Unregistered\n",
    "mean_intensities_file_unregistered['Epi&Stroma'] = mean_intensities_file_unregistered['Epi+'] & mean_intensities_file_unregistered['Stroma+']\n"
   ]
  },
  {
   "cell_type": "code",
   "execution_count": 305,
   "metadata": {},
   "outputs": [],
   "source": [
    "#Make a column called B-conflicts and set it True if (CD20+ and CD3d+), or (CD20+ and CD4+), or (CD20+ and CD8+)\n",
    "\n",
    "#Registered\n",
    "mean_intensities_file_registered['B-conflicts'] = (mean_intensities_file_registered['Mean_CD20'] & mean_intensities_file_registered['Mean_CD3D']) | (mean_intensities_file_registered['Mean_CD20'] & mean_intensities_file_registered['Mean_CD4']) | (mean_intensities_file_registered['Mean_CD20'] & mean_intensities_file_registered['Mean_CD8'])\n",
    "\n",
    "#Unregistered\n",
    "mean_intensities_file_unregistered['B-conflicts'] = (mean_intensities_file_unregistered['Mean_CD20'] & mean_intensities_file_unregistered['Mean_CD3D']) | (mean_intensities_file_unregistered['Mean_CD20'] & mean_intensities_file_unregistered['Mean_CD4']) | (mean_intensities_file_unregistered['Mean_CD20'] & mean_intensities_file_unregistered['Mean_CD8'])"
   ]
  },
  {
   "cell_type": "code",
   "execution_count": 306,
   "metadata": {},
   "outputs": [
    {
     "data": {
      "text/plain": [
       "(8, 7)"
      ]
     },
     "execution_count": 306,
     "metadata": {},
     "output_type": "execute_result"
    }
   ],
   "source": [
    "mean_intensities_file_registered['Macrophage Exclusion'].sum(), mean_intensities_file_unregistered['Macrophage Exclusion'].sum()"
   ]
  },
  {
   "cell_type": "code",
   "execution_count": 307,
   "metadata": {},
   "outputs": [],
   "source": [
    "#Helper T or Cytotoxic T conflicts, make a column and set true if (CD3d- and CD45- and CD4+), or (CD3d- and CD45- and CD8+), or (CD4+ and CD8+)\n",
    "\n",
    "#Registered\n",
    "mean_intensities_file_registered['Helper T or Cytotoxic T conflicts'] = (mean_intensities_file_registered['Mean_CD3D'] & mean_intensities_file_registered['Mean_CD45'] & mean_intensities_file_registered['Mean_CD4']) | (mean_intensities_file_registered['Mean_CD3D'] & mean_intensities_file_registered['Mean_CD45'] & mean_intensities_file_registered['Mean_CD8']) | (mean_intensities_file_registered['Mean_CD4'] & mean_intensities_file_registered['Mean_CD8'])\n",
    "\n",
    "#Unregistered\n",
    "mean_intensities_file_unregistered['Helper T or Cytotoxic T conflicts'] = (mean_intensities_file_unregistered['Mean_CD3D'] & mean_intensities_file_unregistered['Mean_CD45'] & mean_intensities_file_unregistered['Mean_CD4']) | (mean_intensities_file_unregistered['Mean_CD3D'] & mean_intensities_file_unregistered['Mean_CD45'] & mean_intensities_file_unregistered['Mean_CD8']) | (mean_intensities_file_unregistered['Mean_CD4'] & mean_intensities_file_unregistered['Mean_CD8'])"
   ]
  },
  {
   "cell_type": "code",
   "execution_count": 308,
   "metadata": {},
   "outputs": [
    {
     "data": {
      "text/plain": [
       "(240, 3)"
      ]
     },
     "execution_count": 308,
     "metadata": {},
     "output_type": "execute_result"
    }
   ],
   "source": [
    "mean_intensities_file_registered['Helper T or Cytotoxic T conflicts'].sum(), mean_intensities_file_unregistered['Helper T or Cytotoxic T conflicts'].sum()"
   ]
  },
  {
   "cell_type": "code",
   "execution_count": 309,
   "metadata": {},
   "outputs": [],
   "source": [
    "#Make a column called Progenitor+ and set it True if Sox9+ or OLFM4+\n",
    "\n",
    "#Registered\n",
    "mean_intensities_file_registered['Progenitor+'] = mean_intensities_file_registered['Mean_SOX9'] | mean_intensities_file_registered['Mean_OLFM4']\n",
    "\n",
    "#Unregistered\n",
    "mean_intensities_file_unregistered['Progenitor+'] = mean_intensities_file_unregistered['Mean_SOX9'] | mean_intensities_file_unregistered['Mean_OLFM4']\n"
   ]
  },
  {
   "cell_type": "code",
   "execution_count": 310,
   "metadata": {},
   "outputs": [],
   "source": [
    "#Make a column called E&S_neg and set it True if both Epi+ and Stroma+ are False\n",
    "#Registered\n",
    "mean_intensities_file_registered['E&S_neg'] = ~mean_intensities_file_registered['Epi+'] & ~mean_intensities_file_registered['Stroma+']\n",
    "\n",
    "#Unregistered\n",
    "mean_intensities_file_unregistered['E&S_neg'] = ~mean_intensities_file_unregistered['Epi+'] & ~mean_intensities_file_unregistered['Stroma+']\n"
   ]
  },
  {
   "cell_type": "code",
   "execution_count": 311,
   "metadata": {},
   "outputs": [
    {
     "data": {
      "text/plain": [
       "(12929, 12860)"
      ]
     },
     "execution_count": 311,
     "metadata": {},
     "output_type": "execute_result"
    }
   ],
   "source": [
    "mean_intensities_file_registered['E&S_neg'].sum(), mean_intensities_file_unregistered['E&S_neg'].sum()"
   ]
  },
  {
   "cell_type": "code",
   "execution_count": 312,
   "metadata": {},
   "outputs": [],
   "source": [
    "#Make a new column called Exclusion and set it True if Macrophage Exclusion or Monocyte Exclusion or B-conflicts or Helper T or Cytotoxic T conflicts or E&S_neg\n",
    "\n",
    "#Registered\n",
    "mean_intensities_file_registered['Exclusion'] = mean_intensities_file_registered['Macrophage Exclusion'] | mean_intensities_file_registered['Monocyte Exclusion'] | mean_intensities_file_registered['B-conflicts'] | mean_intensities_file_registered['Helper T or Cytotoxic T conflicts'] | mean_intensities_file_registered['E&S_neg']\n",
    "\n",
    "#Unregistered\n",
    "mean_intensities_file_unregistered['Exclusion'] = mean_intensities_file_unregistered['Macrophage Exclusion'] | mean_intensities_file_unregistered['Monocyte Exclusion'] | mean_intensities_file_unregistered['B-conflicts'] | mean_intensities_file_unregistered['Helper T or Cytotoxic T conflicts'] | mean_intensities_file_unregistered['E&S_neg']\n"
   ]
  },
  {
   "cell_type": "code",
   "execution_count": 313,
   "metadata": {},
   "outputs": [
    {
     "data": {
      "text/plain": [
       "(12932, 12861)"
      ]
     },
     "execution_count": 313,
     "metadata": {},
     "output_type": "execute_result"
    }
   ],
   "source": [
    "mean_intensities_file_registered['Exclusion'].sum(), mean_intensities_file_unregistered['Exclusion'].sum()"
   ]
  },
  {
   "cell_type": "code",
   "execution_count": 314,
   "metadata": {},
   "outputs": [],
   "source": [
    "#Make a new column called Enteroendocrine Exclusion and set it True if Exclusion is True or if (CgA+ and Immune+), or (CgA+ and SMA+), or(CgA+ and Progenitor+)\n",
    "\n",
    "#Registered\n",
    "mean_intensities_file_registered['Enteroendocrine Exclusion'] = mean_intensities_file_registered['Exclusion'] | (mean_intensities_file_registered['Mean_CGA'] & mean_intensities_file_registered['Immune+']) | (mean_intensities_file_registered['Mean_CGA'] & mean_intensities_file_registered['Stroma+']) | (mean_intensities_file_registered['Mean_CGA'] & mean_intensities_file_registered['Progenitor+'])\n",
    "\n",
    "#Unregistered\n",
    "mean_intensities_file_unregistered['Enteroendocrine Exclusion'] = mean_intensities_file_unregistered['Exclusion'] | (mean_intensities_file_unregistered['Mean_CGA'] & mean_intensities_file_unregistered['Immune+']) | (mean_intensities_file_unregistered['Mean_CGA'] & mean_intensities_file_unregistered['Stroma+']) | (mean_intensities_file_unregistered['Mean_CGA'] & mean_intensities_file_unregistered['Progenitor+'])\n"
   ]
  },
  {
   "cell_type": "code",
   "execution_count": 315,
   "metadata": {},
   "outputs": [
    {
     "data": {
      "text/plain": [
       "(12946, 12869)"
      ]
     },
     "execution_count": 315,
     "metadata": {},
     "output_type": "execute_result"
    }
   ],
   "source": [
    "mean_intensities_file_registered['Enteroendocrine Exclusion'].sum(), mean_intensities_file_unregistered['Enteroendocrine Exclusion'].sum()"
   ]
  },
  {
   "cell_type": "code",
   "execution_count": 316,
   "metadata": {},
   "outputs": [],
   "source": [
    "#Make a new column called Fibroblasts Exclusion and set it True if Exclusion is True or if (SMA+ and Immune+)\n",
    "\n",
    "#Registered\n",
    "mean_intensities_file_registered['Fibroblasts Exclusion'] = mean_intensities_file_registered['Enteroendocrine Exclusion'] | (mean_intensities_file_registered['Mean_SMA'] & mean_intensities_file_registered['Immune+'])\n",
    "\n",
    "#Unregistered\n",
    "mean_intensities_file_unregistered['Fibroblasts Exclusion'] = mean_intensities_file_unregistered['Enteroendocrine Exclusion'] | (mean_intensities_file_unregistered['Mean_SMA'] & mean_intensities_file_unregistered['Immune+'])"
   ]
  },
  {
   "cell_type": "code",
   "execution_count": 317,
   "metadata": {},
   "outputs": [
    {
     "data": {
      "text/plain": [
       "(12946, 12869)"
      ]
     },
     "execution_count": 317,
     "metadata": {},
     "output_type": "execute_result"
    }
   ],
   "source": [
    "mean_intensities_file_registered['Fibroblasts Exclusion'].sum(), mean_intensities_file_unregistered['Fibroblasts Exclusion'].sum()"
   ]
  },
  {
   "cell_type": "code",
   "execution_count": 318,
   "metadata": {},
   "outputs": [],
   "source": [
    "#Make a new column called Progenitor Exclusion and set it True if Fibroblasts Exclusion is True or if (Progenitor+ and Immune+)\n",
    "\n",
    "#Registered\n",
    "mean_intensities_file_registered['Progenitor Exclusion'] = mean_intensities_file_registered['Fibroblasts Exclusion'] | (mean_intensities_file_registered['Progenitor+'] & mean_intensities_file_registered['Immune+'])\n",
    "\n",
    "#Unregistered\n",
    "mean_intensities_file_unregistered['Progenitor Exclusion'] = mean_intensities_file_unregistered['Fibroblasts Exclusion'] | (mean_intensities_file_unregistered['Progenitor+'] & mean_intensities_file_unregistered['Immune+'])\n"
   ]
  },
  {
   "cell_type": "code",
   "execution_count": 319,
   "metadata": {},
   "outputs": [
    {
     "data": {
      "text/plain": [
       "(12947, 12869)"
      ]
     },
     "execution_count": 319,
     "metadata": {},
     "output_type": "execute_result"
    }
   ],
   "source": [
    "mean_intensities_file_registered['Progenitor Exclusion'].sum(), mean_intensities_file_unregistered['Progenitor Exclusion'].sum()"
   ]
  },
  {
   "cell_type": "code",
   "execution_count": 320,
   "metadata": {},
   "outputs": [],
   "source": [
    "#Make a new column called large group exclusion and set it True if Progenitor Exclusion is True or if  (Epi- and Stroma- and Progenitor- and Immune-)\n",
    "\n",
    "#Registered\n",
    "mean_intensities_file_registered['large group exclusion'] = mean_intensities_file_registered['Progenitor Exclusion'] | (~mean_intensities_file_registered['Epi+'] & ~mean_intensities_file_registered['Stroma+'] & ~mean_intensities_file_registered['Progenitor+'] & ~mean_intensities_file_registered['Immune+'])\n",
    "\n",
    "#Unregistered\n",
    "mean_intensities_file_unregistered['large group exclusion'] = mean_intensities_file_unregistered['Progenitor Exclusion'] | (~mean_intensities_file_unregistered['Epi+'] & ~mean_intensities_file_unregistered['Stroma+'] & ~mean_intensities_file_unregistered['Progenitor+'] & ~mean_intensities_file_unregistered['Immune+'])"
   ]
  },
  {
   "cell_type": "code",
   "execution_count": 321,
   "metadata": {},
   "outputs": [
    {
     "data": {
      "text/plain": [
       "(12947, 12869)"
      ]
     },
     "execution_count": 321,
     "metadata": {},
     "output_type": "execute_result"
    }
   ],
   "source": [
    "mean_intensities_file_registered['large group exclusion'].sum(), mean_intensities_file_unregistered['large group exclusion'].sum()"
   ]
  },
  {
   "cell_type": "code",
   "execution_count": 322,
   "metadata": {},
   "outputs": [],
   "source": [
    "#Make a new column called immune exclusion in Epi and set it True if large group exclusion is True or if  (Epi+ and Immune+)\n",
    "\n",
    "#Registered\n",
    "mean_intensities_file_registered['immune exclusion in Epi'] = mean_intensities_file_registered['large group exclusion'] | (mean_intensities_file_registered['Epi+'] & mean_intensities_file_registered['Immune+'])\n",
    "\n",
    "#Unregistered\n",
    "mean_intensities_file_unregistered['immune exclusion in Epi'] = mean_intensities_file_unregistered['large group exclusion'] | (mean_intensities_file_unregistered['Epi+'] & mean_intensities_file_unregistered['Immune+'])\n"
   ]
  },
  {
   "cell_type": "code",
   "execution_count": 323,
   "metadata": {},
   "outputs": [
    {
     "data": {
      "text/plain": [
       "(13016, 12943)"
      ]
     },
     "execution_count": 323,
     "metadata": {},
     "output_type": "execute_result"
    }
   ],
   "source": [
    "mean_intensities_file_registered['immune exclusion in Epi'].sum(), mean_intensities_file_unregistered['immune exclusion in Epi'].sum()"
   ]
  },
  {
   "cell_type": "code",
   "execution_count": 324,
   "metadata": {},
   "outputs": [],
   "source": [
    "#Make a column called final_enteroendocrine and set it True if Group Epi+ instances where (CgA+ and Progenitor-) and immune exclusion in Epi is False\n",
    "\n",
    "#Registered\n",
    "mean_intensities_file_registered['final_enteroendocrine'] = (mean_intensities_file_registered['Epi+'] & mean_intensities_file_registered['Mean_CGA'] & ~mean_intensities_file_registered['Progenitor+']) & ~mean_intensities_file_registered['immune exclusion in Epi']\n",
    "\n",
    "#Unregistered\n",
    "mean_intensities_file_unregistered['final_enteroendocrine'] = (mean_intensities_file_unregistered['Epi+'] & mean_intensities_file_unregistered['Mean_CGA'] & ~mean_intensities_file_unregistered['Progenitor+']) & ~mean_intensities_file_unregistered['immune exclusion in Epi']\n",
    "\n",
    "\n"
   ]
  },
  {
   "cell_type": "code",
   "execution_count": 325,
   "metadata": {},
   "outputs": [
    {
     "data": {
      "text/plain": [
       "(20, 27)"
      ]
     },
     "execution_count": 325,
     "metadata": {},
     "output_type": "execute_result"
    }
   ],
   "source": [
    "mean_intensities_file_registered['final_enteroendocrine'].sum(), mean_intensities_file_unregistered['final_enteroendocrine'].sum()"
   ]
  },
  {
   "cell_type": "code",
   "execution_count": 326,
   "metadata": {},
   "outputs": [],
   "source": [
    "#Make a new column called final_enterocyte and set it True if Immune exclusion in Epi is False and Group Epi+ instances where (CGA+ and Progenitor-)\n",
    "\n",
    "#Registered\n",
    "mean_intensities_file_registered['final_enterocyte'] = (mean_intensities_file_registered['Epi+'] & ~mean_intensities_file_registered['Mean_CGA'] & ~mean_intensities_file_registered['Progenitor+']) & ~mean_intensities_file_registered['immune exclusion in Epi']\n",
    "\n",
    "#Unregistered\n",
    "mean_intensities_file_unregistered['final_enterocyte'] = (mean_intensities_file_unregistered['Epi+'] & ~mean_intensities_file_unregistered['Mean_CGA'] & ~mean_intensities_file_unregistered['Progenitor+']) & ~mean_intensities_file_unregistered['immune exclusion in Epi']"
   ]
  },
  {
   "cell_type": "code",
   "execution_count": 327,
   "metadata": {},
   "outputs": [
    {
     "data": {
      "text/plain": [
       "(1303, 1303)"
      ]
     },
     "execution_count": 327,
     "metadata": {},
     "output_type": "execute_result"
    }
   ],
   "source": [
    "mean_intensities_file_registered['final_enterocyte'].sum(), mean_intensities_file_unregistered['final_enterocyte'].sum()"
   ]
  },
  {
   "cell_type": "code",
   "execution_count": 328,
   "metadata": {},
   "outputs": [],
   "source": [
    "#Make a column called fibroblasts/stromal_undetermined and set it True if immune exclusion in Epi is False and Stroma+ and Immune-\n",
    "\n",
    "#Registered\n",
    "mean_intensities_file_registered['fibroblasts/stromal_undetermined'] = mean_intensities_file_registered['Stroma+'] & ~mean_intensities_file_registered['Immune+'] & ~mean_intensities_file_registered['immune exclusion in Epi']\n",
    "\n",
    "#Unregistered\n",
    "mean_intensities_file_unregistered['fibroblasts/stromal_undetermined'] = mean_intensities_file_unregistered['Stroma+'] & ~mean_intensities_file_unregistered['Immune+'] & ~mean_intensities_file_unregistered['immune exclusion in Epi']\n"
   ]
  },
  {
   "cell_type": "code",
   "execution_count": 329,
   "metadata": {},
   "outputs": [],
   "source": [
    "#Make a column called final_fibroblasts and set it True if fibroblasts/stromal_undetermined is True and (Progenitor- or SMA+)\n",
    "\n",
    "#Registered\n",
    "mean_intensities_file_registered['final_fibroblasts'] = mean_intensities_file_registered['fibroblasts/stromal_undetermined'] & (~mean_intensities_file_registered['Progenitor+'] | mean_intensities_file_registered['Mean_SMA'])\n",
    "\n",
    "#Unregistered\n",
    "mean_intensities_file_unregistered['final_fibroblasts'] = mean_intensities_file_unregistered['fibroblasts/stromal_undetermined'] & (~mean_intensities_file_unregistered['Progenitor+'] | mean_intensities_file_unregistered['Mean_SMA'])"
   ]
  },
  {
   "cell_type": "code",
   "execution_count": 330,
   "metadata": {},
   "outputs": [
    {
     "data": {
      "text/plain": [
       "(1006, 1042)"
      ]
     },
     "execution_count": 330,
     "metadata": {},
     "output_type": "execute_result"
    }
   ],
   "source": [
    "mean_intensities_file_registered['final_fibroblasts'].sum(), mean_intensities_file_unregistered['final_fibroblasts'].sum()"
   ]
  },
  {
   "cell_type": "code",
   "execution_count": 331,
   "metadata": {},
   "outputs": [],
   "source": [
    "#MAke a new column called stromal_undetermined and set it True if fibroblasts/stromal_undetermined is True and (Progenitor- and SMA-)\n",
    "\n",
    "#Registered\n",
    "mean_intensities_file_registered['stromal_undetermined'] = mean_intensities_file_registered['fibroblasts/stromal_undetermined'] & ~mean_intensities_file_registered['Progenitor+'] & ~mean_intensities_file_registered['Mean_SMA']\n",
    "\n",
    "#Unregistered\n",
    "mean_intensities_file_unregistered['stromal_undetermined'] = mean_intensities_file_unregistered['fibroblasts/stromal_undetermined'] & ~mean_intensities_file_unregistered['Progenitor+'] & ~mean_intensities_file_unregistered['Mean_SMA']"
   ]
  },
  {
   "cell_type": "code",
   "execution_count": 332,
   "metadata": {},
   "outputs": [
    {
     "data": {
      "text/plain": [
       "(916, 947)"
      ]
     },
     "execution_count": 332,
     "metadata": {},
     "output_type": "execute_result"
    }
   ],
   "source": [
    "mean_intensities_file_registered['stromal_undetermined'].sum(), mean_intensities_file_unregistered['stromal_undetermined'].sum()"
   ]
  },
  {
   "cell_type": "code",
   "execution_count": 333,
   "metadata": {},
   "outputs": [],
   "source": [
    "#Make a new column called final_myeloid and set it True if Group Immune+ instances that are ((Lysozyme+ and CD68- and CD11B-and Progenitor- and CD20-) and CD3d- and CD8- and CD4-)\n",
    "\n",
    "#Registered\n",
    "mean_intensities_file_registered['final_myeloid'] = (mean_intensities_file_registered['Immune+'] & mean_intensities_file_registered['Mean_LYSOZYME'] & ~mean_intensities_file_registered['Mean_CD68'] & ~mean_intensities_file_registered['Mean_CD11B'] & ~mean_intensities_file_registered['Progenitor+'] & ~mean_intensities_file_registered['Mean_CD20'] & ~mean_intensities_file_registered['Mean_CD3D'] & ~mean_intensities_file_registered['Mean_CD8'] & ~mean_intensities_file_registered['Mean_CD4'])\n",
    "\n",
    "#Unregistered\n",
    "mean_intensities_file_unregistered['final_myeloid'] = (mean_intensities_file_unregistered['Immune+'] & mean_intensities_file_unregistered['Mean_LYSOZYME'] & ~mean_intensities_file_unregistered['Mean_CD68'] & ~mean_intensities_file_unregistered['Mean_CD11B'] & ~mean_intensities_file_unregistered['Progenitor+'] & ~mean_intensities_file_unregistered['Mean_CD20'] & ~mean_intensities_file_unregistered['Mean_CD3D'] & ~mean_intensities_file_unregistered['Mean_CD8'] & ~mean_intensities_file_unregistered['Mean_CD4'])\n"
   ]
  },
  {
   "cell_type": "code",
   "execution_count": 334,
   "metadata": {},
   "outputs": [
    {
     "data": {
      "text/plain": [
       "(17, 18)"
      ]
     },
     "execution_count": 334,
     "metadata": {},
     "output_type": "execute_result"
    }
   ],
   "source": [
    "mean_intensities_file_registered['final_myeloid'].sum(), mean_intensities_file_unregistered['final_myeloid'].sum()"
   ]
  },
  {
   "cell_type": "code",
   "execution_count": 335,
   "metadata": {},
   "outputs": [],
   "source": [
    "#Final annotation helper_T Group Immune+ instances where (CD4+ and Progenitor-)\n",
    "\n",
    "#Registered\n",
    "mean_intensities_file_registered['final_helper_T'] = (mean_intensities_file_registered['Immune+'] & mean_intensities_file_registered['Mean_CD4'] & ~mean_intensities_file_registered['Progenitor+'])\n",
    "\n",
    "#Unregistered\n",
    "mean_intensities_file_unregistered['final_helper_T'] = (mean_intensities_file_unregistered['Immune+'] & mean_intensities_file_unregistered['Mean_CD4'] & ~mean_intensities_file_unregistered['Progenitor+'])"
   ]
  },
  {
   "cell_type": "code",
   "execution_count": 336,
   "metadata": {},
   "outputs": [
    {
     "data": {
      "text/plain": [
       "(361, 369)"
      ]
     },
     "execution_count": 336,
     "metadata": {},
     "output_type": "execute_result"
    }
   ],
   "source": [
    "mean_intensities_file_registered['final_helper_T'].sum(), mean_intensities_file_unregistered['final_helper_T'].sum()"
   ]
  },
  {
   "cell_type": "code",
   "execution_count": 337,
   "metadata": {},
   "outputs": [],
   "source": [
    "#Final annotation cytotoxic_C->  Group Immune+ instances where (CD8+ and Progenitor-)\n",
    "\n",
    "#Registered\n",
    "mean_intensities_file_registered['final_cytotoxic_T'] = (mean_intensities_file_registered['Immune+'] & mean_intensities_file_registered['Mean_CD8'] & ~mean_intensities_file_registered['Progenitor+'])\n",
    "\n",
    "#Unregistered\n",
    "mean_intensities_file_unregistered['final_cytotoxic_T'] = (mean_intensities_file_unregistered['Immune+'] & mean_intensities_file_unregistered['Mean_CD8'] & ~mean_intensities_file_unregistered['Progenitor+'])\n"
   ]
  },
  {
   "cell_type": "code",
   "execution_count": 338,
   "metadata": {},
   "outputs": [
    {
     "data": {
      "text/plain": [
       "(24, 17)"
      ]
     },
     "execution_count": 338,
     "metadata": {},
     "output_type": "execute_result"
    }
   ],
   "source": [
    "mean_intensities_file_registered['final_cytotoxic_T'].sum(), mean_intensities_file_unregistered['final_cytotoxic_T'].sum()"
   ]
  },
  {
   "cell_type": "code",
   "execution_count": 339,
   "metadata": {},
   "outputs": [],
   "source": [
    "#Final annotation T_Cel_receptor Group Immune+ instances where (CD3d+ and CD4- and CD8-)\n",
    "\n",
    "#Registered\n",
    "mean_intensities_file_registered['final_T_cell_receptor'] = (mean_intensities_file_registered['Immune+'] & mean_intensities_file_registered['Mean_CD3D'] & ~mean_intensities_file_registered['Mean_CD4'] & ~mean_intensities_file_registered['Mean_CD8'])\n",
    "\n",
    "#Unregistered\n",
    "mean_intensities_file_unregistered['final_T_cell_receptor'] = (mean_intensities_file_unregistered['Immune+'] & mean_intensities_file_unregistered['Mean_CD3D'] & ~mean_intensities_file_unregistered['Mean_CD4'] & ~mean_intensities_file_unregistered['Mean_CD8'])"
   ]
  },
  {
   "cell_type": "code",
   "execution_count": 340,
   "metadata": {},
   "outputs": [
    {
     "data": {
      "text/plain": [
       "(295, 64)"
      ]
     },
     "execution_count": 340,
     "metadata": {},
     "output_type": "execute_result"
    }
   ],
   "source": [
    "mean_intensities_file_registered['final_T_cell_receptor'].sum(), mean_intensities_file_unregistered['final_T_cell_receptor'].sum()"
   ]
  },
  {
   "cell_type": "code",
   "execution_count": 341,
   "metadata": {},
   "outputs": [],
   "source": [
    "#Final annotation monocyte Group Immune+ instances where (CD11b+ and CD3d- and Progenitor- and CD4- and CD8-)\n",
    "\n",
    "#Registered\n",
    "mean_intensities_file_registered['final_monocyte'] = (mean_intensities_file_registered['Immune+'] & mean_intensities_file_registered['Mean_CD11B'] & ~mean_intensities_file_registered['Mean_CD3D'] & ~mean_intensities_file_registered['Progenitor+'] & ~mean_intensities_file_registered['Mean_CD4'] & ~mean_intensities_file_registered['Mean_CD8'])\n",
    "\n",
    "#Unregistered\n",
    "mean_intensities_file_unregistered['final_monocyte'] = (mean_intensities_file_unregistered['Immune+'] & mean_intensities_file_unregistered['Mean_CD11B'] & ~mean_intensities_file_unregistered['Mean_CD3D'] & ~mean_intensities_file_unregistered['Progenitor+'] & ~mean_intensities_file_unregistered['Mean_CD4'] & ~mean_intensities_file_unregistered['Mean_CD8'])"
   ]
  },
  {
   "cell_type": "code",
   "execution_count": 342,
   "metadata": {},
   "outputs": [
    {
     "data": {
      "text/plain": [
       "(16, 6)"
      ]
     },
     "execution_count": 342,
     "metadata": {},
     "output_type": "execute_result"
    }
   ],
   "source": [
    "mean_intensities_file_registered['final_monocyte'].sum(), mean_intensities_file_unregistered['final_monocyte'].sum()"
   ]
  },
  {
   "cell_type": "code",
   "execution_count": 343,
   "metadata": {},
   "outputs": [],
   "source": [
    "#Final annotation macrophage Group Immune+ instances where (CD68+ and CD3d- and Progenitor- and CD4- and CD8-)\n",
    "\n",
    "#Registered\n",
    "mean_intensities_file_registered['final_macrophage'] = (mean_intensities_file_registered['Immune+'] & mean_intensities_file_registered['Mean_CD68'] & ~mean_intensities_file_registered['Mean_CD3D'] & ~mean_intensities_file_registered['Progenitor+'] & ~mean_intensities_file_registered['Mean_CD4'] & ~mean_intensities_file_registered['Mean_CD8'])\n",
    "\n",
    "#Unregistered\n",
    "mean_intensities_file_unregistered['final_macrophage'] = (mean_intensities_file_unregistered['Immune+'] & mean_intensities_file_unregistered['Mean_CD68'] & ~mean_intensities_file_unregistered['Mean_CD3D'] & ~mean_intensities_file_unregistered['Progenitor+'] & ~mean_intensities_file_unregistered['Mean_CD4'] & ~mean_intensities_file_unregistered['Mean_CD8'])"
   ]
  },
  {
   "cell_type": "code",
   "execution_count": 344,
   "metadata": {},
   "outputs": [
    {
     "data": {
      "text/plain": [
       "(33, 32)"
      ]
     },
     "execution_count": 344,
     "metadata": {},
     "output_type": "execute_result"
    }
   ],
   "source": [
    "mean_intensities_file_registered['final_macrophage'].sum(), mean_intensities_file_unregistered['final_macrophage'].sum()"
   ]
  },
  {
   "cell_type": "code",
   "execution_count": 345,
   "metadata": {},
   "outputs": [],
   "source": [
    "#Final annotation B-cell, Group Immune+ instances where (CD20+ and CD68- and CD3d- and Progenitor- and CD4- and CD8-)\n",
    "\n",
    "#Registered\n",
    "mean_intensities_file_registered['final_B_cell'] = (mean_intensities_file_registered['Immune+'] & mean_intensities_file_registered['Mean_CD20'] & ~mean_intensities_file_registered['Mean_CD68'] & ~mean_intensities_file_registered['Mean_CD3D'] & ~mean_intensities_file_registered['Progenitor+'] & ~mean_intensities_file_registered['Mean_CD4'] & ~mean_intensities_file_registered['Mean_CD8'])\n",
    "\n",
    "#Unregistered\n",
    "mean_intensities_file_unregistered['final_B_cell'] = (mean_intensities_file_unregistered['Immune+'] & mean_intensities_file_unregistered['Mean_CD20'] & ~mean_intensities_file_unregistered['Mean_CD68'] & ~mean_intensities_file_unregistered['Mean_CD3D'] & ~mean_intensities_file_unregistered['Progenitor+'] & ~mean_intensities_file_unregistered['Mean_CD4'] & ~mean_intensities_file_unregistered['Mean_CD8'])"
   ]
  },
  {
   "cell_type": "code",
   "execution_count": 346,
   "metadata": {},
   "outputs": [
    {
     "data": {
      "text/plain": [
       "(192, 215)"
      ]
     },
     "execution_count": 346,
     "metadata": {},
     "output_type": "execute_result"
    }
   ],
   "source": [
    "mean_intensities_file_registered['final_B_cell'].sum(), mean_intensities_file_unregistered['final_B_cell'].sum()"
   ]
  },
  {
   "cell_type": "code",
   "execution_count": 347,
   "metadata": {},
   "outputs": [],
   "source": [
    "#Final annoatation leukocyte Group Immune+ instances where (CD45+ and CD20- and CD68- and CD3d- and Progenitor- and CD4- and CD8- and CD11B- and Lysozyme-)\n",
    "\n",
    "#Registered\n",
    "mean_intensities_file_registered['final_leukocyte'] = (mean_intensities_file_registered['Immune+'] & mean_intensities_file_registered['Mean_CD45'] & ~mean_intensities_file_registered['Mean_CD20'] & ~mean_intensities_file_registered['Mean_CD68'] & ~mean_intensities_file_registered['Mean_CD3D'] & ~mean_intensities_file_registered['Progenitor+'] & ~mean_intensities_file_registered['Mean_CD4'] & ~mean_intensities_file_registered['Mean_CD8'] & ~mean_intensities_file_registered['Mean_CD11B'] & ~mean_intensities_file_registered['Mean_LYSOZYME'])\n",
    "\n",
    "#Unregistered\n",
    "mean_intensities_file_unregistered['final_leukocyte'] = (mean_intensities_file_unregistered['Immune+'] & mean_intensities_file_unregistered['Mean_CD45'] & ~mean_intensities_file_unregistered['Mean_CD20'] & ~mean_intensities_file_unregistered['Mean_CD68'] & ~mean_intensities_file_unregistered['Mean_CD3D'] & ~mean_intensities_file_unregistered['Progenitor+'] & ~mean_intensities_file_unregistered['Mean_CD4'] & ~mean_intensities_file_unregistered['Mean_CD8'] & ~mean_intensities_file_unregistered['Mean_CD11B'] & ~mean_intensities_file_unregistered['Mean_LYSOZYME'])\n"
   ]
  },
  {
   "cell_type": "code",
   "execution_count": 348,
   "metadata": {},
   "outputs": [
    {
     "data": {
      "text/plain": [
       "(345, 466)"
      ]
     },
     "execution_count": 348,
     "metadata": {},
     "output_type": "execute_result"
    }
   ],
   "source": [
    "mean_intensities_file_registered['final_leukocyte'].sum(), mean_intensities_file_unregistered['final_leukocyte'].sum()"
   ]
  },
  {
   "cell_type": "code",
   "execution_count": 349,
   "metadata": {},
   "outputs": [],
   "source": [
    "#Final annotation progenitor, group instances that are Progenitor+\n",
    "\n",
    "#Registered\n",
    "mean_intensities_file_registered['final_progenitor'] = mean_intensities_file_registered['Progenitor+']\n",
    "\n",
    "#Unregistered\n",
    "mean_intensities_file_unregistered['final_progenitor'] = mean_intensities_file_unregistered['Progenitor+']\n",
    "\n"
   ]
  },
  {
   "cell_type": "code",
   "execution_count": 350,
   "metadata": {},
   "outputs": [
    {
     "data": {
      "text/plain": [
       "(50, 106)"
      ]
     },
     "execution_count": 350,
     "metadata": {},
     "output_type": "execute_result"
    }
   ],
   "source": [
    "mean_intensities_file_registered['final_progenitor'].sum(), mean_intensities_file_unregistered['final_progenitor'].sum()"
   ]
  },
  {
   "cell_type": "code",
   "execution_count": 351,
   "metadata": {},
   "outputs": [
    {
     "name": "stdout",
     "output_type": "stream",
     "text": [
      "Number of True in column final_enteroendocrine in registered dataframe is 20\n",
      "Number of True in column final_enterocyte in registered dataframe is 1303\n",
      "Number of True in column final_fibroblasts in registered dataframe is 1006\n",
      "Number of True in column final_myeloid in registered dataframe is 17\n",
      "Number of True in column final_helper_T in registered dataframe is 361\n",
      "Number of True in column final_cytotoxic_T in registered dataframe is 24\n",
      "Number of True in column final_T_cell_receptor in registered dataframe is 295\n",
      "Number of True in column final_monocyte in registered dataframe is 16\n",
      "Number of True in column final_macrophage in registered dataframe is 33\n",
      "Number of True in column final_B_cell in registered dataframe is 192\n",
      "Number of True in column final_leukocyte in registered dataframe is 345\n",
      "Number of True in column final_progenitor in registered dataframe is 50\n",
      "Total annoataed cells in registered dataframe is  3662\n"
     ]
    }
   ],
   "source": [
    "#In both dataframes, print the number of True in all columns whose names start wih \"final\"\n",
    "total_annoatated=0\n",
    "for column in mean_intensities_file_registered.columns:\n",
    "    if column.startswith('final'):\n",
    "        print(f\"Number of True in column {column} in registered dataframe is {mean_intensities_file_registered[column].sum()}\")\n",
    "        total_annoatated+=mean_intensities_file_registered[column].sum()\n",
    "print(\"Total annoataed cells in registered dataframe is \", total_annoatated)"
   ]
  },
  {
   "cell_type": "code",
   "execution_count": 352,
   "metadata": {},
   "outputs": [
    {
     "name": "stdout",
     "output_type": "stream",
     "text": [
      "Number of True in column final_enteroendocrine in registered dataframe is 27\n",
      "Number of True in column final_enterocyte in registered dataframe is 1303\n",
      "Number of True in column final_fibroblasts in registered dataframe is 1042\n",
      "Number of True in column final_myeloid in registered dataframe is 18\n",
      "Number of True in column final_helper_T in registered dataframe is 369\n",
      "Number of True in column final_cytotoxic_T in registered dataframe is 17\n",
      "Number of True in column final_T_cell_receptor in registered dataframe is 64\n",
      "Number of True in column final_monocyte in registered dataframe is 6\n",
      "Number of True in column final_macrophage in registered dataframe is 32\n",
      "Number of True in column final_B_cell in registered dataframe is 215\n",
      "Number of True in column final_leukocyte in registered dataframe is 466\n",
      "Number of True in column final_progenitor in registered dataframe is 106\n",
      "Total annoataed cells in unregistered dataframe is  3665\n"
     ]
    }
   ],
   "source": [
    "total_annoatated=0\n",
    "for column in mean_intensities_file_unregistered.columns:\n",
    "    if column.startswith('final'):\n",
    "        print(f\"Number of True in column {column} in registered dataframe is {mean_intensities_file_unregistered[column].sum()}\")\n",
    "        total_annoatated+=mean_intensities_file_unregistered[column].sum()\n",
    "print(\"Total annoataed cells in unregistered dataframe is \", total_annoatated)"
   ]
  },
  {
   "cell_type": "code",
   "execution_count": null,
   "metadata": {},
   "outputs": [],
   "source": []
  }
 ],
 "metadata": {
  "kernelspec": {
   "display_name": "dapi_reg",
   "language": "python",
   "name": "python3"
  },
  "language_info": {
   "codemirror_mode": {
    "name": "ipython",
    "version": 3
   },
   "file_extension": ".py",
   "mimetype": "text/x-python",
   "name": "python",
   "nbconvert_exporter": "python",
   "pygments_lexer": "ipython3",
   "version": "3.12.1"
  }
 },
 "nbformat": 4,
 "nbformat_minor": 2
}
