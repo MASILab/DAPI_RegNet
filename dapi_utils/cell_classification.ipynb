{
 "cells": [
  {
   "cell_type": "code",
   "execution_count": 1,
   "metadata": {},
   "outputs": [
    {
     "name": "stderr",
     "output_type": "stream",
     "text": [
      "/tmp/ipykernel_1408043/2162656668.py:1: DeprecationWarning: \n",
      "Pyarrow will become a required dependency of pandas in the next major release of pandas (pandas 3.0),\n",
      "(to allow more performant data types, such as the Arrow string type, and better interoperability with other libraries)\n",
      "but was not found to be installed on your system.\n",
      "If this would cause problems for you,\n",
      "please provide us feedback at https://github.com/pandas-dev/pandas/issues/54466\n",
      "        \n",
      "  import pandas as pd\n"
     ]
    }
   ],
   "source": [
    "import pandas as pd\n",
    "import numpy as np"
   ]
  },
  {
   "cell_type": "code",
   "execution_count": 2,
   "metadata": {},
   "outputs": [],
   "source": [
    "thresholds={\n",
    "    'CD11B': 60,\n",
    "    'CD20':  60,\n",
    "    'CD3d':  60,\n",
    "    'CD45':  60,\n",
    "    'CD4':  60,\n",
    "    'CD68':  60,\n",
    "    'CD8':  60,\n",
    "    'CgA':  60,\n",
    "    'Lysozyme':  60,\n",
    "    'NaKATPase':  60,\n",
    "    'PanCK':  60,\n",
    "    'SMA':  60,\n",
    "    'Sox9':  60,\n",
    "    'Vimentin':  60,\n",
    "    'OLFM4':  60, \n",
    "}"
   ]
  },
  {
   "cell_type": "code",
   "execution_count": 4,
   "metadata": {},
   "outputs": [],
   "source": [
    "mean_intensities_file=pd.read_csv('/fs5/p_masi/rudravg/MxIF_Vxm_Registered_V2/GCA022ACB_TISSUE03/registered_GCA022ACB_T3_instances.csv')"
   ]
  },
  {
   "cell_type": "code",
   "execution_count": null,
   "metadata": {},
   "outputs": [],
   "source": [
    "for marker, threshold in thresholds.items():\n",
    "    column_name = 'Mean_' + marker\n",
    "    mean_intensities_file[column_name] = mean_intensities_file[column_name].apply(lambda x: 'True' if x > threshold else 'False')"
   ]
  }
 ],
 "metadata": {
  "kernelspec": {
   "display_name": "dapi_reg",
   "language": "python",
   "name": "python3"
  },
  "language_info": {
   "codemirror_mode": {
    "name": "ipython",
    "version": 3
   },
   "file_extension": ".py",
   "mimetype": "text/x-python",
   "name": "python",
   "nbconvert_exporter": "python",
   "pygments_lexer": "ipython3",
   "version": "3.12.1"
  }
 },
 "nbformat": 4,
 "nbformat_minor": 2
}
