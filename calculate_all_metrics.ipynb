{
 "cells": [
  {
   "cell_type": "code",
   "execution_count": 1,
   "metadata": {},
   "outputs": [],
   "source": [
    "from PIL import Image\n",
    "import numpy as np\n",
    "import os\n",
    "import glob\n",
    "from tqdm import tqdm\n",
    "from ants_reg import ImageRegistration\n",
    "import ants\n",
    "from metrics import Metrics\n",
    "import pandas as pd"
   ]
  },
  {
   "cell_type": "markdown",
   "metadata": {},
   "source": [
    "**Read all files from the Tissue_retention directory**"
   ]
  },
  {
   "cell_type": "code",
   "execution_count": 2,
   "metadata": {},
   "outputs": [
    {
     "data": {
      "text/plain": [
       "['/nfs2/baos1/rudravg/Retention_Masks/GCA059TIB_TISSUE03_TISSUE_RETENTION.tif',\n",
       " '/nfs2/baos1/rudravg/Retention_Masks/GCA071ACB_TISSUE03_TISSUE_RETENTION.tif',\n",
       " '/nfs2/baos1/rudravg/Retention_Masks/GCA096TIB_TISSUE_RETENTION.tif',\n",
       " '/nfs2/baos1/rudravg/Retention_Masks/GCA007TIB_TISSUE01_TISSUE_RETENTION.tif',\n",
       " '/nfs2/baos1/rudravg/Retention_Masks/GCA035TIB_TISSUE02_TISSUE_RETENTION.tif',\n",
       " '/nfs2/baos1/rudravg/Retention_Masks/GCA022TIB_TISSUE02_TISSUE_RETENTION.tif',\n",
       " '/nfs2/baos1/rudravg/Retention_Masks/GCA132ACB_TISSUE01_TISSUE_RETENTION.tif',\n",
       " '/nfs2/baos1/rudravg/Retention_Masks/GCA020TIB_TISSUE01_TISSUE_RETENTION.tif',\n",
       " '/nfs2/baos1/rudravg/Retention_Masks/GCA033ACB_TISSUE02_TISSUE_RETENTION.tif',\n",
       " '/nfs2/baos1/rudravg/Retention_Masks/GCA072TIB_TISSUE02_TISSUE_RETENTION.tif',\n",
       " '/nfs2/baos1/rudravg/Retention_Masks/GCA062TIA_TISSUE03_TISSUE_RETENTION.tif',\n",
       " '/nfs2/baos1/rudravg/Retention_Masks/GCA118TIA_TISSUE01_TISSUE_RETENTION.tif',\n",
       " '/nfs2/baos1/rudravg/Retention_Masks/GCA019TIA_TISSUE02_TISSUE_RETENTION.tif',\n",
       " '/nfs2/baos1/rudravg/Retention_Masks/GCA053ACB_TISSUE02_TISSUE_RETENTION.tif',\n",
       " '/nfs2/baos1/rudravg/Retention_Masks/GCA072ACB_TISSUE01_TISSUE_RETENTION.tif',\n",
       " '/nfs2/baos1/rudravg/Retention_Masks/GCA112TIA_TISSUE_RETENTION.tif',\n",
       " '/nfs2/baos1/rudravg/Retention_Masks/GCA132TIA_TISSUE01_TISSUE_RETENTION.tif',\n",
       " '/nfs2/baos1/rudravg/Retention_Masks/GCA077TIA_TISSUE_RETENTION.tif',\n",
       " '/nfs2/baos1/rudravg/Retention_Masks/GCA118ACB_TISSUE01_TISSUE_RETENTION.tif',\n",
       " '/nfs2/baos1/rudravg/Retention_Masks/GCA022ACB_TISSUE01_TISSUE_RETENTION.tif',\n",
       " '/nfs2/baos1/rudravg/Retention_Masks/GCA093ACB_TISSUE02_TISSUE_RETENTION.tif',\n",
       " '/nfs2/baos1/rudravg/Retention_Masks/GCA035ACB_TISSUE01_TISSUE_RETENTION.tif',\n",
       " '/nfs2/baos1/rudravg/Retention_Masks/GCA033TIB_TISSUE01_TISSUE_RETENTION.tif',\n",
       " '/nfs2/baos1/rudravg/Retention_Masks/GCA053TIA_TISSUE02_TISSUE_RETENTION.tif',\n",
       " '/nfs2/baos1/rudravg/Retention_Masks/GCA020ACB_TISSUE02_TISSUE_RETENTION.tif',\n",
       " '/nfs2/baos1/rudravg/Retention_Masks/GCA054ACB_TISSUE01_TISSUE_RETENTION.tif',\n",
       " '/nfs2/baos1/rudravg/Retention_Masks/GCA069TIB_TISSUE02_TISSUE_RETENTION.tif',\n",
       " '/nfs2/baos1/rudravg/Retention_Masks/GCA045TIB_TISSUE01_TISSUE_RETENTION.tif',\n",
       " '/nfs2/baos1/rudravg/Retention_Masks/GCA035TIB_TISSUE03_TISSUE_RETENTION.tif',\n",
       " '/nfs2/baos1/rudravg/Retention_Masks/GCA059TIB_TISSUE02_TISSUE_RETENTION.tif',\n",
       " '/nfs2/baos1/rudravg/Retention_Masks/GCA075TIB_TISSUE01_TISSUE_RETENTION.tif',\n",
       " '/nfs2/baos1/rudravg/Retention_Masks/GCA071ACB_TISSUE02_TISSUE_RETENTION.tif',\n",
       " '/nfs2/baos1/rudravg/Retention_Masks/GCA066ACB_TISSUE02_TISSUE_RETENTION.tif',\n",
       " '/nfs2/baos1/rudravg/Retention_Masks/GCA081TIB_TISSUE01_TISSUE_RETENTION.tif',\n",
       " '/nfs2/baos1/rudravg/Retention_Masks/GCA094TIB_TISSUE02_TISSUE_RETENTION.tif',\n",
       " '/nfs2/baos1/rudravg/Retention_Masks/GCA096ACB_TISSUE_RETENTION.tif',\n",
       " '/nfs2/baos1/rudravg/Retention_Masks/GCA062TIA_TISSUE02_TISSUE_RETENTION.tif',\n",
       " '/nfs2/baos1/rudravg/Retention_Masks/GCA039TIB_TISSUE02_TISSUE_RETENTION.tif',\n",
       " '/nfs2/baos1/rudravg/Retention_Masks/GCA081ACB_TISSUE02_TISSUE_RETENTION.tif',\n",
       " '/nfs2/baos1/rudravg/Retention_Masks/GCA093TIA_TISSUE_RETENTION.tif',\n",
       " '/nfs2/baos1/rudravg/Retention_Masks/GCA054TIA_TISSUE01_TISSUE_RETENTION.tif',\n",
       " '/nfs2/baos1/rudravg/Retention_Masks/GCA045ACB_TISSUE_RETENTION.tif',\n",
       " '/nfs2/baos1/rudravg/Retention_Masks/GCA039ACB_TISSUE01_TISSUE_RETENTION.tif',\n",
       " '/nfs2/baos1/rudravg/Retention_Masks/GCA062ACA_TISSUE01_TISSUE_RETENTION.tif',\n",
       " '/nfs2/baos1/rudravg/Retention_Masks/GCA020ACB_TISSUE03_TISSUE_RETENTION.tif',\n",
       " '/nfs2/baos1/rudravg/Retention_Masks/GCA094ACA_TISSUE02_TISSUE_RETENTION.tif',\n",
       " '/nfs2/baos1/rudravg/Retention_Masks/GCA069ACB_TISSUE01_TISSUE_RETENTION.tif',\n",
       " '/nfs2/baos1/rudravg/Retention_Masks/GCA077ACB_TISSUE01_TISSUE_RETENTION.tif',\n",
       " '/nfs2/baos1/rudravg/Retention_Masks/GCA066TIB_TISSUE01_TISSUE_RETENTION.tif',\n",
       " '/nfs2/baos1/rudravg/Retention_Masks/GCA059ACB_TISSUE01_TISSUE_RETENTION.tif',\n",
       " '/nfs2/baos1/rudravg/Retention_Masks/GCA075ACB_TISSUE02_TISSUE_RETENTION.tif',\n",
       " '/nfs2/baos1/rudravg/Retention_Masks/GCA094TIB_TISSUE01_TISSUE_RETENTION.tif',\n",
       " '/nfs2/baos1/rudravg/Retention_Masks/GCA113TIA_TISSUE_RETENTION.tif',\n",
       " '/nfs2/baos1/rudravg/Retention_Masks/GCA081TIB_TISSUE02_TISSUE_RETENTION.tif',\n",
       " '/nfs2/baos1/rudravg/Retention_Masks/GCA039TIB_TISSUE01_TISSUE_RETENTION.tif',\n",
       " '/nfs2/baos1/rudravg/Retention_Masks/GCA062TIA_TISSUE01_TISSUE_RETENTION.tif',\n",
       " '/nfs2/baos1/rudravg/Retention_Masks/GCA069TIB_TISSUE01_TISSUE_RETENTION.tif',\n",
       " '/nfs2/baos1/rudravg/Retention_Masks/GCA045TIB_TISSUE02_TISSUE_RETENTION.tif',\n",
       " '/nfs2/baos1/rudravg/Retention_Masks/GCA020TIB_TISSUE03_TISSUE_RETENTION.tif',\n",
       " '/nfs2/baos1/rudravg/Retention_Masks/GCA054ACB_TISSUE02_TISSUE_RETENTION.tif',\n",
       " '/nfs2/baos1/rudravg/Retention_Masks/GCA132ACB_TISSUE03_TISSUE_RETENTION.tif',\n",
       " '/nfs2/baos1/rudravg/Retention_Masks/GCA099TIA_TISSUE_RETENTION.tif',\n",
       " '/nfs2/baos1/rudravg/Retention_Masks/GCA066ACB_TISSUE01_TISSUE_RETENTION.tif',\n",
       " '/nfs2/baos1/rudravg/Retention_Masks/GCA059TIB_TISSUE01_TISSUE_RETENTION.tif',\n",
       " '/nfs2/baos1/rudravg/Retention_Masks/GCA075TIB_TISSUE02_TISSUE_RETENTION.tif',\n",
       " '/nfs2/baos1/rudravg/Retention_Masks/GCA071ACB_TISSUE01_TISSUE_RETENTION.tif',\n",
       " '/nfs2/baos1/rudravg/Retention_Masks/GCA007ACB_TISSUE_RETENTION.tif',\n",
       " '/nfs2/baos1/rudravg/Retention_Masks/GCA094ACA_TISSUE01_TISSUE_RETENTION.tif',\n",
       " '/nfs2/baos1/rudravg/Retention_Masks/GCA019ACA_TISSUE_RETENTION.tif',\n",
       " '/nfs2/baos1/rudravg/Retention_Masks/GCA035ACB_TISSUE03_TISSUE_RETENTION.tif',\n",
       " '/nfs2/baos1/rudravg/Retention_Masks/GCA069ACB_TISSUE02_TISSUE_RETENTION.tif',\n",
       " '/nfs2/baos1/rudravg/Retention_Masks/GCA022ACB_TISSUE03_TISSUE_RETENTION.tif',\n",
       " '/nfs2/baos1/rudravg/Retention_Masks/GCA033TIB_TISSUE03_TISSUE_RETENTION.tif',\n",
       " '/nfs2/baos1/rudravg/Retention_Masks/GCA112ACB_TISSUE_RETENTION.tif',\n",
       " '/nfs2/baos1/rudravg/Retention_Masks/GCA059ACB_TISSUE02_TISSUE_RETENTION.tif',\n",
       " '/nfs2/baos1/rudravg/Retention_Masks/GCA075ACB_TISSUE01_TISSUE_RETENTION.tif',\n",
       " '/nfs2/baos1/rudravg/Retention_Masks/GCA054ACB_TISSUE04_TISSUE_RETENTION.tif',\n",
       " '/nfs2/baos1/rudravg/Retention_Masks/GCA066TIB_TISSUE02_TISSUE_RETENTION.tif',\n",
       " '/nfs2/baos1/rudravg/Retention_Masks/GCA077ACB_TISSUE02_TISSUE_RETENTION.tif',\n",
       " '/nfs2/baos1/rudravg/Retention_Masks/GCA132TIA_TISSUE03_TISSUE_RETENTION.tif',\n",
       " '/nfs2/baos1/rudravg/Retention_Masks/GCA081ACB_TISSUE01_TISSUE_RETENTION.tif',\n",
       " '/nfs2/baos1/rudravg/Retention_Masks/GCA054TIA_TISSUE02_TISSUE_RETENTION.tif',\n",
       " '/nfs2/baos1/rudravg/Retention_Masks/GCA062ACA_TISSUE02_TISSUE_RETENTION.tif',\n",
       " '/nfs2/baos1/rudravg/Retention_Masks/GCA039ACB_TISSUE02_TISSUE_RETENTION.tif',\n",
       " '/nfs2/baos1/rudravg/Retention_Masks/GCA072TIB_TISSUE01_TISSUE_RETENTION.tif',\n",
       " '/nfs2/baos1/rudravg/Retention_Masks/GCA053ACB_TISSUE01_TISSUE_RETENTION.tif',\n",
       " '/nfs2/baos1/rudravg/Retention_Masks/GCA019TIA_TISSUE01_TISSUE_RETENTION.tif',\n",
       " '/nfs2/baos1/rudravg/Retention_Masks/GCA118TIA_TISSUE02_TISSUE_RETENTION.tif',\n",
       " '/nfs2/baos1/rudravg/Retention_Masks/GCA007TIB_TISSUE02_TISSUE_RETENTION.tif',\n",
       " '/nfs2/baos1/rudravg/Retention_Masks/GCA033ACB_TISSUE01_TISSUE_RETENTION.tif',\n",
       " '/nfs2/baos1/rudravg/Retention_Masks/GCA132ACB_TISSUE02_TISSUE_RETENTION.tif',\n",
       " '/nfs2/baos1/rudravg/Retention_Masks/GCA054ACB_TISSUE03_TISSUE_RETENTION.tif',\n",
       " '/nfs2/baos1/rudravg/Retention_Masks/GCA020TIB_TISSUE02_TISSUE_RETENTION.tif',\n",
       " '/nfs2/baos1/rudravg/Retention_Masks/GCA113ACA_TISSUE_RETENTION.tif',\n",
       " '/nfs2/baos1/rudravg/Retention_Masks/GCA022TIB_TISSUE01_TISSUE_RETENTION.tif',\n",
       " '/nfs2/baos1/rudravg/Retention_Masks/GCA035TIB_TISSUE01_TISSUE_RETENTION.tif',\n",
       " '/nfs2/baos1/rudravg/Retention_Masks/GCA059ACB_TISSUE03_TISSUE_RETENTION.tif',\n",
       " '/nfs2/baos1/rudravg/Retention_Masks/GCA020ACB_TISSUE01_TISSUE_RETENTION.tif',\n",
       " '/nfs2/baos1/rudravg/Retention_Masks/GCA033TIB_TISSUE02_TISSUE_RETENTION.tif',\n",
       " '/nfs2/baos1/rudravg/Retention_Masks/GCA053TIA_TISSUE01_TISSUE_RETENTION.tif',\n",
       " '/nfs2/baos1/rudravg/Retention_Masks/GCA035ACB_TISSUE02_TISSUE_RETENTION.tif',\n",
       " '/nfs2/baos1/rudravg/Retention_Masks/GCA118ACB_TISSUE02_TISSUE_RETENTION.tif',\n",
       " '/nfs2/baos1/rudravg/Retention_Masks/GCA071TIA_TISSUE_RETENTION.tif',\n",
       " '/nfs2/baos1/rudravg/Retention_Masks/GCA022ACB_TISSUE02_TISSUE_RETENTION.tif',\n",
       " '/nfs2/baos1/rudravg/Retention_Masks/GCA093ACB_TISSUE01_TISSUE_RETENTION.tif',\n",
       " '/nfs2/baos1/rudravg/Retention_Masks/GCA072ACB_TISSUE02_TISSUE_RETENTION.tif',\n",
       " '/nfs2/baos1/rudravg/Retention_Masks/GCA062ACA_TISSUE03_TISSUE_RETENTION.tif',\n",
       " '/nfs2/baos1/rudravg/Retention_Masks/GCA132TIA_TISSUE02_TISSUE_RETENTION.tif']"
      ]
     },
     "execution_count": 2,
     "metadata": {},
     "output_type": "execute_result"
    }
   ],
   "source": [
    "# original_dir = '/nfs2/baos1/rudravg/Retention_Masks/*.tif'\n",
    "# orig_files = glob.glob(original_dir)\n",
    "# orig_files"
   ]
  },
  {
   "cell_type": "markdown",
   "metadata": {},
   "source": [
    "***Code to check all the masks are resized properly***"
   ]
  },
  {
   "cell_type": "code",
   "execution_count": 1,
   "metadata": {},
   "outputs": [
    {
     "ename": "NameError",
     "evalue": "name 'orig_files' is not defined",
     "output_type": "error",
     "traceback": [
      "\u001b[0;31m---------------------------------------------------------------------------\u001b[0m",
      "\u001b[0;31mNameError\u001b[0m                                 Traceback (most recent call last)",
      "Cell \u001b[0;32mIn[1], line 2\u001b[0m\n\u001b[1;32m      1\u001b[0m count\u001b[38;5;241m=\u001b[39m\u001b[38;5;241m0\u001b[39m\n\u001b[0;32m----> 2\u001b[0m \u001b[38;5;28;01mfor\u001b[39;00m file \u001b[38;5;129;01min\u001b[39;00m \u001b[43morig_files\u001b[49m:\n\u001b[1;32m      3\u001b[0m     prefix \u001b[38;5;241m=\u001b[39m file\u001b[38;5;241m.\u001b[39msplit(\u001b[38;5;124m'\u001b[39m\u001b[38;5;124m/\u001b[39m\u001b[38;5;124m'\u001b[39m)[\u001b[38;5;241m-\u001b[39m\u001b[38;5;241m1\u001b[39m]\u001b[38;5;241m.\u001b[39msplit(\u001b[38;5;124m'\u001b[39m\u001b[38;5;124m.\u001b[39m\u001b[38;5;124m'\u001b[39m)[\u001b[38;5;241m0\u001b[39m]\u001b[38;5;241m.\u001b[39msplit(\u001b[38;5;124m'\u001b[39m\u001b[38;5;124m_TISSUE_RETENTION\u001b[39m\u001b[38;5;124m'\u001b[39m)[\u001b[38;5;241m0\u001b[39m]\n\u001b[1;32m      4\u001b[0m     data_dir\u001b[38;5;241m=\u001b[39m\u001b[38;5;124m'\u001b[39m\u001b[38;5;124m/nfs2/baos1/rudravg/\u001b[39m\u001b[38;5;124m'\u001b[39m\n",
      "\u001b[0;31mNameError\u001b[0m: name 'orig_files' is not defined"
     ]
    }
   ],
   "source": [
    "# count=0\n",
    "# for file in orig_files:\n",
    "#     prefix = file.split('/')[-1].split('.')[0].split('_TISSUE_RETENTION')[0]\n",
    "#     data_dir='/nfs2/baos1/rudravg/'\n",
    "#     data_dir=data_dir+prefix+'_*.tif'\n",
    "#     data_files=glob.glob(data_dir)\n",
    "#     file_check=data_files[0]\n",
    "#     orig_file_check=file\n",
    "#     original_file = np.array(Image.open(orig_file_check))\n",
    "#     file_check=np.array(Image.open(file_check))\n",
    "\n",
    "#     if original_file.shape != file_check.shape:\n",
    "#         count+=1\n",
    "#         print(\"Shape mismatch\")\n",
    "#         print(file)"
   ]
  },
  {
   "cell_type": "code",
   "execution_count": null,
   "metadata": {},
   "outputs": [],
   "source": [
    "# count=0\n",
    "# for file in orig_files:\n",
    "#     prefix = file.split('/')[-1].split('.')[0].split('_TISSUE_RETENTION')[0]\n",
    "#     data_dir='/nfs2/baos1/rudravg/'\n",
    "#     data_dir=data_dir+prefix+'_*.tif'\n",
    "#     data_files=glob.glob(data_dir)\n",
    "#     file_check=data_files[0]\n",
    "#     orig_file_check=file\n",
    "#     original_file = np.array(Image.open(orig_file_check))\n",
    "#     file_check=np.array(Image.open(file_check))\n",
    "\n",
    "#     if original_file.shape != file_check.shape:\n",
    "#         count+=1\n",
    "#         print(\"Shape mismatch\")\n",
    "#         print(file)"
   ]
  },
  {
   "cell_type": "markdown",
   "metadata": {},
   "source": [
    "***Code to create tissue retention masks***"
   ]
  },
  {
   "cell_type": "code",
   "execution_count": null,
   "metadata": {},
   "outputs": [
    {
     "name": "stderr",
     "output_type": "stream",
     "text": [
      "Processing files: 100%|██████████| 108/108 [02:23<00:00,  1.33s/it]\n"
     ]
    }
   ],
   "source": [
    "# data_dir='/nfs2/baos1/rudravg/'\n",
    "# save_dir='/nfs2/baos1/rudravg/Retention_Masks/'\n",
    "# for file in tqdm(orig_files,desc=\"Processing files\"):\n",
    "#     prefix = file.split('/')[-1].split('.')[0].split('_TISSUE_RETENTION')[0]\n",
    "\n",
    "#     data_dir2=data_dir+prefix+'_*.tif'\n",
    "#     data_files=glob.glob(data_dir2)\n",
    "#     file_check=data_files[0]\n",
    "#     orig_file_check=file\n",
    "#     retention_img = Image.open(orig_file_check)\n",
    "#     file_check=np.array(Image.open(file_check))\n",
    "#     retention_img = retention_img.resize(((retention_img.width // 2)+1 , (retention_img.height // 2)+1))\n",
    "#     pixels = np.array(retention_img)\n",
    "#     num_white = 0\n",
    "#     # Iterate over pixels in the middle column\n",
    "#     for pixel in pixels[:, 0]:\n",
    "#         if np.all(pixel == 0):\n",
    "#             break\n",
    "#         else:\n",
    "#             num_white += 1\n",
    "\n",
    "#     white_mask_exact = (pixels[:, :, 0] == 255) & (pixels[:, :, 1] == 255) & (pixels[:, :, 2] == 255)\n",
    "#     white_mask = white_mask_exact[num_white-1:, :]\n",
    "#     #Reshape the binary mask to match the size of the original image\n",
    "#     white_mask = white_mask[:file_check.shape[0], :file_check.shape[1]]\n",
    "#     binary_mask_img_path = save_dir + prefix + \"_TISSUE_RETENTION.tif\"\n",
    "#     binary_mask_img = Image.fromarray(white_mask.astype(np.uint8) * 255)\n",
    "#     binary_mask_img.save(binary_mask_img_path)\n",
    "\n",
    "    "
   ]
  },
  {
   "cell_type": "markdown",
   "metadata": {},
   "source": [
    "***Working code to generate all metrics and save them***"
   ]
  },
  {
   "cell_type": "code",
   "execution_count": null,
   "metadata": {},
   "outputs": [
    {
     "name": "stderr",
     "output_type": "stream",
     "text": [
      "Calculating metrics for all files:  32%|███▏      | 35/108 [34:30<1:11:57, 59.15s/it]\n"
     ]
    },
    {
     "ename": "KeyboardInterrupt",
     "evalue": "",
     "output_type": "error",
     "traceback": [
      "\u001b[0;31m---------------------------------------------------------------------------\u001b[0m",
      "\u001b[0;31mKeyboardInterrupt\u001b[0m                         Traceback (most recent call last)",
      "Cell \u001b[0;32mIn[109], line 31\u001b[0m\n\u001b[1;32m     29\u001b[0m sm_metric_obj \u001b[38;5;241m=\u001b[39m Metrics(default_sm, sm_img_masked)\n\u001b[1;32m     30\u001b[0m dice_metric_obj \u001b[38;5;241m=\u001b[39m Metrics(default_dice, dice_img_masked)\n\u001b[0;32m---> 31\u001b[0m sm \u001b[38;5;241m=\u001b[39m \u001b[43msm_metric_obj\u001b[49m\u001b[38;5;241;43m.\u001b[39;49m\u001b[43mcalculate_ssim\u001b[49m\u001b[43m(\u001b[49m\u001b[43m)\u001b[49m\n\u001b[1;32m     32\u001b[0m dice \u001b[38;5;241m=\u001b[39m dice_metric_obj\u001b[38;5;241m.\u001b[39mcalculate_dice()\n\u001b[1;32m     34\u001b[0m results\u001b[38;5;241m.\u001b[39mappend({\u001b[38;5;124m'\u001b[39m\u001b[38;5;124mfile_name\u001b[39m\u001b[38;5;124m'\u001b[39m: file_name, \u001b[38;5;124m'\u001b[39m\u001b[38;5;124msm\u001b[39m\u001b[38;5;124m'\u001b[39m: sm, \u001b[38;5;124m'\u001b[39m\u001b[38;5;124mdice\u001b[39m\u001b[38;5;124m'\u001b[39m: dice})\n",
      "File \u001b[0;32m/nfs2/forGaurav/yesbackup/DAPI_reg/metrics.py:45\u001b[0m, in \u001b[0;36mMetrics.calculate_ssim\u001b[0;34m(self)\u001b[0m\n\u001b[1;32m     43\u001b[0m \u001b[38;5;28;01mdef\u001b[39;00m \u001b[38;5;21mcalculate_ssim\u001b[39m(\u001b[38;5;28mself\u001b[39m):\n\u001b[1;32m     44\u001b[0m     \u001b[38;5;66;03m# Calculate the structural similarity index\u001b[39;00m\n\u001b[0;32m---> 45\u001b[0m     ssim_index \u001b[38;5;241m=\u001b[39m \u001b[43mssim\u001b[49m\u001b[43m(\u001b[49m\u001b[38;5;28;43mself\u001b[39;49m\u001b[38;5;241;43m.\u001b[39;49m\u001b[43mimage1\u001b[49m\u001b[43m,\u001b[49m\u001b[43m \u001b[49m\u001b[38;5;28;43mself\u001b[39;49m\u001b[38;5;241;43m.\u001b[39;49m\u001b[43mimage2\u001b[49m\u001b[43m,\u001b[49m\u001b[43m \u001b[49m\u001b[43mdata_range\u001b[49m\u001b[38;5;241;43m=\u001b[39;49m\u001b[38;5;28;43mself\u001b[39;49m\u001b[38;5;241;43m.\u001b[39;49m\u001b[43mimage2\u001b[49m\u001b[38;5;241;43m.\u001b[39;49m\u001b[43mmax\u001b[49m\u001b[43m(\u001b[49m\u001b[43m)\u001b[49m\u001b[43m \u001b[49m\u001b[38;5;241;43m-\u001b[39;49m\u001b[43m \u001b[49m\u001b[38;5;28;43mself\u001b[39;49m\u001b[38;5;241;43m.\u001b[39;49m\u001b[43mimage2\u001b[49m\u001b[38;5;241;43m.\u001b[39;49m\u001b[43mmin\u001b[49m\u001b[43m(\u001b[49m\u001b[43m)\u001b[49m\u001b[43m,\u001b[49m\u001b[43m \u001b[49m\u001b[43muse_sample_covariance\u001b[49m\u001b[38;5;241;43m=\u001b[39;49m\u001b[38;5;28;43;01mFalse\u001b[39;49;00m\u001b[43m)\u001b[49m\n\u001b[1;32m     46\u001b[0m     \u001b[38;5;28;01mreturn\u001b[39;00m ssim_index\n",
      "File \u001b[0;32m~/miniconda3/envs/dapi_reg/lib/python3.12/site-packages/skimage/metrics/_structural_similarity.py:257\u001b[0m, in \u001b[0;36mstructural_similarity\u001b[0;34m(im1, im2, win_size, gradient, data_range, channel_axis, gaussian_weights, full, **kwargs)\u001b[0m\n\u001b[1;32m    254\u001b[0m pad \u001b[38;5;241m=\u001b[39m (win_size \u001b[38;5;241m-\u001b[39m \u001b[38;5;241m1\u001b[39m) \u001b[38;5;241m/\u001b[39m\u001b[38;5;241m/\u001b[39m \u001b[38;5;241m2\u001b[39m\n\u001b[1;32m    256\u001b[0m \u001b[38;5;66;03m# compute (weighted) mean of ssim. Use float64 for accuracy.\u001b[39;00m\n\u001b[0;32m--> 257\u001b[0m mssim \u001b[38;5;241m=\u001b[39m \u001b[43mcrop\u001b[49m\u001b[43m(\u001b[49m\u001b[43mS\u001b[49m\u001b[43m,\u001b[49m\u001b[43m \u001b[49m\u001b[43mpad\u001b[49m\u001b[43m)\u001b[49m\u001b[38;5;241m.\u001b[39mmean(dtype\u001b[38;5;241m=\u001b[39mnp\u001b[38;5;241m.\u001b[39mfloat64)\n\u001b[1;32m    259\u001b[0m \u001b[38;5;28;01mif\u001b[39;00m gradient:\n\u001b[1;32m    260\u001b[0m     \u001b[38;5;66;03m# The following is Eqs. 7-8 of Avanaki 2009.\u001b[39;00m\n\u001b[1;32m    261\u001b[0m     grad \u001b[38;5;241m=\u001b[39m filter_func(A1 \u001b[38;5;241m/\u001b[39m D, \u001b[38;5;241m*\u001b[39m\u001b[38;5;241m*\u001b[39mfilter_args) \u001b[38;5;241m*\u001b[39m im1\n",
      "File \u001b[0;32m~/miniconda3/envs/dapi_reg/lib/python3.12/site-packages/skimage/util/arraycrop.py:12\u001b[0m, in \u001b[0;36mcrop\u001b[0;34m(ar, crop_width, copy, order)\u001b[0m\n\u001b[1;32m      7\u001b[0m \u001b[38;5;28;01mfrom\u001b[39;00m \u001b[38;5;21;01mnumbers\u001b[39;00m \u001b[38;5;28;01mimport\u001b[39;00m Integral\n\u001b[1;32m      9\u001b[0m __all__ \u001b[38;5;241m=\u001b[39m [\u001b[38;5;124m'\u001b[39m\u001b[38;5;124mcrop\u001b[39m\u001b[38;5;124m'\u001b[39m]\n\u001b[0;32m---> 12\u001b[0m \u001b[38;5;28;01mdef\u001b[39;00m \u001b[38;5;21mcrop\u001b[39m(ar, crop_width, copy\u001b[38;5;241m=\u001b[39m\u001b[38;5;28;01mFalse\u001b[39;00m, order\u001b[38;5;241m=\u001b[39m\u001b[38;5;124m'\u001b[39m\u001b[38;5;124mK\u001b[39m\u001b[38;5;124m'\u001b[39m):\n\u001b[1;32m     13\u001b[0m \u001b[38;5;250m    \u001b[39m\u001b[38;5;124;03m\"\"\"Crop array `ar` by `crop_width` along each dimension.\u001b[39;00m\n\u001b[1;32m     14\u001b[0m \n\u001b[1;32m     15\u001b[0m \u001b[38;5;124;03m    Parameters\u001b[39;00m\n\u001b[0;32m   (...)\u001b[0m\n\u001b[1;32m     39\u001b[0m \u001b[38;5;124;03m        view of the input array.\u001b[39;00m\n\u001b[1;32m     40\u001b[0m \u001b[38;5;124;03m    \"\"\"\u001b[39;00m\n\u001b[1;32m     41\u001b[0m     ar \u001b[38;5;241m=\u001b[39m np\u001b[38;5;241m.\u001b[39marray(ar, copy\u001b[38;5;241m=\u001b[39m\u001b[38;5;28;01mFalse\u001b[39;00m)\n",
      "\u001b[0;31mKeyboardInterrupt\u001b[0m: "
     ]
    }
   ],
   "source": [
    "# i=0\n",
    "# data_dir = '/nfs2/baos1/rudravg/'\n",
    "# results = []  # To collect data and convert to DataFrame later\n",
    "\n",
    "# for file in tqdm(orig_files, desc=\"Calculating metrics for all files\"):\n",
    "#     prefix = file.split('/')[-1].split('.')[0].split('_TISSUE_RETENTION')[0]\n",
    "#     data_dir2 = data_dir + prefix + '_*.tif'\n",
    "#     data_files = glob.glob(data_dir2)\n",
    "#     data_files.sort(key=lambda x: int(x.split('/')[-1].split('_ROUND_')[1].split('_')[0]))\n",
    "#     dice_files = [data_file.replace(\"rudravg\", \"rudravg/DeepCell_Results\") for data_file in data_files]\n",
    "\n",
    "#     # Load mask\n",
    "#     mask = np.array(Image.open(file))\n",
    "#     mask = (mask > 0).astype(int)\n",
    "\n",
    "#     # Pre-load default images and apply mask\n",
    "#     default_sm = np.array(Image.open(data_files[0])) * mask\n",
    "#     default_dice = np.array(Image.open(dice_files[0])) * mask\n",
    "\n",
    "#     # Calculate metrics\n",
    "#     for sm_file, dice_file in zip(data_files, dice_files):\n",
    "#         file_name = sm_file.split('/')[-1]\n",
    "\n",
    "#         # Load and mask images\n",
    "#         sm_img_masked = np.array(Image.open(sm_file)) * mask\n",
    "#         dice_img_masked = np.array(Image.open(dice_file)) * mask\n",
    "\n",
    "#         # Calculate metrics\n",
    "#         sm_metric_obj = Metrics(default_sm, sm_img_masked)\n",
    "#         dice_metric_obj = Metrics(default_dice, dice_img_masked)\n",
    "#         sm = sm_metric_obj.calculate_ssim()\n",
    "#         dice = dice_metric_obj.calculate_dice()\n",
    "\n",
    "#         results.append({'file_name': file_name, 'sm': sm, 'dice': dice})\n",
    "\n",
    "# # Convert results to DataFrame\n",
    "# df = pd.DataFrame(results)\n"
   ]
  },
  {
   "cell_type": "code",
   "execution_count": null,
   "metadata": {},
   "outputs": [
    {
     "name": "stderr",
     "output_type": "stream",
     "text": [
      "100%|██████████| 108/108 [18:05<00:00, 10.05s/it]\n"
     ]
    }
   ],
   "source": [
    "from joblib import Parallel, delayed\n",
    "import numpy as np\n",
    "from PIL import Image\n",
    "import glob\n",
    "import pandas as pd\n",
    "# Import your Metrics class here\n",
    "\n",
    "data_dir = '/nfs2/baos1/rudravg/'\n",
    "\n",
    "def process_file(file, data_dir):\n",
    "    prefix = file.split('/')[-1].split('.')[0].split('_TISSUE_RETENTION')[0]\n",
    "    data_dir2 = data_dir + prefix + '_*.tif'\n",
    "    data_files = glob.glob(data_dir2)\n",
    "    data_files.sort(key=lambda x: int(x.split('/')[-1].split('_ROUND_')[1].split('_')[0]))\n",
    "    dice_files = [data_file.replace(\"rudravg\", \"rudravg/DeepCell_Results\") for data_file in data_files]\n",
    "\n",
    "    mask = np.array(Image.open(file))\n",
    "    mask = (mask > 0).astype(int)\n",
    "\n",
    "    default_sm = np.array(Image.open(data_files[0])) * mask\n",
    "    default_dice = np.array(Image.open(dice_files[0])) * mask\n",
    "\n",
    "    results = []\n",
    "    for sm_file, dice_file in zip(data_files, dice_files):\n",
    "        file_name = sm_file.split('/')[-1]\n",
    "\n",
    "        sm_img_masked = np.array(Image.open(sm_file)) * mask\n",
    "        dice_img_masked = np.array(Image.open(dice_file)) * mask\n",
    "\n",
    "        sm_metric_obj = Metrics(default_sm, sm_img_masked)\n",
    "        dice_metric_obj = Metrics(default_dice, dice_img_masked)\n",
    "        sm = sm_metric_obj.calculate_ssim()\n",
    "        dice = dice_metric_obj.calculate_dice()\n",
    "\n",
    "        results.append({'file_name': file_name, 'sm': sm, 'dice': dice})\n",
    "\n",
    "    return results\n",
    "\n",
    "# Assuming orig_files is defined and contains the list of files to process\n",
    "results = Parallel(n_jobs=10)(delayed(process_file)(file, data_dir) for file in tqdm(orig_files))\n",
    "\n",
    "# Flatten the list of lists\n",
    "flat_results = [item for sublist in results for item in sublist]\n",
    "\n",
    "# Convert results to DataFrame\n",
    "df = pd.DataFrame(flat_results)\n"
   ]
  },
  {
   "cell_type": "markdown",
   "metadata": {},
   "source": [
    "***Calculate Metrics after registration***\n"
   ]
  }
 ],
 "metadata": {
  "kernelspec": {
   "display_name": "dapi_reg",
   "language": "python",
   "name": "python3"
  },
  "language_info": {
   "codemirror_mode": {
    "name": "ipython",
    "version": 3
   },
   "file_extension": ".py",
   "mimetype": "text/x-python",
   "name": "python",
   "nbconvert_exporter": "python",
   "pygments_lexer": "ipython3",
   "version": "3.12.1"
  }
 },
 "nbformat": 4,
 "nbformat_minor": 2
}
