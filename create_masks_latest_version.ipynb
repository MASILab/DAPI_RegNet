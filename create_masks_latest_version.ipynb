{
 "cells": [
  {
   "cell_type": "code",
   "execution_count": 1,
   "metadata": {},
   "outputs": [],
   "source": [
    "from PIL import Image\n",
    "import numpy as np\n",
    "import os\n",
    "from tqdm import tqdm\n",
    "data_dir = \"/nfs2/baos1/rudravg/TISSUE_MASK/\"\n",
    "save_dir = \"/nfs2/baos1/rudravg/Retention_Masks/\"\n",
    "Image.MAX_IMAGE_PIXELS = None"
   ]
  },
  {
   "cell_type": "markdown",
   "metadata": {},
   "source": [
    "Last Edited April 13,2024"
   ]
  },
  {
   "cell_type": "code",
   "execution_count": 3,
   "metadata": {},
   "outputs": [],
   "source": [
    "def process_image(filename):\n",
    "    img = Image.open(data_dir + filename)\n",
    "    img = img.resize(((img.width // 2)+1, (img.height // 2)+1))\n",
    "    pixels = np.array(img)\n",
    "    num_white = 0\n",
    "    middle_column_index = pixels.shape[1] // 2\n",
    "\n",
    "# Iterate over pixels in the middle column\n",
    "    for pixel in pixels[:, middle_column_index]:\n",
    "        if np.all(pixel == 0):\n",
    "            break\n",
    "        else:\n",
    "            num_white += 1\n",
    "    white_mask_exact = (pixels[:, :, 0] == 255) & (pixels[:, :, 1] == 255) & (pixels[:, :, 2] == 255)\n",
    "    white_mask = white_mask_exact[num_white-1:, :]\n",
    "    binary_mask_img_path = save_dir + filename\n",
    "    binary_mask_img = Image.fromarray(white_mask.astype(np.uint8) * 255)\n",
    "    binary_mask_img.save(binary_mask_img_path)"
   ]
  },
  {
   "cell_type": "code",
   "execution_count": 12,
   "metadata": {},
   "outputs": [],
   "source": [
    "process_image('GCA012TIB_TISSUE_RETENTION.tif')"
   ]
  }
 ],
 "metadata": {
  "kernelspec": {
   "display_name": "dapi_reg",
   "language": "python",
   "name": "python3"
  },
  "language_info": {
   "codemirror_mode": {
    "name": "ipython",
    "version": 3
   },
   "file_extension": ".py",
   "mimetype": "text/x-python",
   "name": "python",
   "nbconvert_exporter": "python",
   "pygments_lexer": "ipython3",
   "version": "3.12.1"
  }
 },
 "nbformat": 4,
 "nbformat_minor": 2
}
